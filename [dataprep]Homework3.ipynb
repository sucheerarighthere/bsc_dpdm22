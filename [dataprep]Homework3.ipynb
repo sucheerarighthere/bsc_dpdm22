{
  "nbformat": 4,
  "nbformat_minor": 0,
  "metadata": {
    "colab": {
      "provenance": [],
      "toc_visible": true,
      "authorship_tag": "ABX9TyOtx9NQMaC4c3soItKuniuE",
      "include_colab_link": true
    },
    "kernelspec": {
      "name": "python3",
      "display_name": "Python 3"
    },
    "language_info": {
      "name": "python"
    }
  },
  "cells": [
    {
      "cell_type": "markdown",
      "metadata": {
        "id": "view-in-github",
        "colab_type": "text"
      },
      "source": [
        "<a href=\"https://colab.research.google.com/github/sucheerarighthere/bsc_dpdm22/blob/main/%5Bdataprep%5DHomework3.ipynb\" target=\"_parent\"><img src=\"https://colab.research.google.com/assets/colab-badge.svg\" alt=\"Open In Colab\"/></a>"
      ]
    },
    {
      "cell_type": "code",
      "execution_count": 2,
      "metadata": {
        "id": "TlWWC6SRW4QE"
      },
      "outputs": [],
      "source": [
        "import pandas as pd\n",
        "#ไม่ว่าจะเกิดอะไรขึ้น อิมพอร์ทแพนด้าไว้ก่อน"
      ]
    },
    {
      "cell_type": "markdown",
      "source": [
        "# MAPE FORMULA ความแม่นยำการพยากรณ์ Forecast Accuracy\n",
        "\n",
        "Forecast Accuracy มีค่า 0-100%  การติดลบ ให้คิดเป็น 0\n"
      ],
      "metadata": {
        "id": "rovJTMP9dqWn"
      }
    },
    {
      "cell_type": "code",
      "source": [
        "import numpy as np\n",
        "\n",
        "def mape(actual, pred): \n",
        "    actual, pred = np.array(actual), np.array(pred)\n",
        "    return np.mean(np.abs((actual - pred) / actual)) \n",
        "    #actual = จริง pred = predict ทำนาย"
      ],
      "metadata": {
        "id": "YfL1543GffKE"
      },
      "execution_count": 39,
      "outputs": []
    },
    {
      "cell_type": "code",
      "source": [
        "#d1r = d1['ราคาทรัพย์']\n",
        "#d1e = d1['ประเมินราคาซื้อ-ขาย']\n",
        "#mape(d1r,d1e)"
      ],
      "metadata": {
        "id": "NgOOxloxffHY"
      },
      "execution_count": 35,
      "outputs": []
    },
    {
      "cell_type": "markdown",
      "source": [
        "ยิ่งน้อยแปลว่ายิ่งแม่น"
      ],
      "metadata": {
        "id": "_cdXQ7lrg9lp"
      }
    },
    {
      "cell_type": "markdown",
      "source": [
        "##ขั้นตอนแรก\n",
        "เป็นการนำข้อมูลเข้า colab โดยวิธีการ ใช้ลิงค์ "
      ],
      "metadata": {
        "id": "bx-49hNJY8X2"
      }
    },
    {
      "cell_type": "code",
      "source": [
        "url = 'https://docs.google.com/spreadsheets/d/1mhKotaOsiIwgKGNzGWBr75MjiNYtv8YJuGH7TGT4Cq8/export?format=xlsx'\n",
        "#กำหนดตัวแปร url แล้วใช้ลิงก์ชีทไฟล์ล่าสุดของอาจารย์ที่เปิดสาธารณะแล้ว มาใช้\n",
        "#พร้อมแก้ท้ายลิงก์ ด้วย \"export?format=xlsx'\""
      ],
      "metadata": {
        "id": "rMCICDUfZUTa"
      },
      "execution_count": 3,
      "outputs": []
    },
    {
      "cell_type": "markdown",
      "source": [
        "### Check บ้าน"
      ],
      "metadata": {
        "id": "klb0biURZvYo"
      }
    },
    {
      "cell_type": "code",
      "source": [
        "home = pd.read_excel(url, sheet_name='บ้าน', engine='openpyxl')"
      ],
      "metadata": {
        "id": "-M7qtUz2Zxzd"
      },
      "execution_count": 5,
      "outputs": []
    },
    {
      "cell_type": "code",
      "source": [
        "home\n",
        "#ข้อมูลที่เรียกมายังไม่สามารถใช้ได้ ถึงจะเป็ฯข้อมูลที่มาจากอาจารย์ แต่อาจารย์ไปเพิ่มข้อมูลมา"
      ],
      "metadata": {
        "colab": {
          "base_uri": "https://localhost:8080/",
          "height": 1000
        },
        "id": "19fXveRtZzQi",
        "outputId": "edae19ab-6e1d-415b-ef76-cec79066fb47"
      },
      "execution_count": 9,
      "outputs": [
        {
          "output_type": "execute_result",
          "data": {
            "text/plain": [
              "      ID ผู้ประเมิน                               post id property_type  \\\n",
              "0                 1    https://nayoo.co/khonkaen/posts/25    บ้านเดี่ยว   \n",
              "1                 2    https://nayoo.co/khonkaen/posts/25    บ้านเดี่ยว   \n",
              "2                 1    https://nayoo.co/khonkaen/posts/33    บ้านเดี่ยว   \n",
              "3                 2    https://nayoo.co/khonkaen/posts/33    บ้านเดี่ยว   \n",
              "4                 1   https://nayoo.co/khonkaen/posts/495    บ้านเดี่ยว   \n",
              "...             ...                                   ...           ...   \n",
              "1215              1  https://nayoo.co/khonkaen/posts/6257    บ้านเดี่ยว   \n",
              "1216              2  https://nayoo.co/khonkaen/posts/6258    บ้านเดี่ยว   \n",
              "1217              1  https://nayoo.co/khonkaen/posts/6258    บ้านเดี่ยว   \n",
              "1218              2  https://nayoo.co/khonkaen/posts/6260    บ้านเดี่ยว   \n",
              "1219              1  https://nayoo.co/khonkaen/posts/6260    บ้านเดี่ยว   \n",
              "\n",
              "     ความมั่นใจในการเมินราคาทรัพย์  ราคาทรัพย์  ประเมินราคาซื้อ-ขาย  \\\n",
              "0                           มั่นใจ     2890000            2500000.0   \n",
              "1                           มั่นใจ     2890000            2700000.0   \n",
              "2                           มั่นใจ     2600000            2200000.0   \n",
              "3                           มั่นใจ     2600000            2400000.0   \n",
              "4                           มั่นใจ     6050000            5000000.0   \n",
              "...                            ...         ...                  ...   \n",
              "1215                        มั่นใจ      295000             500000.0   \n",
              "1216                        มั่นใจ      615000             500000.0   \n",
              "1217                        มั่นใจ      615000             600000.0   \n",
              "1218                        มั่นใจ      620000             700000.0   \n",
              "1219                        มั่นใจ      620000             750000.0   \n",
              "\n",
              "                         ปัจจัยในการประเมินราคาซื้อ-ขาย  \\\n",
              "0                                          5,000-15,000   \n",
              "1     โครงการนี้ราคาเสนอขาย 2,500,000-3,000,000 บาท/...   \n",
              "2                                          5,000-15,000   \n",
              "3      ราคาเสนอขายประมาณ 2,200,000 - 2,500,000 บาท/หลัง   \n",
              "4                                          5,000-15,000   \n",
              "...                                                 ...   \n",
              "1215  เพื่อป้องกันปัญหาที่อาจเกิดขึ้นภายหลังหากต้องม...   \n",
              "1216                     ราคาเสนอขาย 3-5 พันบาท/ตารางวา   \n",
              "1217  เพื่อป้องกันปัญหาที่อาจเกิดขึ้นภายหลังหากต้องม...   \n",
              "1218                     ราคาเสนอขาย 4-5 พันบาท/ตารางวา   \n",
              "1219  เพื่อป้องกันปัญหาที่อาจเกิดขึ้นภายหลังหากต้องม...   \n",
              "\n",
              "     เหตุผลไม่มั่นใจราคาประเมิน                      ให้คะแนนทรัพย์  \n",
              "0                           NaN   3 ขายได้ ใช้ระยะเวลา 7 - 12 เดือน  \n",
              "1                           NaN    4 ขายได้ ใช้ระยะเวลา 4 - 6 เดือน  \n",
              "2                           NaN  2 ขายได้ยาก ใช้ระยะเวลามากว่า 1 ปี  \n",
              "3                           NaN   3 ขายได้ ใช้ระยะเวลา 7 - 12 เดือน  \n",
              "4                           NaN   3 ขายได้ ใช้ระยะเวลา 7 - 12 เดือน  \n",
              "...                         ...                                 ...  \n",
              "1215                        NaN  2 ขายได้ยาก ใช้ระยะเวลามากว่า 1 ปี  \n",
              "1216                        NaN   3 ขายได้ ใช้ระยะเวลา 7 - 12 เดือน  \n",
              "1217                        NaN   3 ขายได้ ใช้ระยะเวลา 7 - 12 เดือน  \n",
              "1218                        NaN   3 ขายได้ ใช้ระยะเวลา 7 - 12 เดือน  \n",
              "1219                        NaN   3 ขายได้ ใช้ระยะเวลา 7 - 12 เดือน  \n",
              "\n",
              "[1220 rows x 9 columns]"
            ],
            "text/html": [
              "\n",
              "  <div id=\"df-aa2cecd8-ab35-436b-8d4e-e9a3b422aa4f\">\n",
              "    <div class=\"colab-df-container\">\n",
              "      <div>\n",
              "<style scoped>\n",
              "    .dataframe tbody tr th:only-of-type {\n",
              "        vertical-align: middle;\n",
              "    }\n",
              "\n",
              "    .dataframe tbody tr th {\n",
              "        vertical-align: top;\n",
              "    }\n",
              "\n",
              "    .dataframe thead th {\n",
              "        text-align: right;\n",
              "    }\n",
              "</style>\n",
              "<table border=\"1\" class=\"dataframe\">\n",
              "  <thead>\n",
              "    <tr style=\"text-align: right;\">\n",
              "      <th></th>\n",
              "      <th>ID ผู้ประเมิน</th>\n",
              "      <th>post id</th>\n",
              "      <th>property_type</th>\n",
              "      <th>ความมั่นใจในการเมินราคาทรัพย์</th>\n",
              "      <th>ราคาทรัพย์</th>\n",
              "      <th>ประเมินราคาซื้อ-ขาย</th>\n",
              "      <th>ปัจจัยในการประเมินราคาซื้อ-ขาย</th>\n",
              "      <th>เหตุผลไม่มั่นใจราคาประเมิน</th>\n",
              "      <th>ให้คะแนนทรัพย์</th>\n",
              "    </tr>\n",
              "  </thead>\n",
              "  <tbody>\n",
              "    <tr>\n",
              "      <th>0</th>\n",
              "      <td>1</td>\n",
              "      <td>https://nayoo.co/khonkaen/posts/25</td>\n",
              "      <td>บ้านเดี่ยว</td>\n",
              "      <td>มั่นใจ</td>\n",
              "      <td>2890000</td>\n",
              "      <td>2500000.0</td>\n",
              "      <td>5,000-15,000</td>\n",
              "      <td>NaN</td>\n",
              "      <td>3 ขายได้ ใช้ระยะเวลา 7 - 12 เดือน</td>\n",
              "    </tr>\n",
              "    <tr>\n",
              "      <th>1</th>\n",
              "      <td>2</td>\n",
              "      <td>https://nayoo.co/khonkaen/posts/25</td>\n",
              "      <td>บ้านเดี่ยว</td>\n",
              "      <td>มั่นใจ</td>\n",
              "      <td>2890000</td>\n",
              "      <td>2700000.0</td>\n",
              "      <td>โครงการนี้ราคาเสนอขาย 2,500,000-3,000,000 บาท/...</td>\n",
              "      <td>NaN</td>\n",
              "      <td>4 ขายได้ ใช้ระยะเวลา 4 - 6 เดือน</td>\n",
              "    </tr>\n",
              "    <tr>\n",
              "      <th>2</th>\n",
              "      <td>1</td>\n",
              "      <td>https://nayoo.co/khonkaen/posts/33</td>\n",
              "      <td>บ้านเดี่ยว</td>\n",
              "      <td>มั่นใจ</td>\n",
              "      <td>2600000</td>\n",
              "      <td>2200000.0</td>\n",
              "      <td>5,000-15,000</td>\n",
              "      <td>NaN</td>\n",
              "      <td>2 ขายได้ยาก ใช้ระยะเวลามากว่า 1 ปี</td>\n",
              "    </tr>\n",
              "    <tr>\n",
              "      <th>3</th>\n",
              "      <td>2</td>\n",
              "      <td>https://nayoo.co/khonkaen/posts/33</td>\n",
              "      <td>บ้านเดี่ยว</td>\n",
              "      <td>มั่นใจ</td>\n",
              "      <td>2600000</td>\n",
              "      <td>2400000.0</td>\n",
              "      <td>ราคาเสนอขายประมาณ 2,200,000 - 2,500,000 บาท/หลัง</td>\n",
              "      <td>NaN</td>\n",
              "      <td>3 ขายได้ ใช้ระยะเวลา 7 - 12 เดือน</td>\n",
              "    </tr>\n",
              "    <tr>\n",
              "      <th>4</th>\n",
              "      <td>1</td>\n",
              "      <td>https://nayoo.co/khonkaen/posts/495</td>\n",
              "      <td>บ้านเดี่ยว</td>\n",
              "      <td>มั่นใจ</td>\n",
              "      <td>6050000</td>\n",
              "      <td>5000000.0</td>\n",
              "      <td>5,000-15,000</td>\n",
              "      <td>NaN</td>\n",
              "      <td>3 ขายได้ ใช้ระยะเวลา 7 - 12 เดือน</td>\n",
              "    </tr>\n",
              "    <tr>\n",
              "      <th>...</th>\n",
              "      <td>...</td>\n",
              "      <td>...</td>\n",
              "      <td>...</td>\n",
              "      <td>...</td>\n",
              "      <td>...</td>\n",
              "      <td>...</td>\n",
              "      <td>...</td>\n",
              "      <td>...</td>\n",
              "      <td>...</td>\n",
              "    </tr>\n",
              "    <tr>\n",
              "      <th>1215</th>\n",
              "      <td>1</td>\n",
              "      <td>https://nayoo.co/khonkaen/posts/6257</td>\n",
              "      <td>บ้านเดี่ยว</td>\n",
              "      <td>มั่นใจ</td>\n",
              "      <td>295000</td>\n",
              "      <td>500000.0</td>\n",
              "      <td>เพื่อป้องกันปัญหาที่อาจเกิดขึ้นภายหลังหากต้องม...</td>\n",
              "      <td>NaN</td>\n",
              "      <td>2 ขายได้ยาก ใช้ระยะเวลามากว่า 1 ปี</td>\n",
              "    </tr>\n",
              "    <tr>\n",
              "      <th>1216</th>\n",
              "      <td>2</td>\n",
              "      <td>https://nayoo.co/khonkaen/posts/6258</td>\n",
              "      <td>บ้านเดี่ยว</td>\n",
              "      <td>มั่นใจ</td>\n",
              "      <td>615000</td>\n",
              "      <td>500000.0</td>\n",
              "      <td>ราคาเสนอขาย 3-5 พันบาท/ตารางวา</td>\n",
              "      <td>NaN</td>\n",
              "      <td>3 ขายได้ ใช้ระยะเวลา 7 - 12 เดือน</td>\n",
              "    </tr>\n",
              "    <tr>\n",
              "      <th>1217</th>\n",
              "      <td>1</td>\n",
              "      <td>https://nayoo.co/khonkaen/posts/6258</td>\n",
              "      <td>บ้านเดี่ยว</td>\n",
              "      <td>มั่นใจ</td>\n",
              "      <td>615000</td>\n",
              "      <td>600000.0</td>\n",
              "      <td>เพื่อป้องกันปัญหาที่อาจเกิดขึ้นภายหลังหากต้องม...</td>\n",
              "      <td>NaN</td>\n",
              "      <td>3 ขายได้ ใช้ระยะเวลา 7 - 12 เดือน</td>\n",
              "    </tr>\n",
              "    <tr>\n",
              "      <th>1218</th>\n",
              "      <td>2</td>\n",
              "      <td>https://nayoo.co/khonkaen/posts/6260</td>\n",
              "      <td>บ้านเดี่ยว</td>\n",
              "      <td>มั่นใจ</td>\n",
              "      <td>620000</td>\n",
              "      <td>700000.0</td>\n",
              "      <td>ราคาเสนอขาย 4-5 พันบาท/ตารางวา</td>\n",
              "      <td>NaN</td>\n",
              "      <td>3 ขายได้ ใช้ระยะเวลา 7 - 12 เดือน</td>\n",
              "    </tr>\n",
              "    <tr>\n",
              "      <th>1219</th>\n",
              "      <td>1</td>\n",
              "      <td>https://nayoo.co/khonkaen/posts/6260</td>\n",
              "      <td>บ้านเดี่ยว</td>\n",
              "      <td>มั่นใจ</td>\n",
              "      <td>620000</td>\n",
              "      <td>750000.0</td>\n",
              "      <td>เพื่อป้องกันปัญหาที่อาจเกิดขึ้นภายหลังหากต้องม...</td>\n",
              "      <td>NaN</td>\n",
              "      <td>3 ขายได้ ใช้ระยะเวลา 7 - 12 เดือน</td>\n",
              "    </tr>\n",
              "  </tbody>\n",
              "</table>\n",
              "<p>1220 rows × 9 columns</p>\n",
              "</div>\n",
              "      <button class=\"colab-df-convert\" onclick=\"convertToInteractive('df-aa2cecd8-ab35-436b-8d4e-e9a3b422aa4f')\"\n",
              "              title=\"Convert this dataframe to an interactive table.\"\n",
              "              style=\"display:none;\">\n",
              "        \n",
              "  <svg xmlns=\"http://www.w3.org/2000/svg\" height=\"24px\"viewBox=\"0 0 24 24\"\n",
              "       width=\"24px\">\n",
              "    <path d=\"M0 0h24v24H0V0z\" fill=\"none\"/>\n",
              "    <path d=\"M18.56 5.44l.94 2.06.94-2.06 2.06-.94-2.06-.94-.94-2.06-.94 2.06-2.06.94zm-11 1L8.5 8.5l.94-2.06 2.06-.94-2.06-.94L8.5 2.5l-.94 2.06-2.06.94zm10 10l.94 2.06.94-2.06 2.06-.94-2.06-.94-.94-2.06-.94 2.06-2.06.94z\"/><path d=\"M17.41 7.96l-1.37-1.37c-.4-.4-.92-.59-1.43-.59-.52 0-1.04.2-1.43.59L10.3 9.45l-7.72 7.72c-.78.78-.78 2.05 0 2.83L4 21.41c.39.39.9.59 1.41.59.51 0 1.02-.2 1.41-.59l7.78-7.78 2.81-2.81c.8-.78.8-2.07 0-2.86zM5.41 20L4 18.59l7.72-7.72 1.47 1.35L5.41 20z\"/>\n",
              "  </svg>\n",
              "      </button>\n",
              "      \n",
              "  <style>\n",
              "    .colab-df-container {\n",
              "      display:flex;\n",
              "      flex-wrap:wrap;\n",
              "      gap: 12px;\n",
              "    }\n",
              "\n",
              "    .colab-df-convert {\n",
              "      background-color: #E8F0FE;\n",
              "      border: none;\n",
              "      border-radius: 50%;\n",
              "      cursor: pointer;\n",
              "      display: none;\n",
              "      fill: #1967D2;\n",
              "      height: 32px;\n",
              "      padding: 0 0 0 0;\n",
              "      width: 32px;\n",
              "    }\n",
              "\n",
              "    .colab-df-convert:hover {\n",
              "      background-color: #E2EBFA;\n",
              "      box-shadow: 0px 1px 2px rgba(60, 64, 67, 0.3), 0px 1px 3px 1px rgba(60, 64, 67, 0.15);\n",
              "      fill: #174EA6;\n",
              "    }\n",
              "\n",
              "    [theme=dark] .colab-df-convert {\n",
              "      background-color: #3B4455;\n",
              "      fill: #D2E3FC;\n",
              "    }\n",
              "\n",
              "    [theme=dark] .colab-df-convert:hover {\n",
              "      background-color: #434B5C;\n",
              "      box-shadow: 0px 1px 3px 1px rgba(0, 0, 0, 0.15);\n",
              "      filter: drop-shadow(0px 1px 2px rgba(0, 0, 0, 0.3));\n",
              "      fill: #FFFFFF;\n",
              "    }\n",
              "  </style>\n",
              "\n",
              "      <script>\n",
              "        const buttonEl =\n",
              "          document.querySelector('#df-aa2cecd8-ab35-436b-8d4e-e9a3b422aa4f button.colab-df-convert');\n",
              "        buttonEl.style.display =\n",
              "          google.colab.kernel.accessAllowed ? 'block' : 'none';\n",
              "\n",
              "        async function convertToInteractive(key) {\n",
              "          const element = document.querySelector('#df-aa2cecd8-ab35-436b-8d4e-e9a3b422aa4f');\n",
              "          const dataTable =\n",
              "            await google.colab.kernel.invokeFunction('convertToInteractive',\n",
              "                                                     [key], {});\n",
              "          if (!dataTable) return;\n",
              "\n",
              "          const docLinkHtml = 'Like what you see? Visit the ' +\n",
              "            '<a target=\"_blank\" href=https://colab.research.google.com/notebooks/data_table.ipynb>data table notebook</a>'\n",
              "            + ' to learn more about interactive tables.';\n",
              "          element.innerHTML = '';\n",
              "          dataTable['output_type'] = 'display_data';\n",
              "          await google.colab.output.renderOutput(dataTable, element);\n",
              "          const docLink = document.createElement('div');\n",
              "          docLink.innerHTML = docLinkHtml;\n",
              "          element.appendChild(docLink);\n",
              "        }\n",
              "      </script>\n",
              "    </div>\n",
              "  </div>\n",
              "  "
            ]
          },
          "metadata": {},
          "execution_count": 9
        }
      ]
    },
    {
      "cell_type": "code",
      "source": [
        "#ข้อมูลที่เรียกมายังไม่สามารถใช้ได้ ถึงจะเป็นข้อมูลที่มาจากอาจารย์ แต่อาจารย์ไปเพิ่มข้อมูลมา"
      ],
      "metadata": {
        "id": "epICJwJ6aM0i"
      },
      "execution_count": 20,
      "outputs": []
    },
    {
      "cell_type": "code",
      "source": [
        "idhome1 = home[home['ID ผู้ประเมิน']==1]\n",
        "# id 1  เอามาเฉพาะ โรลที่ประเมินโดยคนที่ 1\n",
        "idhome2 = home[home['ID ผู้ประเมิน']==2]"
      ],
      "metadata": {
        "id": "UdTaBcDtagCt"
      },
      "execution_count": 27,
      "outputs": []
    },
    {
      "cell_type": "code",
      "source": [
        "idhome1.shape "
      ],
      "metadata": {
        "colab": {
          "base_uri": "https://localhost:8080/"
        },
        "id": "TOKNIl-edBa3",
        "outputId": "c0c6328d-fe0b-4635-8b93-b687d1c389d2"
      },
      "execution_count": 28,
      "outputs": [
        {
          "output_type": "execute_result",
          "data": {
            "text/plain": [
              "(610, 9)"
            ]
          },
          "metadata": {},
          "execution_count": 28
        }
      ]
    },
    {
      "cell_type": "code",
      "source": [
        "idhome1 = idhome1.dropna(subset=['ราคาทรัพย์','ประเมินราคาซื้อ-ขาย'])\n",
        "#การใช้สับเซท ที่ การที่เช็คขอลลัม ราคาทรัพย์ กับ ประเมินราคาซื้อขาย ถ้าเจอ nan ให้ลบ :แถว: นั้นออกไปเลย"
      ],
      "metadata": {
        "id": "ZuabAq-Daq1m"
      },
      "execution_count": 29,
      "outputs": []
    },
    {
      "cell_type": "code",
      "source": [
        "idhome1.shape #new after dropna ลดลงไป หนึ่งแสดงว่า มีค่าว่างอันเดว"
      ],
      "metadata": {
        "colab": {
          "base_uri": "https://localhost:8080/"
        },
        "id": "3CInkcaTa9WS",
        "outputId": "98f96c1a-1bd2-4717-f38c-2e138f96c7d2"
      },
      "execution_count": 30,
      "outputs": [
        {
          "output_type": "execute_result",
          "data": {
            "text/plain": [
              "(609, 9)"
            ]
          },
          "metadata": {},
          "execution_count": 30
        }
      ]
    },
    {
      "cell_type": "code",
      "source": [
        "idhome2 = idhome2.dropna(subset=['ราคาทรัพย์','ประเมินราคาซื้อ-ขาย'])"
      ],
      "metadata": {
        "id": "XBruZB5wc9_n"
      },
      "execution_count": 31,
      "outputs": []
    },
    {
      "cell_type": "code",
      "source": [
        "id1MAPE = mape(pd.to_numeric(idhome1['ราคาทรัพย์']),idhome1['ประเมินราคาซื้อ-ขาย'])\n",
        "id2MAPE = mape(pd.to_numeric(idhome2['ราคาทรัพย์']),idhome2['ประเมินราคาซื้อ-ขาย'])\n",
        "print(f'ความแตกต่างระหว่างราคาประกาศขายและราคาประเมินของ\\nบ้าน\\nนักประเมิน คนที่ 1 = {id1MAPE*100:.2f}%\\nนักประเมิน คนที่ 2 = {id2MAPE*100:.2f}%')\n",
        "# slash back n mean เว้นบรรทัด"
      ],
      "metadata": {
        "colab": {
          "base_uri": "https://localhost:8080/"
        },
        "id": "MxCMnXvodcPW",
        "outputId": "fb613b0a-e750-43ce-8685-bc2ffc5f89c8"
      },
      "execution_count": 38,
      "outputs": [
        {
          "output_type": "stream",
          "name": "stdout",
          "text": [
            "ความแตกต่างระหว่างราคาประกาศขายและราคาประเมินของ\n",
            "บ้าน\n",
            "นักประเมิน คนที่ 1 = 12.78%\n",
            "นักประเมิน คนที่ 2 = 13.87%\n"
          ]
        }
      ]
    },
    {
      "cell_type": "markdown",
      "source": [
        "นักประเมิน คนที่ 1 = 12.78%\n",
        "นักประเมิน คนที่ 2 = 13.87%\n",
        "แสดงว่า นักประเมินคนที่1 แม่นกว่า "
      ],
      "metadata": {
        "id": "_-06pxfQhGLc"
      }
    },
    {
      "cell_type": "code",
      "source": [
        "idhome2['ประเมิน1'] = idhome2['post id'].map(idhome1.set_index('post id')['ประเมินราคาซื้อ-ขาย'])\n",
        "\n"
      ],
      "metadata": {
        "id": "82_QPNmXf1A9"
      },
      "execution_count": 64,
      "outputs": []
    },
    {
      "cell_type": "code",
      "source": [
        "#idhome2['ประเมิน2'] = idhome2['post id'].map(idhome2.set_index('post id')['ประเมินราคาซื้อ-ขาย'])"
      ],
      "metadata": {
        "id": "o-rb1i4KnBA-"
      },
      "execution_count": 66,
      "outputs": []
    },
    {
      "cell_type": "markdown",
      "source": [
        "ต่อไปจะเป็นการเขียนฟังก์ชั่นการหารเพื่อเช็คโดยมีตัวตั้งตัวหาร "
      ],
      "metadata": {
        "id": "PeT_-Y-ckPBq"
      }
    },
    {
      "cell_type": "code",
      "source": [
        "def check_v(in1,in2):\n",
        "    return max(in1/in2,in2/in1)\n",
        "    #def คือ การเขียนฟังก์ชั่น อธิบายตัวนี้จาก in1,in2 คือค่าที่กรอกก่อนกรอกหลัง ให้ทำoperationกัน เมื่อเรียกใช้ check_v"
      ],
      "metadata": {
        "id": "ADAfUSEckVW1"
      },
      "execution_count": 45,
      "outputs": []
    },
    {
      "cell_type": "code",
      "source": [
        "\n",
        "idhome2['check1']=idhome2.apply(lambda x:check_v(x['ราคาทรัพย์'],x['ประเมิน1']),axis=1)\n",
        "#ขั้นตอนนี้คือการเพิ่มคอลัมน์ check1 ลงไปในตาราง โดยข้อมูลที่เพิ่มคือ ราคาทรัพย์/ราคาที่ประเมินโดยคนที่ 1 โดยที่ใช้ฟังชั่นที่เราประกาศ check_v"
      ],
      "metadata": {
        "id": "d3-x2URihiwP"
      },
      "execution_count": 50,
      "outputs": []
    },
    {
      "cell_type": "code",
      "source": [
        "idhome2['check1'].sort_values()\n",
        "#sort value คือการเรียงจากมากไปน้อย\n",
        "#เรียกมาดูเฉพาะคอลัมน์ check1"
      ],
      "metadata": {
        "colab": {
          "base_uri": "https://localhost:8080/"
        },
        "id": "0tm7FwXqkIDx",
        "outputId": "e68baea0-71e6-4ec6-f2d2-1f00eef6a8ef"
      },
      "execution_count": 69,
      "outputs": [
        {
          "output_type": "execute_result",
          "data": {
            "text/plain": [
              "1042     1.000000\n",
              "43       1.000000\n",
              "198      1.000000\n",
              "548      1.000000\n",
              "188      1.000000\n",
              "          ...    \n",
              "767      1.935484\n",
              "1210     2.115385\n",
              "228      2.328916\n",
              "1070     2.413793\n",
              "802     10.391304\n",
              "Name: check1, Length: 498, dtype: float64"
            ]
          },
          "metadata": {},
          "execution_count": 69
        }
      ]
    },
    {
      "cell_type": "code",
      "source": [
        "\n",
        "idhome2['check2']=idhome2.apply(lambda x:check_v(x['ประเมิน2'],x['ราคาทรัพย์']),axis=1)\n",
        "#ขั้นตอนนี้คือการเพิ่มคอลัมน์ check2 ลงไปในตาราง โดยข้อมูลที่เพิ่มคือราคาที่ประเมินโดยคนที่ 1/ราคาทรัพย์ โดยที่ใช้ฟังชั่นที่เราประกาศ check_v"
      ],
      "metadata": {
        "id": "D87TOrmkkz19"
      },
      "execution_count": 70,
      "outputs": []
    },
    {
      "cell_type": "code",
      "source": [
        "idhome2['check2'].sort_values()\n",
        "#sort value คือการเรียงจากมากไปน้อย\n",
        "#เรียกมาดูเฉพาะคอลัมน์ check2"
      ],
      "metadata": {
        "colab": {
          "base_uri": "https://localhost:8080/"
        },
        "id": "D_4ChPEolpsA",
        "outputId": "a45485b3-380a-4477-d195-d3167699faa6"
      },
      "execution_count": 71,
      "outputs": [
        {
          "output_type": "execute_result",
          "data": {
            "text/plain": [
              "1042     1.000000\n",
              "43       1.000000\n",
              "198      1.000000\n",
              "548      1.000000\n",
              "188      1.000000\n",
              "          ...    \n",
              "767      1.935484\n",
              "1210     2.115385\n",
              "228      2.328916\n",
              "1070     2.413793\n",
              "802     10.391304\n",
              "Name: check2, Length: 498, dtype: float64"
            ]
          },
          "metadata": {},
          "execution_count": 71
        }
      ]
    },
    {
      "cell_type": "markdown",
      "source": [
        "mape "
      ],
      "metadata": {
        "id": "0errsQ5cnrqC"
      }
    },
    {
      "cell_type": "code",
      "source": [
        "id1MAPE = mape(pd.to_numeric(idhome1['ราคาทรัพย์']),idhome1['ประเมินราคาซื้อ-ขาย'])\n",
        "id2MAPE = mape(pd.to_numeric(idhome2['ราคาทรัพย์']),idhome2['ประเมินราคาซื้อ-ขาย'])\n"
      ],
      "metadata": {
        "id": "LDfpy0k8ntTk"
      },
      "execution_count": 73,
      "outputs": []
    },
    {
      "cell_type": "code",
      "source": [
        "print(f'ความแตกต่างระหว่างราคาประกาศขายและราคาประเมินของ\\nบ้าน\\nนักประเมิน คนที่ 1 = {id1MAPE*100:.2f}%\\nนักประเมิน คนที่ 2 = {id2MAPE*100:.2f}%')\n"
      ],
      "metadata": {
        "colab": {
          "base_uri": "https://localhost:8080/"
        },
        "id": "BFiE5oV0n3Yd",
        "outputId": "a6b29314-e258-48dc-ae8a-38d8bb5bdc8a"
      },
      "execution_count": 74,
      "outputs": [
        {
          "output_type": "stream",
          "name": "stdout",
          "text": [
            "ความแตกต่างระหว่างราคาประกาศขายและราคาประเมินของ\n",
            "บ้าน\n",
            "นักประเมิน คนที่ 1 = 12.78%\n",
            "นักประเมิน คนที่ 2 = 13.87%\n"
          ]
        }
      ]
    },
    {
      "cell_type": "markdown",
      "source": [
        "ในกรณีของบ้าน ที่ map แล้ว error"
      ],
      "metadata": {
        "id": "-uALfY1cnehl"
      }
    },
    {
      "cell_type": "code",
      "source": [
        "len(idhome2) #นับจำนวนของจำนวนที่นักประเมินคนที่2 ของบ้าน หา มีกี่โรล"
      ],
      "metadata": {
        "colab": {
          "base_uri": "https://localhost:8080/"
        },
        "id": "Q2bdo6cSnnVM",
        "outputId": "1f8afd4c-9612-4b3d-ca99-9d72c4fd871c"
      },
      "execution_count": 80,
      "outputs": [
        {
          "output_type": "execute_result",
          "data": {
            "text/plain": [
              "498"
            ]
          },
          "metadata": {},
          "execution_count": 80
        }
      ]
    },
    {
      "cell_type": "code",
      "source": [
        "# นับจำนวน Duplicate ซ้ำ\n",
        "len(idhome2[ idhome2.duplicated(keep = False)]) "
      ],
      "metadata": {
        "colab": {
          "base_uri": "https://localhost:8080/"
        },
        "id": "SQ6maaJcoQiR",
        "outputId": "65e4129a-c852-48fa-b601-c0ba67308ebe"
      },
      "execution_count": 85,
      "outputs": [
        {
          "output_type": "execute_result",
          "data": {
            "text/plain": [
              "20"
            ]
          },
          "metadata": {},
          "execution_count": 85
        }
      ]
    },
    {
      "cell_type": "code",
      "source": [
        "# ลบ Duplicate\n",
        "idhome2.drop_duplicates(inplace=True)\n",
        "idhome2.reset_index(drop=True, inplace=True)\n",
        "len(idhome2)"
      ],
      "metadata": {
        "colab": {
          "base_uri": "https://localhost:8080/"
        },
        "id": "_gAo_9x6oSx1",
        "outputId": "eb41a0da-ac77-475f-df55-9a999efee64e"
      },
      "execution_count": 86,
      "outputs": [
        {
          "output_type": "execute_result",
          "data": {
            "text/plain": [
              "488"
            ]
          },
          "metadata": {},
          "execution_count": 86
        }
      ]
    },
    {
      "cell_type": "code",
      "source": [
        "idhome2['ประเมิน2'] = idhome2['post id'].map(idhome2.set_index('post id')['ประเมินราคาซื้อ-ขาย'])\n",
        "idhome2.dropna(subset=['ประเมินราคาซื้อ-ขาย','ประเมิน2','ราคาทรัพย์'])\n",
        "one2two = mape(idhome2['ประเมิน1'],idhome2['ประเมิน2'])\n",
        "two2one = mape(idhome2['ประเมิน2'],idhome2['ประเมิน2'])\n",
        "print(f'ความผิดพลาดระหว่างนักประเมินทั้ง {((one2two)+(two2one))*50:.2f}%')\n",
        "print(f'จำนวนทรัพย์ทั้งหมด {len(idhome2)} ทรัพย์')"
      ],
      "metadata": {
        "colab": {
          "base_uri": "https://localhost:8080/"
        },
        "id": "1ks_DjosoUMC",
        "outputId": "b94651c6-36ee-4da8-ac5e-5bedc38a25bb"
      },
      "execution_count": 87,
      "outputs": [
        {
          "output_type": "stream",
          "name": "stdout",
          "text": [
            "ความผิดพลาดระหว่างนักประเมินทั้ง 8.41%\n",
            "จำนวนทรัพย์ทั้งหมด 488 ทรัพย์\n"
          ]
        }
      ]
    },
    {
      "cell_type": "code",
      "source": [
        "idhome2['check1']=idhome2.apply(lambda x:check_v(x['ราคาทรัพย์'],x['ประเมิน1']),axis=1)\n",
        "idhome2['check2']=idhome2.apply(lambda x:check_v(x['ราคาทรัพย์'],x['ประเมิน2']),axis=1)"
      ],
      "metadata": {
        "id": "BbGWHVkmomKl"
      },
      "execution_count": 89,
      "outputs": []
    },
    {
      "cell_type": "code",
      "source": [
        "idhome1"
      ],
      "metadata": {
        "colab": {
          "base_uri": "https://localhost:8080/",
          "height": 1000
        },
        "id": "DNoJxvWAotiO",
        "outputId": "b2d49d19-af8f-4c2d-f888-4bc63ccd4999"
      },
      "execution_count": 90,
      "outputs": [
        {
          "output_type": "execute_result",
          "data": {
            "text/plain": [
              "      ID ผู้ประเมิน                               post id property_type  \\\n",
              "0                 1    https://nayoo.co/khonkaen/posts/25    บ้านเดี่ยว   \n",
              "2                 1    https://nayoo.co/khonkaen/posts/33    บ้านเดี่ยว   \n",
              "4                 1   https://nayoo.co/khonkaen/posts/495    บ้านเดี่ยว   \n",
              "6                 1   https://nayoo.co/khonkaen/posts/564    บ้านเดี่ยว   \n",
              "8                 1   https://nayoo.co/khonkaen/posts/566    บ้านเดี่ยว   \n",
              "...             ...                                   ...           ...   \n",
              "1211              1  https://nayoo.co/khonkaen/posts/6255    บ้านเดี่ยว   \n",
              "1213              1  https://nayoo.co/khonkaen/posts/6256    บ้านเดี่ยว   \n",
              "1215              1  https://nayoo.co/khonkaen/posts/6257    บ้านเดี่ยว   \n",
              "1217              1  https://nayoo.co/khonkaen/posts/6258    บ้านเดี่ยว   \n",
              "1219              1  https://nayoo.co/khonkaen/posts/6260    บ้านเดี่ยว   \n",
              "\n",
              "     ความมั่นใจในการเมินราคาทรัพย์  ราคาทรัพย์  ประเมินราคาซื้อ-ขาย  \\\n",
              "0                           มั่นใจ     2890000            2500000.0   \n",
              "2                           มั่นใจ     2600000            2200000.0   \n",
              "4                           มั่นใจ     6050000            5000000.0   \n",
              "6                           มั่นใจ     4400000            3500000.0   \n",
              "8                           มั่นใจ     2750000            2500000.0   \n",
              "...                            ...         ...                  ...   \n",
              "1211                        มั่นใจ      260000             550000.0   \n",
              "1213                        มั่นใจ      610000             700000.0   \n",
              "1215                        มั่นใจ      295000             500000.0   \n",
              "1217                        มั่นใจ      615000             600000.0   \n",
              "1219                        มั่นใจ      620000             750000.0   \n",
              "\n",
              "                         ปัจจัยในการประเมินราคาซื้อ-ขาย  \\\n",
              "0                                          5,000-15,000   \n",
              "2                                          5,000-15,000   \n",
              "4                                          5,000-15,000   \n",
              "6                                          5,000-18,000   \n",
              "8                                          5,000-25,000   \n",
              "...                                                 ...   \n",
              "1211  เพื่อป้องกันปัญหาที่อาจเกิดขึ้นภายหลังหากต้องม...   \n",
              "1213  เพื่อป้องกันปัญหาที่อาจเกิดขึ้นภายหลังหากต้องม...   \n",
              "1215  เพื่อป้องกันปัญหาที่อาจเกิดขึ้นภายหลังหากต้องม...   \n",
              "1217  เพื่อป้องกันปัญหาที่อาจเกิดขึ้นภายหลังหากต้องม...   \n",
              "1219  เพื่อป้องกันปัญหาที่อาจเกิดขึ้นภายหลังหากต้องม...   \n",
              "\n",
              "     เหตุผลไม่มั่นใจราคาประเมิน                      ให้คะแนนทรัพย์  \n",
              "0                           NaN   3 ขายได้ ใช้ระยะเวลา 7 - 12 เดือน  \n",
              "2                           NaN  2 ขายได้ยาก ใช้ระยะเวลามากว่า 1 ปี  \n",
              "4                           NaN   3 ขายได้ ใช้ระยะเวลา 7 - 12 เดือน  \n",
              "6                           NaN  2 ขายได้ยาก ใช้ระยะเวลามากว่า 1 ปี  \n",
              "8                           NaN   3 ขายได้ ใช้ระยะเวลา 7 - 12 เดือน  \n",
              "...                         ...                                 ...  \n",
              "1211                        NaN   3 ขายได้ ใช้ระยะเวลา 7 - 12 เดือน  \n",
              "1213                        NaN   3 ขายได้ ใช้ระยะเวลา 7 - 12 เดือน  \n",
              "1215                        NaN  2 ขายได้ยาก ใช้ระยะเวลามากว่า 1 ปี  \n",
              "1217                        NaN   3 ขายได้ ใช้ระยะเวลา 7 - 12 เดือน  \n",
              "1219                        NaN   3 ขายได้ ใช้ระยะเวลา 7 - 12 เดือน  \n",
              "\n",
              "[609 rows x 9 columns]"
            ],
            "text/html": [
              "\n",
              "  <div id=\"df-65f98d20-c300-4f3f-b593-75d192a6e7fd\">\n",
              "    <div class=\"colab-df-container\">\n",
              "      <div>\n",
              "<style scoped>\n",
              "    .dataframe tbody tr th:only-of-type {\n",
              "        vertical-align: middle;\n",
              "    }\n",
              "\n",
              "    .dataframe tbody tr th {\n",
              "        vertical-align: top;\n",
              "    }\n",
              "\n",
              "    .dataframe thead th {\n",
              "        text-align: right;\n",
              "    }\n",
              "</style>\n",
              "<table border=\"1\" class=\"dataframe\">\n",
              "  <thead>\n",
              "    <tr style=\"text-align: right;\">\n",
              "      <th></th>\n",
              "      <th>ID ผู้ประเมิน</th>\n",
              "      <th>post id</th>\n",
              "      <th>property_type</th>\n",
              "      <th>ความมั่นใจในการเมินราคาทรัพย์</th>\n",
              "      <th>ราคาทรัพย์</th>\n",
              "      <th>ประเมินราคาซื้อ-ขาย</th>\n",
              "      <th>ปัจจัยในการประเมินราคาซื้อ-ขาย</th>\n",
              "      <th>เหตุผลไม่มั่นใจราคาประเมิน</th>\n",
              "      <th>ให้คะแนนทรัพย์</th>\n",
              "    </tr>\n",
              "  </thead>\n",
              "  <tbody>\n",
              "    <tr>\n",
              "      <th>0</th>\n",
              "      <td>1</td>\n",
              "      <td>https://nayoo.co/khonkaen/posts/25</td>\n",
              "      <td>บ้านเดี่ยว</td>\n",
              "      <td>มั่นใจ</td>\n",
              "      <td>2890000</td>\n",
              "      <td>2500000.0</td>\n",
              "      <td>5,000-15,000</td>\n",
              "      <td>NaN</td>\n",
              "      <td>3 ขายได้ ใช้ระยะเวลา 7 - 12 เดือน</td>\n",
              "    </tr>\n",
              "    <tr>\n",
              "      <th>2</th>\n",
              "      <td>1</td>\n",
              "      <td>https://nayoo.co/khonkaen/posts/33</td>\n",
              "      <td>บ้านเดี่ยว</td>\n",
              "      <td>มั่นใจ</td>\n",
              "      <td>2600000</td>\n",
              "      <td>2200000.0</td>\n",
              "      <td>5,000-15,000</td>\n",
              "      <td>NaN</td>\n",
              "      <td>2 ขายได้ยาก ใช้ระยะเวลามากว่า 1 ปี</td>\n",
              "    </tr>\n",
              "    <tr>\n",
              "      <th>4</th>\n",
              "      <td>1</td>\n",
              "      <td>https://nayoo.co/khonkaen/posts/495</td>\n",
              "      <td>บ้านเดี่ยว</td>\n",
              "      <td>มั่นใจ</td>\n",
              "      <td>6050000</td>\n",
              "      <td>5000000.0</td>\n",
              "      <td>5,000-15,000</td>\n",
              "      <td>NaN</td>\n",
              "      <td>3 ขายได้ ใช้ระยะเวลา 7 - 12 เดือน</td>\n",
              "    </tr>\n",
              "    <tr>\n",
              "      <th>6</th>\n",
              "      <td>1</td>\n",
              "      <td>https://nayoo.co/khonkaen/posts/564</td>\n",
              "      <td>บ้านเดี่ยว</td>\n",
              "      <td>มั่นใจ</td>\n",
              "      <td>4400000</td>\n",
              "      <td>3500000.0</td>\n",
              "      <td>5,000-18,000</td>\n",
              "      <td>NaN</td>\n",
              "      <td>2 ขายได้ยาก ใช้ระยะเวลามากว่า 1 ปี</td>\n",
              "    </tr>\n",
              "    <tr>\n",
              "      <th>8</th>\n",
              "      <td>1</td>\n",
              "      <td>https://nayoo.co/khonkaen/posts/566</td>\n",
              "      <td>บ้านเดี่ยว</td>\n",
              "      <td>มั่นใจ</td>\n",
              "      <td>2750000</td>\n",
              "      <td>2500000.0</td>\n",
              "      <td>5,000-25,000</td>\n",
              "      <td>NaN</td>\n",
              "      <td>3 ขายได้ ใช้ระยะเวลา 7 - 12 เดือน</td>\n",
              "    </tr>\n",
              "    <tr>\n",
              "      <th>...</th>\n",
              "      <td>...</td>\n",
              "      <td>...</td>\n",
              "      <td>...</td>\n",
              "      <td>...</td>\n",
              "      <td>...</td>\n",
              "      <td>...</td>\n",
              "      <td>...</td>\n",
              "      <td>...</td>\n",
              "      <td>...</td>\n",
              "    </tr>\n",
              "    <tr>\n",
              "      <th>1211</th>\n",
              "      <td>1</td>\n",
              "      <td>https://nayoo.co/khonkaen/posts/6255</td>\n",
              "      <td>บ้านเดี่ยว</td>\n",
              "      <td>มั่นใจ</td>\n",
              "      <td>260000</td>\n",
              "      <td>550000.0</td>\n",
              "      <td>เพื่อป้องกันปัญหาที่อาจเกิดขึ้นภายหลังหากต้องม...</td>\n",
              "      <td>NaN</td>\n",
              "      <td>3 ขายได้ ใช้ระยะเวลา 7 - 12 เดือน</td>\n",
              "    </tr>\n",
              "    <tr>\n",
              "      <th>1213</th>\n",
              "      <td>1</td>\n",
              "      <td>https://nayoo.co/khonkaen/posts/6256</td>\n",
              "      <td>บ้านเดี่ยว</td>\n",
              "      <td>มั่นใจ</td>\n",
              "      <td>610000</td>\n",
              "      <td>700000.0</td>\n",
              "      <td>เพื่อป้องกันปัญหาที่อาจเกิดขึ้นภายหลังหากต้องม...</td>\n",
              "      <td>NaN</td>\n",
              "      <td>3 ขายได้ ใช้ระยะเวลา 7 - 12 เดือน</td>\n",
              "    </tr>\n",
              "    <tr>\n",
              "      <th>1215</th>\n",
              "      <td>1</td>\n",
              "      <td>https://nayoo.co/khonkaen/posts/6257</td>\n",
              "      <td>บ้านเดี่ยว</td>\n",
              "      <td>มั่นใจ</td>\n",
              "      <td>295000</td>\n",
              "      <td>500000.0</td>\n",
              "      <td>เพื่อป้องกันปัญหาที่อาจเกิดขึ้นภายหลังหากต้องม...</td>\n",
              "      <td>NaN</td>\n",
              "      <td>2 ขายได้ยาก ใช้ระยะเวลามากว่า 1 ปี</td>\n",
              "    </tr>\n",
              "    <tr>\n",
              "      <th>1217</th>\n",
              "      <td>1</td>\n",
              "      <td>https://nayoo.co/khonkaen/posts/6258</td>\n",
              "      <td>บ้านเดี่ยว</td>\n",
              "      <td>มั่นใจ</td>\n",
              "      <td>615000</td>\n",
              "      <td>600000.0</td>\n",
              "      <td>เพื่อป้องกันปัญหาที่อาจเกิดขึ้นภายหลังหากต้องม...</td>\n",
              "      <td>NaN</td>\n",
              "      <td>3 ขายได้ ใช้ระยะเวลา 7 - 12 เดือน</td>\n",
              "    </tr>\n",
              "    <tr>\n",
              "      <th>1219</th>\n",
              "      <td>1</td>\n",
              "      <td>https://nayoo.co/khonkaen/posts/6260</td>\n",
              "      <td>บ้านเดี่ยว</td>\n",
              "      <td>มั่นใจ</td>\n",
              "      <td>620000</td>\n",
              "      <td>750000.0</td>\n",
              "      <td>เพื่อป้องกันปัญหาที่อาจเกิดขึ้นภายหลังหากต้องม...</td>\n",
              "      <td>NaN</td>\n",
              "      <td>3 ขายได้ ใช้ระยะเวลา 7 - 12 เดือน</td>\n",
              "    </tr>\n",
              "  </tbody>\n",
              "</table>\n",
              "<p>609 rows × 9 columns</p>\n",
              "</div>\n",
              "      <button class=\"colab-df-convert\" onclick=\"convertToInteractive('df-65f98d20-c300-4f3f-b593-75d192a6e7fd')\"\n",
              "              title=\"Convert this dataframe to an interactive table.\"\n",
              "              style=\"display:none;\">\n",
              "        \n",
              "  <svg xmlns=\"http://www.w3.org/2000/svg\" height=\"24px\"viewBox=\"0 0 24 24\"\n",
              "       width=\"24px\">\n",
              "    <path d=\"M0 0h24v24H0V0z\" fill=\"none\"/>\n",
              "    <path d=\"M18.56 5.44l.94 2.06.94-2.06 2.06-.94-2.06-.94-.94-2.06-.94 2.06-2.06.94zm-11 1L8.5 8.5l.94-2.06 2.06-.94-2.06-.94L8.5 2.5l-.94 2.06-2.06.94zm10 10l.94 2.06.94-2.06 2.06-.94-2.06-.94-.94-2.06-.94 2.06-2.06.94z\"/><path d=\"M17.41 7.96l-1.37-1.37c-.4-.4-.92-.59-1.43-.59-.52 0-1.04.2-1.43.59L10.3 9.45l-7.72 7.72c-.78.78-.78 2.05 0 2.83L4 21.41c.39.39.9.59 1.41.59.51 0 1.02-.2 1.41-.59l7.78-7.78 2.81-2.81c.8-.78.8-2.07 0-2.86zM5.41 20L4 18.59l7.72-7.72 1.47 1.35L5.41 20z\"/>\n",
              "  </svg>\n",
              "      </button>\n",
              "      \n",
              "  <style>\n",
              "    .colab-df-container {\n",
              "      display:flex;\n",
              "      flex-wrap:wrap;\n",
              "      gap: 12px;\n",
              "    }\n",
              "\n",
              "    .colab-df-convert {\n",
              "      background-color: #E8F0FE;\n",
              "      border: none;\n",
              "      border-radius: 50%;\n",
              "      cursor: pointer;\n",
              "      display: none;\n",
              "      fill: #1967D2;\n",
              "      height: 32px;\n",
              "      padding: 0 0 0 0;\n",
              "      width: 32px;\n",
              "    }\n",
              "\n",
              "    .colab-df-convert:hover {\n",
              "      background-color: #E2EBFA;\n",
              "      box-shadow: 0px 1px 2px rgba(60, 64, 67, 0.3), 0px 1px 3px 1px rgba(60, 64, 67, 0.15);\n",
              "      fill: #174EA6;\n",
              "    }\n",
              "\n",
              "    [theme=dark] .colab-df-convert {\n",
              "      background-color: #3B4455;\n",
              "      fill: #D2E3FC;\n",
              "    }\n",
              "\n",
              "    [theme=dark] .colab-df-convert:hover {\n",
              "      background-color: #434B5C;\n",
              "      box-shadow: 0px 1px 3px 1px rgba(0, 0, 0, 0.15);\n",
              "      filter: drop-shadow(0px 1px 2px rgba(0, 0, 0, 0.3));\n",
              "      fill: #FFFFFF;\n",
              "    }\n",
              "  </style>\n",
              "\n",
              "      <script>\n",
              "        const buttonEl =\n",
              "          document.querySelector('#df-65f98d20-c300-4f3f-b593-75d192a6e7fd button.colab-df-convert');\n",
              "        buttonEl.style.display =\n",
              "          google.colab.kernel.accessAllowed ? 'block' : 'none';\n",
              "\n",
              "        async function convertToInteractive(key) {\n",
              "          const element = document.querySelector('#df-65f98d20-c300-4f3f-b593-75d192a6e7fd');\n",
              "          const dataTable =\n",
              "            await google.colab.kernel.invokeFunction('convertToInteractive',\n",
              "                                                     [key], {});\n",
              "          if (!dataTable) return;\n",
              "\n",
              "          const docLinkHtml = 'Like what you see? Visit the ' +\n",
              "            '<a target=\"_blank\" href=https://colab.research.google.com/notebooks/data_table.ipynb>data table notebook</a>'\n",
              "            + ' to learn more about interactive tables.';\n",
              "          element.innerHTML = '';\n",
              "          dataTable['output_type'] = 'display_data';\n",
              "          await google.colab.output.renderOutput(dataTable, element);\n",
              "          const docLink = document.createElement('div');\n",
              "          docLink.innerHTML = docLinkHtml;\n",
              "          element.appendChild(docLink);\n",
              "        }\n",
              "      </script>\n",
              "    </div>\n",
              "  </div>\n",
              "  "
            ]
          },
          "metadata": {},
          "execution_count": 90
        }
      ]
    },
    {
      "cell_type": "code",
      "source": [
        "idhome2"
      ],
      "metadata": {
        "colab": {
          "base_uri": "https://localhost:8080/",
          "height": 1000
        },
        "id": "i7OH2VkoovfN",
        "outputId": "7ee31b14-73cc-4529-9c0b-701c5ba5fe55"
      },
      "execution_count": 91,
      "outputs": [
        {
          "output_type": "execute_result",
          "data": {
            "text/plain": [
              "     ID ผู้ประเมิน                               post id property_type  \\\n",
              "0                2    https://nayoo.co/khonkaen/posts/25    บ้านเดี่ยว   \n",
              "1                2    https://nayoo.co/khonkaen/posts/33    บ้านเดี่ยว   \n",
              "2                2   https://nayoo.co/khonkaen/posts/495    บ้านเดี่ยว   \n",
              "3                2   https://nayoo.co/khonkaen/posts/564    บ้านเดี่ยว   \n",
              "4                2   https://nayoo.co/khonkaen/posts/566    บ้านเดี่ยว   \n",
              "..             ...                                   ...           ...   \n",
              "483              2  https://nayoo.co/khonkaen/posts/6255    บ้านเดี่ยว   \n",
              "484              2  https://nayoo.co/khonkaen/posts/6256    บ้านเดี่ยว   \n",
              "485              2  https://nayoo.co/khonkaen/posts/6257    บ้านเดี่ยว   \n",
              "486              2  https://nayoo.co/khonkaen/posts/6258    บ้านเดี่ยว   \n",
              "487              2  https://nayoo.co/khonkaen/posts/6260    บ้านเดี่ยว   \n",
              "\n",
              "    ความมั่นใจในการเมินราคาทรัพย์  ราคาทรัพย์  ประเมินราคาซื้อ-ขาย  \\\n",
              "0                          มั่นใจ     2890000            2700000.0   \n",
              "1                          มั่นใจ     2600000            2400000.0   \n",
              "2                          มั่นใจ     6050000            9000000.0   \n",
              "3                          มั่นใจ     4400000            3700000.0   \n",
              "4                          มั่นใจ     2750000            2500000.0   \n",
              "..                            ...         ...                  ...   \n",
              "483                        มั่นใจ      260000             300000.0   \n",
              "484                        มั่นใจ      610000             500000.0   \n",
              "485                        มั่นใจ      295000             300000.0   \n",
              "486                        มั่นใจ      615000             500000.0   \n",
              "487                        มั่นใจ      620000             700000.0   \n",
              "\n",
              "                        ปัจจัยในการประเมินราคาซื้อ-ขาย  \\\n",
              "0    โครงการนี้ราคาเสนอขาย 2,500,000-3,000,000 บาท/...   \n",
              "1     ราคาเสนอขายประมาณ 2,200,000 - 2,500,000 บาท/หลัง   \n",
              "2    โซนนี้ราคาซื้อขาย ประมาณ 10,000-20,000 บาท/ตาร...   \n",
              "3               เสนอขาย 3,500,000 - 4,200,000 บาท/หลัง   \n",
              "4          ราคาเสนอขาย 2,000,0000 - 2,800,000 บาท/หลัง   \n",
              "..                                                 ...   \n",
              "483                     ราคาเสนอขาย 2-3 พันบาท/ตารางวา   \n",
              "484                     ราคาเสนอขาย 4-6 พันบาท/ตารางวา   \n",
              "485                     ราคาเสนอขาย 1-2 พันบาท/ตารางวา   \n",
              "486                     ราคาเสนอขาย 3-5 พันบาท/ตารางวา   \n",
              "487                     ราคาเสนอขาย 4-5 พันบาท/ตารางวา   \n",
              "\n",
              "    เหตุผลไม่มั่นใจราคาประเมิน                     ให้คะแนนทรัพย์   ประเมิน1  \\\n",
              "0                          NaN   4 ขายได้ ใช้ระยะเวลา 4 - 6 เดือน  2500000.0   \n",
              "1                          NaN  3 ขายได้ ใช้ระยะเวลา 7 - 12 เดือน  2200000.0   \n",
              "2                          NaN  5 ขายง่าย ใช้ระยะเวลา 1 - 3 เดือน  5000000.0   \n",
              "3                          NaN  3 ขายได้ ใช้ระยะเวลา 7 - 12 เดือน  3500000.0   \n",
              "4                          NaN  3 ขายได้ ใช้ระยะเวลา 7 - 12 เดือน  2500000.0   \n",
              "..                         ...                                ...        ...   \n",
              "483                        NaN  3 ขายได้ ใช้ระยะเวลา 7 - 12 เดือน   550000.0   \n",
              "484                        NaN  3 ขายได้ ใช้ระยะเวลา 7 - 12 เดือน   700000.0   \n",
              "485                        NaN  3 ขายได้ ใช้ระยะเวลา 7 - 12 เดือน   500000.0   \n",
              "486                        NaN  3 ขายได้ ใช้ระยะเวลา 7 - 12 เดือน   600000.0   \n",
              "487                        NaN  3 ขายได้ ใช้ระยะเวลา 7 - 12 เดือน   750000.0   \n",
              "\n",
              "       check1    check2   ประเมิน2  \n",
              "0    1.156000  1.070370  2700000.0  \n",
              "1    1.181818  1.083333  2400000.0  \n",
              "2    1.210000  1.487603  9000000.0  \n",
              "3    1.257143  1.189189  3700000.0  \n",
              "4    1.100000  1.100000  2500000.0  \n",
              "..        ...       ...        ...  \n",
              "483  2.115385  1.153846   300000.0  \n",
              "484  1.147541  1.220000   500000.0  \n",
              "485  1.694915  1.016949   300000.0  \n",
              "486  1.025000  1.230000   500000.0  \n",
              "487  1.209677  1.129032   700000.0  \n",
              "\n",
              "[488 rows x 13 columns]"
            ],
            "text/html": [
              "\n",
              "  <div id=\"df-1f69e854-a1e1-4c81-83a4-121096955d69\">\n",
              "    <div class=\"colab-df-container\">\n",
              "      <div>\n",
              "<style scoped>\n",
              "    .dataframe tbody tr th:only-of-type {\n",
              "        vertical-align: middle;\n",
              "    }\n",
              "\n",
              "    .dataframe tbody tr th {\n",
              "        vertical-align: top;\n",
              "    }\n",
              "\n",
              "    .dataframe thead th {\n",
              "        text-align: right;\n",
              "    }\n",
              "</style>\n",
              "<table border=\"1\" class=\"dataframe\">\n",
              "  <thead>\n",
              "    <tr style=\"text-align: right;\">\n",
              "      <th></th>\n",
              "      <th>ID ผู้ประเมิน</th>\n",
              "      <th>post id</th>\n",
              "      <th>property_type</th>\n",
              "      <th>ความมั่นใจในการเมินราคาทรัพย์</th>\n",
              "      <th>ราคาทรัพย์</th>\n",
              "      <th>ประเมินราคาซื้อ-ขาย</th>\n",
              "      <th>ปัจจัยในการประเมินราคาซื้อ-ขาย</th>\n",
              "      <th>เหตุผลไม่มั่นใจราคาประเมิน</th>\n",
              "      <th>ให้คะแนนทรัพย์</th>\n",
              "      <th>ประเมิน1</th>\n",
              "      <th>check1</th>\n",
              "      <th>check2</th>\n",
              "      <th>ประเมิน2</th>\n",
              "    </tr>\n",
              "  </thead>\n",
              "  <tbody>\n",
              "    <tr>\n",
              "      <th>0</th>\n",
              "      <td>2</td>\n",
              "      <td>https://nayoo.co/khonkaen/posts/25</td>\n",
              "      <td>บ้านเดี่ยว</td>\n",
              "      <td>มั่นใจ</td>\n",
              "      <td>2890000</td>\n",
              "      <td>2700000.0</td>\n",
              "      <td>โครงการนี้ราคาเสนอขาย 2,500,000-3,000,000 บาท/...</td>\n",
              "      <td>NaN</td>\n",
              "      <td>4 ขายได้ ใช้ระยะเวลา 4 - 6 เดือน</td>\n",
              "      <td>2500000.0</td>\n",
              "      <td>1.156000</td>\n",
              "      <td>1.070370</td>\n",
              "      <td>2700000.0</td>\n",
              "    </tr>\n",
              "    <tr>\n",
              "      <th>1</th>\n",
              "      <td>2</td>\n",
              "      <td>https://nayoo.co/khonkaen/posts/33</td>\n",
              "      <td>บ้านเดี่ยว</td>\n",
              "      <td>มั่นใจ</td>\n",
              "      <td>2600000</td>\n",
              "      <td>2400000.0</td>\n",
              "      <td>ราคาเสนอขายประมาณ 2,200,000 - 2,500,000 บาท/หลัง</td>\n",
              "      <td>NaN</td>\n",
              "      <td>3 ขายได้ ใช้ระยะเวลา 7 - 12 เดือน</td>\n",
              "      <td>2200000.0</td>\n",
              "      <td>1.181818</td>\n",
              "      <td>1.083333</td>\n",
              "      <td>2400000.0</td>\n",
              "    </tr>\n",
              "    <tr>\n",
              "      <th>2</th>\n",
              "      <td>2</td>\n",
              "      <td>https://nayoo.co/khonkaen/posts/495</td>\n",
              "      <td>บ้านเดี่ยว</td>\n",
              "      <td>มั่นใจ</td>\n",
              "      <td>6050000</td>\n",
              "      <td>9000000.0</td>\n",
              "      <td>โซนนี้ราคาซื้อขาย ประมาณ 10,000-20,000 บาท/ตาร...</td>\n",
              "      <td>NaN</td>\n",
              "      <td>5 ขายง่าย ใช้ระยะเวลา 1 - 3 เดือน</td>\n",
              "      <td>5000000.0</td>\n",
              "      <td>1.210000</td>\n",
              "      <td>1.487603</td>\n",
              "      <td>9000000.0</td>\n",
              "    </tr>\n",
              "    <tr>\n",
              "      <th>3</th>\n",
              "      <td>2</td>\n",
              "      <td>https://nayoo.co/khonkaen/posts/564</td>\n",
              "      <td>บ้านเดี่ยว</td>\n",
              "      <td>มั่นใจ</td>\n",
              "      <td>4400000</td>\n",
              "      <td>3700000.0</td>\n",
              "      <td>เสนอขาย 3,500,000 - 4,200,000 บาท/หลัง</td>\n",
              "      <td>NaN</td>\n",
              "      <td>3 ขายได้ ใช้ระยะเวลา 7 - 12 เดือน</td>\n",
              "      <td>3500000.0</td>\n",
              "      <td>1.257143</td>\n",
              "      <td>1.189189</td>\n",
              "      <td>3700000.0</td>\n",
              "    </tr>\n",
              "    <tr>\n",
              "      <th>4</th>\n",
              "      <td>2</td>\n",
              "      <td>https://nayoo.co/khonkaen/posts/566</td>\n",
              "      <td>บ้านเดี่ยว</td>\n",
              "      <td>มั่นใจ</td>\n",
              "      <td>2750000</td>\n",
              "      <td>2500000.0</td>\n",
              "      <td>ราคาเสนอขาย 2,000,0000 - 2,800,000 บาท/หลัง</td>\n",
              "      <td>NaN</td>\n",
              "      <td>3 ขายได้ ใช้ระยะเวลา 7 - 12 เดือน</td>\n",
              "      <td>2500000.0</td>\n",
              "      <td>1.100000</td>\n",
              "      <td>1.100000</td>\n",
              "      <td>2500000.0</td>\n",
              "    </tr>\n",
              "    <tr>\n",
              "      <th>...</th>\n",
              "      <td>...</td>\n",
              "      <td>...</td>\n",
              "      <td>...</td>\n",
              "      <td>...</td>\n",
              "      <td>...</td>\n",
              "      <td>...</td>\n",
              "      <td>...</td>\n",
              "      <td>...</td>\n",
              "      <td>...</td>\n",
              "      <td>...</td>\n",
              "      <td>...</td>\n",
              "      <td>...</td>\n",
              "      <td>...</td>\n",
              "    </tr>\n",
              "    <tr>\n",
              "      <th>483</th>\n",
              "      <td>2</td>\n",
              "      <td>https://nayoo.co/khonkaen/posts/6255</td>\n",
              "      <td>บ้านเดี่ยว</td>\n",
              "      <td>มั่นใจ</td>\n",
              "      <td>260000</td>\n",
              "      <td>300000.0</td>\n",
              "      <td>ราคาเสนอขาย 2-3 พันบาท/ตารางวา</td>\n",
              "      <td>NaN</td>\n",
              "      <td>3 ขายได้ ใช้ระยะเวลา 7 - 12 เดือน</td>\n",
              "      <td>550000.0</td>\n",
              "      <td>2.115385</td>\n",
              "      <td>1.153846</td>\n",
              "      <td>300000.0</td>\n",
              "    </tr>\n",
              "    <tr>\n",
              "      <th>484</th>\n",
              "      <td>2</td>\n",
              "      <td>https://nayoo.co/khonkaen/posts/6256</td>\n",
              "      <td>บ้านเดี่ยว</td>\n",
              "      <td>มั่นใจ</td>\n",
              "      <td>610000</td>\n",
              "      <td>500000.0</td>\n",
              "      <td>ราคาเสนอขาย 4-6 พันบาท/ตารางวา</td>\n",
              "      <td>NaN</td>\n",
              "      <td>3 ขายได้ ใช้ระยะเวลา 7 - 12 เดือน</td>\n",
              "      <td>700000.0</td>\n",
              "      <td>1.147541</td>\n",
              "      <td>1.220000</td>\n",
              "      <td>500000.0</td>\n",
              "    </tr>\n",
              "    <tr>\n",
              "      <th>485</th>\n",
              "      <td>2</td>\n",
              "      <td>https://nayoo.co/khonkaen/posts/6257</td>\n",
              "      <td>บ้านเดี่ยว</td>\n",
              "      <td>มั่นใจ</td>\n",
              "      <td>295000</td>\n",
              "      <td>300000.0</td>\n",
              "      <td>ราคาเสนอขาย 1-2 พันบาท/ตารางวา</td>\n",
              "      <td>NaN</td>\n",
              "      <td>3 ขายได้ ใช้ระยะเวลา 7 - 12 เดือน</td>\n",
              "      <td>500000.0</td>\n",
              "      <td>1.694915</td>\n",
              "      <td>1.016949</td>\n",
              "      <td>300000.0</td>\n",
              "    </tr>\n",
              "    <tr>\n",
              "      <th>486</th>\n",
              "      <td>2</td>\n",
              "      <td>https://nayoo.co/khonkaen/posts/6258</td>\n",
              "      <td>บ้านเดี่ยว</td>\n",
              "      <td>มั่นใจ</td>\n",
              "      <td>615000</td>\n",
              "      <td>500000.0</td>\n",
              "      <td>ราคาเสนอขาย 3-5 พันบาท/ตารางวา</td>\n",
              "      <td>NaN</td>\n",
              "      <td>3 ขายได้ ใช้ระยะเวลา 7 - 12 เดือน</td>\n",
              "      <td>600000.0</td>\n",
              "      <td>1.025000</td>\n",
              "      <td>1.230000</td>\n",
              "      <td>500000.0</td>\n",
              "    </tr>\n",
              "    <tr>\n",
              "      <th>487</th>\n",
              "      <td>2</td>\n",
              "      <td>https://nayoo.co/khonkaen/posts/6260</td>\n",
              "      <td>บ้านเดี่ยว</td>\n",
              "      <td>มั่นใจ</td>\n",
              "      <td>620000</td>\n",
              "      <td>700000.0</td>\n",
              "      <td>ราคาเสนอขาย 4-5 พันบาท/ตารางวา</td>\n",
              "      <td>NaN</td>\n",
              "      <td>3 ขายได้ ใช้ระยะเวลา 7 - 12 เดือน</td>\n",
              "      <td>750000.0</td>\n",
              "      <td>1.209677</td>\n",
              "      <td>1.129032</td>\n",
              "      <td>700000.0</td>\n",
              "    </tr>\n",
              "  </tbody>\n",
              "</table>\n",
              "<p>488 rows × 13 columns</p>\n",
              "</div>\n",
              "      <button class=\"colab-df-convert\" onclick=\"convertToInteractive('df-1f69e854-a1e1-4c81-83a4-121096955d69')\"\n",
              "              title=\"Convert this dataframe to an interactive table.\"\n",
              "              style=\"display:none;\">\n",
              "        \n",
              "  <svg xmlns=\"http://www.w3.org/2000/svg\" height=\"24px\"viewBox=\"0 0 24 24\"\n",
              "       width=\"24px\">\n",
              "    <path d=\"M0 0h24v24H0V0z\" fill=\"none\"/>\n",
              "    <path d=\"M18.56 5.44l.94 2.06.94-2.06 2.06-.94-2.06-.94-.94-2.06-.94 2.06-2.06.94zm-11 1L8.5 8.5l.94-2.06 2.06-.94-2.06-.94L8.5 2.5l-.94 2.06-2.06.94zm10 10l.94 2.06.94-2.06 2.06-.94-2.06-.94-.94-2.06-.94 2.06-2.06.94z\"/><path d=\"M17.41 7.96l-1.37-1.37c-.4-.4-.92-.59-1.43-.59-.52 0-1.04.2-1.43.59L10.3 9.45l-7.72 7.72c-.78.78-.78 2.05 0 2.83L4 21.41c.39.39.9.59 1.41.59.51 0 1.02-.2 1.41-.59l7.78-7.78 2.81-2.81c.8-.78.8-2.07 0-2.86zM5.41 20L4 18.59l7.72-7.72 1.47 1.35L5.41 20z\"/>\n",
              "  </svg>\n",
              "      </button>\n",
              "      \n",
              "  <style>\n",
              "    .colab-df-container {\n",
              "      display:flex;\n",
              "      flex-wrap:wrap;\n",
              "      gap: 12px;\n",
              "    }\n",
              "\n",
              "    .colab-df-convert {\n",
              "      background-color: #E8F0FE;\n",
              "      border: none;\n",
              "      border-radius: 50%;\n",
              "      cursor: pointer;\n",
              "      display: none;\n",
              "      fill: #1967D2;\n",
              "      height: 32px;\n",
              "      padding: 0 0 0 0;\n",
              "      width: 32px;\n",
              "    }\n",
              "\n",
              "    .colab-df-convert:hover {\n",
              "      background-color: #E2EBFA;\n",
              "      box-shadow: 0px 1px 2px rgba(60, 64, 67, 0.3), 0px 1px 3px 1px rgba(60, 64, 67, 0.15);\n",
              "      fill: #174EA6;\n",
              "    }\n",
              "\n",
              "    [theme=dark] .colab-df-convert {\n",
              "      background-color: #3B4455;\n",
              "      fill: #D2E3FC;\n",
              "    }\n",
              "\n",
              "    [theme=dark] .colab-df-convert:hover {\n",
              "      background-color: #434B5C;\n",
              "      box-shadow: 0px 1px 3px 1px rgba(0, 0, 0, 0.15);\n",
              "      filter: drop-shadow(0px 1px 2px rgba(0, 0, 0, 0.3));\n",
              "      fill: #FFFFFF;\n",
              "    }\n",
              "  </style>\n",
              "\n",
              "      <script>\n",
              "        const buttonEl =\n",
              "          document.querySelector('#df-1f69e854-a1e1-4c81-83a4-121096955d69 button.colab-df-convert');\n",
              "        buttonEl.style.display =\n",
              "          google.colab.kernel.accessAllowed ? 'block' : 'none';\n",
              "\n",
              "        async function convertToInteractive(key) {\n",
              "          const element = document.querySelector('#df-1f69e854-a1e1-4c81-83a4-121096955d69');\n",
              "          const dataTable =\n",
              "            await google.colab.kernel.invokeFunction('convertToInteractive',\n",
              "                                                     [key], {});\n",
              "          if (!dataTable) return;\n",
              "\n",
              "          const docLinkHtml = 'Like what you see? Visit the ' +\n",
              "            '<a target=\"_blank\" href=https://colab.research.google.com/notebooks/data_table.ipynb>data table notebook</a>'\n",
              "            + ' to learn more about interactive tables.';\n",
              "          element.innerHTML = '';\n",
              "          dataTable['output_type'] = 'display_data';\n",
              "          await google.colab.output.renderOutput(dataTable, element);\n",
              "          const docLink = document.createElement('div');\n",
              "          docLink.innerHTML = docLinkHtml;\n",
              "          element.appendChild(docLink);\n",
              "        }\n",
              "      </script>\n",
              "    </div>\n",
              "  </div>\n",
              "  "
            ]
          },
          "metadata": {},
          "execution_count": 91
        }
      ]
    },
    {
      "cell_type": "markdown",
      "source": [
        "### Check ที่ดิน"
      ],
      "metadata": {
        "id": "8C7IshBgnIz8"
      }
    },
    {
      "cell_type": "code",
      "source": [
        "land = pd.read_excel(url, sheet_name='ที่ดิน')"
      ],
      "metadata": {
        "id": "VdjTOM_HnKXm"
      },
      "execution_count": 67,
      "outputs": []
    },
    {
      "cell_type": "code",
      "source": [
        "idl1 = land[land['ID ผู้ประเมิน']==1]\n",
        "idl1 = idl1.dropna(subset=['ราคาทรัพย์','ประเมินราคาซื้อ-ขาย'])\n",
        "idl2 = land[land['ID ผู้ประเมิน']==2]\n",
        "idl2 = idl2.dropna(subset=['ราคาทรัพย์','ประเมินราคาซื้อ-ขาย'])\n",
        "idl1MAPE = mape(pd.to_numeric(idl1['ราคาทรัพย์']),idl1['ประเมินราคาซื้อ-ขาย'])\n",
        "idl2MAPE = mape(pd.to_numeric(idl2['ราคาทรัพย์']),idl2['ประเมินราคาซื้อ-ขาย'])\n",
        "print(f'ความแตกต่างระหว่างราคาประกาศขายและราคาประเมินของ\\nที่ดิน\\nนักประเมิน คนที่ 1 = {idl1MAPE*100:.2f}%\\nนักประเมิน คนที่ 2 = {idl2MAPE*100:.2f}%')\n",
        "idl2['ประเมิน1'] = idl2['post id'].map(idl1.set_index('post id')['ประเมินราคาซื้อ-ขาย'])\n",
        "idl2_d = idl2.dropna(subset=['ประเมินราคาซื้อ-ขาย','ประเมิน1','ราคาทรัพย์'])\n",
        "idl2['ประเมิน2'] = idl2['post id'].map(idl2.set_index('post id')['ประเมินราคาซื้อ-ขาย'])\n",
        "idl2_d = idl2.dropna(subset=['ประเมินราคาซื้อ-ขาย','ประเมิน2','ราคาทรัพย์'])\n",
        "one2twol = mape(idl2_d['ประเมิน1'],idl2_d['ประเมิน2'])\n",
        "two2onel = mape(idl2_d['ประเมิน2'],idl2_d['ประเมิน1'])\n",
        "print(f'ความผิดพลาดระหว่างนักประเมินทั้ง {((one2twol)+(two2onel))*50:.2f}%')\n",
        "print(f'จำนวนทรัพย์ทั้งหมด {len(idl2_d)} ทรัพย์')"
      ],
      "metadata": {
        "colab": {
          "base_uri": "https://localhost:8080/"
        },
        "id": "L4It51LenKv9",
        "outputId": "d77e48af-d0d6-4246-f55c-d507e381d73d"
      },
      "execution_count": 68,
      "outputs": [
        {
          "output_type": "stream",
          "name": "stdout",
          "text": [
            "ความแตกต่างระหว่างราคาประกาศขายและราคาประเมินของ\n",
            "ที่ดิน\n",
            "นักประเมิน คนที่ 1 = 40.83%\n",
            "นักประเมิน คนที่ 2 = 39.56%\n",
            "ความผิดพลาดระหว่างนักประเมินทั้ง 58.41%\n",
            "จำนวนทรัพย์ทั้งหมด 100 ทรัพย์\n"
          ]
        }
      ]
    },
    {
      "cell_type": "code",
      "source": [
        "idl2_d['check1']= idl2_d.apply(lambda x:check_v(x['ราคาทรัพย์'],x['ประเมิน1']),axis=1)\n",
        "idl2_d['check2']= idl2_d.apply(lambda x:check_v(x['ราคาทรัพย์'],x['ประเมิน2']),axis=1)"
      ],
      "metadata": {
        "id": "XKPMLrK8nMMU"
      },
      "execution_count": 92,
      "outputs": []
    },
    {
      "cell_type": "code",
      "source": [
        "idl2_d.sort_values(by=['check1'],ascending=False)"
      ],
      "metadata": {
        "id": "RucHBDqrpRIg"
      },
      "execution_count": null,
      "outputs": []
    },
    {
      "cell_type": "code",
      "source": [
        "idl2_d.sort_values(by=['check2'],ascending=False)"
      ],
      "metadata": {
        "id": "1KAZ0S8EpSix"
      },
      "execution_count": null,
      "outputs": []
    },
    {
      "cell_type": "markdown",
      "source": [
        "### Check คอนโด"
      ],
      "metadata": {
        "id": "MYFZh-W_pYRh"
      }
    },
    {
      "cell_type": "code",
      "source": [
        "condo = pd.read_excel(url, sheet_name='คอนโด')"
      ],
      "metadata": {
        "id": "n9GyLGxIpcyj"
      },
      "execution_count": 96,
      "outputs": []
    },
    {
      "cell_type": "code",
      "source": [
        "idcMAPE = mape(pd.to_numeric(condo['ราคาทรัพย์']),condo['ประเมินราคาซื้อ-ขาย'])\n",
        "print(f'นักประเมิน คนที่ 1 = {idcMAPE*100:.2f}%')"
      ],
      "metadata": {
        "colab": {
          "base_uri": "https://localhost:8080/"
        },
        "id": "tm9ydO0bpVaO",
        "outputId": "84b534fc-77d4-49d7-c507-5f4e126b14b8"
      },
      "execution_count": 97,
      "outputs": [
        {
          "output_type": "stream",
          "name": "stdout",
          "text": [
            "นักประเมิน คนที่ 1 = 17.35%\n"
          ]
        }
      ]
    },
    {
      "cell_type": "markdown",
      "source": [
        "### Check  ทาวน์โฮม"
      ],
      "metadata": {
        "id": "2ejdOAySpifH"
      }
    },
    {
      "cell_type": "code",
      "source": [
        "town = pd.read_excel(url, sheet_name='ทาวน์โฮม')"
      ],
      "metadata": {
        "id": "WiOMk8DKpx05"
      },
      "execution_count": 102,
      "outputs": []
    },
    {
      "cell_type": "code",
      "source": [
        "idt1 = town[town['ID ผู้ประเมิน']==1]\n",
        "idt1 = idt1.dropna(subset=['ราคาทรัพย์','ประเมินราคาซื้อ-ขาย'])\n",
        "idt2 = town[town['ID ผู้ประเมิน']==2]\n",
        "idt2 = idt2.dropna(subset=['ราคาทรัพย์','ประเมินราคาซื้อ-ขาย'])\n",
        "idt1MAPE = mape(pd.to_numeric(idt1['ราคาทรัพย์']),idt1['ประเมินราคาซื้อ-ขาย'])\n",
        "idt2MAPE = mape(pd.to_numeric(idt2['ราคาทรัพย์']),idt2['ประเมินราคาซื้อ-ขาย'])\n",
        "print(f'ความแตกต่างระหว่างราคาประกาศขายและราคาประเมินของ\\nทาวน์โฮม\\nนักประเมิน คนที่ 1 = {idt1MAPE*100:.2f}%\\nนักประเมิน คนที่ 2 = {idt2MAPE*100:.2f}%')\n",
        "idt2['ประเมิน1'] = idt2['post id'].map(idt1.set_index('post id')['ประเมินราคาซื้อ-ขาย'])\n",
        "idt2_d = idt2.dropna(subset=['ประเมินราคาซื้อ-ขาย','ประเมิน1','ราคาทรัพย์'])\n",
        "idt2['ประเมิน2'] = idt2['post id'].map(idt2.set_index('post id')['ประเมินราคาซื้อ-ขาย'])\n",
        "idt2_d = idt2.dropna(subset=['ประเมินราคาซื้อ-ขาย','ประเมิน2','ราคาทรัพย์'])\n",
        "one2twot = mape(idt2_d['ประเมิน1'],idt2_d['ประเมิน2'])\n",
        "two2onet = mape(idt2_d['ประเมิน2'],idt2_d['ประเมิน1'])\n",
        "print(f'ความผิดพลาดระหว่างนักประเมินทั้ง {((one2twot)+(two2onet))*50:.2f}%')\n",
        "print(f'จำนวนทรัพย์ทั้งหมด {len(idt2_d)} ทรัพย์')"
      ],
      "metadata": {
        "colab": {
          "base_uri": "https://localhost:8080/"
        },
        "id": "LgPlDHINpZ-c",
        "outputId": "2467e20e-62a9-4443-8660-44d4130166e6"
      },
      "execution_count": 103,
      "outputs": [
        {
          "output_type": "stream",
          "name": "stdout",
          "text": [
            "ความแตกต่างระหว่างราคาประกาศขายและราคาประเมินของ\n",
            "ทาวน์โฮม\n",
            "นักประเมิน คนที่ 1 = 11.57%\n",
            "นักประเมิน คนที่ 2 = 9.26%\n",
            "ความผิดพลาดระหว่างนักประเมินทั้ง 10.92%\n",
            "จำนวนทรัพย์ทั้งหมด 120 ทรัพย์\n"
          ]
        }
      ]
    },
    {
      "cell_type": "markdown",
      "source": [
        "### Check อาคารพาณิชย์"
      ],
      "metadata": {
        "id": "OjcJcnWspnGe"
      }
    },
    {
      "cell_type": "code",
      "source": [
        "office = pd.read_excel(url, sheet_name='อาคารพาณิชย์')"
      ],
      "metadata": {
        "id": "qxQwJD7_puVY"
      },
      "execution_count": 101,
      "outputs": []
    },
    {
      "cell_type": "code",
      "source": [
        "ido1 = office[office['ID ผู้ประเมิน']==1]\n",
        "ido1 = ido1.dropna(subset=['ราคาทรัพย์','ประเมินราคาซื้อ-ขาย'])\n",
        "ido2 = office[office['ID ผู้ประเมิน']==2]\n",
        "ido2 = ido2.dropna(subset=['ราคาทรัพย์','ประเมินราคาซื้อ-ขาย'])\n",
        "ido1MAPE = mape(pd.to_numeric(ido1['ราคาทรัพย์']),ido1['ประเมินราคาซื้อ-ขาย'])\n",
        "ido2MAPE = mape(pd.to_numeric(ido2['ราคาทรัพย์']),ido2['ประเมินราคาซื้อ-ขาย'])\n",
        "print(f'ความแตกต่างระหว่างราคาประกาศขายและราคาประเมินของ\\nอาคารพาณิชย์\\nนักประเมิน คนที่ 1 = {ido1MAPE*100:.2f}%\\nนักประเมิน คนที่ 2 = {ido2MAPE*100:.2f}%')\n",
        "ido2['ประเมิน1'] = ido2['post id'].map(ido1.set_index('post id')['ประเมินราคาซื้อ-ขาย'])\n",
        "ido2_d = ido2.dropna(subset=['ประเมินราคาซื้อ-ขาย','ประเมิน1','ราคาทรัพย์'])\n",
        "ido2['ประเมิน2'] = ido2['post id'].map(ido2.set_index('post id')['ประเมินราคาซื้อ-ขาย'])\n",
        "ido2_d = ido2.dropna(subset=['ประเมินราคาซื้อ-ขาย','ประเมิน2','ราคาทรัพย์'])\n",
        "one2twoo = mape(ido2_d['ประเมิน1'],ido2_d['ประเมิน2'])\n",
        "two2oneo = mape(ido2_d['ประเมิน2'],ido2_d['ประเมิน1'])\n",
        "print(f'ความผิดพลาดระหว่างนักประเมินทั้ง {((one2twoo)+(two2oneo))*50:.2f}%')\n",
        "print(f'จำนวนทรัพย์ทั้งหมด {len(ido2_d)} ทรัพย์')"
      ],
      "metadata": {
        "colab": {
          "base_uri": "https://localhost:8080/"
        },
        "id": "OKoP2HNdplBZ",
        "outputId": "13b6d81a-4fba-46c2-db98-8a3d5d1edb95"
      },
      "execution_count": 104,
      "outputs": [
        {
          "output_type": "stream",
          "name": "stdout",
          "text": [
            "ความแตกต่างระหว่างราคาประกาศขายและราคาประเมินของ\n",
            "อาคารพาณิชย์\n",
            "นักประเมิน คนที่ 1 = 13.23%\n",
            "นักประเมิน คนที่ 2 = 11.42%\n",
            "ความผิดพลาดระหว่างนักประเมินทั้ง 12.53%\n",
            "จำนวนทรัพย์ทั้งหมด 91 ทรัพย์\n"
          ]
        }
      ]
    },
    {
      "cell_type": "code",
      "source": [
        "ido2_d['check1']= ido2_d.apply(lambda x:check_v(x['ราคาทรัพย์'],x['ประเมิน1']),axis=1)\n",
        "ido2_d['check2']= ido2_d.apply(lambda x:check_v(x['ราคาทรัพย์'],x['ประเมิน2']),axis=1)"
      ],
      "metadata": {
        "id": "jTh7BptnpoQQ"
      },
      "execution_count": 105,
      "outputs": []
    },
    {
      "cell_type": "code",
      "source": [
        "ido2_d.sort_values(by=['check1'],ascending=False)"
      ],
      "metadata": {
        "colab": {
          "base_uri": "https://localhost:8080/",
          "height": 1000
        },
        "id": "5IA8XH1YppvI",
        "outputId": "da5357f6-23eb-44a5-a614-78ec23f258b1"
      },
      "execution_count": 106,
      "outputs": [
        {
          "output_type": "execute_result",
          "data": {
            "text/plain": [
              "     ID ผู้ประเมิน                               post id  \\\n",
              "9                2    https://nayoo.co/khonkaen/posts/24   \n",
              "5                2    https://nayoo.co/khonkaen/posts/21   \n",
              "169              2  https://nayoo.co/khonkaen/posts/6043   \n",
              "87               2   https://nayoo.co/khonkaen/posts/707   \n",
              "81               2   https://nayoo.co/khonkaen/posts/701   \n",
              "..             ...                                   ...   \n",
              "61               2   https://nayoo.co/khonkaen/posts/643   \n",
              "65               2   https://nayoo.co/khonkaen/posts/651   \n",
              "161              2  https://nayoo.co/khonkaen/posts/5995   \n",
              "177              2  https://nayoo.co/khonkaen/posts/6123   \n",
              "17               2   https://nayoo.co/khonkaen/posts/498   \n",
              "\n",
              "             property_type ความมั่นใจในการเมินราคาทรัพย์  ราคาทรัพย์  \\\n",
              "9    อาคารพาณิชย์/สำนักงาน                        มั่นใจ     3900000   \n",
              "5    อาคารพาณิชย์/สำนักงาน                        มั่นใจ    22500000   \n",
              "169  อาคารพาณิชย์/สำนักงาน                        มั่นใจ     2240000   \n",
              "87   อาคารพาณิชย์/สำนักงาน                        มั่นใจ     1450000   \n",
              "81   อาคารพาณิชย์/สำนักงาน                        มั่นใจ     1925000   \n",
              "..                     ...                           ...         ...   \n",
              "61   อาคารพาณิชย์/สำนักงาน                        มั่นใจ     4180000   \n",
              "65   อาคารพาณิชย์/สำนักงาน                        มั่นใจ     2200000   \n",
              "161  อาคารพาณิชย์/สำนักงาน                        มั่นใจ     3000000   \n",
              "177  อาคารพาณิชย์/สำนักงาน                        มั่นใจ     2200000   \n",
              "17   อาคารพาณิชย์/สำนักงาน                        มั่นใจ     7000000   \n",
              "\n",
              "     ประเมินราคาซื้อ-ขาย    ปัจจัยในการประเมินราคาซื้อ-ขาย  \\\n",
              "9              3000000.0    ราคาซื้อขาย 3-4 ล้านบาท / คูหา   \n",
              "5             20000000.0    ราคาเสนอขาย 6-8 ล้านบาท / คูหา   \n",
              "169            3000000.0  ราคาเสนอขาย 2.7-3.2 ล้านบาท/คูหา   \n",
              "87             3200000.0  ราคาเสนอขาย 3.0-3.2 ล้านบาท/คูหา   \n",
              "81             2000000.0  ราคาเสนอขาย 1.8-2.2 ล้านบาท/คูหา   \n",
              "..                   ...                               ...   \n",
              "61             4200000.0  ราคาเสนอขาย 4.0-4.5 ล้านบาท/คูหา   \n",
              "65             2000000.0  ราคาเสนอขาย 2.0-2.2 ล้านบาท/คูหา   \n",
              "161            6000000.0  ราคาเสนอขาย 2.7-3.2 ล้านบาท/คูหา   \n",
              "177            2200000.0  ราคาเสนอขาย 2.0-2.5 ล้านบาท/คูหา   \n",
              "17             8000000.0   ราคาเสนอขาย 8-10 ล้านบาท / คูหา   \n",
              "\n",
              "    เหตุผลไม่มั่นใจราคาประเมิน                      ให้คะแนนทรัพย์  \\\n",
              "9                          NaN  2 ขายได้ยาก ใช้ระยะเวลามากว่า 1 ปี   \n",
              "5                          NaN   3 ขายได้ ใช้ระยะเวลา 7 - 12 เดือน   \n",
              "169                        NaN    4 ขายได้ ใช้ระยะเวลา 4 - 6 เดือน   \n",
              "87                         NaN    4 ขายได้ ใช้ระยะเวลา 4 - 6 เดือน   \n",
              "81                         NaN   3 ขายได้ ใช้ระยะเวลา 7 - 12 เดือน   \n",
              "..                         ...                                 ...   \n",
              "61                         NaN   3 ขายได้ ใช้ระยะเวลา 7 - 12 เดือน   \n",
              "65                         NaN   3 ขายได้ ใช้ระยะเวลา 7 - 12 เดือน   \n",
              "161                        NaN   3 ขายได้ ใช้ระยะเวลา 7 - 12 เดือน   \n",
              "177                        NaN   3 ขายได้ ใช้ระยะเวลา 7 - 12 เดือน   \n",
              "17                         NaN   3 ขายได้ ใช้ระยะเวลา 7 - 12 เดือน   \n",
              "\n",
              "       ประเมิน1    ประเมิน2    check1    check2  \n",
              "9     2200000.0   3000000.0  1.772727  1.300000  \n",
              "5    13500000.0  20000000.0  1.666667  1.125000  \n",
              "169   3500000.0   3000000.0  1.562500  1.339286  \n",
              "87    2200000.0   3200000.0  1.517241  2.206897  \n",
              "81    2700000.0   2000000.0  1.402597  1.038961  \n",
              "..          ...         ...       ...       ...  \n",
              "61    4200000.0   4200000.0  1.004785  1.004785  \n",
              "65    2200000.0   2000000.0  1.000000  1.100000  \n",
              "161   3000000.0   6000000.0  1.000000  2.000000  \n",
              "177   2200000.0   2200000.0  1.000000  1.000000  \n",
              "17    7000000.0   8000000.0  1.000000  1.142857  \n",
              "\n",
              "[91 rows x 13 columns]"
            ],
            "text/html": [
              "\n",
              "  <div id=\"df-8fe0369c-dea5-46e3-9c74-a7f07dab9d06\">\n",
              "    <div class=\"colab-df-container\">\n",
              "      <div>\n",
              "<style scoped>\n",
              "    .dataframe tbody tr th:only-of-type {\n",
              "        vertical-align: middle;\n",
              "    }\n",
              "\n",
              "    .dataframe tbody tr th {\n",
              "        vertical-align: top;\n",
              "    }\n",
              "\n",
              "    .dataframe thead th {\n",
              "        text-align: right;\n",
              "    }\n",
              "</style>\n",
              "<table border=\"1\" class=\"dataframe\">\n",
              "  <thead>\n",
              "    <tr style=\"text-align: right;\">\n",
              "      <th></th>\n",
              "      <th>ID ผู้ประเมิน</th>\n",
              "      <th>post id</th>\n",
              "      <th>property_type</th>\n",
              "      <th>ความมั่นใจในการเมินราคาทรัพย์</th>\n",
              "      <th>ราคาทรัพย์</th>\n",
              "      <th>ประเมินราคาซื้อ-ขาย</th>\n",
              "      <th>ปัจจัยในการประเมินราคาซื้อ-ขาย</th>\n",
              "      <th>เหตุผลไม่มั่นใจราคาประเมิน</th>\n",
              "      <th>ให้คะแนนทรัพย์</th>\n",
              "      <th>ประเมิน1</th>\n",
              "      <th>ประเมิน2</th>\n",
              "      <th>check1</th>\n",
              "      <th>check2</th>\n",
              "    </tr>\n",
              "  </thead>\n",
              "  <tbody>\n",
              "    <tr>\n",
              "      <th>9</th>\n",
              "      <td>2</td>\n",
              "      <td>https://nayoo.co/khonkaen/posts/24</td>\n",
              "      <td>อาคารพาณิชย์/สำนักงาน</td>\n",
              "      <td>มั่นใจ</td>\n",
              "      <td>3900000</td>\n",
              "      <td>3000000.0</td>\n",
              "      <td>ราคาซื้อขาย 3-4 ล้านบาท / คูหา</td>\n",
              "      <td>NaN</td>\n",
              "      <td>2 ขายได้ยาก ใช้ระยะเวลามากว่า 1 ปี</td>\n",
              "      <td>2200000.0</td>\n",
              "      <td>3000000.0</td>\n",
              "      <td>1.772727</td>\n",
              "      <td>1.300000</td>\n",
              "    </tr>\n",
              "    <tr>\n",
              "      <th>5</th>\n",
              "      <td>2</td>\n",
              "      <td>https://nayoo.co/khonkaen/posts/21</td>\n",
              "      <td>อาคารพาณิชย์/สำนักงาน</td>\n",
              "      <td>มั่นใจ</td>\n",
              "      <td>22500000</td>\n",
              "      <td>20000000.0</td>\n",
              "      <td>ราคาเสนอขาย 6-8 ล้านบาท / คูหา</td>\n",
              "      <td>NaN</td>\n",
              "      <td>3 ขายได้ ใช้ระยะเวลา 7 - 12 เดือน</td>\n",
              "      <td>13500000.0</td>\n",
              "      <td>20000000.0</td>\n",
              "      <td>1.666667</td>\n",
              "      <td>1.125000</td>\n",
              "    </tr>\n",
              "    <tr>\n",
              "      <th>169</th>\n",
              "      <td>2</td>\n",
              "      <td>https://nayoo.co/khonkaen/posts/6043</td>\n",
              "      <td>อาคารพาณิชย์/สำนักงาน</td>\n",
              "      <td>มั่นใจ</td>\n",
              "      <td>2240000</td>\n",
              "      <td>3000000.0</td>\n",
              "      <td>ราคาเสนอขาย 2.7-3.2 ล้านบาท/คูหา</td>\n",
              "      <td>NaN</td>\n",
              "      <td>4 ขายได้ ใช้ระยะเวลา 4 - 6 เดือน</td>\n",
              "      <td>3500000.0</td>\n",
              "      <td>3000000.0</td>\n",
              "      <td>1.562500</td>\n",
              "      <td>1.339286</td>\n",
              "    </tr>\n",
              "    <tr>\n",
              "      <th>87</th>\n",
              "      <td>2</td>\n",
              "      <td>https://nayoo.co/khonkaen/posts/707</td>\n",
              "      <td>อาคารพาณิชย์/สำนักงาน</td>\n",
              "      <td>มั่นใจ</td>\n",
              "      <td>1450000</td>\n",
              "      <td>3200000.0</td>\n",
              "      <td>ราคาเสนอขาย 3.0-3.2 ล้านบาท/คูหา</td>\n",
              "      <td>NaN</td>\n",
              "      <td>4 ขายได้ ใช้ระยะเวลา 4 - 6 เดือน</td>\n",
              "      <td>2200000.0</td>\n",
              "      <td>3200000.0</td>\n",
              "      <td>1.517241</td>\n",
              "      <td>2.206897</td>\n",
              "    </tr>\n",
              "    <tr>\n",
              "      <th>81</th>\n",
              "      <td>2</td>\n",
              "      <td>https://nayoo.co/khonkaen/posts/701</td>\n",
              "      <td>อาคารพาณิชย์/สำนักงาน</td>\n",
              "      <td>มั่นใจ</td>\n",
              "      <td>1925000</td>\n",
              "      <td>2000000.0</td>\n",
              "      <td>ราคาเสนอขาย 1.8-2.2 ล้านบาท/คูหา</td>\n",
              "      <td>NaN</td>\n",
              "      <td>3 ขายได้ ใช้ระยะเวลา 7 - 12 เดือน</td>\n",
              "      <td>2700000.0</td>\n",
              "      <td>2000000.0</td>\n",
              "      <td>1.402597</td>\n",
              "      <td>1.038961</td>\n",
              "    </tr>\n",
              "    <tr>\n",
              "      <th>...</th>\n",
              "      <td>...</td>\n",
              "      <td>...</td>\n",
              "      <td>...</td>\n",
              "      <td>...</td>\n",
              "      <td>...</td>\n",
              "      <td>...</td>\n",
              "      <td>...</td>\n",
              "      <td>...</td>\n",
              "      <td>...</td>\n",
              "      <td>...</td>\n",
              "      <td>...</td>\n",
              "      <td>...</td>\n",
              "      <td>...</td>\n",
              "    </tr>\n",
              "    <tr>\n",
              "      <th>61</th>\n",
              "      <td>2</td>\n",
              "      <td>https://nayoo.co/khonkaen/posts/643</td>\n",
              "      <td>อาคารพาณิชย์/สำนักงาน</td>\n",
              "      <td>มั่นใจ</td>\n",
              "      <td>4180000</td>\n",
              "      <td>4200000.0</td>\n",
              "      <td>ราคาเสนอขาย 4.0-4.5 ล้านบาท/คูหา</td>\n",
              "      <td>NaN</td>\n",
              "      <td>3 ขายได้ ใช้ระยะเวลา 7 - 12 เดือน</td>\n",
              "      <td>4200000.0</td>\n",
              "      <td>4200000.0</td>\n",
              "      <td>1.004785</td>\n",
              "      <td>1.004785</td>\n",
              "    </tr>\n",
              "    <tr>\n",
              "      <th>65</th>\n",
              "      <td>2</td>\n",
              "      <td>https://nayoo.co/khonkaen/posts/651</td>\n",
              "      <td>อาคารพาณิชย์/สำนักงาน</td>\n",
              "      <td>มั่นใจ</td>\n",
              "      <td>2200000</td>\n",
              "      <td>2000000.0</td>\n",
              "      <td>ราคาเสนอขาย 2.0-2.2 ล้านบาท/คูหา</td>\n",
              "      <td>NaN</td>\n",
              "      <td>3 ขายได้ ใช้ระยะเวลา 7 - 12 เดือน</td>\n",
              "      <td>2200000.0</td>\n",
              "      <td>2000000.0</td>\n",
              "      <td>1.000000</td>\n",
              "      <td>1.100000</td>\n",
              "    </tr>\n",
              "    <tr>\n",
              "      <th>161</th>\n",
              "      <td>2</td>\n",
              "      <td>https://nayoo.co/khonkaen/posts/5995</td>\n",
              "      <td>อาคารพาณิชย์/สำนักงาน</td>\n",
              "      <td>มั่นใจ</td>\n",
              "      <td>3000000</td>\n",
              "      <td>6000000.0</td>\n",
              "      <td>ราคาเสนอขาย 2.7-3.2 ล้านบาท/คูหา</td>\n",
              "      <td>NaN</td>\n",
              "      <td>3 ขายได้ ใช้ระยะเวลา 7 - 12 เดือน</td>\n",
              "      <td>3000000.0</td>\n",
              "      <td>6000000.0</td>\n",
              "      <td>1.000000</td>\n",
              "      <td>2.000000</td>\n",
              "    </tr>\n",
              "    <tr>\n",
              "      <th>177</th>\n",
              "      <td>2</td>\n",
              "      <td>https://nayoo.co/khonkaen/posts/6123</td>\n",
              "      <td>อาคารพาณิชย์/สำนักงาน</td>\n",
              "      <td>มั่นใจ</td>\n",
              "      <td>2200000</td>\n",
              "      <td>2200000.0</td>\n",
              "      <td>ราคาเสนอขาย 2.0-2.5 ล้านบาท/คูหา</td>\n",
              "      <td>NaN</td>\n",
              "      <td>3 ขายได้ ใช้ระยะเวลา 7 - 12 เดือน</td>\n",
              "      <td>2200000.0</td>\n",
              "      <td>2200000.0</td>\n",
              "      <td>1.000000</td>\n",
              "      <td>1.000000</td>\n",
              "    </tr>\n",
              "    <tr>\n",
              "      <th>17</th>\n",
              "      <td>2</td>\n",
              "      <td>https://nayoo.co/khonkaen/posts/498</td>\n",
              "      <td>อาคารพาณิชย์/สำนักงาน</td>\n",
              "      <td>มั่นใจ</td>\n",
              "      <td>7000000</td>\n",
              "      <td>8000000.0</td>\n",
              "      <td>ราคาเสนอขาย 8-10 ล้านบาท / คูหา</td>\n",
              "      <td>NaN</td>\n",
              "      <td>3 ขายได้ ใช้ระยะเวลา 7 - 12 เดือน</td>\n",
              "      <td>7000000.0</td>\n",
              "      <td>8000000.0</td>\n",
              "      <td>1.000000</td>\n",
              "      <td>1.142857</td>\n",
              "    </tr>\n",
              "  </tbody>\n",
              "</table>\n",
              "<p>91 rows × 13 columns</p>\n",
              "</div>\n",
              "      <button class=\"colab-df-convert\" onclick=\"convertToInteractive('df-8fe0369c-dea5-46e3-9c74-a7f07dab9d06')\"\n",
              "              title=\"Convert this dataframe to an interactive table.\"\n",
              "              style=\"display:none;\">\n",
              "        \n",
              "  <svg xmlns=\"http://www.w3.org/2000/svg\" height=\"24px\"viewBox=\"0 0 24 24\"\n",
              "       width=\"24px\">\n",
              "    <path d=\"M0 0h24v24H0V0z\" fill=\"none\"/>\n",
              "    <path d=\"M18.56 5.44l.94 2.06.94-2.06 2.06-.94-2.06-.94-.94-2.06-.94 2.06-2.06.94zm-11 1L8.5 8.5l.94-2.06 2.06-.94-2.06-.94L8.5 2.5l-.94 2.06-2.06.94zm10 10l.94 2.06.94-2.06 2.06-.94-2.06-.94-.94-2.06-.94 2.06-2.06.94z\"/><path d=\"M17.41 7.96l-1.37-1.37c-.4-.4-.92-.59-1.43-.59-.52 0-1.04.2-1.43.59L10.3 9.45l-7.72 7.72c-.78.78-.78 2.05 0 2.83L4 21.41c.39.39.9.59 1.41.59.51 0 1.02-.2 1.41-.59l7.78-7.78 2.81-2.81c.8-.78.8-2.07 0-2.86zM5.41 20L4 18.59l7.72-7.72 1.47 1.35L5.41 20z\"/>\n",
              "  </svg>\n",
              "      </button>\n",
              "      \n",
              "  <style>\n",
              "    .colab-df-container {\n",
              "      display:flex;\n",
              "      flex-wrap:wrap;\n",
              "      gap: 12px;\n",
              "    }\n",
              "\n",
              "    .colab-df-convert {\n",
              "      background-color: #E8F0FE;\n",
              "      border: none;\n",
              "      border-radius: 50%;\n",
              "      cursor: pointer;\n",
              "      display: none;\n",
              "      fill: #1967D2;\n",
              "      height: 32px;\n",
              "      padding: 0 0 0 0;\n",
              "      width: 32px;\n",
              "    }\n",
              "\n",
              "    .colab-df-convert:hover {\n",
              "      background-color: #E2EBFA;\n",
              "      box-shadow: 0px 1px 2px rgba(60, 64, 67, 0.3), 0px 1px 3px 1px rgba(60, 64, 67, 0.15);\n",
              "      fill: #174EA6;\n",
              "    }\n",
              "\n",
              "    [theme=dark] .colab-df-convert {\n",
              "      background-color: #3B4455;\n",
              "      fill: #D2E3FC;\n",
              "    }\n",
              "\n",
              "    [theme=dark] .colab-df-convert:hover {\n",
              "      background-color: #434B5C;\n",
              "      box-shadow: 0px 1px 3px 1px rgba(0, 0, 0, 0.15);\n",
              "      filter: drop-shadow(0px 1px 2px rgba(0, 0, 0, 0.3));\n",
              "      fill: #FFFFFF;\n",
              "    }\n",
              "  </style>\n",
              "\n",
              "      <script>\n",
              "        const buttonEl =\n",
              "          document.querySelector('#df-8fe0369c-dea5-46e3-9c74-a7f07dab9d06 button.colab-df-convert');\n",
              "        buttonEl.style.display =\n",
              "          google.colab.kernel.accessAllowed ? 'block' : 'none';\n",
              "\n",
              "        async function convertToInteractive(key) {\n",
              "          const element = document.querySelector('#df-8fe0369c-dea5-46e3-9c74-a7f07dab9d06');\n",
              "          const dataTable =\n",
              "            await google.colab.kernel.invokeFunction('convertToInteractive',\n",
              "                                                     [key], {});\n",
              "          if (!dataTable) return;\n",
              "\n",
              "          const docLinkHtml = 'Like what you see? Visit the ' +\n",
              "            '<a target=\"_blank\" href=https://colab.research.google.com/notebooks/data_table.ipynb>data table notebook</a>'\n",
              "            + ' to learn more about interactive tables.';\n",
              "          element.innerHTML = '';\n",
              "          dataTable['output_type'] = 'display_data';\n",
              "          await google.colab.output.renderOutput(dataTable, element);\n",
              "          const docLink = document.createElement('div');\n",
              "          docLink.innerHTML = docLinkHtml;\n",
              "          element.appendChild(docLink);\n",
              "        }\n",
              "      </script>\n",
              "    </div>\n",
              "  </div>\n",
              "  "
            ]
          },
          "metadata": {},
          "execution_count": 106
        }
      ]
    },
    {
      "cell_type": "code",
      "source": [
        "ido2_d.sort_values(by=['check2'],ascending=False)"
      ],
      "metadata": {
        "colab": {
          "base_uri": "https://localhost:8080/",
          "height": 1000
        },
        "id": "fg06fqUIpqod",
        "outputId": "6f621be0-1d61-4984-9668-6953efe73a0b"
      },
      "execution_count": 107,
      "outputs": [
        {
          "output_type": "execute_result",
          "data": {
            "text/plain": [
              "     ID ผู้ประเมิน                               post id  \\\n",
              "163              2  https://nayoo.co/khonkaen/posts/6009   \n",
              "87               2   https://nayoo.co/khonkaen/posts/707   \n",
              "161              2  https://nayoo.co/khonkaen/posts/5995   \n",
              "49               2   https://nayoo.co/khonkaen/posts/602   \n",
              "169              2  https://nayoo.co/khonkaen/posts/6043   \n",
              "..             ...                                   ...   \n",
              "121              2  https://nayoo.co/khonkaen/posts/2180   \n",
              "109              2  https://nayoo.co/khonkaen/posts/1885   \n",
              "107              2  https://nayoo.co/khonkaen/posts/1858   \n",
              "101              2  https://nayoo.co/khonkaen/posts/1614   \n",
              "127              2  https://nayoo.co/khonkaen/posts/2247   \n",
              "\n",
              "             property_type ความมั่นใจในการเมินราคาทรัพย์  ราคาทรัพย์  \\\n",
              "163  อาคารพาณิชย์/สำนักงาน                        มั่นใจ     2250000   \n",
              "87   อาคารพาณิชย์/สำนักงาน                        มั่นใจ     1450000   \n",
              "161  อาคารพาณิชย์/สำนักงาน                        มั่นใจ     3000000   \n",
              "49   อาคารพาณิชย์/สำนักงาน                        มั่นใจ     2520000   \n",
              "169  อาคารพาณิชย์/สำนักงาน                        มั่นใจ     2240000   \n",
              "..                     ...                           ...         ...   \n",
              "121  อาคารพาณิชย์/สำนักงาน                        มั่นใจ     5000000   \n",
              "109  อาคารพาณิชย์/สำนักงาน                        มั่นใจ     3500000   \n",
              "107  อาคารพาณิชย์/สำนักงาน                        มั่นใจ     1500000   \n",
              "101  อาคารพาณิชย์/สำนักงาน                        มั่นใจ     2500000   \n",
              "127  อาคารพาณิชย์/สำนักงาน                        มั่นใจ     1900000   \n",
              "\n",
              "     ประเมินราคาซื้อ-ขาย    ปัจจัยในการประเมินราคาซื้อ-ขาย  \\\n",
              "163            5000000.0  ราคาเสนอขาย 4.9-5.2 ล้านบาท/คูหา   \n",
              "87             3200000.0  ราคาเสนอขาย 3.0-3.2 ล้านบาท/คูหา   \n",
              "161            6000000.0  ราคาเสนอขาย 2.7-3.2 ล้านบาท/คูหา   \n",
              "49             3500000.0  ราคาเสนอขาย 3.5-4.0 ล้านบาท/คูหา   \n",
              "169            3000000.0  ราคาเสนอขาย 2.7-3.2 ล้านบาท/คูหา   \n",
              "..                   ...                               ...   \n",
              "121            5000000.0  ราคาเสนอขาย 5.0-6.0 ล้านบาท/คูหา   \n",
              "109            3500000.0  ราคาเสนอขาย 3.5-2.7 ล้านบาท/คูหา   \n",
              "107            1500000.0  ราคาเสนอขาย 1.2-1.6 ล้านบาท/คูหา   \n",
              "101            2500000.0  ราคาเสนอขาย 2.5-3.0 ล้านบาท/คูหา   \n",
              "127            1900000.0  ราคาเสนอขาย 1.7-2.0 ล้านบาท/คูหา   \n",
              "\n",
              "    เหตุผลไม่มั่นใจราคาประเมิน                     ให้คะแนนทรัพย์   ประเมิน1  \\\n",
              "163                        NaN  3 ขายได้ ใช้ระยะเวลา 7 - 12 เดือน  2700000.0   \n",
              "87                         NaN   4 ขายได้ ใช้ระยะเวลา 4 - 6 เดือน  2200000.0   \n",
              "161                        NaN  3 ขายได้ ใช้ระยะเวลา 7 - 12 เดือน  3000000.0   \n",
              "49                         NaN   4 ขายได้ ใช้ระยะเวลา 4 - 6 เดือน  3300000.0   \n",
              "169                        NaN   4 ขายได้ ใช้ระยะเวลา 4 - 6 เดือน  3500000.0   \n",
              "..                         ...                                ...        ...   \n",
              "121                        NaN  3 ขายได้ ใช้ระยะเวลา 7 - 12 เดือน  4000000.0   \n",
              "109                        NaN  3 ขายได้ ใช้ระยะเวลา 7 - 12 เดือน  3400000.0   \n",
              "107                        NaN  3 ขายได้ ใช้ระยะเวลา 7 - 12 เดือน  2000000.0   \n",
              "101                        NaN  3 ขายได้ ใช้ระยะเวลา 7 - 12 เดือน  2700000.0   \n",
              "127                        NaN  3 ขายได้ ใช้ระยะเวลา 7 - 12 เดือน  2500000.0   \n",
              "\n",
              "      ประเมิน2    check1    check2  \n",
              "163  5000000.0  1.200000  2.222222  \n",
              "87   3200000.0  1.517241  2.206897  \n",
              "161  6000000.0  1.000000  2.000000  \n",
              "49   3500000.0  1.309524  1.388889  \n",
              "169  3000000.0  1.562500  1.339286  \n",
              "..         ...       ...       ...  \n",
              "121  5000000.0  1.250000  1.000000  \n",
              "109  3500000.0  1.029412  1.000000  \n",
              "107  1500000.0  1.333333  1.000000  \n",
              "101  2500000.0  1.080000  1.000000  \n",
              "127  1900000.0  1.315789  1.000000  \n",
              "\n",
              "[91 rows x 13 columns]"
            ],
            "text/html": [
              "\n",
              "  <div id=\"df-5ed8435f-453c-4636-a6cd-4a36b10081b1\">\n",
              "    <div class=\"colab-df-container\">\n",
              "      <div>\n",
              "<style scoped>\n",
              "    .dataframe tbody tr th:only-of-type {\n",
              "        vertical-align: middle;\n",
              "    }\n",
              "\n",
              "    .dataframe tbody tr th {\n",
              "        vertical-align: top;\n",
              "    }\n",
              "\n",
              "    .dataframe thead th {\n",
              "        text-align: right;\n",
              "    }\n",
              "</style>\n",
              "<table border=\"1\" class=\"dataframe\">\n",
              "  <thead>\n",
              "    <tr style=\"text-align: right;\">\n",
              "      <th></th>\n",
              "      <th>ID ผู้ประเมิน</th>\n",
              "      <th>post id</th>\n",
              "      <th>property_type</th>\n",
              "      <th>ความมั่นใจในการเมินราคาทรัพย์</th>\n",
              "      <th>ราคาทรัพย์</th>\n",
              "      <th>ประเมินราคาซื้อ-ขาย</th>\n",
              "      <th>ปัจจัยในการประเมินราคาซื้อ-ขาย</th>\n",
              "      <th>เหตุผลไม่มั่นใจราคาประเมิน</th>\n",
              "      <th>ให้คะแนนทรัพย์</th>\n",
              "      <th>ประเมิน1</th>\n",
              "      <th>ประเมิน2</th>\n",
              "      <th>check1</th>\n",
              "      <th>check2</th>\n",
              "    </tr>\n",
              "  </thead>\n",
              "  <tbody>\n",
              "    <tr>\n",
              "      <th>163</th>\n",
              "      <td>2</td>\n",
              "      <td>https://nayoo.co/khonkaen/posts/6009</td>\n",
              "      <td>อาคารพาณิชย์/สำนักงาน</td>\n",
              "      <td>มั่นใจ</td>\n",
              "      <td>2250000</td>\n",
              "      <td>5000000.0</td>\n",
              "      <td>ราคาเสนอขาย 4.9-5.2 ล้านบาท/คูหา</td>\n",
              "      <td>NaN</td>\n",
              "      <td>3 ขายได้ ใช้ระยะเวลา 7 - 12 เดือน</td>\n",
              "      <td>2700000.0</td>\n",
              "      <td>5000000.0</td>\n",
              "      <td>1.200000</td>\n",
              "      <td>2.222222</td>\n",
              "    </tr>\n",
              "    <tr>\n",
              "      <th>87</th>\n",
              "      <td>2</td>\n",
              "      <td>https://nayoo.co/khonkaen/posts/707</td>\n",
              "      <td>อาคารพาณิชย์/สำนักงาน</td>\n",
              "      <td>มั่นใจ</td>\n",
              "      <td>1450000</td>\n",
              "      <td>3200000.0</td>\n",
              "      <td>ราคาเสนอขาย 3.0-3.2 ล้านบาท/คูหา</td>\n",
              "      <td>NaN</td>\n",
              "      <td>4 ขายได้ ใช้ระยะเวลา 4 - 6 เดือน</td>\n",
              "      <td>2200000.0</td>\n",
              "      <td>3200000.0</td>\n",
              "      <td>1.517241</td>\n",
              "      <td>2.206897</td>\n",
              "    </tr>\n",
              "    <tr>\n",
              "      <th>161</th>\n",
              "      <td>2</td>\n",
              "      <td>https://nayoo.co/khonkaen/posts/5995</td>\n",
              "      <td>อาคารพาณิชย์/สำนักงาน</td>\n",
              "      <td>มั่นใจ</td>\n",
              "      <td>3000000</td>\n",
              "      <td>6000000.0</td>\n",
              "      <td>ราคาเสนอขาย 2.7-3.2 ล้านบาท/คูหา</td>\n",
              "      <td>NaN</td>\n",
              "      <td>3 ขายได้ ใช้ระยะเวลา 7 - 12 เดือน</td>\n",
              "      <td>3000000.0</td>\n",
              "      <td>6000000.0</td>\n",
              "      <td>1.000000</td>\n",
              "      <td>2.000000</td>\n",
              "    </tr>\n",
              "    <tr>\n",
              "      <th>49</th>\n",
              "      <td>2</td>\n",
              "      <td>https://nayoo.co/khonkaen/posts/602</td>\n",
              "      <td>อาคารพาณิชย์/สำนักงาน</td>\n",
              "      <td>มั่นใจ</td>\n",
              "      <td>2520000</td>\n",
              "      <td>3500000.0</td>\n",
              "      <td>ราคาเสนอขาย 3.5-4.0 ล้านบาท/คูหา</td>\n",
              "      <td>NaN</td>\n",
              "      <td>4 ขายได้ ใช้ระยะเวลา 4 - 6 เดือน</td>\n",
              "      <td>3300000.0</td>\n",
              "      <td>3500000.0</td>\n",
              "      <td>1.309524</td>\n",
              "      <td>1.388889</td>\n",
              "    </tr>\n",
              "    <tr>\n",
              "      <th>169</th>\n",
              "      <td>2</td>\n",
              "      <td>https://nayoo.co/khonkaen/posts/6043</td>\n",
              "      <td>อาคารพาณิชย์/สำนักงาน</td>\n",
              "      <td>มั่นใจ</td>\n",
              "      <td>2240000</td>\n",
              "      <td>3000000.0</td>\n",
              "      <td>ราคาเสนอขาย 2.7-3.2 ล้านบาท/คูหา</td>\n",
              "      <td>NaN</td>\n",
              "      <td>4 ขายได้ ใช้ระยะเวลา 4 - 6 เดือน</td>\n",
              "      <td>3500000.0</td>\n",
              "      <td>3000000.0</td>\n",
              "      <td>1.562500</td>\n",
              "      <td>1.339286</td>\n",
              "    </tr>\n",
              "    <tr>\n",
              "      <th>...</th>\n",
              "      <td>...</td>\n",
              "      <td>...</td>\n",
              "      <td>...</td>\n",
              "      <td>...</td>\n",
              "      <td>...</td>\n",
              "      <td>...</td>\n",
              "      <td>...</td>\n",
              "      <td>...</td>\n",
              "      <td>...</td>\n",
              "      <td>...</td>\n",
              "      <td>...</td>\n",
              "      <td>...</td>\n",
              "      <td>...</td>\n",
              "    </tr>\n",
              "    <tr>\n",
              "      <th>121</th>\n",
              "      <td>2</td>\n",
              "      <td>https://nayoo.co/khonkaen/posts/2180</td>\n",
              "      <td>อาคารพาณิชย์/สำนักงาน</td>\n",
              "      <td>มั่นใจ</td>\n",
              "      <td>5000000</td>\n",
              "      <td>5000000.0</td>\n",
              "      <td>ราคาเสนอขาย 5.0-6.0 ล้านบาท/คูหา</td>\n",
              "      <td>NaN</td>\n",
              "      <td>3 ขายได้ ใช้ระยะเวลา 7 - 12 เดือน</td>\n",
              "      <td>4000000.0</td>\n",
              "      <td>5000000.0</td>\n",
              "      <td>1.250000</td>\n",
              "      <td>1.000000</td>\n",
              "    </tr>\n",
              "    <tr>\n",
              "      <th>109</th>\n",
              "      <td>2</td>\n",
              "      <td>https://nayoo.co/khonkaen/posts/1885</td>\n",
              "      <td>อาคารพาณิชย์/สำนักงาน</td>\n",
              "      <td>มั่นใจ</td>\n",
              "      <td>3500000</td>\n",
              "      <td>3500000.0</td>\n",
              "      <td>ราคาเสนอขาย 3.5-2.7 ล้านบาท/คูหา</td>\n",
              "      <td>NaN</td>\n",
              "      <td>3 ขายได้ ใช้ระยะเวลา 7 - 12 เดือน</td>\n",
              "      <td>3400000.0</td>\n",
              "      <td>3500000.0</td>\n",
              "      <td>1.029412</td>\n",
              "      <td>1.000000</td>\n",
              "    </tr>\n",
              "    <tr>\n",
              "      <th>107</th>\n",
              "      <td>2</td>\n",
              "      <td>https://nayoo.co/khonkaen/posts/1858</td>\n",
              "      <td>อาคารพาณิชย์/สำนักงาน</td>\n",
              "      <td>มั่นใจ</td>\n",
              "      <td>1500000</td>\n",
              "      <td>1500000.0</td>\n",
              "      <td>ราคาเสนอขาย 1.2-1.6 ล้านบาท/คูหา</td>\n",
              "      <td>NaN</td>\n",
              "      <td>3 ขายได้ ใช้ระยะเวลา 7 - 12 เดือน</td>\n",
              "      <td>2000000.0</td>\n",
              "      <td>1500000.0</td>\n",
              "      <td>1.333333</td>\n",
              "      <td>1.000000</td>\n",
              "    </tr>\n",
              "    <tr>\n",
              "      <th>101</th>\n",
              "      <td>2</td>\n",
              "      <td>https://nayoo.co/khonkaen/posts/1614</td>\n",
              "      <td>อาคารพาณิชย์/สำนักงาน</td>\n",
              "      <td>มั่นใจ</td>\n",
              "      <td>2500000</td>\n",
              "      <td>2500000.0</td>\n",
              "      <td>ราคาเสนอขาย 2.5-3.0 ล้านบาท/คูหา</td>\n",
              "      <td>NaN</td>\n",
              "      <td>3 ขายได้ ใช้ระยะเวลา 7 - 12 เดือน</td>\n",
              "      <td>2700000.0</td>\n",
              "      <td>2500000.0</td>\n",
              "      <td>1.080000</td>\n",
              "      <td>1.000000</td>\n",
              "    </tr>\n",
              "    <tr>\n",
              "      <th>127</th>\n",
              "      <td>2</td>\n",
              "      <td>https://nayoo.co/khonkaen/posts/2247</td>\n",
              "      <td>อาคารพาณิชย์/สำนักงาน</td>\n",
              "      <td>มั่นใจ</td>\n",
              "      <td>1900000</td>\n",
              "      <td>1900000.0</td>\n",
              "      <td>ราคาเสนอขาย 1.7-2.0 ล้านบาท/คูหา</td>\n",
              "      <td>NaN</td>\n",
              "      <td>3 ขายได้ ใช้ระยะเวลา 7 - 12 เดือน</td>\n",
              "      <td>2500000.0</td>\n",
              "      <td>1900000.0</td>\n",
              "      <td>1.315789</td>\n",
              "      <td>1.000000</td>\n",
              "    </tr>\n",
              "  </tbody>\n",
              "</table>\n",
              "<p>91 rows × 13 columns</p>\n",
              "</div>\n",
              "      <button class=\"colab-df-convert\" onclick=\"convertToInteractive('df-5ed8435f-453c-4636-a6cd-4a36b10081b1')\"\n",
              "              title=\"Convert this dataframe to an interactive table.\"\n",
              "              style=\"display:none;\">\n",
              "        \n",
              "  <svg xmlns=\"http://www.w3.org/2000/svg\" height=\"24px\"viewBox=\"0 0 24 24\"\n",
              "       width=\"24px\">\n",
              "    <path d=\"M0 0h24v24H0V0z\" fill=\"none\"/>\n",
              "    <path d=\"M18.56 5.44l.94 2.06.94-2.06 2.06-.94-2.06-.94-.94-2.06-.94 2.06-2.06.94zm-11 1L8.5 8.5l.94-2.06 2.06-.94-2.06-.94L8.5 2.5l-.94 2.06-2.06.94zm10 10l.94 2.06.94-2.06 2.06-.94-2.06-.94-.94-2.06-.94 2.06-2.06.94z\"/><path d=\"M17.41 7.96l-1.37-1.37c-.4-.4-.92-.59-1.43-.59-.52 0-1.04.2-1.43.59L10.3 9.45l-7.72 7.72c-.78.78-.78 2.05 0 2.83L4 21.41c.39.39.9.59 1.41.59.51 0 1.02-.2 1.41-.59l7.78-7.78 2.81-2.81c.8-.78.8-2.07 0-2.86zM5.41 20L4 18.59l7.72-7.72 1.47 1.35L5.41 20z\"/>\n",
              "  </svg>\n",
              "      </button>\n",
              "      \n",
              "  <style>\n",
              "    .colab-df-container {\n",
              "      display:flex;\n",
              "      flex-wrap:wrap;\n",
              "      gap: 12px;\n",
              "    }\n",
              "\n",
              "    .colab-df-convert {\n",
              "      background-color: #E8F0FE;\n",
              "      border: none;\n",
              "      border-radius: 50%;\n",
              "      cursor: pointer;\n",
              "      display: none;\n",
              "      fill: #1967D2;\n",
              "      height: 32px;\n",
              "      padding: 0 0 0 0;\n",
              "      width: 32px;\n",
              "    }\n",
              "\n",
              "    .colab-df-convert:hover {\n",
              "      background-color: #E2EBFA;\n",
              "      box-shadow: 0px 1px 2px rgba(60, 64, 67, 0.3), 0px 1px 3px 1px rgba(60, 64, 67, 0.15);\n",
              "      fill: #174EA6;\n",
              "    }\n",
              "\n",
              "    [theme=dark] .colab-df-convert {\n",
              "      background-color: #3B4455;\n",
              "      fill: #D2E3FC;\n",
              "    }\n",
              "\n",
              "    [theme=dark] .colab-df-convert:hover {\n",
              "      background-color: #434B5C;\n",
              "      box-shadow: 0px 1px 3px 1px rgba(0, 0, 0, 0.15);\n",
              "      filter: drop-shadow(0px 1px 2px rgba(0, 0, 0, 0.3));\n",
              "      fill: #FFFFFF;\n",
              "    }\n",
              "  </style>\n",
              "\n",
              "      <script>\n",
              "        const buttonEl =\n",
              "          document.querySelector('#df-5ed8435f-453c-4636-a6cd-4a36b10081b1 button.colab-df-convert');\n",
              "        buttonEl.style.display =\n",
              "          google.colab.kernel.accessAllowed ? 'block' : 'none';\n",
              "\n",
              "        async function convertToInteractive(key) {\n",
              "          const element = document.querySelector('#df-5ed8435f-453c-4636-a6cd-4a36b10081b1');\n",
              "          const dataTable =\n",
              "            await google.colab.kernel.invokeFunction('convertToInteractive',\n",
              "                                                     [key], {});\n",
              "          if (!dataTable) return;\n",
              "\n",
              "          const docLinkHtml = 'Like what you see? Visit the ' +\n",
              "            '<a target=\"_blank\" href=https://colab.research.google.com/notebooks/data_table.ipynb>data table notebook</a>'\n",
              "            + ' to learn more about interactive tables.';\n",
              "          element.innerHTML = '';\n",
              "          dataTable['output_type'] = 'display_data';\n",
              "          await google.colab.output.renderOutput(dataTable, element);\n",
              "          const docLink = document.createElement('div');\n",
              "          docLink.innerHTML = docLinkHtml;\n",
              "          element.appendChild(docLink);\n",
              "        }\n",
              "      </script>\n",
              "    </div>\n",
              "  </div>\n",
              "  "
            ]
          },
          "metadata": {},
          "execution_count": 107
        }
      ]
    },
    {
      "cell_type": "code",
      "source": [],
      "metadata": {
        "id": "AjW6i_oEprbT"
      },
      "execution_count": null,
      "outputs": []
    },
    {
      "cell_type": "markdown",
      "source": [
        "# Visualization"
      ],
      "metadata": {
        "id": "LWaJLK--qQU-"
      }
    },
    {
      "cell_type": "markdown",
      "source": [
        "Box plot/\n",
        "Scatter plot/\n",
        "Plot/\n",
        "Bar chart/\n",
        "Histogram\n",
        "\n",
        "\n"
      ],
      "metadata": {
        "id": "BxamsMKTqcox"
      }
    },
    {
      "cell_type": "code",
      "source": [
        "\n",
        "from matplotlib import pyplot as plt"
      ],
      "metadata": {
        "id": "MdhO7q6iqVg-"
      },
      "execution_count": 110,
      "outputs": []
    },
    {
      "cell_type": "code",
      "source": [
        "%matplotlib inline\n",
        "import matplotlib.pyplot as plt\n",
        "plt.style.use('seaborn-whitegrid')\n",
        "import numpy as np"
      ],
      "metadata": {
        "id": "2NARaaPH3Igj"
      },
      "execution_count": 194,
      "outputs": []
    },
    {
      "cell_type": "code",
      "source": [
        "rng = np.random.RandomState(0)\n",
        "for marker in ['o', '.', ',', 'x', '+', 'v', '^', '<', '>', 's', 'd']:\n",
        "    plt.plot(rng.rand(5), rng.rand(5), marker,\n",
        "             label=\"marker='{0}'\".format(marker))\n",
        "plt.legend(numpoints=1)\n",
        "plt.xlim(0, 1.8);"
      ],
      "metadata": {
        "colab": {
          "base_uri": "https://localhost:8080/",
          "height": 267
        },
        "id": "PkBivfYb3F-_",
        "outputId": "4b56bb61-ce79-48b4-f41b-5f3d0c88c653"
      },
      "execution_count": 193,
      "outputs": [
        {
          "output_type": "display_data",
          "data": {
            "text/plain": [
              "<Figure size 432x288 with 1 Axes>"
            ],
            "image/png": "[encoded data removed]"
          },
          "metadata": {
            "needs_background": "light"
          }
        }
      ]
    },
    {
      "cell_type": "code",
      "source": [
        "from sklearn.datasets import load_iris\n",
        "iris = load_iris()\n",
        "features = iris.data.T\n",
        "\n",
        "plt.scatter(features[0], features[1], alpha=0.2,\n",
        "            s=100*features[3], c=iris.target, cmap='viridis')\n",
        "plt.xlabel(iris.feature_names[0])\n",
        "plt.ylabel(iris.feature_names[1]);"
      ],
      "metadata": {
        "colab": {
          "base_uri": "https://localhost:8080/",
          "height": 278
        },
        "id": "yxjCU86O3Tm7",
        "outputId": "b6b4deba-5627-4ed2-de6a-cf2d32819ca6"
      },
      "execution_count": 197,
      "outputs": [
        {
          "output_type": "display_data",
          "data": {
            "text/plain": [
              "<Figure size 432x288 with 1 Axes>"
            ],
            "image/png": "[encoded data removed]"
          },
          "metadata": {}
        }
      ]
    },
    {
      "cell_type": "code",
      "source": [
        "# import module\n",
        "import numpy as np\n",
        "import matplotlib.pyplot as plt\n",
        "  \n",
        "# initialize x and y coordinates\n",
        "x = [0.1, 0.2, 0.3, 0.4, 0.5]\n",
        "y = [6.2, -8.4, 8.5, 9.2, -6.3]\n",
        "  \n",
        "# set the title of a plot\n",
        "plt.title(\"Connected Scatterplot points with lines\")\n",
        "  \n",
        "# plot scatter plot with x and y data\n",
        "plt.scatter(x, y)\n",
        "  \n",
        "# plot with x and y data\n",
        "plt.plot(x, y)"
      ],
      "metadata": {
        "colab": {
          "base_uri": "https://localhost:8080/",
          "height": 294
        },
        "id": "xtEJKWWx3pAe",
        "outputId": "646e2e09-31c8-42bd-cab7-db15a6a7f118"
      },
      "execution_count": 200,
      "outputs": [
        {
          "output_type": "execute_result",
          "data": {
            "text/plain": [
              "[<matplotlib.lines.Line2D at 0x7fb194bb65b0>]"
            ]
          },
          "metadata": {},
          "execution_count": 200
        },
        {
          "output_type": "display_data",
          "data": {
            "text/plain": [
              "<Figure size 432x288 with 1 Axes>"
            ],
            "image/png": "[encoded data removed]"
          },
          "metadata": {}
        }
      ]
    },
    {
      "cell_type": "code",
      "source": [
        "from matplotlib.pyplot import figure\n",
        "\n",
        "figure(figsize=(8, 6), dpi=80)"
      ],
      "metadata": {
        "colab": {
          "base_uri": "https://localhost:8080/",
          "height": 52
        },
        "id": "1sLg2Lco4XZF",
        "outputId": "3c641ad5-12e5-4989-fd95-e807c2637e27"
      },
      "execution_count": 203,
      "outputs": [
        {
          "output_type": "execute_result",
          "data": {
            "text/plain": [
              "<Figure size 640x480 with 0 Axes>"
            ]
          },
          "metadata": {},
          "execution_count": 203
        },
        {
          "output_type": "display_data",
          "data": {
            "text/plain": [
              "<Figure size 640x480 with 0 Axes>"
            ]
          },
          "metadata": {}
        }
      ]
    },
    {
      "cell_type": "markdown",
      "source": [
        "## บ้าน\n",
        "ราคาประเมิน ราคาทรัพย์ คนประเมิน 1,2"
      ],
      "metadata": {
        "id": "TmAKo_iSrTH-"
      }
    },
    {
      "cell_type": "code",
      "source": [
        "eiei = idhome2[['ราคาทรัพย์','ประเมิน1','ประเมิน2']]\n",
        "eiei.sort_values"
      ],
      "metadata": {
        "colab": {
          "base_uri": "https://localhost:8080/"
        },
        "id": "ysfiy-Ewqm5k",
        "outputId": "7ea744ed-791c-46d6-b2a6-ce9f4d294c5a"
      },
      "execution_count": 154,
      "outputs": [
        {
          "output_type": "execute_result",
          "data": {
            "text/plain": [
              "<bound method DataFrame.sort_values of      ราคาทรัพย์   ประเมิน1   ประเมิน2\n",
              "0       2890000  2500000.0  2700000.0\n",
              "1       2600000  2200000.0  2400000.0\n",
              "2       6050000  5000000.0  9000000.0\n",
              "3       4400000  3500000.0  3700000.0\n",
              "4       2750000  2500000.0  2500000.0\n",
              "..          ...        ...        ...\n",
              "483      260000   550000.0   300000.0\n",
              "484      610000   700000.0   500000.0\n",
              "485      295000   500000.0   300000.0\n",
              "486      615000   600000.0   500000.0\n",
              "487      620000   750000.0   700000.0\n",
              "\n",
              "[488 rows x 3 columns]>"
            ]
          },
          "metadata": {},
          "execution_count": 154
        }
      ]
    },
    {
      "cell_type": "code",
      "source": [
        "eiei['ราคาทรัพย์'].sort_values"
      ],
      "metadata": {
        "colab": {
          "base_uri": "https://localhost:8080/"
        },
        "id": "pzlpjRyH0RFj",
        "outputId": "a1cf584e-cf41-4f13-db4d-eacf42586999"
      },
      "execution_count": 169,
      "outputs": [
        {
          "output_type": "execute_result",
          "data": {
            "text/plain": [
              "<bound method Series.sort_values of 0      2890000\n",
              "1      2600000\n",
              "2      6050000\n",
              "3      4400000\n",
              "4      2750000\n",
              "        ...   \n",
              "483     260000\n",
              "484     610000\n",
              "485     295000\n",
              "486     615000\n",
              "487     620000\n",
              "Name: ราคาทรัพย์, Length: 488, dtype: int64>"
            ]
          },
          "metadata": {},
          "execution_count": 169
        }
      ]
    },
    {
      "cell_type": "code",
      "source": [
        "yoyo = eiei.sort_values(by=['ประเมิน2'],ascending=False)"
      ],
      "metadata": {
        "id": "RrYyc-Yu0mt0"
      },
      "execution_count": 174,
      "outputs": []
    },
    {
      "cell_type": "code",
      "source": [
        "yoyo"
      ],
      "metadata": {
        "colab": {
          "base_uri": "https://localhost:8080/",
          "height": 424
        },
        "id": "B-Conx5O12UY",
        "outputId": "b73437c9-f30f-4240-f565-ba8bfd2d8e0e"
      },
      "execution_count": 175,
      "outputs": [
        {
          "output_type": "execute_result",
          "data": {
            "text/plain": [
              "     ราคาทรัพย์    ประเมิน1    ประเมิน2\n",
              "121     8019000   7900000.0  80000000.0\n",
              "224     2850000   2500000.0  29000000.0\n",
              "381    22500000  22000000.0  22000000.0\n",
              "347    19500000  19000000.0  20000000.0\n",
              "45     20949000  16000000.0  17000000.0\n",
              "..          ...         ...         ...\n",
              "308      465000    900000.0    400000.0\n",
              "281      320000    420000.0    300000.0\n",
              "483      260000    550000.0    300000.0\n",
              "485      295000    500000.0    300000.0\n",
              "303      260000    500000.0    250000.0\n",
              "\n",
              "[488 rows x 3 columns]"
            ],
            "text/html": [
              "\n",
              "  <div id=\"df-1ca441ec-ea15-4d3b-b7a2-df1e49ce8ccb\">\n",
              "    <div class=\"colab-df-container\">\n",
              "      <div>\n",
              "<style scoped>\n",
              "    .dataframe tbody tr th:only-of-type {\n",
              "        vertical-align: middle;\n",
              "    }\n",
              "\n",
              "    .dataframe tbody tr th {\n",
              "        vertical-align: top;\n",
              "    }\n",
              "\n",
              "    .dataframe thead th {\n",
              "        text-align: right;\n",
              "    }\n",
              "</style>\n",
              "<table border=\"1\" class=\"dataframe\">\n",
              "  <thead>\n",
              "    <tr style=\"text-align: right;\">\n",
              "      <th></th>\n",
              "      <th>ราคาทรัพย์</th>\n",
              "      <th>ประเมิน1</th>\n",
              "      <th>ประเมิน2</th>\n",
              "    </tr>\n",
              "  </thead>\n",
              "  <tbody>\n",
              "    <tr>\n",
              "      <th>121</th>\n",
              "      <td>8019000</td>\n",
              "      <td>7900000.0</td>\n",
              "      <td>80000000.0</td>\n",
              "    </tr>\n",
              "    <tr>\n",
              "      <th>224</th>\n",
              "      <td>2850000</td>\n",
              "      <td>2500000.0</td>\n",
              "      <td>29000000.0</td>\n",
              "    </tr>\n",
              "    <tr>\n",
              "      <th>381</th>\n",
              "      <td>22500000</td>\n",
              "      <td>22000000.0</td>\n",
              "      <td>22000000.0</td>\n",
              "    </tr>\n",
              "    <tr>\n",
              "      <th>347</th>\n",
              "      <td>19500000</td>\n",
              "      <td>19000000.0</td>\n",
              "      <td>20000000.0</td>\n",
              "    </tr>\n",
              "    <tr>\n",
              "      <th>45</th>\n",
              "      <td>20949000</td>\n",
              "      <td>16000000.0</td>\n",
              "      <td>17000000.0</td>\n",
              "    </tr>\n",
              "    <tr>\n",
              "      <th>...</th>\n",
              "      <td>...</td>\n",
              "      <td>...</td>\n",
              "      <td>...</td>\n",
              "    </tr>\n",
              "    <tr>\n",
              "      <th>308</th>\n",
              "      <td>465000</td>\n",
              "      <td>900000.0</td>\n",
              "      <td>400000.0</td>\n",
              "    </tr>\n",
              "    <tr>\n",
              "      <th>281</th>\n",
              "      <td>320000</td>\n",
              "      <td>420000.0</td>\n",
              "      <td>300000.0</td>\n",
              "    </tr>\n",
              "    <tr>\n",
              "      <th>483</th>\n",
              "      <td>260000</td>\n",
              "      <td>550000.0</td>\n",
              "      <td>300000.0</td>\n",
              "    </tr>\n",
              "    <tr>\n",
              "      <th>485</th>\n",
              "      <td>295000</td>\n",
              "      <td>500000.0</td>\n",
              "      <td>300000.0</td>\n",
              "    </tr>\n",
              "    <tr>\n",
              "      <th>303</th>\n",
              "      <td>260000</td>\n",
              "      <td>500000.0</td>\n",
              "      <td>250000.0</td>\n",
              "    </tr>\n",
              "  </tbody>\n",
              "</table>\n",
              "<p>488 rows × 3 columns</p>\n",
              "</div>\n",
              "      <button class=\"colab-df-convert\" onclick=\"convertToInteractive('df-1ca441ec-ea15-4d3b-b7a2-df1e49ce8ccb')\"\n",
              "              title=\"Convert this dataframe to an interactive table.\"\n",
              "              style=\"display:none;\">\n",
              "        \n",
              "  <svg xmlns=\"http://www.w3.org/2000/svg\" height=\"24px\"viewBox=\"0 0 24 24\"\n",
              "       width=\"24px\">\n",
              "    <path d=\"M0 0h24v24H0V0z\" fill=\"none\"/>\n",
              "    <path d=\"M18.56 5.44l.94 2.06.94-2.06 2.06-.94-2.06-.94-.94-2.06-.94 2.06-2.06.94zm-11 1L8.5 8.5l.94-2.06 2.06-.94-2.06-.94L8.5 2.5l-.94 2.06-2.06.94zm10 10l.94 2.06.94-2.06 2.06-.94-2.06-.94-.94-2.06-.94 2.06-2.06.94z\"/><path d=\"M17.41 7.96l-1.37-1.37c-.4-.4-.92-.59-1.43-.59-.52 0-1.04.2-1.43.59L10.3 9.45l-7.72 7.72c-.78.78-.78 2.05 0 2.83L4 21.41c.39.39.9.59 1.41.59.51 0 1.02-.2 1.41-.59l7.78-7.78 2.81-2.81c.8-.78.8-2.07 0-2.86zM5.41 20L4 18.59l7.72-7.72 1.47 1.35L5.41 20z\"/>\n",
              "  </svg>\n",
              "      </button>\n",
              "      \n",
              "  <style>\n",
              "    .colab-df-container {\n",
              "      display:flex;\n",
              "      flex-wrap:wrap;\n",
              "      gap: 12px;\n",
              "    }\n",
              "\n",
              "    .colab-df-convert {\n",
              "      background-color: #E8F0FE;\n",
              "      border: none;\n",
              "      border-radius: 50%;\n",
              "      cursor: pointer;\n",
              "      display: none;\n",
              "      fill: #1967D2;\n",
              "      height: 32px;\n",
              "      padding: 0 0 0 0;\n",
              "      width: 32px;\n",
              "    }\n",
              "\n",
              "    .colab-df-convert:hover {\n",
              "      background-color: #E2EBFA;\n",
              "      box-shadow: 0px 1px 2px rgba(60, 64, 67, 0.3), 0px 1px 3px 1px rgba(60, 64, 67, 0.15);\n",
              "      fill: #174EA6;\n",
              "    }\n",
              "\n",
              "    [theme=dark] .colab-df-convert {\n",
              "      background-color: #3B4455;\n",
              "      fill: #D2E3FC;\n",
              "    }\n",
              "\n",
              "    [theme=dark] .colab-df-convert:hover {\n",
              "      background-color: #434B5C;\n",
              "      box-shadow: 0px 1px 3px 1px rgba(0, 0, 0, 0.15);\n",
              "      filter: drop-shadow(0px 1px 2px rgba(0, 0, 0, 0.3));\n",
              "      fill: #FFFFFF;\n",
              "    }\n",
              "  </style>\n",
              "\n",
              "      <script>\n",
              "        const buttonEl =\n",
              "          document.querySelector('#df-1ca441ec-ea15-4d3b-b7a2-df1e49ce8ccb button.colab-df-convert');\n",
              "        buttonEl.style.display =\n",
              "          google.colab.kernel.accessAllowed ? 'block' : 'none';\n",
              "\n",
              "        async function convertToInteractive(key) {\n",
              "          const element = document.querySelector('#df-1ca441ec-ea15-4d3b-b7a2-df1e49ce8ccb');\n",
              "          const dataTable =\n",
              "            await google.colab.kernel.invokeFunction('convertToInteractive',\n",
              "                                                     [key], {});\n",
              "          if (!dataTable) return;\n",
              "\n",
              "          const docLinkHtml = 'Like what you see? Visit the ' +\n",
              "            '<a target=\"_blank\" href=https://colab.research.google.com/notebooks/data_table.ipynb>data table notebook</a>'\n",
              "            + ' to learn more about interactive tables.';\n",
              "          element.innerHTML = '';\n",
              "          dataTable['output_type'] = 'display_data';\n",
              "          await google.colab.output.renderOutput(dataTable, element);\n",
              "          const docLink = document.createElement('div');\n",
              "          docLink.innerHTML = docLinkHtml;\n",
              "          element.appendChild(docLink);\n",
              "        }\n",
              "      </script>\n",
              "    </div>\n",
              "  </div>\n",
              "  "
            ]
          },
          "metadata": {},
          "execution_count": 175
        }
      ]
    },
    {
      "cell_type": "code",
      "source": [
        "yoei = yoyo.iloc[3:,0:]"
      ],
      "metadata": {
        "id": "oVUHHgRSzgTR"
      },
      "execution_count": 185,
      "outputs": []
    },
    {
      "cell_type": "code",
      "source": [
        "pricehome = yoei['ราคาทรัพย์']\n",
        "esthome1 = yoei['ประเมิน1']\n",
        "esthome2 = yoei['ประเมิน2']\n"
      ],
      "metadata": {
        "id": "xboVn2Wkrkyi"
      },
      "execution_count": 186,
      "outputs": []
    },
    {
      "cell_type": "code",
      "source": [
        "pricehome"
      ],
      "metadata": {
        "colab": {
          "base_uri": "https://localhost:8080/"
        },
        "id": "bNvO1tS_2QI2",
        "outputId": "3ba2c5d2-2610-4363-930a-5f2991b1ce3d"
      },
      "execution_count": 187,
      "outputs": [
        {
          "output_type": "execute_result",
          "data": {
            "text/plain": [
              "347    19500000\n",
              "45     20949000\n",
              "193    14356000\n",
              "172    15961000\n",
              "384    12500000\n",
              "         ...   \n",
              "308      465000\n",
              "281      320000\n",
              "483      260000\n",
              "485      295000\n",
              "303      260000\n",
              "Name: ราคาทรัพย์, Length: 485, dtype: int64"
            ]
          },
          "metadata": {},
          "execution_count": 187
        }
      ]
    },
    {
      "cell_type": "code",
      "source": [
        "plt.scatter(esthome1,pricehome, marker='x', color='sandybrown')\n",
        "plt.scatter(esthome2,pricehome, marker='*', color='pink')\n",
        "plt.title('compare',fontsize=18, color='darkseagreen')\n",
        "plt.xlabel('price real',fontsize=12, color='plum')\n",
        "plt.ylabel('price estimate',fontsize=12, color='lightblue')"
      ],
      "metadata": {
        "colab": {
          "base_uri": "https://localhost:8080/",
          "height": 314
        },
        "id": "5inPh4lJsDFy",
        "outputId": "591ab239-71e2-4326-e95b-914cd5cc97be"
      },
      "execution_count": 199,
      "outputs": [
        {
          "output_type": "execute_result",
          "data": {
            "text/plain": [
              "Text(0, 0.5, 'price estimate')"
            ]
          },
          "metadata": {},
          "execution_count": 199
        },
        {
          "output_type": "display_data",
          "data": {
            "text/plain": [
              "<Figure size 432x288 with 1 Axes>"
            ],
            "image/png": "[encoded data removed]"
          },
          "metadata": {}
        }
      ]
    },
    {
      "cell_type": "code",
      "source": [
        "figure(figsize=(10, 8), dpi=100)\n",
        "plt.plot(esthome1,pricehome, marker='x', color='purple')\n",
        "plt.plot(esthome2,pricehome, marker='*', color='limegreen')\n",
        "plt.title('compare',fontsize=18, color='darkseagreen')\n",
        "plt.xlabel('price real',fontsize=12, color='plum')\n",
        "plt.ylabel('price estimate',fontsize=12, color='lightblue')"
      ],
      "metadata": {
        "colab": {
          "base_uri": "https://localhost:8080/",
          "height": 724
        },
        "id": "Y5wUmlGD23JC",
        "outputId": "353390f6-1637-4d70-fbb0-3f851e996f09"
      },
      "execution_count": 213,
      "outputs": [
        {
          "output_type": "execute_result",
          "data": {
            "text/plain": [
              "Text(0, 0.5, 'price estimate')"
            ]
          },
          "metadata": {},
          "execution_count": 213
        },
        {
          "output_type": "display_data",
          "data": {
            "text/plain": [
              "<Figure size 1000x800 with 1 Axes>"
            ],
            "image/png": "[encoded data removed]"
          },
          "metadata": {}
        }
      ]
    },
    {
      "cell_type": "code",
      "source": [],
      "metadata": {
        "id": "_Kroq6i53wX2"
      },
      "execution_count": null,
      "outputs": []
    }
  ]
}