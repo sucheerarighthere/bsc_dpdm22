{
  "nbformat": 4,
  "nbformat_minor": 0,
  "metadata": {
    "colab": {
      "provenance": [],
      "mount_file_id": "15jp2VRjB1oMp4F5FMHTvroxpfZpz73bO",
      "authorship_tag": "ABX9TyPdPJHv3zhzP8Je6GH87TPT",
      "include_colab_link": true
    },
    "kernelspec": {
      "name": "python3",
      "display_name": "Python 3"
    },
    "language_info": {
      "name": "python"
    }
  },
  "cells": [
    {
      "cell_type": "markdown",
      "metadata": {
        "id": "view-in-github",
        "colab_type": "text"
      },
      "source": [
        "<a href=\"https://colab.research.google.com/github/sucheerarighthere/bsc_dpdm22/blob/main/FrequentPatterns(Association%20Rules).ipynb\" target=\"_parent\"><img src=\"https://colab.research.google.com/assets/colab-badge.svg\" alt=\"Open In Colab\"/></a>"
      ]
    },
    {
      "cell_type": "code",
      "execution_count": 10,
      "metadata": {
        "id": "hBI79RlWDpbG"
      },
      "outputs": [],
      "source": [
        "import pandas as pd\n",
        "import os"
      ]
    },
    {
      "cell_type": "code",
      "source": [
        "from google.colab import drive\n",
        "drive.mount('/content/drive')\n",
        "path ='/content/drive/MyDrive/bsc_DPDM_data'"
      ],
      "metadata": {
        "colab": {
          "base_uri": "https://localhost:8080/"
        },
        "id": "WkZY1UwnD2P1",
        "outputId": "a1d562af-988f-4f6a-a958-5f3a4389d552"
      },
      "execution_count": 16,
      "outputs": [
        {
          "output_type": "stream",
          "name": "stdout",
          "text": [
            "Drive already mounted at /content/drive; to attempt to forcibly remount, call drive.mount(\"/content/drive\", force_remount=True).\n"
          ]
        }
      ]
    },
    {
      "cell_type": "code",
      "source": [
        "data=pd.read_csv(os.path.join(path,'reduced_marketbasket.csv'),encoding='latin-1') #เพือให้โค้ดรันได้หลานที่ window/linux / encoding มีภาษาเพิ่มเติมฝรั่งเศสเลยต้องเรียกภาษาละตินเพื่อให้โปรแกรมโหลดขึ้นมาได้"
      ],
      "metadata": {
        "id": "m6ou5PoPEBB-"
      },
      "execution_count": 19,
      "outputs": []
    },
    {
      "cell_type": "code",
      "source": [
        "data #ถ้าเราดูประเทศ uk,france มีกี่ประเทศ\n",
        "     "
      ],
      "metadata": {
        "colab": {
          "base_uri": "https://localhost:8080/",
          "height": 423
        },
        "id": "-WM8cnB9EU4D",
        "outputId": "fb7884fc-ed97-4b38-8d39-ac11023a1fea"
      },
      "execution_count": 20,
      "outputs": [
        {
          "output_type": "execute_result",
          "data": {
            "text/plain": [
              "       InvoiceNo StockCode                          Description  Quantity  \\\n",
              "0         536365    85123A   WHITE HANGING HEART T-LIGHT HOLDER         6   \n",
              "1         536365     71053                  WHITE METAL LANTERN         6   \n",
              "2         536365    84406B       CREAM CUPID HEARTS COAT HANGER         8   \n",
              "3         536365    84029G  KNITTED UNION FLAG HOT WATER BOTTLE         6   \n",
              "4         536365    84029E       RED WOOLLY HOTTIE WHITE HEART.         6   \n",
              "...          ...       ...                                  ...       ...   \n",
              "541904    581587     22613          PACK OF 20 SPACEBOY NAPKINS        12   \n",
              "541905    581587     22899         CHILDREN'S APRON DOLLY GIRL          6   \n",
              "541906    581587     23254        CHILDRENS CUTLERY DOLLY GIRL          4   \n",
              "541907    581587     23255      CHILDRENS CUTLERY CIRCUS PARADE         4   \n",
              "541908    581587     22138        BAKING SET 9 PIECE RETROSPOT          3   \n",
              "\n",
              "             InvoiceDate  UnitPrice  CustomerID         Country  \n",
              "0       12/01/2010 08:26       2.55     17850.0  United Kingdom  \n",
              "1       12/01/2010 08:26       3.39     17850.0  United Kingdom  \n",
              "2       12/01/2010 08:26       2.75     17850.0  United Kingdom  \n",
              "3       12/01/2010 08:26       3.39     17850.0  United Kingdom  \n",
              "4       12/01/2010 08:26       3.39     17850.0  United Kingdom  \n",
              "...                  ...        ...         ...             ...  \n",
              "541904  12/09/2011 12:50       0.85     12680.0          France  \n",
              "541905  12/09/2011 12:50       2.10     12680.0          France  \n",
              "541906  12/09/2011 12:50       4.15     12680.0          France  \n",
              "541907  12/09/2011 12:50       4.15     12680.0          France  \n",
              "541908  12/09/2011 12:50       4.95     12680.0          France  \n",
              "\n",
              "[541909 rows x 8 columns]"
            ],
            "text/html": [
              "\n",
              "  <div id=\"df-ee70d782-2ee2-4637-b7b4-3e7be626614f\">\n",
              "    <div class=\"colab-df-container\">\n",
              "      <div>\n",
              "<style scoped>\n",
              "    .dataframe tbody tr th:only-of-type {\n",
              "        vertical-align: middle;\n",
              "    }\n",
              "\n",
              "    .dataframe tbody tr th {\n",
              "        vertical-align: top;\n",
              "    }\n",
              "\n",
              "    .dataframe thead th {\n",
              "        text-align: right;\n",
              "    }\n",
              "</style>\n",
              "<table border=\"1\" class=\"dataframe\">\n",
              "  <thead>\n",
              "    <tr style=\"text-align: right;\">\n",
              "      <th></th>\n",
              "      <th>InvoiceNo</th>\n",
              "      <th>StockCode</th>\n",
              "      <th>Description</th>\n",
              "      <th>Quantity</th>\n",
              "      <th>InvoiceDate</th>\n",
              "      <th>UnitPrice</th>\n",
              "      <th>CustomerID</th>\n",
              "      <th>Country</th>\n",
              "    </tr>\n",
              "  </thead>\n",
              "  <tbody>\n",
              "    <tr>\n",
              "      <th>0</th>\n",
              "      <td>536365</td>\n",
              "      <td>85123A</td>\n",
              "      <td>WHITE HANGING HEART T-LIGHT HOLDER</td>\n",
              "      <td>6</td>\n",
              "      <td>12/01/2010 08:26</td>\n",
              "      <td>2.55</td>\n",
              "      <td>17850.0</td>\n",
              "      <td>United Kingdom</td>\n",
              "    </tr>\n",
              "    <tr>\n",
              "      <th>1</th>\n",
              "      <td>536365</td>\n",
              "      <td>71053</td>\n",
              "      <td>WHITE METAL LANTERN</td>\n",
              "      <td>6</td>\n",
              "      <td>12/01/2010 08:26</td>\n",
              "      <td>3.39</td>\n",
              "      <td>17850.0</td>\n",
              "      <td>United Kingdom</td>\n",
              "    </tr>\n",
              "    <tr>\n",
              "      <th>2</th>\n",
              "      <td>536365</td>\n",
              "      <td>84406B</td>\n",
              "      <td>CREAM CUPID HEARTS COAT HANGER</td>\n",
              "      <td>8</td>\n",
              "      <td>12/01/2010 08:26</td>\n",
              "      <td>2.75</td>\n",
              "      <td>17850.0</td>\n",
              "      <td>United Kingdom</td>\n",
              "    </tr>\n",
              "    <tr>\n",
              "      <th>3</th>\n",
              "      <td>536365</td>\n",
              "      <td>84029G</td>\n",
              "      <td>KNITTED UNION FLAG HOT WATER BOTTLE</td>\n",
              "      <td>6</td>\n",
              "      <td>12/01/2010 08:26</td>\n",
              "      <td>3.39</td>\n",
              "      <td>17850.0</td>\n",
              "      <td>United Kingdom</td>\n",
              "    </tr>\n",
              "    <tr>\n",
              "      <th>4</th>\n",
              "      <td>536365</td>\n",
              "      <td>84029E</td>\n",
              "      <td>RED WOOLLY HOTTIE WHITE HEART.</td>\n",
              "      <td>6</td>\n",
              "      <td>12/01/2010 08:26</td>\n",
              "      <td>3.39</td>\n",
              "      <td>17850.0</td>\n",
              "      <td>United Kingdom</td>\n",
              "    </tr>\n",
              "    <tr>\n",
              "      <th>...</th>\n",
              "      <td>...</td>\n",
              "      <td>...</td>\n",
              "      <td>...</td>\n",
              "      <td>...</td>\n",
              "      <td>...</td>\n",
              "      <td>...</td>\n",
              "      <td>...</td>\n",
              "      <td>...</td>\n",
              "    </tr>\n",
              "    <tr>\n",
              "      <th>541904</th>\n",
              "      <td>581587</td>\n",
              "      <td>22613</td>\n",
              "      <td>PACK OF 20 SPACEBOY NAPKINS</td>\n",
              "      <td>12</td>\n",
              "      <td>12/09/2011 12:50</td>\n",
              "      <td>0.85</td>\n",
              "      <td>12680.0</td>\n",
              "      <td>France</td>\n",
              "    </tr>\n",
              "    <tr>\n",
              "      <th>541905</th>\n",
              "      <td>581587</td>\n",
              "      <td>22899</td>\n",
              "      <td>CHILDREN'S APRON DOLLY GIRL</td>\n",
              "      <td>6</td>\n",
              "      <td>12/09/2011 12:50</td>\n",
              "      <td>2.10</td>\n",
              "      <td>12680.0</td>\n",
              "      <td>France</td>\n",
              "    </tr>\n",
              "    <tr>\n",
              "      <th>541906</th>\n",
              "      <td>581587</td>\n",
              "      <td>23254</td>\n",
              "      <td>CHILDRENS CUTLERY DOLLY GIRL</td>\n",
              "      <td>4</td>\n",
              "      <td>12/09/2011 12:50</td>\n",
              "      <td>4.15</td>\n",
              "      <td>12680.0</td>\n",
              "      <td>France</td>\n",
              "    </tr>\n",
              "    <tr>\n",
              "      <th>541907</th>\n",
              "      <td>581587</td>\n",
              "      <td>23255</td>\n",
              "      <td>CHILDRENS CUTLERY CIRCUS PARADE</td>\n",
              "      <td>4</td>\n",
              "      <td>12/09/2011 12:50</td>\n",
              "      <td>4.15</td>\n",
              "      <td>12680.0</td>\n",
              "      <td>France</td>\n",
              "    </tr>\n",
              "    <tr>\n",
              "      <th>541908</th>\n",
              "      <td>581587</td>\n",
              "      <td>22138</td>\n",
              "      <td>BAKING SET 9 PIECE RETROSPOT</td>\n",
              "      <td>3</td>\n",
              "      <td>12/09/2011 12:50</td>\n",
              "      <td>4.95</td>\n",
              "      <td>12680.0</td>\n",
              "      <td>France</td>\n",
              "    </tr>\n",
              "  </tbody>\n",
              "</table>\n",
              "<p>541909 rows × 8 columns</p>\n",
              "</div>\n",
              "      <button class=\"colab-df-convert\" onclick=\"convertToInteractive('df-ee70d782-2ee2-4637-b7b4-3e7be626614f')\"\n",
              "              title=\"Convert this dataframe to an interactive table.\"\n",
              "              style=\"display:none;\">\n",
              "        \n",
              "  <svg xmlns=\"http://www.w3.org/2000/svg\" height=\"24px\"viewBox=\"0 0 24 24\"\n",
              "       width=\"24px\">\n",
              "    <path d=\"M0 0h24v24H0V0z\" fill=\"none\"/>\n",
              "    <path d=\"M18.56 5.44l.94 2.06.94-2.06 2.06-.94-2.06-.94-.94-2.06-.94 2.06-2.06.94zm-11 1L8.5 8.5l.94-2.06 2.06-.94-2.06-.94L8.5 2.5l-.94 2.06-2.06.94zm10 10l.94 2.06.94-2.06 2.06-.94-2.06-.94-.94-2.06-.94 2.06-2.06.94z\"/><path d=\"M17.41 7.96l-1.37-1.37c-.4-.4-.92-.59-1.43-.59-.52 0-1.04.2-1.43.59L10.3 9.45l-7.72 7.72c-.78.78-.78 2.05 0 2.83L4 21.41c.39.39.9.59 1.41.59.51 0 1.02-.2 1.41-.59l7.78-7.78 2.81-2.81c.8-.78.8-2.07 0-2.86zM5.41 20L4 18.59l7.72-7.72 1.47 1.35L5.41 20z\"/>\n",
              "  </svg>\n",
              "      </button>\n",
              "      \n",
              "  <style>\n",
              "    .colab-df-container {\n",
              "      display:flex;\n",
              "      flex-wrap:wrap;\n",
              "      gap: 12px;\n",
              "    }\n",
              "\n",
              "    .colab-df-convert {\n",
              "      background-color: #E8F0FE;\n",
              "      border: none;\n",
              "      border-radius: 50%;\n",
              "      cursor: pointer;\n",
              "      display: none;\n",
              "      fill: #1967D2;\n",
              "      height: 32px;\n",
              "      padding: 0 0 0 0;\n",
              "      width: 32px;\n",
              "    }\n",
              "\n",
              "    .colab-df-convert:hover {\n",
              "      background-color: #E2EBFA;\n",
              "      box-shadow: 0px 1px 2px rgba(60, 64, 67, 0.3), 0px 1px 3px 1px rgba(60, 64, 67, 0.15);\n",
              "      fill: #174EA6;\n",
              "    }\n",
              "\n",
              "    [theme=dark] .colab-df-convert {\n",
              "      background-color: #3B4455;\n",
              "      fill: #D2E3FC;\n",
              "    }\n",
              "\n",
              "    [theme=dark] .colab-df-convert:hover {\n",
              "      background-color: #434B5C;\n",
              "      box-shadow: 0px 1px 3px 1px rgba(0, 0, 0, 0.15);\n",
              "      filter: drop-shadow(0px 1px 2px rgba(0, 0, 0, 0.3));\n",
              "      fill: #FFFFFF;\n",
              "    }\n",
              "  </style>\n",
              "\n",
              "      <script>\n",
              "        const buttonEl =\n",
              "          document.querySelector('#df-ee70d782-2ee2-4637-b7b4-3e7be626614f button.colab-df-convert');\n",
              "        buttonEl.style.display =\n",
              "          google.colab.kernel.accessAllowed ? 'block' : 'none';\n",
              "\n",
              "        async function convertToInteractive(key) {\n",
              "          const element = document.querySelector('#df-ee70d782-2ee2-4637-b7b4-3e7be626614f');\n",
              "          const dataTable =\n",
              "            await google.colab.kernel.invokeFunction('convertToInteractive',\n",
              "                                                     [key], {});\n",
              "          if (!dataTable) return;\n",
              "\n",
              "          const docLinkHtml = 'Like what you see? Visit the ' +\n",
              "            '<a target=\"_blank\" href=https://colab.research.google.com/notebooks/data_table.ipynb>data table notebook</a>'\n",
              "            + ' to learn more about interactive tables.';\n",
              "          element.innerHTML = '';\n",
              "          dataTable['output_type'] = 'display_data';\n",
              "          await google.colab.output.renderOutput(dataTable, element);\n",
              "          const docLink = document.createElement('div');\n",
              "          docLink.innerHTML = docLinkHtml;\n",
              "          element.appendChild(docLink);\n",
              "        }\n",
              "      </script>\n",
              "    </div>\n",
              "  </div>\n",
              "  "
            ]
          },
          "metadata": {},
          "execution_count": 20
        }
      ]
    },
    {
      "cell_type": "code",
      "source": [
        "#frequency\n",
        "freq = data[['Country']]\n",
        "freq.value_counts()"
      ],
      "metadata": {
        "colab": {
          "base_uri": "https://localhost:8080/"
        },
        "id": "7rQmjMQ4IeFx",
        "outputId": "4353296f-6c5d-49e2-a0c4-9aa5baa7841d"
      },
      "execution_count": 31,
      "outputs": [
        {
          "output_type": "execute_result",
          "data": {
            "text/plain": [
              "Country             \n",
              "United Kingdom          495478\n",
              "Germany                   9495\n",
              "France                    8557\n",
              "EIRE                      8196\n",
              "Spain                     2533\n",
              "Netherlands               2371\n",
              "Belgium                   2069\n",
              "Switzerland               2002\n",
              "Portugal                  1519\n",
              "Australia                 1259\n",
              "Norway                    1086\n",
              "Italy                      803\n",
              "Channel Islands            758\n",
              "Finland                    695\n",
              "Cyprus                     622\n",
              "Sweden                     462\n",
              "Unspecified                446\n",
              "Austria                    401\n",
              "Denmark                    389\n",
              "Japan                      358\n",
              "Poland                     341\n",
              "Israel                     297\n",
              "USA                        291\n",
              "Hong Kong                  288\n",
              "Singapore                  229\n",
              "Iceland                    182\n",
              "Canada                     151\n",
              "Greece                     146\n",
              "Malta                      127\n",
              "United Arab Emirates        68\n",
              "European Community          61\n",
              "RSA                         58\n",
              "Lebanon                     45\n",
              "Lithuania                   35\n",
              "Brazil                      32\n",
              "Czech Republic              30\n",
              "Bahrain                     19\n",
              "Saudi Arabia                10\n",
              "dtype: int64"
            ]
          },
          "metadata": {},
          "execution_count": 31
        }
      ]
    },
    {
      "cell_type": "code",
      "source": [],
      "metadata": {
        "colab": {
          "base_uri": "https://localhost:8080/"
        },
        "id": "K0E-Y6oHIlpP",
        "outputId": "297f58a6-e493-47e7-e279-a952b87cc268"
      },
      "execution_count": 32,
      "outputs": [
        {
          "output_type": "execute_result",
          "data": {
            "text/plain": [
              "Country    541909\n",
              "dtype: int64"
            ]
          },
          "metadata": {},
          "execution_count": 32
        }
      ]
    },
    {
      "cell_type": "code",
      "source": [
        "##groupby transaction >>> invoceno(trans ID) >>ชื่อสินค้าอาจซ้ำกันได้ use stock code\n",
        "\n",
        "data.groupby('InvoiceNo')['StockCode'].apply(list) #create list for prepare ถ้าต้องการเสิร์ชหา ตัวอย่างอันนี้คือแอพพลายให้มันสร้างลิสต์ตามที่เีราต้องการ "
      ],
      "metadata": {
        "colab": {
          "base_uri": "https://localhost:8080/"
        },
        "id": "5ZbGOpXcGAGs",
        "outputId": "d1af9c6c-6204-4041-8a54-09cc7143c4a0"
      },
      "execution_count": 21,
      "outputs": [
        {
          "output_type": "execute_result",
          "data": {
            "text/plain": [
              "InvoiceNo\n",
              "536365     [85123A, 71053, 84406B, 84029G, 84029E, 22752,...\n",
              "536366                                        [22633, 22632]\n",
              "536367     [84879, 22745, 22748, 22749, 22310, 84969, 226...\n",
              "536368                          [22960, 22913, 22912, 22914]\n",
              "536369                                               [21756]\n",
              "                                 ...                        \n",
              "C581484                                              [23843]\n",
              "C581490                                       [22178, 23144]\n",
              "C581499                                                  [M]\n",
              "C581568                                              [21258]\n",
              "C581569                                       [84978, 20979]\n",
              "Name: StockCode, Length: 25900, dtype: object"
            ]
          },
          "metadata": {},
          "execution_count": 21
        }
      ]
    },
    {
      "cell_type": "code",
      "source": [
        "#สร้างตัวแปรมารับ transaction"
      ],
      "metadata": {
        "id": "ihkFrkeTGi-N"
      },
      "execution_count": null,
      "outputs": []
    },
    {
      "cell_type": "markdown",
      "source": [
        "## ask "
      ],
      "metadata": {
        "id": "Y2ikwjc3FnZb"
      }
    }
  ]
}