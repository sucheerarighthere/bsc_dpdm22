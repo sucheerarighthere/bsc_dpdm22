{
  "nbformat": 4,
  "nbformat_minor": 0,
  "metadata": {
    "colab": {
      "provenance": [],
      "mount_file_id": "15jp2VRjB1oMp4F5FMHTvroxpfZpz73bO",
      "authorship_tag": "ABX9TyO0gUJIQ8wjjjfNInpYgmw8",
      "include_colab_link": true
    },
    "kernelspec": {
      "name": "python3",
      "display_name": "Python 3"
    },
    "language_info": {
      "name": "python"
    }
  },
  "cells": [
    {
      "cell_type": "markdown",
      "metadata": {
        "id": "view-in-github",
        "colab_type": "text"
      },
      "source": [
        "<a href=\"https://colab.research.google.com/github/sucheerarighthere/bsc_dpdm22/blob/main/FrequentPatterns(Association%20Rules).ipynb\" target=\"_parent\"><img src=\"https://colab.research.google.com/assets/colab-badge.svg\" alt=\"Open In Colab\"/></a>"
      ]
    },
    {
      "cell_type": "code",
      "execution_count": 19,
      "metadata": {
        "id": "hBI79RlWDpbG"
      },
      "outputs": [],
      "source": [
        "import pandas as pd\n",
        "import os"
      ]
    },
    {
      "cell_type": "code",
      "source": [
        "from google.colab import drive\n",
        "drive.mount('/content/drive')\n",
        "path ='/content/drive/MyDrive/bsc_DPDM_data'"
      ],
      "metadata": {
        "colab": {
          "base_uri": "https://localhost:8080/"
        },
        "id": "WkZY1UwnD2P1",
        "outputId": "e5088f9f-acf3-49f1-d6c5-a722c2595ac2"
      },
      "execution_count": 20,
      "outputs": [
        {
          "output_type": "stream",
          "name": "stdout",
          "text": [
            "Drive already mounted at /content/drive; to attempt to forcibly remount, call drive.mount(\"/content/drive\", force_remount=True).\n"
          ]
        }
      ]
    },
    {
      "cell_type": "code",
      "source": [
        "data=pd.read_csv(os.path.join(path,'reduced_marketbasket.csv'),encoding='latin-1') #เพือให้โค้ดรันได้หลานที่ window/linux / encoding มีภาษาเพิ่มเติมฝรั่งเศสเลยต้องเรียกภาษาละตินเพื่อให้โปรแกรมโหลดขึ้นมาได้"
      ],
      "metadata": {
        "id": "m6ou5PoPEBB-"
      },
      "execution_count": 21,
      "outputs": []
    },
    {
      "cell_type": "code",
      "source": [
        "data #ถ้าเราดูประเทศ uk,france มีกี่ประเทศ\n",
        "     "
      ],
      "metadata": {
        "colab": {
          "base_uri": "https://localhost:8080/",
          "height": 423
        },
        "id": "-WM8cnB9EU4D",
        "outputId": "7002208b-da9f-442a-9e00-0db87d66297e"
      },
      "execution_count": 22,
      "outputs": [
        {
          "output_type": "execute_result",
          "data": {
            "text/plain": [
              "       InvoiceNo StockCode                          Description  Quantity  \\\n",
              "0         536365    85123A   WHITE HANGING HEART T-LIGHT HOLDER         6   \n",
              "1         536365     71053                  WHITE METAL LANTERN         6   \n",
              "2         536365    84406B       CREAM CUPID HEARTS COAT HANGER         8   \n",
              "3         536365    84029G  KNITTED UNION FLAG HOT WATER BOTTLE         6   \n",
              "4         536365    84029E       RED WOOLLY HOTTIE WHITE HEART.         6   \n",
              "...          ...       ...                                  ...       ...   \n",
              "541904    581587     22613          PACK OF 20 SPACEBOY NAPKINS        12   \n",
              "541905    581587     22899         CHILDREN'S APRON DOLLY GIRL          6   \n",
              "541906    581587     23254        CHILDRENS CUTLERY DOLLY GIRL          4   \n",
              "541907    581587     23255      CHILDRENS CUTLERY CIRCUS PARADE         4   \n",
              "541908    581587     22138        BAKING SET 9 PIECE RETROSPOT          3   \n",
              "\n",
              "             InvoiceDate  UnitPrice  CustomerID         Country  \n",
              "0       12/01/2010 08:26       2.55     17850.0  United Kingdom  \n",
              "1       12/01/2010 08:26       3.39     17850.0  United Kingdom  \n",
              "2       12/01/2010 08:26       2.75     17850.0  United Kingdom  \n",
              "3       12/01/2010 08:26       3.39     17850.0  United Kingdom  \n",
              "4       12/01/2010 08:26       3.39     17850.0  United Kingdom  \n",
              "...                  ...        ...         ...             ...  \n",
              "541904  12/09/2011 12:50       0.85     12680.0          France  \n",
              "541905  12/09/2011 12:50       2.10     12680.0          France  \n",
              "541906  12/09/2011 12:50       4.15     12680.0          France  \n",
              "541907  12/09/2011 12:50       4.15     12680.0          France  \n",
              "541908  12/09/2011 12:50       4.95     12680.0          France  \n",
              "\n",
              "[541909 rows x 8 columns]"
            ],
            "text/html": [
              "\n",
              "  <div id=\"df-851fb434-f2b5-4d1e-b12b-6ef0758fa78a\">\n",
              "    <div class=\"colab-df-container\">\n",
              "      <div>\n",
              "<style scoped>\n",
              "    .dataframe tbody tr th:only-of-type {\n",
              "        vertical-align: middle;\n",
              "    }\n",
              "\n",
              "    .dataframe tbody tr th {\n",
              "        vertical-align: top;\n",
              "    }\n",
              "\n",
              "    .dataframe thead th {\n",
              "        text-align: right;\n",
              "    }\n",
              "</style>\n",
              "<table border=\"1\" class=\"dataframe\">\n",
              "  <thead>\n",
              "    <tr style=\"text-align: right;\">\n",
              "      <th></th>\n",
              "      <th>InvoiceNo</th>\n",
              "      <th>StockCode</th>\n",
              "      <th>Description</th>\n",
              "      <th>Quantity</th>\n",
              "      <th>InvoiceDate</th>\n",
              "      <th>UnitPrice</th>\n",
              "      <th>CustomerID</th>\n",
              "      <th>Country</th>\n",
              "    </tr>\n",
              "  </thead>\n",
              "  <tbody>\n",
              "    <tr>\n",
              "      <th>0</th>\n",
              "      <td>536365</td>\n",
              "      <td>85123A</td>\n",
              "      <td>WHITE HANGING HEART T-LIGHT HOLDER</td>\n",
              "      <td>6</td>\n",
              "      <td>12/01/2010 08:26</td>\n",
              "      <td>2.55</td>\n",
              "      <td>17850.0</td>\n",
              "      <td>United Kingdom</td>\n",
              "    </tr>\n",
              "    <tr>\n",
              "      <th>1</th>\n",
              "      <td>536365</td>\n",
              "      <td>71053</td>\n",
              "      <td>WHITE METAL LANTERN</td>\n",
              "      <td>6</td>\n",
              "      <td>12/01/2010 08:26</td>\n",
              "      <td>3.39</td>\n",
              "      <td>17850.0</td>\n",
              "      <td>United Kingdom</td>\n",
              "    </tr>\n",
              "    <tr>\n",
              "      <th>2</th>\n",
              "      <td>536365</td>\n",
              "      <td>84406B</td>\n",
              "      <td>CREAM CUPID HEARTS COAT HANGER</td>\n",
              "      <td>8</td>\n",
              "      <td>12/01/2010 08:26</td>\n",
              "      <td>2.75</td>\n",
              "      <td>17850.0</td>\n",
              "      <td>United Kingdom</td>\n",
              "    </tr>\n",
              "    <tr>\n",
              "      <th>3</th>\n",
              "      <td>536365</td>\n",
              "      <td>84029G</td>\n",
              "      <td>KNITTED UNION FLAG HOT WATER BOTTLE</td>\n",
              "      <td>6</td>\n",
              "      <td>12/01/2010 08:26</td>\n",
              "      <td>3.39</td>\n",
              "      <td>17850.0</td>\n",
              "      <td>United Kingdom</td>\n",
              "    </tr>\n",
              "    <tr>\n",
              "      <th>4</th>\n",
              "      <td>536365</td>\n",
              "      <td>84029E</td>\n",
              "      <td>RED WOOLLY HOTTIE WHITE HEART.</td>\n",
              "      <td>6</td>\n",
              "      <td>12/01/2010 08:26</td>\n",
              "      <td>3.39</td>\n",
              "      <td>17850.0</td>\n",
              "      <td>United Kingdom</td>\n",
              "    </tr>\n",
              "    <tr>\n",
              "      <th>...</th>\n",
              "      <td>...</td>\n",
              "      <td>...</td>\n",
              "      <td>...</td>\n",
              "      <td>...</td>\n",
              "      <td>...</td>\n",
              "      <td>...</td>\n",
              "      <td>...</td>\n",
              "      <td>...</td>\n",
              "    </tr>\n",
              "    <tr>\n",
              "      <th>541904</th>\n",
              "      <td>581587</td>\n",
              "      <td>22613</td>\n",
              "      <td>PACK OF 20 SPACEBOY NAPKINS</td>\n",
              "      <td>12</td>\n",
              "      <td>12/09/2011 12:50</td>\n",
              "      <td>0.85</td>\n",
              "      <td>12680.0</td>\n",
              "      <td>France</td>\n",
              "    </tr>\n",
              "    <tr>\n",
              "      <th>541905</th>\n",
              "      <td>581587</td>\n",
              "      <td>22899</td>\n",
              "      <td>CHILDREN'S APRON DOLLY GIRL</td>\n",
              "      <td>6</td>\n",
              "      <td>12/09/2011 12:50</td>\n",
              "      <td>2.10</td>\n",
              "      <td>12680.0</td>\n",
              "      <td>France</td>\n",
              "    </tr>\n",
              "    <tr>\n",
              "      <th>541906</th>\n",
              "      <td>581587</td>\n",
              "      <td>23254</td>\n",
              "      <td>CHILDRENS CUTLERY DOLLY GIRL</td>\n",
              "      <td>4</td>\n",
              "      <td>12/09/2011 12:50</td>\n",
              "      <td>4.15</td>\n",
              "      <td>12680.0</td>\n",
              "      <td>France</td>\n",
              "    </tr>\n",
              "    <tr>\n",
              "      <th>541907</th>\n",
              "      <td>581587</td>\n",
              "      <td>23255</td>\n",
              "      <td>CHILDRENS CUTLERY CIRCUS PARADE</td>\n",
              "      <td>4</td>\n",
              "      <td>12/09/2011 12:50</td>\n",
              "      <td>4.15</td>\n",
              "      <td>12680.0</td>\n",
              "      <td>France</td>\n",
              "    </tr>\n",
              "    <tr>\n",
              "      <th>541908</th>\n",
              "      <td>581587</td>\n",
              "      <td>22138</td>\n",
              "      <td>BAKING SET 9 PIECE RETROSPOT</td>\n",
              "      <td>3</td>\n",
              "      <td>12/09/2011 12:50</td>\n",
              "      <td>4.95</td>\n",
              "      <td>12680.0</td>\n",
              "      <td>France</td>\n",
              "    </tr>\n",
              "  </tbody>\n",
              "</table>\n",
              "<p>541909 rows × 8 columns</p>\n",
              "</div>\n",
              "      <button class=\"colab-df-convert\" onclick=\"convertToInteractive('df-851fb434-f2b5-4d1e-b12b-6ef0758fa78a')\"\n",
              "              title=\"Convert this dataframe to an interactive table.\"\n",
              "              style=\"display:none;\">\n",
              "        \n",
              "  <svg xmlns=\"http://www.w3.org/2000/svg\" height=\"24px\"viewBox=\"0 0 24 24\"\n",
              "       width=\"24px\">\n",
              "    <path d=\"M0 0h24v24H0V0z\" fill=\"none\"/>\n",
              "    <path d=\"M18.56 5.44l.94 2.06.94-2.06 2.06-.94-2.06-.94-.94-2.06-.94 2.06-2.06.94zm-11 1L8.5 8.5l.94-2.06 2.06-.94-2.06-.94L8.5 2.5l-.94 2.06-2.06.94zm10 10l.94 2.06.94-2.06 2.06-.94-2.06-.94-.94-2.06-.94 2.06-2.06.94z\"/><path d=\"M17.41 7.96l-1.37-1.37c-.4-.4-.92-.59-1.43-.59-.52 0-1.04.2-1.43.59L10.3 9.45l-7.72 7.72c-.78.78-.78 2.05 0 2.83L4 21.41c.39.39.9.59 1.41.59.51 0 1.02-.2 1.41-.59l7.78-7.78 2.81-2.81c.8-.78.8-2.07 0-2.86zM5.41 20L4 18.59l7.72-7.72 1.47 1.35L5.41 20z\"/>\n",
              "  </svg>\n",
              "      </button>\n",
              "      \n",
              "  <style>\n",
              "    .colab-df-container {\n",
              "      display:flex;\n",
              "      flex-wrap:wrap;\n",
              "      gap: 12px;\n",
              "    }\n",
              "\n",
              "    .colab-df-convert {\n",
              "      background-color: #E8F0FE;\n",
              "      border: none;\n",
              "      border-radius: 50%;\n",
              "      cursor: pointer;\n",
              "      display: none;\n",
              "      fill: #1967D2;\n",
              "      height: 32px;\n",
              "      padding: 0 0 0 0;\n",
              "      width: 32px;\n",
              "    }\n",
              "\n",
              "    .colab-df-convert:hover {\n",
              "      background-color: #E2EBFA;\n",
              "      box-shadow: 0px 1px 2px rgba(60, 64, 67, 0.3), 0px 1px 3px 1px rgba(60, 64, 67, 0.15);\n",
              "      fill: #174EA6;\n",
              "    }\n",
              "\n",
              "    [theme=dark] .colab-df-convert {\n",
              "      background-color: #3B4455;\n",
              "      fill: #D2E3FC;\n",
              "    }\n",
              "\n",
              "    [theme=dark] .colab-df-convert:hover {\n",
              "      background-color: #434B5C;\n",
              "      box-shadow: 0px 1px 3px 1px rgba(0, 0, 0, 0.15);\n",
              "      filter: drop-shadow(0px 1px 2px rgba(0, 0, 0, 0.3));\n",
              "      fill: #FFFFFF;\n",
              "    }\n",
              "  </style>\n",
              "\n",
              "      <script>\n",
              "        const buttonEl =\n",
              "          document.querySelector('#df-851fb434-f2b5-4d1e-b12b-6ef0758fa78a button.colab-df-convert');\n",
              "        buttonEl.style.display =\n",
              "          google.colab.kernel.accessAllowed ? 'block' : 'none';\n",
              "\n",
              "        async function convertToInteractive(key) {\n",
              "          const element = document.querySelector('#df-851fb434-f2b5-4d1e-b12b-6ef0758fa78a');\n",
              "          const dataTable =\n",
              "            await google.colab.kernel.invokeFunction('convertToInteractive',\n",
              "                                                     [key], {});\n",
              "          if (!dataTable) return;\n",
              "\n",
              "          const docLinkHtml = 'Like what you see? Visit the ' +\n",
              "            '<a target=\"_blank\" href=https://colab.research.google.com/notebooks/data_table.ipynb>data table notebook</a>'\n",
              "            + ' to learn more about interactive tables.';\n",
              "          element.innerHTML = '';\n",
              "          dataTable['output_type'] = 'display_data';\n",
              "          await google.colab.output.renderOutput(dataTable, element);\n",
              "          const docLink = document.createElement('div');\n",
              "          docLink.innerHTML = docLinkHtml;\n",
              "          element.appendChild(docLink);\n",
              "        }\n",
              "      </script>\n",
              "    </div>\n",
              "  </div>\n",
              "  "
            ]
          },
          "metadata": {},
          "execution_count": 22
        }
      ]
    },
    {
      "cell_type": "code",
      "source": [
        "#frequency\n",
        "freq = data[['Country']]\n",
        "freq.value_counts()"
      ],
      "metadata": {
        "colab": {
          "base_uri": "https://localhost:8080/"
        },
        "id": "7rQmjMQ4IeFx",
        "outputId": "c678ec48-592f-4b2e-e81e-b898a814a381"
      },
      "execution_count": 23,
      "outputs": [
        {
          "output_type": "execute_result",
          "data": {
            "text/plain": [
              "Country             \n",
              "United Kingdom          495478\n",
              "Germany                   9495\n",
              "France                    8557\n",
              "EIRE                      8196\n",
              "Spain                     2533\n",
              "Netherlands               2371\n",
              "Belgium                   2069\n",
              "Switzerland               2002\n",
              "Portugal                  1519\n",
              "Australia                 1259\n",
              "Norway                    1086\n",
              "Italy                      803\n",
              "Channel Islands            758\n",
              "Finland                    695\n",
              "Cyprus                     622\n",
              "Sweden                     462\n",
              "Unspecified                446\n",
              "Austria                    401\n",
              "Denmark                    389\n",
              "Japan                      358\n",
              "Poland                     341\n",
              "Israel                     297\n",
              "USA                        291\n",
              "Hong Kong                  288\n",
              "Singapore                  229\n",
              "Iceland                    182\n",
              "Canada                     151\n",
              "Greece                     146\n",
              "Malta                      127\n",
              "United Arab Emirates        68\n",
              "European Community          61\n",
              "RSA                         58\n",
              "Lebanon                     45\n",
              "Lithuania                   35\n",
              "Brazil                      32\n",
              "Czech Republic              30\n",
              "Bahrain                     19\n",
              "Saudi Arabia                10\n",
              "dtype: int64"
            ]
          },
          "metadata": {},
          "execution_count": 23
        }
      ]
    },
    {
      "cell_type": "code",
      "source": [],
      "metadata": {
        "id": "K0E-Y6oHIlpP"
      },
      "execution_count": 23,
      "outputs": []
    },
    {
      "cell_type": "code",
      "source": [
        "##groupby transaction >>> invoceno(trans ID) >>ชื่อสินค้าอาจซ้ำกันได้ use stock code\n",
        "\n",
        "data.groupby('InvoiceNo')['StockCode'].apply(list) #create list for prepare ถ้าต้องการเสิร์ชหา ตัวอย่างอันนี้คือแอพพลายให้มันสร้างลิสต์ตามที่เีราต้องการ "
      ],
      "metadata": {
        "colab": {
          "base_uri": "https://localhost:8080/"
        },
        "id": "5ZbGOpXcGAGs",
        "outputId": "3bf9c2ec-6f15-43bb-b435-9baef11c50df"
      },
      "execution_count": 24,
      "outputs": [
        {
          "output_type": "execute_result",
          "data": {
            "text/plain": [
              "InvoiceNo\n",
              "536365     [85123A, 71053, 84406B, 84029G, 84029E, 22752,...\n",
              "536366                                        [22633, 22632]\n",
              "536367     [84879, 22745, 22748, 22749, 22310, 84969, 226...\n",
              "536368                          [22960, 22913, 22912, 22914]\n",
              "536369                                               [21756]\n",
              "                                 ...                        \n",
              "C581484                                              [23843]\n",
              "C581490                                       [22178, 23144]\n",
              "C581499                                                  [M]\n",
              "C581568                                              [21258]\n",
              "C581569                                       [84978, 20979]\n",
              "Name: StockCode, Length: 25900, dtype: object"
            ]
          },
          "metadata": {},
          "execution_count": 24
        }
      ]
    },
    {
      "cell_type": "code",
      "source": [
        "#สร้างตัวแปรมารับ transaction"
      ],
      "metadata": {
        "id": "ihkFrkeTGi-N"
      },
      "execution_count": 25,
      "outputs": []
    },
    {
      "cell_type": "markdown",
      "source": [
        "##in class 10march"
      ],
      "metadata": {
        "id": "U_U5MGYfl3TE"
      }
    },
    {
      "cell_type": "code",
      "source": [
        "transactions = data.groupby('InvoiceNo')['StockCode'].apply(list)"
      ],
      "metadata": {
        "id": "3FBWQmDhlQi2"
      },
      "execution_count": 31,
      "outputs": []
    },
    {
      "cell_type": "code",
      "source": [
        "pip install apyori\n"
      ],
      "metadata": {
        "colab": {
          "base_uri": "https://localhost:8080/"
        },
        "id": "_nLLDOi4hEMh",
        "outputId": "91f13439-d38b-4883-dc47-a9a59d56ddcd"
      },
      "execution_count": 32,
      "outputs": [
        {
          "output_type": "stream",
          "name": "stdout",
          "text": [
            "Looking in indexes: https://pypi.org/simple, https://us-python.pkg.dev/colab-wheels/public/simple/\n",
            "Requirement already satisfied: apyori in /usr/local/lib/python3.9/dist-packages (1.1.2)\n"
          ]
        }
      ]
    },
    {
      "cell_type": "code",
      "source": [
        "from apyori import apriori"
      ],
      "metadata": {
        "id": "6KqhYGMhhLOJ"
      },
      "execution_count": 27,
      "outputs": []
    },
    {
      "cell_type": "code",
      "source": [
        "apriori\n"
      ],
      "metadata": {
        "colab": {
          "base_uri": "https://localhost:8080/"
        },
        "id": "ObpGJetkkbS7",
        "outputId": "3584daf6-95a5-4aea-952b-8b3fea60ae1d"
      },
      "execution_count": 28,
      "outputs": [
        {
          "output_type": "execute_result",
          "data": {
            "text/plain": [
              "<function apyori.apriori(transactions, **kwargs)>"
            ]
          },
          "metadata": {},
          "execution_count": 28
        }
      ]
    },
    {
      "cell_type": "code",
      "source": [
        "frequentItemsets = list(apriori(transactions,min_support = 0.03)) #มีtransactionทั้งหมดเกิน3% \n",
        "frequentItemsets #แต้ละ itemset จะนำโดยRelationRecord"
      ],
      "metadata": {
        "colab": {
          "base_uri": "https://localhost:8080/"
        },
        "id": "KMCK2BnBhewv",
        "outputId": "915ae387-2dd1-4fd4-ccbc-de0c220faba3"
      },
      "execution_count": 34,
      "outputs": [
        {
          "output_type": "execute_result",
          "data": {
            "text/plain": [
              "[RelationRecord(items=frozenset({'20712'}), support=0.033667953667953665, ordered_statistics=[OrderedStatistic(items_base=frozenset(), items_add=frozenset({'20712'}), confidence=0.033667953667953665, lift=1.0)]),\n",
              " RelationRecord(items=frozenset({'20719'}), support=0.03254826254826255, ordered_statistics=[OrderedStatistic(items_base=frozenset(), items_add=frozenset({'20719'}), confidence=0.03254826254826255, lift=1.0)]),\n",
              " RelationRecord(items=frozenset({'20724'}), support=0.04054054054054054, ordered_statistics=[OrderedStatistic(items_base=frozenset(), items_add=frozenset({'20724'}), confidence=0.04054054054054054, lift=1.0)]),\n",
              " RelationRecord(items=frozenset({'20725'}), support=0.062084942084942085, ordered_statistics=[OrderedStatistic(items_base=frozenset(), items_add=frozenset({'20725'}), confidence=0.062084942084942085, lift=1.0)]),\n",
              " RelationRecord(items=frozenset({'20726'}), support=0.04003861003861004, ordered_statistics=[OrderedStatistic(items_base=frozenset(), items_add=frozenset({'20726'}), confidence=0.04003861003861004, lift=1.0)]),\n",
              " RelationRecord(items=frozenset({'20727'}), support=0.05, ordered_statistics=[OrderedStatistic(items_base=frozenset(), items_add=frozenset({'20727'}), confidence=0.05, lift=1.0)]),\n",
              " RelationRecord(items=frozenset({'20728'}), support=0.04528957528957529, ordered_statistics=[OrderedStatistic(items_base=frozenset(), items_add=frozenset({'20728'}), confidence=0.04528957528957529, lift=1.0)]),\n",
              " RelationRecord(items=frozenset({'20914'}), support=0.03528957528957529, ordered_statistics=[OrderedStatistic(items_base=frozenset(), items_add=frozenset({'20914'}), confidence=0.03528957528957529, lift=1.0)]),\n",
              " RelationRecord(items=frozenset({'21034'}), support=0.033745173745173745, ordered_statistics=[OrderedStatistic(items_base=frozenset(), items_add=frozenset({'21034'}), confidence=0.033745173745173745, lift=1.0)]),\n",
              " RelationRecord(items=frozenset({'21080'}), support=0.03814671814671815, ordered_statistics=[OrderedStatistic(items_base=frozenset(), items_add=frozenset({'21080'}), confidence=0.03814671814671815, lift=1.0)]),\n",
              " RelationRecord(items=frozenset({'21175'}), support=0.031544401544401544, ordered_statistics=[OrderedStatistic(items_base=frozenset(), items_add=frozenset({'21175'}), confidence=0.031544401544401544, lift=1.0)]),\n",
              " RelationRecord(items=frozenset({'21181'}), support=0.033281853281853284, ordered_statistics=[OrderedStatistic(items_base=frozenset(), items_add=frozenset({'21181'}), confidence=0.033281853281853284, lift=1.0)]),\n",
              " RelationRecord(items=frozenset({'21212'}), support=0.05150579150579151, ordered_statistics=[OrderedStatistic(items_base=frozenset(), items_add=frozenset({'21212'}), confidence=0.05150579150579151, lift=1.0)]),\n",
              " RelationRecord(items=frozenset({'21232'}), support=0.03428571428571429, ordered_statistics=[OrderedStatistic(items_base=frozenset(), items_add=frozenset({'21232'}), confidence=0.03428571428571429, lift=1.0)]),\n",
              " RelationRecord(items=frozenset({'21731'}), support=0.033243243243243244, ordered_statistics=[OrderedStatistic(items_base=frozenset(), items_add=frozenset({'21731'}), confidence=0.033243243243243244, lift=1.0)]),\n",
              " RelationRecord(items=frozenset({'21754'}), support=0.030386100386100387, ordered_statistics=[OrderedStatistic(items_base=frozenset(), items_add=frozenset({'21754'}), confidence=0.030386100386100387, lift=1.0)]),\n",
              " RelationRecord(items=frozenset({'21790'}), support=0.035868725868725866, ordered_statistics=[OrderedStatistic(items_base=frozenset(), items_add=frozenset({'21790'}), confidence=0.035868725868725866, lift=1.0)]),\n",
              " RelationRecord(items=frozenset({'21928'}), support=0.031505791505791504, ordered_statistics=[OrderedStatistic(items_base=frozenset(), items_add=frozenset({'21928'}), confidence=0.031505791505791504, lift=1.0)]),\n",
              " RelationRecord(items=frozenset({'21929'}), support=0.03386100386100386, ordered_statistics=[OrderedStatistic(items_base=frozenset(), items_add=frozenset({'21929'}), confidence=0.03386100386100386, lift=1.0)]),\n",
              " RelationRecord(items=frozenset({'21931'}), support=0.04637065637065637, ordered_statistics=[OrderedStatistic(items_base=frozenset(), items_add=frozenset({'21931'}), confidence=0.04637065637065637, lift=1.0)]),\n",
              " RelationRecord(items=frozenset({'21977'}), support=0.033783783783783786, ordered_statistics=[OrderedStatistic(items_base=frozenset(), items_add=frozenset({'21977'}), confidence=0.033783783783783786, lift=1.0)]),\n",
              " RelationRecord(items=frozenset({'22077'}), support=0.037104247104247104, ordered_statistics=[OrderedStatistic(items_base=frozenset(), items_add=frozenset({'22077'}), confidence=0.037104247104247104, lift=1.0)]),\n",
              " RelationRecord(items=frozenset({'22086'}), support=0.04517374517374517, ordered_statistics=[OrderedStatistic(items_base=frozenset(), items_add=frozenset({'22086'}), confidence=0.04517374517374517, lift=1.0)]),\n",
              " RelationRecord(items=frozenset({'22090'}), support=0.03111969111969112, ordered_statistics=[OrderedStatistic(items_base=frozenset(), items_add=frozenset({'22090'}), confidence=0.03111969111969112, lift=1.0)]),\n",
              " RelationRecord(items=frozenset({'22111'}), support=0.03003861003861004, ordered_statistics=[OrderedStatistic(items_base=frozenset(), items_add=frozenset({'22111'}), confidence=0.03003861003861004, lift=1.0)]),\n",
              " RelationRecord(items=frozenset({'22112'}), support=0.03343629343629344, ordered_statistics=[OrderedStatistic(items_base=frozenset(), items_add=frozenset({'22112'}), confidence=0.03343629343629344, lift=1.0)]),\n",
              " RelationRecord(items=frozenset({'22138'}), support=0.037104247104247104, ordered_statistics=[OrderedStatistic(items_base=frozenset(), items_add=frozenset({'22138'}), confidence=0.037104247104247104, lift=1.0)]),\n",
              " RelationRecord(items=frozenset({'22139'}), support=0.037953667953667954, ordered_statistics=[OrderedStatistic(items_base=frozenset(), items_add=frozenset({'22139'}), confidence=0.037953667953667954, lift=1.0)]),\n",
              " RelationRecord(items=frozenset({'22178'}), support=0.041003861003861004, ordered_statistics=[OrderedStatistic(items_base=frozenset(), items_add=frozenset({'22178'}), confidence=0.041003861003861004, lift=1.0)]),\n",
              " RelationRecord(items=frozenset({'22197'}), support=0.055675675675675676, ordered_statistics=[OrderedStatistic(items_base=frozenset(), items_add=frozenset({'22197'}), confidence=0.055675675675675676, lift=1.0)]),\n",
              " RelationRecord(items=frozenset({'22355'}), support=0.034555984555984555, ordered_statistics=[OrderedStatistic(items_base=frozenset(), items_add=frozenset({'22355'}), confidence=0.034555984555984555, lift=1.0)]),\n",
              " RelationRecord(items=frozenset({'22382'}), support=0.04517374517374517, ordered_statistics=[OrderedStatistic(items_base=frozenset(), items_add=frozenset({'22382'}), confidence=0.04517374517374517, lift=1.0)]),\n",
              " RelationRecord(items=frozenset({'22383'}), support=0.050424710424710424, ordered_statistics=[OrderedStatistic(items_base=frozenset(), items_add=frozenset({'22383'}), confidence=0.050424710424710424, lift=1.0)]),\n",
              " RelationRecord(items=frozenset({'22384'}), support=0.04285714285714286, ordered_statistics=[OrderedStatistic(items_base=frozenset(), items_add=frozenset({'22384'}), confidence=0.04285714285714286, lift=1.0)]),\n",
              " RelationRecord(items=frozenset({'22386'}), support=0.04752895752895753, ordered_statistics=[OrderedStatistic(items_base=frozenset(), items_add=frozenset({'22386'}), confidence=0.04752895752895753, lift=1.0)]),\n",
              " RelationRecord(items=frozenset({'22411'}), support=0.04583011583011583, ordered_statistics=[OrderedStatistic(items_base=frozenset(), items_add=frozenset({'22411'}), confidence=0.04583011583011583, lift=1.0)]),\n",
              " RelationRecord(items=frozenset({'22423'}), support=0.08386100386100385, ordered_statistics=[OrderedStatistic(items_base=frozenset(), items_add=frozenset({'22423'}), confidence=0.08386100386100385, lift=1.0)]),\n",
              " RelationRecord(items=frozenset({'22457'}), support=0.04888030888030888, ordered_statistics=[OrderedStatistic(items_base=frozenset(), items_add=frozenset({'22457'}), confidence=0.04888030888030888, lift=1.0)]),\n",
              " RelationRecord(items=frozenset({'22469'}), support=0.04687258687258687, ordered_statistics=[OrderedStatistic(items_base=frozenset(), items_add=frozenset({'22469'}), confidence=0.04687258687258687, lift=1.0)]),\n",
              " RelationRecord(items=frozenset({'22470'}), support=0.03644787644787645, ordered_statistics=[OrderedStatistic(items_base=frozenset(), items_add=frozenset({'22470'}), confidence=0.03644787644787645, lift=1.0)]),\n",
              " RelationRecord(items=frozenset({'22558'}), support=0.030231660231660233, ordered_statistics=[OrderedStatistic(items_base=frozenset(), items_add=frozenset({'22558'}), confidence=0.030231660231660233, lift=1.0)]),\n",
              " RelationRecord(items=frozenset({'22629'}), support=0.03505791505791506, ordered_statistics=[OrderedStatistic(items_base=frozenset(), items_add=frozenset({'22629'}), confidence=0.03505791505791506, lift=1.0)]),\n",
              " RelationRecord(items=frozenset({'22630'}), support=0.033204633204633204, ordered_statistics=[OrderedStatistic(items_base=frozenset(), items_add=frozenset({'22630'}), confidence=0.033204633204633204, lift=1.0)]),\n",
              " RelationRecord(items=frozenset({'22666'}), support=0.044942084942084945, ordered_statistics=[OrderedStatistic(items_base=frozenset(), items_add=frozenset({'22666'}), confidence=0.044942084942084945, lift=1.0)]),\n",
              " RelationRecord(items=frozenset({'22697'}), support=0.04081081081081081, ordered_statistics=[OrderedStatistic(items_base=frozenset(), items_add=frozenset({'22697'}), confidence=0.04081081081081081, lift=1.0)]),\n",
              " RelationRecord(items=frozenset({'22698'}), support=0.030965250965250966, ordered_statistics=[OrderedStatistic(items_base=frozenset(), items_add=frozenset({'22698'}), confidence=0.030965250965250966, lift=1.0)]),\n",
              " RelationRecord(items=frozenset({'22699'}), support=0.043243243243243246, ordered_statistics=[OrderedStatistic(items_base=frozenset(), items_add=frozenset({'22699'}), confidence=0.043243243243243246, lift=1.0)]),\n",
              " RelationRecord(items=frozenset({'22720'}), support=0.056447876447876445, ordered_statistics=[OrderedStatistic(items_base=frozenset(), items_add=frozenset({'22720'}), confidence=0.056447876447876445, lift=1.0)]),\n",
              " RelationRecord(items=frozenset({'22722'}), support=0.03274131274131274, ordered_statistics=[OrderedStatistic(items_base=frozenset(), items_add=frozenset({'22722'}), confidence=0.03274131274131274, lift=1.0)]),\n",
              " RelationRecord(items=frozenset({'22726'}), support=0.03872586872586872, ordered_statistics=[OrderedStatistic(items_base=frozenset(), items_add=frozenset({'22726'}), confidence=0.03872586872586872, lift=1.0)]),\n",
              " RelationRecord(items=frozenset({'22727'}), support=0.04173745173745174, ordered_statistics=[OrderedStatistic(items_base=frozenset(), items_add=frozenset({'22727'}), confidence=0.04173745173745174, lift=1.0)]),\n",
              " RelationRecord(items=frozenset({'22728'}), support=0.03084942084942085, ordered_statistics=[OrderedStatistic(items_base=frozenset(), items_add=frozenset({'22728'}), confidence=0.03084942084942085, lift=1.0)]),\n",
              " RelationRecord(items=frozenset({'22910'}), support=0.032123552123552127, ordered_statistics=[OrderedStatistic(items_base=frozenset(), items_add=frozenset({'22910'}), confidence=0.032123552123552127, lift=1.0)]),\n",
              " RelationRecord(items=frozenset({'22960'}), support=0.047104247104247106, ordered_statistics=[OrderedStatistic(items_base=frozenset(), items_add=frozenset({'22960'}), confidence=0.047104247104247106, lift=1.0)]),\n",
              " RelationRecord(items=frozenset({'22961'}), support=0.045328185328185326, ordered_statistics=[OrderedStatistic(items_base=frozenset(), items_add=frozenset({'22961'}), confidence=0.045328185328185326, lift=1.0)]),\n",
              " RelationRecord(items=frozenset({'22993'}), support=0.041776061776061774, ordered_statistics=[OrderedStatistic(items_base=frozenset(), items_add=frozenset({'22993'}), confidence=0.041776061776061774, lift=1.0)]),\n",
              " RelationRecord(items=frozenset({'23084'}), support=0.03957528957528957, ordered_statistics=[OrderedStatistic(items_base=frozenset(), items_add=frozenset({'23084'}), confidence=0.03957528957528957, lift=1.0)]),\n",
              " RelationRecord(items=frozenset({'23199'}), support=0.03857142857142857, ordered_statistics=[OrderedStatistic(items_base=frozenset(), items_add=frozenset({'23199'}), confidence=0.03857142857142857, lift=1.0)]),\n",
              " RelationRecord(items=frozenset({'23201'}), support=0.03552123552123552, ordered_statistics=[OrderedStatistic(items_base=frozenset(), items_add=frozenset({'23201'}), confidence=0.03552123552123552, lift=1.0)]),\n",
              " RelationRecord(items=frozenset({'23202'}), support=0.03420849420849421, ordered_statistics=[OrderedStatistic(items_base=frozenset(), items_add=frozenset({'23202'}), confidence=0.03420849420849421, lift=1.0)]),\n",
              " RelationRecord(items=frozenset({'23203'}), support=0.04822393822393822, ordered_statistics=[OrderedStatistic(items_base=frozenset(), items_add=frozenset({'23203'}), confidence=0.04822393822393822, lift=1.0)]),\n",
              " RelationRecord(items=frozenset({'23206'}), support=0.0405019305019305, ordered_statistics=[OrderedStatistic(items_base=frozenset(), items_add=frozenset({'23206'}), confidence=0.0405019305019305, lift=1.0)]),\n",
              " RelationRecord(items=frozenset({'23209'}), support=0.04285714285714286, ordered_statistics=[OrderedStatistic(items_base=frozenset(), items_add=frozenset({'23209'}), confidence=0.04285714285714286, lift=1.0)]),\n",
              " RelationRecord(items=frozenset({'23245'}), support=0.03513513513513514, ordered_statistics=[OrderedStatistic(items_base=frozenset(), items_add=frozenset({'23245'}), confidence=0.03513513513513514, lift=1.0)]),\n",
              " RelationRecord(items=frozenset({'23298'}), support=0.04474903474903475, ordered_statistics=[OrderedStatistic(items_base=frozenset(), items_add=frozenset({'23298'}), confidence=0.04474903474903475, lift=1.0)]),\n",
              " RelationRecord(items=frozenset({'23301'}), support=0.03567567567567568, ordered_statistics=[OrderedStatistic(items_base=frozenset(), items_add=frozenset({'23301'}), confidence=0.03567567567567568, lift=1.0)]),\n",
              " RelationRecord(items=frozenset({'23355'}), support=0.0305019305019305, ordered_statistics=[OrderedStatistic(items_base=frozenset(), items_add=frozenset({'23355'}), confidence=0.0305019305019305, lift=1.0)]),\n",
              " RelationRecord(items=frozenset({'47566'}), support=0.06586872586872587, ordered_statistics=[OrderedStatistic(items_base=frozenset(), items_add=frozenset({'47566'}), confidence=0.06586872586872587, lift=1.0)]),\n",
              " RelationRecord(items=frozenset({'82482'}), support=0.043166023166023165, ordered_statistics=[OrderedStatistic(items_base=frozenset(), items_add=frozenset({'82482'}), confidence=0.043166023166023165, lift=1.0)]),\n",
              " RelationRecord(items=frozenset({'82494L'}), support=0.03594594594594595, ordered_statistics=[OrderedStatistic(items_base=frozenset(), items_add=frozenset({'82494L'}), confidence=0.03594594594594595, lift=1.0)]),\n",
              " RelationRecord(items=frozenset({'84879'}), support=0.05667953667953668, ordered_statistics=[OrderedStatistic(items_base=frozenset(), items_add=frozenset({'84879'}), confidence=0.05667953667953668, lift=1.0)]),\n",
              " RelationRecord(items=frozenset({'84946'}), support=0.03598455598455599, ordered_statistics=[OrderedStatistic(items_base=frozenset(), items_add=frozenset({'84946'}), confidence=0.03598455598455599, lift=1.0)]),\n",
              " RelationRecord(items=frozenset({'84991'}), support=0.03227799227799228, ordered_statistics=[OrderedStatistic(items_base=frozenset(), items_add=frozenset({'84991'}), confidence=0.03227799227799228, lift=1.0)]),\n",
              " RelationRecord(items=frozenset({'85099B'}), support=0.08243243243243244, ordered_statistics=[OrderedStatistic(items_base=frozenset(), items_add=frozenset({'85099B'}), confidence=0.08243243243243244, lift=1.0)]),\n",
              " RelationRecord(items=frozenset({'85099C'}), support=0.03656370656370656, ordered_statistics=[OrderedStatistic(items_base=frozenset(), items_add=frozenset({'85099C'}), confidence=0.03656370656370656, lift=1.0)]),\n",
              " RelationRecord(items=frozenset({'85099F'}), support=0.032046332046332046, ordered_statistics=[OrderedStatistic(items_base=frozenset(), items_add=frozenset({'85099F'}), confidence=0.032046332046332046, lift=1.0)]),\n",
              " RelationRecord(items=frozenset({'85123A'}), support=0.08671814671814672, ordered_statistics=[OrderedStatistic(items_base=frozenset(), items_add=frozenset({'85123A'}), confidence=0.08671814671814672, lift=1.0)]),\n",
              " RelationRecord(items=frozenset({'POST'}), support=0.04841698841698842, ordered_statistics=[OrderedStatistic(items_base=frozenset(), items_add=frozenset({'POST'}), confidence=0.04841698841698842, lift=1.0)]),\n",
              " RelationRecord(items=frozenset({'22386', '85099B'}), support=0.03216216216216216, ordered_statistics=[OrderedStatistic(items_base=frozenset(), items_add=frozenset({'22386', '85099B'}), confidence=0.03216216216216216, lift=1.0), OrderedStatistic(items_base=frozenset({'22386'}), items_add=frozenset({'85099B'}), confidence=0.6766856214459789, lift=8.20897311262335), OrderedStatistic(items_base=frozenset({'85099B'}), items_add=frozenset({'22386'}), confidence=0.39016393442622943, lift=8.20897311262335)]),\n",
              " RelationRecord(items=frozenset({'22699', '22697'}), support=0.03027027027027027, ordered_statistics=[OrderedStatistic(items_base=frozenset(), items_add=frozenset({'22699', '22697'}), confidence=0.03027027027027027, lift=1.0), OrderedStatistic(items_base=frozenset({'22697'}), items_add=frozenset({'22699'}), confidence=0.7417218543046358, lift=17.1523178807947), OrderedStatistic(items_base=frozenset({'22699'}), items_add=frozenset({'22697'}), confidence=0.7, lift=17.1523178807947)])]"
            ]
          },
          "metadata": {},
          "execution_count": 34
        }
      ]
    },
    {
      "cell_type": "code",
      "source": [
        "data[data['StockCode'] =='85123A']"
      ],
      "metadata": {
        "colab": {
          "base_uri": "https://localhost:8080/",
          "height": 423
        },
        "id": "bHxqnzl7h_iJ",
        "outputId": "25b4335b-fcef-45cc-83a2-a3f5c5abc599"
      },
      "execution_count": 36,
      "outputs": [
        {
          "output_type": "execute_result",
          "data": {
            "text/plain": [
              "       InvoiceNo StockCode                         Description  Quantity  \\\n",
              "0         536365    85123A  WHITE HANGING HEART T-LIGHT HOLDER         6   \n",
              "49        536373    85123A  WHITE HANGING HEART T-LIGHT HOLDER         6   \n",
              "66        536375    85123A  WHITE HANGING HEART T-LIGHT HOLDER         6   \n",
              "220       536390    85123A  WHITE HANGING HEART T-LIGHT HOLDER        64   \n",
              "262       536394    85123A  WHITE HANGING HEART T-LIGHT HOLDER        32   \n",
              "...          ...       ...                                 ...       ...   \n",
              "539342    581439    85123A  CREAM HANGING HEART T-LIGHT HOLDER         1   \n",
              "539979    581452    85123A  WHITE HANGING HEART T-LIGHT HOLDER        32   \n",
              "540217    581472    85123A  WHITE HANGING HEART T-LIGHT HOLDER         6   \n",
              "540837    581492    85123A  CREAM HANGING HEART T-LIGHT HOLDER         3   \n",
              "541639    581538    85123A  CREAM HANGING HEART T-LIGHT HOLDER         1   \n",
              "\n",
              "             InvoiceDate  UnitPrice  CustomerID         Country  \n",
              "0       12/01/2010 08:26       2.55     17850.0  United Kingdom  \n",
              "49      12/01/2010 09:02       2.55     17850.0  United Kingdom  \n",
              "66      12/01/2010 09:32       2.55     17850.0  United Kingdom  \n",
              "220     12/01/2010 10:19       2.55     17511.0  United Kingdom  \n",
              "262     12/01/2010 10:39       2.55     13408.0  United Kingdom  \n",
              "...                  ...        ...         ...             ...  \n",
              "539342  12/08/2011 16:30       5.79         NaN  United Kingdom  \n",
              "539979  12/08/2011 18:03       2.55     17675.0  United Kingdom  \n",
              "540217  12/08/2011 19:55       2.95     15796.0  United Kingdom  \n",
              "540837  12/09/2011 10:03       5.79         NaN  United Kingdom  \n",
              "541639  12/09/2011 11:34       2.95     14446.0  United Kingdom  \n",
              "\n",
              "[2313 rows x 8 columns]"
            ],
            "text/html": [
              "\n",
              "  <div id=\"df-5b52c88e-ba18-4450-aa2a-fccbcbc81875\">\n",
              "    <div class=\"colab-df-container\">\n",
              "      <div>\n",
              "<style scoped>\n",
              "    .dataframe tbody tr th:only-of-type {\n",
              "        vertical-align: middle;\n",
              "    }\n",
              "\n",
              "    .dataframe tbody tr th {\n",
              "        vertical-align: top;\n",
              "    }\n",
              "\n",
              "    .dataframe thead th {\n",
              "        text-align: right;\n",
              "    }\n",
              "</style>\n",
              "<table border=\"1\" class=\"dataframe\">\n",
              "  <thead>\n",
              "    <tr style=\"text-align: right;\">\n",
              "      <th></th>\n",
              "      <th>InvoiceNo</th>\n",
              "      <th>StockCode</th>\n",
              "      <th>Description</th>\n",
              "      <th>Quantity</th>\n",
              "      <th>InvoiceDate</th>\n",
              "      <th>UnitPrice</th>\n",
              "      <th>CustomerID</th>\n",
              "      <th>Country</th>\n",
              "    </tr>\n",
              "  </thead>\n",
              "  <tbody>\n",
              "    <tr>\n",
              "      <th>0</th>\n",
              "      <td>536365</td>\n",
              "      <td>85123A</td>\n",
              "      <td>WHITE HANGING HEART T-LIGHT HOLDER</td>\n",
              "      <td>6</td>\n",
              "      <td>12/01/2010 08:26</td>\n",
              "      <td>2.55</td>\n",
              "      <td>17850.0</td>\n",
              "      <td>United Kingdom</td>\n",
              "    </tr>\n",
              "    <tr>\n",
              "      <th>49</th>\n",
              "      <td>536373</td>\n",
              "      <td>85123A</td>\n",
              "      <td>WHITE HANGING HEART T-LIGHT HOLDER</td>\n",
              "      <td>6</td>\n",
              "      <td>12/01/2010 09:02</td>\n",
              "      <td>2.55</td>\n",
              "      <td>17850.0</td>\n",
              "      <td>United Kingdom</td>\n",
              "    </tr>\n",
              "    <tr>\n",
              "      <th>66</th>\n",
              "      <td>536375</td>\n",
              "      <td>85123A</td>\n",
              "      <td>WHITE HANGING HEART T-LIGHT HOLDER</td>\n",
              "      <td>6</td>\n",
              "      <td>12/01/2010 09:32</td>\n",
              "      <td>2.55</td>\n",
              "      <td>17850.0</td>\n",
              "      <td>United Kingdom</td>\n",
              "    </tr>\n",
              "    <tr>\n",
              "      <th>220</th>\n",
              "      <td>536390</td>\n",
              "      <td>85123A</td>\n",
              "      <td>WHITE HANGING HEART T-LIGHT HOLDER</td>\n",
              "      <td>64</td>\n",
              "      <td>12/01/2010 10:19</td>\n",
              "      <td>2.55</td>\n",
              "      <td>17511.0</td>\n",
              "      <td>United Kingdom</td>\n",
              "    </tr>\n",
              "    <tr>\n",
              "      <th>262</th>\n",
              "      <td>536394</td>\n",
              "      <td>85123A</td>\n",
              "      <td>WHITE HANGING HEART T-LIGHT HOLDER</td>\n",
              "      <td>32</td>\n",
              "      <td>12/01/2010 10:39</td>\n",
              "      <td>2.55</td>\n",
              "      <td>13408.0</td>\n",
              "      <td>United Kingdom</td>\n",
              "    </tr>\n",
              "    <tr>\n",
              "      <th>...</th>\n",
              "      <td>...</td>\n",
              "      <td>...</td>\n",
              "      <td>...</td>\n",
              "      <td>...</td>\n",
              "      <td>...</td>\n",
              "      <td>...</td>\n",
              "      <td>...</td>\n",
              "      <td>...</td>\n",
              "    </tr>\n",
              "    <tr>\n",
              "      <th>539342</th>\n",
              "      <td>581439</td>\n",
              "      <td>85123A</td>\n",
              "      <td>CREAM HANGING HEART T-LIGHT HOLDER</td>\n",
              "      <td>1</td>\n",
              "      <td>12/08/2011 16:30</td>\n",
              "      <td>5.79</td>\n",
              "      <td>NaN</td>\n",
              "      <td>United Kingdom</td>\n",
              "    </tr>\n",
              "    <tr>\n",
              "      <th>539979</th>\n",
              "      <td>581452</td>\n",
              "      <td>85123A</td>\n",
              "      <td>WHITE HANGING HEART T-LIGHT HOLDER</td>\n",
              "      <td>32</td>\n",
              "      <td>12/08/2011 18:03</td>\n",
              "      <td>2.55</td>\n",
              "      <td>17675.0</td>\n",
              "      <td>United Kingdom</td>\n",
              "    </tr>\n",
              "    <tr>\n",
              "      <th>540217</th>\n",
              "      <td>581472</td>\n",
              "      <td>85123A</td>\n",
              "      <td>WHITE HANGING HEART T-LIGHT HOLDER</td>\n",
              "      <td>6</td>\n",
              "      <td>12/08/2011 19:55</td>\n",
              "      <td>2.95</td>\n",
              "      <td>15796.0</td>\n",
              "      <td>United Kingdom</td>\n",
              "    </tr>\n",
              "    <tr>\n",
              "      <th>540837</th>\n",
              "      <td>581492</td>\n",
              "      <td>85123A</td>\n",
              "      <td>CREAM HANGING HEART T-LIGHT HOLDER</td>\n",
              "      <td>3</td>\n",
              "      <td>12/09/2011 10:03</td>\n",
              "      <td>5.79</td>\n",
              "      <td>NaN</td>\n",
              "      <td>United Kingdom</td>\n",
              "    </tr>\n",
              "    <tr>\n",
              "      <th>541639</th>\n",
              "      <td>581538</td>\n",
              "      <td>85123A</td>\n",
              "      <td>CREAM HANGING HEART T-LIGHT HOLDER</td>\n",
              "      <td>1</td>\n",
              "      <td>12/09/2011 11:34</td>\n",
              "      <td>2.95</td>\n",
              "      <td>14446.0</td>\n",
              "      <td>United Kingdom</td>\n",
              "    </tr>\n",
              "  </tbody>\n",
              "</table>\n",
              "<p>2313 rows × 8 columns</p>\n",
              "</div>\n",
              "      <button class=\"colab-df-convert\" onclick=\"convertToInteractive('df-5b52c88e-ba18-4450-aa2a-fccbcbc81875')\"\n",
              "              title=\"Convert this dataframe to an interactive table.\"\n",
              "              style=\"display:none;\">\n",
              "        \n",
              "  <svg xmlns=\"http://www.w3.org/2000/svg\" height=\"24px\"viewBox=\"0 0 24 24\"\n",
              "       width=\"24px\">\n",
              "    <path d=\"M0 0h24v24H0V0z\" fill=\"none\"/>\n",
              "    <path d=\"M18.56 5.44l.94 2.06.94-2.06 2.06-.94-2.06-.94-.94-2.06-.94 2.06-2.06.94zm-11 1L8.5 8.5l.94-2.06 2.06-.94-2.06-.94L8.5 2.5l-.94 2.06-2.06.94zm10 10l.94 2.06.94-2.06 2.06-.94-2.06-.94-.94-2.06-.94 2.06-2.06.94z\"/><path d=\"M17.41 7.96l-1.37-1.37c-.4-.4-.92-.59-1.43-.59-.52 0-1.04.2-1.43.59L10.3 9.45l-7.72 7.72c-.78.78-.78 2.05 0 2.83L4 21.41c.39.39.9.59 1.41.59.51 0 1.02-.2 1.41-.59l7.78-7.78 2.81-2.81c.8-.78.8-2.07 0-2.86zM5.41 20L4 18.59l7.72-7.72 1.47 1.35L5.41 20z\"/>\n",
              "  </svg>\n",
              "      </button>\n",
              "      \n",
              "  <style>\n",
              "    .colab-df-container {\n",
              "      display:flex;\n",
              "      flex-wrap:wrap;\n",
              "      gap: 12px;\n",
              "    }\n",
              "\n",
              "    .colab-df-convert {\n",
              "      background-color: #E8F0FE;\n",
              "      border: none;\n",
              "      border-radius: 50%;\n",
              "      cursor: pointer;\n",
              "      display: none;\n",
              "      fill: #1967D2;\n",
              "      height: 32px;\n",
              "      padding: 0 0 0 0;\n",
              "      width: 32px;\n",
              "    }\n",
              "\n",
              "    .colab-df-convert:hover {\n",
              "      background-color: #E2EBFA;\n",
              "      box-shadow: 0px 1px 2px rgba(60, 64, 67, 0.3), 0px 1px 3px 1px rgba(60, 64, 67, 0.15);\n",
              "      fill: #174EA6;\n",
              "    }\n",
              "\n",
              "    [theme=dark] .colab-df-convert {\n",
              "      background-color: #3B4455;\n",
              "      fill: #D2E3FC;\n",
              "    }\n",
              "\n",
              "    [theme=dark] .colab-df-convert:hover {\n",
              "      background-color: #434B5C;\n",
              "      box-shadow: 0px 1px 3px 1px rgba(0, 0, 0, 0.15);\n",
              "      filter: drop-shadow(0px 1px 2px rgba(0, 0, 0, 0.3));\n",
              "      fill: #FFFFFF;\n",
              "    }\n",
              "  </style>\n",
              "\n",
              "      <script>\n",
              "        const buttonEl =\n",
              "          document.querySelector('#df-5b52c88e-ba18-4450-aa2a-fccbcbc81875 button.colab-df-convert');\n",
              "        buttonEl.style.display =\n",
              "          google.colab.kernel.accessAllowed ? 'block' : 'none';\n",
              "\n",
              "        async function convertToInteractive(key) {\n",
              "          const element = document.querySelector('#df-5b52c88e-ba18-4450-aa2a-fccbcbc81875');\n",
              "          const dataTable =\n",
              "            await google.colab.kernel.invokeFunction('convertToInteractive',\n",
              "                                                     [key], {});\n",
              "          if (!dataTable) return;\n",
              "\n",
              "          const docLinkHtml = 'Like what you see? Visit the ' +\n",
              "            '<a target=\"_blank\" href=https://colab.research.google.com/notebooks/data_table.ipynb>data table notebook</a>'\n",
              "            + ' to learn more about interactive tables.';\n",
              "          element.innerHTML = '';\n",
              "          dataTable['output_type'] = 'display_data';\n",
              "          await google.colab.output.renderOutput(dataTable, element);\n",
              "          const docLink = document.createElement('div');\n",
              "          docLink.innerHTML = docLinkHtml;\n",
              "          element.appendChild(docLink);\n",
              "        }\n",
              "      </script>\n",
              "    </div>\n",
              "  </div>\n",
              "  "
            ]
          },
          "metadata": {},
          "execution_count": 36
        }
      ]
    },
    {
      "cell_type": "code",
      "source": [
        "frequentItemsets[-1]"
      ],
      "metadata": {
        "colab": {
          "base_uri": "https://localhost:8080/"
        },
        "id": "n8vwMJdDmPw2",
        "outputId": "c61b2693-5da1-4f0f-b349-6fe7738d7c49"
      },
      "execution_count": 37,
      "outputs": [
        {
          "output_type": "execute_result",
          "data": {
            "text/plain": [
              "RelationRecord(items=frozenset({'22699', '22697'}), support=0.03027027027027027, ordered_statistics=[OrderedStatistic(items_base=frozenset(), items_add=frozenset({'22699', '22697'}), confidence=0.03027027027027027, lift=1.0), OrderedStatistic(items_base=frozenset({'22697'}), items_add=frozenset({'22699'}), confidence=0.7417218543046358, lift=17.1523178807947), OrderedStatistic(items_base=frozenset({'22699'}), items_add=frozenset({'22697'}), confidence=0.7, lift=17.1523178807947)])"
            ]
          },
          "metadata": {},
          "execution_count": 37
        }
      ]
    },
    {
      "cell_type": "markdown",
      "source": [
        "สร้างตัวแปรมาสองตัว \n",
        "เก็บ 2 item set\n",
        "เก็บ 3 item set \n",
        "acc >0.015"
      ],
      "metadata": {
        "id": "Kd1QL9nzmSAO"
      }
    },
    {
      "cell_type": "code",
      "source": [
        "frequentItemsets = list(apriori(transactions,min_support = 0.015)) "
      ],
      "metadata": {
        "id": "6bXnhzs6pO3D"
      },
      "execution_count": 42,
      "outputs": []
    },
    {
      "cell_type": "code",
      "source": [
        "two_itemset = []\n",
        "for itemset in frequentItemsets:\n",
        "    if len(itemset.items) == 2:\n",
        "        two_itemset.append(itemset)\n",
        "\n",
        "# เก็บ 3-itemset\n",
        "three_itemset = []\n",
        "for itemset in frequentItemsets:\n",
        "    if len(itemset.items) == 3:\n",
        "        three_itemset.append(itemset)"
      ],
      "metadata": {
        "id": "DTrmFDW8mQ6L"
      },
      "execution_count": 43,
      "outputs": []
    },
    {
      "cell_type": "code",
      "source": [
        "two_itemset"
      ],
      "metadata": {
        "colab": {
          "base_uri": "https://localhost:8080/"
        },
        "id": "7_Loa-Nvo4g8",
        "outputId": "30a1c40a-12d8-45d7-a1b8-b23b3d98f068"
      },
      "execution_count": 44,
      "outputs": [
        {
          "output_type": "execute_result",
          "data": {
            "text/plain": [
              "[RelationRecord(items=frozenset({'21931', '20712'}), support=0.017374517374517374, ordered_statistics=[OrderedStatistic(items_base=frozenset(), items_add=frozenset({'21931', '20712'}), confidence=0.017374517374517374, lift=1.0), OrderedStatistic(items_base=frozenset({'20712'}), items_add=frozenset({'21931'}), confidence=0.5160550458715597, lift=11.128913978412486), OrderedStatistic(items_base=frozenset({'21931'}), items_add=frozenset({'20712'}), confidence=0.37468776019983346, lift=11.128913978412486)]),\n",
              " RelationRecord(items=frozenset({'22386', '20712'}), support=0.016640926640926642, ordered_statistics=[OrderedStatistic(items_base=frozenset(), items_add=frozenset({'22386', '20712'}), confidence=0.016640926640926642, lift=1.0), OrderedStatistic(items_base=frozenset({'20712'}), items_add=frozenset({'22386'}), confidence=0.4942660550458716, lift=10.39926143435262), OrderedStatistic(items_base=frozenset({'22386'}), items_add=frozenset({'20712'}), confidence=0.3501218521527214, lift=10.39926143435262)]),\n",
              " RelationRecord(items=frozenset({'20712', '22411'}), support=0.015057915057915058, ordered_statistics=[OrderedStatistic(items_base=frozenset(), items_add=frozenset({'20712', '22411'}), confidence=0.015057915057915058, lift=1.0), OrderedStatistic(items_base=frozenset({'20712'}), items_add=frozenset({'22411'}), confidence=0.4472477064220184, lift=9.758816846108068), OrderedStatistic(items_base=frozenset({'22411'}), items_add=frozenset({'20712'}), confidence=0.32855939342881213, lift=9.758816846108067)]),\n",
              " RelationRecord(items=frozenset({'20712', '85099B'}), support=0.020772200772200773, ordered_statistics=[OrderedStatistic(items_base=frozenset(), items_add=frozenset({'20712', '85099B'}), confidence=0.020772200772200773, lift=1.0), OrderedStatistic(items_base=frozenset({'20712'}), items_add=frozenset({'85099B'}), confidence=0.6169724770642203, lift=7.48458414799218), OrderedStatistic(items_base=frozenset({'85099B'}), items_add=frozenset({'20712'}), confidence=0.25199063231850116, lift=7.484584147992179)]),\n",
              " RelationRecord(items=frozenset({'20713', '85099B'}), support=0.015212355212355212, ordered_statistics=[OrderedStatistic(items_base=frozenset(), items_add=frozenset({'20713', '85099B'}), confidence=0.015212355212355212, lift=1.0), OrderedStatistic(items_base=frozenset({'20713'}), items_add=frozenset({'85099B'}), confidence=0.5845697329376854, lift=7.091501678260446), OrderedStatistic(items_base=frozenset({'85099B'}), items_add=frozenset({'20713'}), confidence=0.18454332552693206, lift=7.091501678260446)]),\n",
              " RelationRecord(items=frozenset({'20719', '20723'}), support=0.015752895752895752, ordered_statistics=[OrderedStatistic(items_base=frozenset(), items_add=frozenset({'20719', '20723'}), confidence=0.015752895752895752, lift=1.0), OrderedStatistic(items_base=frozenset({'20719'}), items_add=frozenset({'20723'}), confidence=0.48398576512455516, lift=17.07797182115256), OrderedStatistic(items_base=frozenset({'20723'}), items_add=frozenset({'20719'}), confidence=0.555858310626703, lift=17.07797182115256)]),\n",
              " RelationRecord(items=frozenset({'20719', '20724'}), support=0.019575289575289576, ordered_statistics=[OrderedStatistic(items_base=frozenset(), items_add=frozenset({'20719', '20724'}), confidence=0.019575289575289576, lift=1.0), OrderedStatistic(items_base=frozenset({'20719'}), items_add=frozenset({'20724'}), confidence=0.601423487544484, lift=14.83511269276394), OrderedStatistic(items_base=frozenset({'20724'}), items_add=frozenset({'20719'}), confidence=0.4828571428571428, lift=14.835112692763937)]),\n",
              " RelationRecord(items=frozenset({'22355', '20719'}), support=0.017722007722007722, ordered_statistics=[OrderedStatistic(items_base=frozenset(), items_add=frozenset({'22355', '20719'}), confidence=0.017722007722007722, lift=1.0), OrderedStatistic(items_base=frozenset({'20719'}), items_add=frozenset({'22355'}), confidence=0.5444839857651246, lift=15.756575677448858), OrderedStatistic(items_base=frozenset({'22355'}), items_add=frozenset({'20719'}), confidence=0.5128491620111733, lift=15.756575677448858)]),\n",
              " RelationRecord(items=frozenset({'20719', '22356'}), support=0.015328185328185329, ordered_statistics=[OrderedStatistic(items_base=frozenset(), items_add=frozenset({'20719', '22356'}), confidence=0.015328185328185329, lift=1.0), OrderedStatistic(items_base=frozenset({'20719'}), items_add=frozenset({'22356'}), confidence=0.47093712930011866, lift=16.049041643254043), OrderedStatistic(items_base=frozenset({'22356'}), items_add=frozenset({'20719'}), confidence=0.5223684210526316, lift=16.049041643254043)]),\n",
              " RelationRecord(items=frozenset({'20723', '20724'}), support=0.01891891891891892, ordered_statistics=[OrderedStatistic(items_base=frozenset(), items_add=frozenset({'20723', '20724'}), confidence=0.01891891891891892, lift=1.0), OrderedStatistic(items_base=frozenset({'20723'}), items_add=frozenset({'20724'}), confidence=0.6675749318801091, lift=16.466848319709356), OrderedStatistic(items_base=frozenset({'20724'}), items_add=frozenset({'20723'}), confidence=0.4666666666666667, lift=16.466848319709356)]),\n",
              " RelationRecord(items=frozenset({'22355', '20723'}), support=0.01613899613899614, ordered_statistics=[OrderedStatistic(items_base=frozenset(), items_add=frozenset({'22355', '20723'}), confidence=0.01613899613899614, lift=1.0), OrderedStatistic(items_base=frozenset({'20723'}), items_add=frozenset({'22355'}), confidence=0.569482288828338, lift=16.479990257713915), OrderedStatistic(items_base=frozenset({'22355'}), items_add=frozenset({'20723'}), confidence=0.46703910614525146, lift=16.479990257713915)]),\n",
              " RelationRecord(items=frozenset({'20725', '20724'}), support=0.015328185328185329, ordered_statistics=[OrderedStatistic(items_base=frozenset(), items_add=frozenset({'20725', '20724'}), confidence=0.015328185328185329, lift=1.0), OrderedStatistic(items_base=frozenset({'20724'}), items_add=frozenset({'20725'}), confidence=0.3780952380952381, lift=6.089966832504146), OrderedStatistic(items_base=frozenset({'20725'}), items_add=frozenset({'20724'}), confidence=0.2468905472636816, lift=6.089966832504145)]),\n",
              " RelationRecord(items=frozenset({'22355', '20724'}), support=0.019691119691119693, ordered_statistics=[OrderedStatistic(items_base=frozenset(), items_add=frozenset({'22355', '20724'}), confidence=0.019691119691119693, lift=1.0), OrderedStatistic(items_base=frozenset({'20724'}), items_add=frozenset({'22355'}), confidence=0.4857142857142857, lift=14.05586592178771), OrderedStatistic(items_base=frozenset({'22355'}), items_add=frozenset({'20724'}), confidence=0.5698324022346369, lift=14.05586592178771)]),\n",
              " RelationRecord(items=frozenset({'22356', '20724'}), support=0.020308880308880308, ordered_statistics=[OrderedStatistic(items_base=frozenset(), items_add=frozenset({'22356', '20724'}), confidence=0.020308880308880308, lift=1.0), OrderedStatistic(items_base=frozenset({'20724'}), items_add=frozenset({'22356'}), confidence=0.5009523809523809, lift=17.0719298245614), OrderedStatistic(items_base=frozenset({'22356'}), items_add=frozenset({'20724'}), confidence=0.6921052631578947, lift=17.0719298245614)]),\n",
              " RelationRecord(items=frozenset({'20724', '85099B'}), support=0.01671814671814672, ordered_statistics=[OrderedStatistic(items_base=frozenset(), items_add=frozenset({'20724', '85099B'}), confidence=0.01671814671814672, lift=1.0), OrderedStatistic(items_base=frozenset({'20724'}), items_add=frozenset({'85099B'}), confidence=0.4123809523809524, lift=5.002654176424668), OrderedStatistic(items_base=frozenset({'85099B'}), items_add=frozenset({'20724'}), confidence=0.2028103044496487, lift=5.0026541764246675)]),\n",
              " RelationRecord(items=frozenset({'20725', '20726'}), support=0.02054054054054054, ordered_statistics=[OrderedStatistic(items_base=frozenset(), items_add=frozenset({'20725', '20726'}), confidence=0.02054054054054054, lift=1.0), OrderedStatistic(items_base=frozenset({'20725'}), items_add=frozenset({'20726'}), confidence=0.3308457711442786, lift=8.263168247480053), OrderedStatistic(items_base=frozenset({'20726'}), items_add=frozenset({'20725'}), confidence=0.5130183220829314, lift=8.263168247480053)]),\n",
              " RelationRecord(items=frozenset({'20725', '20727'}), support=0.025019305019305018, ordered_statistics=[OrderedStatistic(items_base=frozenset(), items_add=frozenset({'20725', '20727'}), confidence=0.025019305019305018, lift=1.0), OrderedStatistic(items_base=frozenset({'20725'}), items_add=frozenset({'20727'}), confidence=0.40298507462686567, lift=8.059701492537313), OrderedStatistic(items_base=frozenset({'20727'}), items_add=frozenset({'20725'}), confidence=0.5003861003861003, lift=8.059701492537313)]),\n",
              " RelationRecord(items=frozenset({'20725', '20728'}), support=0.0216988416988417, ordered_statistics=[OrderedStatistic(items_base=frozenset(), items_add=frozenset({'20725', '20728'}), confidence=0.0216988416988417, lift=1.0), OrderedStatistic(items_base=frozenset({'20725'}), items_add=frozenset({'20728'}), confidence=0.34950248756218905, lift=7.717062598346714), OrderedStatistic(items_base=frozenset({'20728'}), items_add=frozenset({'20725'}), confidence=0.47911338448422847, lift=7.717062598346715)]),\n",
              " RelationRecord(items=frozenset({'20725', '22382'}), support=0.021737451737451736, ordered_statistics=[OrderedStatistic(items_base=frozenset(), items_add=frozenset({'20725', '22382'}), confidence=0.021737451737451736, lift=1.0), OrderedStatistic(items_base=frozenset({'20725'}), items_add=frozenset({'22382'}), confidence=0.35012437810945274, lift=7.750616575243441), OrderedStatistic(items_base=frozenset({'22382'}), items_add=frozenset({'20725'}), confidence=0.4811965811965812, lift=7.750616575243441)]),\n",
              " RelationRecord(items=frozenset({'20725', '22383'}), support=0.0255984555984556, ordered_statistics=[OrderedStatistic(items_base=frozenset(), items_add=frozenset({'20725', '22383'}), confidence=0.0255984555984556, lift=1.0), OrderedStatistic(items_base=frozenset({'20725'}), items_add=frozenset({'22383'}), confidence=0.41231343283582095, lift=8.176813101414826), OrderedStatistic(items_base=frozenset({'22383'}), items_add=frozenset({'20725'}), confidence=0.5076569678407351, lift=8.176813101414826)]),\n",
              " RelationRecord(items=frozenset({'20725', '22384'}), support=0.023667953667953667, ordered_statistics=[OrderedStatistic(items_base=frozenset(), items_add=frozenset({'20725', '22384'}), confidence=0.023667953667953667, lift=1.0), OrderedStatistic(items_base=frozenset({'20725'}), items_add=frozenset({'22384'}), confidence=0.3812189054726368, lift=8.895107794361525), OrderedStatistic(items_base=frozenset({'22384'}), items_add=frozenset({'20725'}), confidence=0.5522522522522522, lift=8.895107794361524)]),\n",
              " RelationRecord(items=frozenset({'20725', '23206'}), support=0.01891891891891892, ordered_statistics=[OrderedStatistic(items_base=frozenset(), items_add=frozenset({'20725', '23206'}), confidence=0.01891891891891892, lift=1.0), OrderedStatistic(items_base=frozenset({'20725'}), items_add=frozenset({'23206'}), confidence=0.304726368159204, lift=7.523749223377868), OrderedStatistic(items_base=frozenset({'23206'}), items_add=frozenset({'20725'}), confidence=0.4671115347950429, lift=7.523749223377868)]),\n",
              " RelationRecord(items=frozenset({'20725', '23209'}), support=0.017915057915057916, ordered_statistics=[OrderedStatistic(items_base=frozenset(), items_add=frozenset({'20725', '23209'}), confidence=0.017915057915057916, lift=1.0), OrderedStatistic(items_base=frozenset({'20725'}), items_add=frozenset({'23209'}), confidence=0.2885572139303483, lift=6.733001658374793), OrderedStatistic(items_base=frozenset({'23209'}), items_add=frozenset({'20725'}), confidence=0.418018018018018, lift=6.733001658374793)]),\n",
              " RelationRecord(items=frozenset({'20725', '85099B'}), support=0.022702702702702703, ordered_statistics=[OrderedStatistic(items_base=frozenset(), items_add=frozenset({'20725', '85099B'}), confidence=0.022702702702702703, lift=1.0), OrderedStatistic(items_base=frozenset({'20725'}), items_add=frozenset({'85099B'}), confidence=0.3656716417910448, lift=4.436016638120871), OrderedStatistic(items_base=frozenset({'85099B'}), items_add=frozenset({'20725'}), confidence=0.2754098360655738, lift=4.436016638120871)]),\n",
              " RelationRecord(items=frozenset({'20727', '20726'}), support=0.017335907335907334, ordered_statistics=[OrderedStatistic(items_base=frozenset(), items_add=frozenset({'20727', '20726'}), confidence=0.017335907335907334, lift=1.0), OrderedStatistic(items_base=frozenset({'20726'}), items_add=frozenset({'20727'}), confidence=0.4329797492767598, lift=8.659594985535195), OrderedStatistic(items_base=frozenset({'20727'}), items_add=frozenset({'20726'}), confidence=0.34671814671814666, lift=8.659594985535195)]),\n",
              " RelationRecord(items=frozenset({'20728', '20726'}), support=0.01756756756756757, ordered_statistics=[OrderedStatistic(items_base=frozenset(), items_add=frozenset({'20728', '20726'}), confidence=0.01756756756756757, lift=1.0), OrderedStatistic(items_base=frozenset({'20726'}), items_add=frozenset({'20728'}), confidence=0.43876567020250723, lift=9.688005846756127), OrderedStatistic(items_base=frozenset({'20728'}), items_add=frozenset({'20726'}), confidence=0.3878942881500426, lift=9.688005846756127)]),\n",
              " RelationRecord(items=frozenset({'22382', '20726'}), support=0.01864864864864865, ordered_statistics=[OrderedStatistic(items_base=frozenset(), items_add=frozenset({'22382', '20726'}), confidence=0.01864864864864865, lift=1.0), OrderedStatistic(items_base=frozenset({'20726'}), items_add=frozenset({'22382'}), confidence=0.4657666345226615, lift=10.31056054199738), OrderedStatistic(items_base=frozenset({'22382'}), items_add=frozenset({'20726'}), confidence=0.41282051282051285, lift=10.31056054199738)]),\n",
              " RelationRecord(items=frozenset({'22383', '20726'}), support=0.01749034749034749, ordered_statistics=[OrderedStatistic(items_base=frozenset(), items_add=frozenset({'22383', '20726'}), confidence=0.01749034749034749, lift=1.0), OrderedStatistic(items_base=frozenset({'20726'}), items_add=frozenset({'22383'}), confidence=0.4368370298939248, lift=8.663153961908616), OrderedStatistic(items_base=frozenset({'22383'}), items_add=frozenset({'20726'}), confidence=0.34686064318529863, lift=8.663153961908614)]),\n",
              " RelationRecord(items=frozenset({'22384', '20726'}), support=0.015482625482625483, ordered_statistics=[OrderedStatistic(items_base=frozenset(), items_add=frozenset({'22384', '20726'}), confidence=0.015482625482625483, lift=1.0), OrderedStatistic(items_base=frozenset({'20726'}), items_add=frozenset({'22384'}), confidence=0.3866923818707811, lift=9.022822243651559), OrderedStatistic(items_base=frozenset({'22384'}), items_add=frozenset({'20726'}), confidence=0.3612612612612613, lift=9.022822243651559)]),\n",
              " RelationRecord(items=frozenset({'20728', '20727'}), support=0.020308880308880308, ordered_statistics=[OrderedStatistic(items_base=frozenset(), items_add=frozenset({'20728', '20727'}), confidence=0.020308880308880308, lift=1.0), OrderedStatistic(items_base=frozenset({'20727'}), items_add=frozenset({'20728'}), confidence=0.4061776061776061, lift=8.968456947996588), OrderedStatistic(items_base=frozenset({'20728'}), items_add=frozenset({'20727'}), confidence=0.44842284739982946, lift=8.96845694799659)]),\n",
              " RelationRecord(items=frozenset({'22382', '20727'}), support=0.019806949806949806, ordered_statistics=[OrderedStatistic(items_base=frozenset(), items_add=frozenset({'22382', '20727'}), confidence=0.019806949806949806, lift=1.0), OrderedStatistic(items_base=frozenset({'20727'}), items_add=frozenset({'22382'}), confidence=0.3961389961389961, lift=8.769230769230768), OrderedStatistic(items_base=frozenset({'22382'}), items_add=frozenset({'20727'}), confidence=0.43846153846153846, lift=8.769230769230768)]),\n",
              " RelationRecord(items=frozenset({'22383', '20727'}), support=0.022664092664092663, ordered_statistics=[OrderedStatistic(items_base=frozenset(), items_add=frozenset({'22383', '20727'}), confidence=0.022664092664092663, lift=1.0), OrderedStatistic(items_base=frozenset({'20727'}), items_add=frozenset({'22383'}), confidence=0.4532818532818532, lift=8.98928024502297), OrderedStatistic(items_base=frozenset({'22383'}), items_add=frozenset({'20727'}), confidence=0.4494640122511485, lift=8.98928024502297)]),\n",
              " RelationRecord(items=frozenset({'22384', '20727'}), support=0.02111969111969112, ordered_statistics=[OrderedStatistic(items_base=frozenset(), items_add=frozenset({'20727', '22384'}), confidence=0.02111969111969112, lift=1.0), OrderedStatistic(items_base=frozenset({'20727'}), items_add=frozenset({'22384'}), confidence=0.4223938223938224, lift=9.855855855855856), OrderedStatistic(items_base=frozenset({'22384'}), items_add=frozenset({'20727'}), confidence=0.4927927927927928, lift=9.855855855855856)]),\n",
              " RelationRecord(items=frozenset({'23206', '20727'}), support=0.016023166023166023, ordered_statistics=[OrderedStatistic(items_base=frozenset(), items_add=frozenset({'23206', '20727'}), confidence=0.016023166023166023, lift=1.0), OrderedStatistic(items_base=frozenset({'20727'}), items_add=frozenset({'23206'}), confidence=0.32046332046332043, lift=7.912297426120113), OrderedStatistic(items_base=frozenset({'23206'}), items_add=frozenset({'20727'}), confidence=0.3956148713060057, lift=7.912297426120114)]),\n",
              " RelationRecord(items=frozenset({'22382', '20728'}), support=0.018803088803088803, ordered_statistics=[OrderedStatistic(items_base=frozenset(), items_add=frozenset({'22382', '20728'}), confidence=0.018803088803088803, lift=1.0), OrderedStatistic(items_base=frozenset({'20728'}), items_add=frozenset({'22382'}), confidence=0.4151747655583972, lift=9.190620878600418), OrderedStatistic(items_base=frozenset({'22382'}), items_add=frozenset({'20728'}), confidence=0.41623931623931626, lift=9.190620878600418)]),\n",
              " RelationRecord(items=frozenset({'22383', '20728'}), support=0.021003861003861004, ordered_statistics=[OrderedStatistic(items_base=frozenset(), items_add=frozenset({'22383', '20728'}), confidence=0.021003861003861004, lift=1.0), OrderedStatistic(items_base=frozenset({'20728'}), items_add=frozenset({'22383'}), confidence=0.46376811594202894, lift=9.197239052755398), OrderedStatistic(items_base=frozenset({'22383'}), items_add=frozenset({'20728'}), confidence=0.4165390505359878, lift=9.197239052755398)]),\n",
              " RelationRecord(items=frozenset({'20728', '22384'}), support=0.019575289575289576, ordered_statistics=[OrderedStatistic(items_base=frozenset(), items_add=frozenset({'20728', '22384'}), confidence=0.019575289575289576, lift=1.0), OrderedStatistic(items_base=frozenset({'20728'}), items_add=frozenset({'22384'}), confidence=0.4322250639386189, lift=10.085251491901108), OrderedStatistic(items_base=frozenset({'22384'}), items_add=frozenset({'20728'}), confidence=0.45675675675675675, lift=10.085251491901108)]),\n",
              " RelationRecord(items=frozenset({'21977', '21212'}), support=0.01671814671814672, ordered_statistics=[OrderedStatistic(items_base=frozenset(), items_add=frozenset({'21977', '21212'}), confidence=0.01671814671814672, lift=1.0), OrderedStatistic(items_base=frozenset({'21212'}), items_add=frozenset({'21977'}), confidence=0.32458770614692656, lift=9.607796101949026), OrderedStatistic(items_base=frozenset({'21977'}), items_add=frozenset({'21212'}), confidence=0.49485714285714283, lift=9.607796101949024)]),\n",
              " RelationRecord(items=frozenset({'84991', '21212'}), support=0.017683397683397682, ordered_statistics=[OrderedStatistic(items_base=frozenset(), items_add=frozenset({'84991', '21212'}), confidence=0.017683397683397682, lift=1.0), OrderedStatistic(items_base=frozenset({'21212'}), items_add=frozenset({'84991'}), confidence=0.34332833583208394, lift=10.636607533553796), OrderedStatistic(items_base=frozenset({'84991'}), items_add=frozenset({'21212'}), confidence=0.547846889952153, lift=10.636607533553795)]),\n",
              " RelationRecord(items=frozenset({'21733', '85123A'}), support=0.019073359073359074, ordered_statistics=[OrderedStatistic(items_base=frozenset(), items_add=frozenset({'21733', '85123A'}), confidence=0.019073359073359074, lift=1.0), OrderedStatistic(items_base=frozenset({'21733'}), items_add=frozenset({'85123A'}), confidence=0.6551724137931034, lift=7.555193907943623), OrderedStatistic(items_base=frozenset({'85123A'}), items_add=frozenset({'21733'}), confidence=0.219946571682992, lift=7.555193907943624)]),\n",
              " RelationRecord(items=frozenset({'21929', '21928'}), support=0.015482625482625483, ordered_statistics=[OrderedStatistic(items_base=frozenset(), items_add=frozenset({'21928', '21929'}), confidence=0.015482625482625483, lift=1.0), OrderedStatistic(items_base=frozenset({'21928'}), items_add=frozenset({'21929'}), confidence=0.491421568627451, lift=14.512906074630537), OrderedStatistic(items_base=frozenset({'21929'}), items_add=frozenset({'21928'}), confidence=0.4572405929304447, lift=14.512906074630537)]),\n",
              " RelationRecord(items=frozenset({'22411', '21928'}), support=0.01563706563706564, ordered_statistics=[OrderedStatistic(items_base=frozenset(), items_add=frozenset({'22411', '21928'}), confidence=0.01563706563706564, lift=1.0), OrderedStatistic(items_base=frozenset({'21928'}), items_add=frozenset({'22411'}), confidence=0.4963235294117648, lift=10.829637246642552), OrderedStatistic(items_base=frozenset({'22411'}), items_add=frozenset({'21928'}), confidence=0.3411962931760742, lift=10.829637246642552)]),\n",
              " RelationRecord(items=frozenset({'21928', '85099B'}), support=0.02108108108108108, ordered_statistics=[OrderedStatistic(items_base=frozenset(), items_add=frozenset({'21928', '85099B'}), confidence=0.02108108108108108, lift=1.0), OrderedStatistic(items_base=frozenset({'21928'}), items_add=frozenset({'85099B'}), confidence=0.6691176470588236, lift=8.117164898746385), OrderedStatistic(items_base=frozenset({'85099B'}), items_add=frozenset({'21928'}), confidence=0.25573770491803277, lift=8.117164898746383)]),\n",
              " RelationRecord(items=frozenset({'22411', '21929'}), support=0.016293436293436294, ordered_statistics=[OrderedStatistic(items_base=frozenset(), items_add=frozenset({'22411', '21929'}), confidence=0.016293436293436294, lift=1.0), OrderedStatistic(items_base=frozenset({'21929'}), items_add=frozenset({'22411'}), confidence=0.4811858608893957, lift=10.499337655463647), OrderedStatistic(items_base=frozenset({'22411'}), items_add=frozenset({'21929'}), confidence=0.35551811288963775, lift=10.499337655463647)]),\n",
              " RelationRecord(items=frozenset({'21929', '85099B'}), support=0.020154440154440154, ordered_statistics=[OrderedStatistic(items_base=frozenset(), items_add=frozenset({'21929', '85099B'}), confidence=0.020154440154440154, lift=1.0), OrderedStatistic(items_base=frozenset({'21929'}), items_add=frozenset({'85099B'}), confidence=0.5952109464082098, lift=7.220591808886479), OrderedStatistic(items_base=frozenset({'85099B'}), items_add=frozenset({'21929'}), confidence=0.24449648711943792, lift=7.220591808886479)]),\n",
              " RelationRecord(items=frozenset({'21930', '85099B'}), support=0.016023166023166023, ordered_statistics=[OrderedStatistic(items_base=frozenset(), items_add=frozenset({'21930', '85099B'}), confidence=0.016023166023166023, lift=1.0), OrderedStatistic(items_base=frozenset({'21930'}), items_add=frozenset({'85099B'}), confidence=0.5861581920903954, lift=7.110771510604796), OrderedStatistic(items_base=frozenset({'85099B'}), items_add=frozenset({'21930'}), confidence=0.19437939110070257, lift=7.110771510604797)]),\n",
              " RelationRecord(items=frozenset({'22386', '21931'}), support=0.02, ordered_statistics=[OrderedStatistic(items_base=frozenset(), items_add=frozenset({'22386', '21931'}), confidence=0.02, lift=1.0), OrderedStatistic(items_base=frozenset({'21931'}), items_add=frozenset({'22386'}), confidence=0.4313072439633639, lift=9.074620323843318), OrderedStatistic(items_base=frozenset({'22386'}), items_add=frozenset({'21931'}), confidence=0.42079610073111295, lift=9.074620323843318)]),\n",
              " RelationRecord(items=frozenset({'21931', '22411'}), support=0.02027027027027027, ordered_statistics=[OrderedStatistic(items_base=frozenset(), items_add=frozenset({'21931', '22411'}), confidence=0.02027027027027027, lift=1.0), OrderedStatistic(items_base=frozenset({'21931'}), items_add=frozenset({'22411'}), confidence=0.43713572023313907, lift=9.538176203907584), OrderedStatistic(items_base=frozenset({'22411'}), items_add=frozenset({'21931'}), confidence=0.4422914911541702, lift=9.538176203907584)]),\n",
              " RelationRecord(items=frozenset({'21931', '85099B'}), support=0.0283011583011583, ordered_statistics=[OrderedStatistic(items_base=frozenset(), items_add=frozenset({'21931', '85099B'}), confidence=0.0283011583011583, lift=1.0), OrderedStatistic(items_base=frozenset({'21931'}), items_add=frozenset({'85099B'}), confidence=0.6103247293921732, lift=7.403939340167346), OrderedStatistic(items_base=frozenset({'85099B'}), items_add=frozenset({'21931'}), confidence=0.3433255269320843, lift=7.403939340167347)]),\n",
              " RelationRecord(items=frozenset({'21931', '85099C'}), support=0.01633204633204633, ordered_statistics=[OrderedStatistic(items_base=frozenset(), items_add=frozenset({'21931', '85099C'}), confidence=0.01633204633204633, lift=1.0), OrderedStatistic(items_base=frozenset({'21931'}), items_add=frozenset({'85099C'}), confidence=0.3522064945878434, lift=9.632680263806911), OrderedStatistic(items_base=frozenset({'85099C'}), items_add=frozenset({'21931'}), confidence=0.44667370644139387, lift=9.632680263806913)]),\n",
              " RelationRecord(items=frozenset({'DOT', '21931'}), support=0.01525096525096525, ordered_statistics=[OrderedStatistic(items_base=frozenset(), items_add=frozenset({'DOT', '21931'}), confidence=0.01525096525096525, lift=1.0), OrderedStatistic(items_base=frozenset({'21931'}), items_add=frozenset({'DOT'}), confidence=0.3288925895087427, lift=11.997631082079488), OrderedStatistic(items_base=frozenset({'DOT'}), items_add=frozenset({'21931'}), confidence=0.556338028169014, lift=11.997631082079486)]),\n",
              " RelationRecord(items=frozenset({'22910', '22086'}), support=0.02142857142857143, ordered_statistics=[OrderedStatistic(items_base=frozenset(), items_add=frozenset({'22910', '22086'}), confidence=0.02142857142857143, lift=1.0), OrderedStatistic(items_base=frozenset({'22086'}), items_add=frozenset({'22910'}), confidence=0.4743589743589744, lift=14.766703648915188), OrderedStatistic(items_base=frozenset({'22910'}), items_add=frozenset({'22086'}), confidence=0.6670673076923076, lift=14.766703648915186)]),\n",
              " RelationRecord(items=frozenset({'22835', '22112'}), support=0.01525096525096525, ordered_statistics=[OrderedStatistic(items_base=frozenset(), items_add=frozenset({'22835', '22112'}), confidence=0.01525096525096525, lift=1.0), OrderedStatistic(items_base=frozenset({'22112'}), items_add=frozenset({'22835'}), confidence=0.45612009237875284, lift=17.818266052201654), OrderedStatistic(items_base=frozenset({'22835'}), items_add=frozenset({'22112'}), confidence=0.5957767722473604, lift=17.818266052201654)]),\n",
              " RelationRecord(items=frozenset({'22197', '85099B'}), support=0.015598455598455598, ordered_statistics=[OrderedStatistic(items_base=frozenset(), items_add=frozenset({'22197', '85099B'}), confidence=0.015598455598455598, lift=1.0), OrderedStatistic(items_base=frozenset({'22197'}), items_add=frozenset({'85099B'}), confidence=0.2801664355062413, lift=3.3987403651576815), OrderedStatistic(items_base=frozenset({'85099B'}), items_add=frozenset({'22197'}), confidence=0.1892271662763466, lift=3.3987403651576815)]),\n",
              " RelationRecord(items=frozenset({'22355', '22356'}), support=0.016023166023166023, ordered_statistics=[OrderedStatistic(items_base=frozenset(), items_add=frozenset({'22355', '22356'}), confidence=0.016023166023166023, lift=1.0), OrderedStatistic(items_base=frozenset({'22355'}), items_add=frozenset({'22356'}), confidence=0.46368715083798884, lift=15.801970008820936), OrderedStatistic(items_base=frozenset({'22356'}), items_add=frozenset({'22355'}), confidence=0.5460526315789473, lift=15.801970008820934)]),\n",
              " RelationRecord(items=frozenset({'22379', '85099B'}), support=0.016023166023166023, ordered_statistics=[OrderedStatistic(items_base=frozenset(), items_add=frozenset({'22379', '85099B'}), confidence=0.016023166023166023, lift=1.0), OrderedStatistic(items_base=frozenset({'22379'}), items_add=frozenset({'85099B'}), confidence=0.551128818061089, lift=6.685825005986981), OrderedStatistic(items_base=frozenset({'85099B'}), items_add=frozenset({'22379'}), confidence=0.19437939110070257, lift=6.685825005986981)]),\n",
              " RelationRecord(items=frozenset({'22382', '22383'}), support=0.020733590733590733, ordered_statistics=[OrderedStatistic(items_base=frozenset(), items_add=frozenset({'22382', '22383'}), confidence=0.020733590733590733, lift=1.0), OrderedStatistic(items_base=frozenset({'22382'}), items_add=frozenset({'22383'}), confidence=0.45897435897435895, lift=9.102171437546628), OrderedStatistic(items_base=frozenset({'22383'}), items_add=frozenset({'22382'}), confidence=0.4111791730474732, lift=9.102171437546628)]),\n",
              " RelationRecord(items=frozenset({'22382', '22384'}), support=0.016640926640926642, ordered_statistics=[OrderedStatistic(items_base=frozenset(), items_add=frozenset({'22382', '22384'}), confidence=0.016640926640926642, lift=1.0), OrderedStatistic(items_base=frozenset({'22382'}), items_add=frozenset({'22384'}), confidence=0.3683760683760684, lift=8.595441595441596), OrderedStatistic(items_base=frozenset({'22384'}), items_add=frozenset({'22382'}), confidence=0.3882882882882883, lift=8.595441595441596)]),\n",
              " RelationRecord(items=frozenset({'23206', '22382'}), support=0.01525096525096525, ordered_statistics=[OrderedStatistic(items_base=frozenset(), items_add=frozenset({'23206', '22382'}), confidence=0.01525096525096525, lift=1.0), OrderedStatistic(items_base=frozenset({'22382'}), items_add=frozenset({'23206'}), confidence=0.33760683760683763, lift=8.335573969511053), OrderedStatistic(items_base=frozenset({'23206'}), items_add=frozenset({'22382'}), confidence=0.3765490943755958, lift=8.335573969511053)]),\n",
              " RelationRecord(items=frozenset({'22383', '22384'}), support=0.018223938223938224, ordered_statistics=[OrderedStatistic(items_base=frozenset(), items_add=frozenset({'22383', '22384'}), confidence=0.018223938223938224, lift=1.0), OrderedStatistic(items_base=frozenset({'22383'}), items_add=frozenset({'22384'}), confidence=0.3614088820826953, lift=8.43287391526289), OrderedStatistic(items_base=frozenset({'22384'}), items_add=frozenset({'22383'}), confidence=0.4252252252252252, lift=8.432873915262888)]),\n",
              " RelationRecord(items=frozenset({'23206', '22383'}), support=0.017413127413127415, ordered_statistics=[OrderedStatistic(items_base=frozenset(), items_add=frozenset({'23206', '22383'}), confidence=0.017413127413127415, lift=1.0), OrderedStatistic(items_base=frozenset({'22383'}), items_add=frozenset({'23206'}), confidence=0.34532924961715167, lift=8.526241720766661), OrderedStatistic(items_base=frozenset({'23206'}), items_add=frozenset({'22383'}), confidence=0.4299332697807436, lift=8.526241720766661)]),\n",
              " RelationRecord(items=frozenset({'22383', '85099B'}), support=0.015714285714285715, ordered_statistics=[OrderedStatistic(items_base=frozenset(), items_add=frozenset({'22383', '85099B'}), confidence=0.015714285714285715, lift=1.0), OrderedStatistic(items_base=frozenset({'22383'}), items_add=frozenset({'85099B'}), confidence=0.3116385911179173, lift=3.780533728315718), OrderedStatistic(items_base=frozenset({'85099B'}), items_add=frozenset({'22383'}), confidence=0.19063231850117096, lift=3.780533728315718)]),\n",
              " RelationRecord(items=frozenset({'85099B', '22385'}), support=0.01667953667953668, ordered_statistics=[OrderedStatistic(items_base=frozenset(), items_add=frozenset({'22385', '85099B'}), confidence=0.01667953667953668, lift=1.0), OrderedStatistic(items_base=frozenset({'22385'}), items_add=frozenset({'85099B'}), confidence=0.6242774566473989, lift=7.573201933099592), OrderedStatistic(items_base=frozenset({'85099B'}), items_add=frozenset({'22385'}), confidence=0.20234192037470725, lift=7.573201933099592)]),\n",
              " RelationRecord(items=frozenset({'22386', '22411'}), support=0.018223938223938224, ordered_statistics=[OrderedStatistic(items_base=frozenset(), items_add=frozenset({'22386', '22411'}), confidence=0.018223938223938224, lift=1.0), OrderedStatistic(items_base=frozenset({'22386'}), items_add=frozenset({'22411'}), confidence=0.3834281072298944, lift=8.366291471991799), OrderedStatistic(items_base=frozenset({'22411'}), items_add=frozenset({'22386'}), confidence=0.3976411120471778, lift=8.366291471991799)]),\n",
              " RelationRecord(items=frozenset({'22386', '85099B'}), support=0.03216216216216216, ordered_statistics=[OrderedStatistic(items_base=frozenset(), items_add=frozenset({'22386', '85099B'}), confidence=0.03216216216216216, lift=1.0), OrderedStatistic(items_base=frozenset({'22386'}), items_add=frozenset({'85099B'}), confidence=0.6766856214459789, lift=8.20897311262335), OrderedStatistic(items_base=frozenset({'85099B'}), items_add=frozenset({'22386'}), confidence=0.39016393442622943, lift=8.20897311262335)]),\n",
              " RelationRecord(items=frozenset({'22386', '85099C'}), support=0.0161003861003861, ordered_statistics=[OrderedStatistic(items_base=frozenset(), items_add=frozenset({'22386', '85099C'}), confidence=0.0161003861003861, lift=1.0), OrderedStatistic(items_base=frozenset({'22386'}), items_add=frozenset({'85099C'}), confidence=0.338748984565394, lift=9.264623759497049), OrderedStatistic(items_base=frozenset({'85099C'}), items_add=frozenset({'22386'}), confidence=0.440337909186906, lift=9.264623759497049)]),\n",
              " RelationRecord(items=frozenset({'22411', '85099B'}), support=0.02637065637065637, ordered_statistics=[OrderedStatistic(items_base=frozenset(), items_add=frozenset({'22411', '85099B'}), confidence=0.02637065637065637, lift=1.0), OrderedStatistic(items_base=frozenset({'22411'}), items_add=frozenset({'85099B'}), confidence=0.5754001684919966, lift=6.980264339083237), OrderedStatistic(items_base=frozenset({'85099B'}), items_add=frozenset({'22411'}), confidence=0.31990632318501167, lift=6.980264339083237)]),\n",
              " RelationRecord(items=frozenset({'85099C', '22411'}), support=0.01637065637065637, ordered_statistics=[OrderedStatistic(items_base=frozenset(), items_add=frozenset({'85099C', '22411'}), confidence=0.01637065637065637, lift=1.0), OrderedStatistic(items_base=frozenset({'22411'}), items_add=frozenset({'85099C'}), confidence=0.35720303285593935, lift=9.769333211160326), OrderedStatistic(items_base=frozenset({'85099C'}), items_add=frozenset({'22411'}), confidence=0.4477296726504752, lift=9.769333211160326)]),\n",
              " RelationRecord(items=frozenset({'22697', '22423'}), support=0.02, ordered_statistics=[OrderedStatistic(items_base=frozenset(), items_add=frozenset({'22697', '22423'}), confidence=0.02, lift=1.0), OrderedStatistic(items_base=frozenset({'22423'}), items_add=frozenset({'22697'}), confidence=0.2384898710865562, lift=5.843791543180516), OrderedStatistic(items_base=frozenset({'22697'}), items_add=frozenset({'22423'}), confidence=0.4900662251655629, lift=5.843791543180516)]),\n",
              " RelationRecord(items=frozenset({'22423', '22698'}), support=0.015521235521235521, ordered_statistics=[OrderedStatistic(items_base=frozenset(), items_add=frozenset({'22423', '22698'}), confidence=0.015521235521235521, lift=1.0), OrderedStatistic(items_base=frozenset({'22423'}), items_add=frozenset({'22698'}), confidence=0.18508287292817682, lift=5.977115222992244), OrderedStatistic(items_base=frozenset({'22698'}), items_add=frozenset({'22423'}), confidence=0.5012468827930174, lift=5.977115222992244)]),\n",
              " RelationRecord(items=frozenset({'22699', '22423'}), support=0.020733590733590733, ordered_statistics=[OrderedStatistic(items_base=frozenset(), items_add=frozenset({'22699', '22423'}), confidence=0.020733590733590733, lift=1.0), OrderedStatistic(items_base=frozenset({'22423'}), items_add=frozenset({'22699'}), confidence=0.2472375690607735, lift=5.717368784530387), OrderedStatistic(items_base=frozenset({'22699'}), items_add=frozenset({'22423'}), confidence=0.4794642857142857, lift=5.717368784530387)]),\n",
              " RelationRecord(items=frozenset({'22423', '47566'}), support=0.015366795366795367, ordered_statistics=[OrderedStatistic(items_base=frozenset(), items_add=frozenset({'22423', '47566'}), confidence=0.015366795366795367, lift=1.0), OrderedStatistic(items_base=frozenset({'22423'}), items_add=frozenset({'47566'}), confidence=0.18324125230202581, lift=2.7819158467892544), OrderedStatistic(items_base=frozenset({'47566'}), items_add=frozenset({'22423'}), confidence=0.23329425556858147, lift=2.7819158467892544)]),\n",
              " RelationRecord(items=frozenset({'22457', '85123A'}), support=0.01525096525096525, ordered_statistics=[OrderedStatistic(items_base=frozenset(), items_add=frozenset({'22457', '85123A'}), confidence=0.01525096525096525, lift=1.0), OrderedStatistic(items_base=frozenset({'22457'}), items_add=frozenset({'85123A'}), confidence=0.31200631911532384, lift=3.597935736904224), OrderedStatistic(items_base=frozenset({'85123A'}), items_add=frozenset({'22457'}), confidence=0.1758682101513802, lift=3.597935736904224)]),\n",
              " RelationRecord(items=frozenset({'22470', '22469'}), support=0.019073359073359074, ordered_statistics=[OrderedStatistic(items_base=frozenset(), items_add=frozenset({'22470', '22469'}), confidence=0.019073359073359074, lift=1.0), OrderedStatistic(items_base=frozenset({'22469'}), items_add=frozenset({'22470'}), confidence=0.4069192751235585, lift=11.16441655264848), OrderedStatistic(items_base=frozenset({'22470'}), items_add=frozenset({'22469'}), confidence=0.5233050847457628, lift=11.16441655264848)]),\n",
              " RelationRecord(items=frozenset({'22578', '22577'}), support=0.01501930501930502, ordered_statistics=[OrderedStatistic(items_base=frozenset(), items_add=frozenset({'22578', '22577'}), confidence=0.01501930501930502, lift=1.0), OrderedStatistic(items_base=frozenset({'22577'}), items_add=frozenset({'22578'}), confidence=0.7190388170055454, lift=36.09128945822408), OrderedStatistic(items_base=frozenset({'22578'}), items_add=frozenset({'22577'}), confidence=0.7538759689922481, lift=36.091289458224075)]),\n",
              " RelationRecord(items=frozenset({'22629', '22630'}), support=0.020772200772200773, ordered_statistics=[OrderedStatistic(items_base=frozenset(), items_add=frozenset({'22629', '22630'}), confidence=0.020772200772200773, lift=1.0), OrderedStatistic(items_base=frozenset({'22629'}), items_add=frozenset({'22630'}), confidence=0.5925110132158591, lift=17.844227025919476), OrderedStatistic(items_base=frozenset({'22630'}), items_add=frozenset({'22629'}), confidence=0.6255813953488373, lift=17.844227025919476)]),\n",
              " RelationRecord(items=frozenset({'22720', '22666'}), support=0.015366795366795367, ordered_statistics=[OrderedStatistic(items_base=frozenset(), items_add=frozenset({'22720', '22666'}), confidence=0.015366795366795367, lift=1.0), OrderedStatistic(items_base=frozenset({'22666'}), items_add=frozenset({'22720'}), confidence=0.34192439862542956, lift=6.0573474175093205), OrderedStatistic(items_base=frozenset({'22720'}), items_add=frozenset({'22666'}), confidence=0.2722298221614227, lift=6.05734741750932)]),\n",
              " RelationRecord(items=frozenset({'22697', '22698'}), support=0.024864864864864864, ordered_statistics=[OrderedStatistic(items_base=frozenset(), items_add=frozenset({'22697', '22698'}), confidence=0.024864864864864864, lift=1.0), OrderedStatistic(items_base=frozenset({'22697'}), items_add=frozenset({'22698'}), confidence=0.609271523178808, lift=19.67597562385427), OrderedStatistic(items_base=frozenset({'22698'}), items_add=frozenset({'22697'}), confidence=0.8029925187032418, lift=19.67597562385427)]),\n",
              " RelationRecord(items=frozenset({'22699', '22697'}), support=0.03027027027027027, ordered_statistics=[OrderedStatistic(items_base=frozenset(), items_add=frozenset({'22699', '22697'}), confidence=0.03027027027027027, lift=1.0), OrderedStatistic(items_base=frozenset({'22697'}), items_add=frozenset({'22699'}), confidence=0.7417218543046358, lift=17.1523178807947), OrderedStatistic(items_base=frozenset({'22699'}), items_add=frozenset({'22697'}), confidence=0.7, lift=17.1523178807947)]),\n",
              " RelationRecord(items=frozenset({'22699', '22698'}), support=0.023706563706563707, ordered_statistics=[OrderedStatistic(items_base=frozenset(), items_add=frozenset({'22699', '22698'}), confidence=0.023706563706563707, lift=1.0), OrderedStatistic(items_base=frozenset({'22698'}), items_add=frozenset({'22699'}), confidence=0.7655860349127181, lift=17.704177057356606), OrderedStatistic(items_base=frozenset({'22699'}), items_add=frozenset({'22698'}), confidence=0.5482142857142857, lift=17.704177057356606)]),\n",
              " RelationRecord(items=frozenset({'22722', '22720'}), support=0.015907335907335906, ordered_statistics=[OrderedStatistic(items_base=frozenset(), items_add=frozenset({'22722', '22720'}), confidence=0.015907335907335906, lift=1.0), OrderedStatistic(items_base=frozenset({'22720'}), items_add=frozenset({'22722'}), confidence=0.28180574555403554, lift=8.607038690860284), OrderedStatistic(items_base=frozenset({'22722'}), items_add=frozenset({'22720'}), confidence=0.48584905660377353, lift=8.607038690860284)]),\n",
              " RelationRecord(items=frozenset({'22727', '22726'}), support=0.02494208494208494, ordered_statistics=[OrderedStatistic(items_base=frozenset(), items_add=frozenset({'22726', '22727'}), confidence=0.02494208494208494, lift=1.0), OrderedStatistic(items_base=frozenset({'22726'}), items_add=frozenset({'22727'}), confidence=0.6440677966101696, lift=15.431411593157623), OrderedStatistic(items_base=frozenset({'22727'}), items_add=frozenset({'22726'}), confidence=0.5975948196114708, lift=15.431411593157621)]),\n",
              " RelationRecord(items=frozenset({'22728', '22726'}), support=0.016177606177606177, ordered_statistics=[OrderedStatistic(items_base=frozenset(), items_add=frozenset({'22728', '22726'}), confidence=0.016177606177606177, lift=1.0), OrderedStatistic(items_base=frozenset({'22726'}), items_add=frozenset({'22728'}), confidence=0.4177467597208375, lift=13.541478193704245), OrderedStatistic(items_base=frozenset({'22728'}), items_add=frozenset({'22726'}), confidence=0.5244055068836045, lift=13.541478193704245)]),\n",
              " RelationRecord(items=frozenset({'22728', '22727'}), support=0.018416988416988418, ordered_statistics=[OrderedStatistic(items_base=frozenset(), items_add=frozenset({'22728', '22727'}), confidence=0.018416988416988418, lift=1.0), OrderedStatistic(items_base=frozenset({'22727'}), items_add=frozenset({'22728'}), confidence=0.4412580943570768, lift=14.303610317707497), OrderedStatistic(items_base=frozenset({'22728'}), items_add=frozenset({'22727'}), confidence=0.5969962453066333, lift=14.303610317707495)]),\n",
              " RelationRecord(items=frozenset({'22960', '22961'}), support=0.01833976833976834, ordered_statistics=[OrderedStatistic(items_base=frozenset(), items_add=frozenset({'22960', '22961'}), confidence=0.01833976833976834, lift=1.0), OrderedStatistic(items_base=frozenset({'22960'}), items_add=frozenset({'22961'}), confidence=0.389344262295082, lift=8.58945178317089), OrderedStatistic(items_base=frozenset({'22961'}), items_add=frozenset({'22960'}), confidence=0.4045996592844975, lift=8.589451783170889)]),\n",
              " RelationRecord(items=frozenset({'23200', '23199'}), support=0.01583011583011583, ordered_statistics=[OrderedStatistic(items_base=frozenset(), items_add=frozenset({'23200', '23199'}), confidence=0.01583011583011583, lift=1.0), OrderedStatistic(items_base=frozenset({'23199'}), items_add=frozenset({'23200'}), confidence=0.41041041041041043, lift=17.65719207579673), OrderedStatistic(items_base=frozenset({'23200'}), items_add=frozenset({'23199'}), confidence=0.6810631229235881, lift=17.65719207579673)]),\n",
              " RelationRecord(items=frozenset({'23199', '23201'}), support=0.015289575289575289, ordered_statistics=[OrderedStatistic(items_base=frozenset(), items_add=frozenset({'23199', '23201'}), confidence=0.015289575289575289, lift=1.0), OrderedStatistic(items_base=frozenset({'23199'}), items_add=frozenset({'23201'}), confidence=0.3963963963963964, lift=11.159420289855074), OrderedStatistic(items_base=frozenset({'23201'}), items_add=frozenset({'23199'}), confidence=0.43043478260869567, lift=11.159420289855074)]),\n",
              " RelationRecord(items=frozenset({'23199', '23203'}), support=0.016563706563706565, ordered_statistics=[OrderedStatistic(items_base=frozenset(), items_add=frozenset({'23199', '23203'}), confidence=0.016563706563706565, lift=1.0), OrderedStatistic(items_base=frozenset({'23199'}), items_add=frozenset({'23203'}), confidence=0.42942942942942947, lift=8.904901699137088), OrderedStatistic(items_base=frozenset({'23203'}), items_add=frozenset({'23199'}), confidence=0.3434747798238591, lift=8.904901699137088)]),\n",
              " RelationRecord(items=frozenset({'23199', '85099B'}), support=0.02142857142857143, ordered_statistics=[OrderedStatistic(items_base=frozenset(), items_add=frozenset({'23199', '85099B'}), confidence=0.02142857142857143, lift=1.0), OrderedStatistic(items_base=frozenset({'23199'}), items_add=frozenset({'85099B'}), confidence=0.5555555555555556, lift=6.739526411657559), OrderedStatistic(items_base=frozenset({'85099B'}), items_add=frozenset({'23199'}), confidence=0.25995316159250587, lift=6.73952641165756)]),\n",
              " RelationRecord(items=frozenset({'85099B', '23201'}), support=0.016216216216216217, ordered_statistics=[OrderedStatistic(items_base=frozenset(), items_add=frozenset({'23201', '85099B'}), confidence=0.016216216216216217, lift=1.0), OrderedStatistic(items_base=frozenset({'23201'}), items_add=frozenset({'85099B'}), confidence=0.45652173913043487, lift=5.538132573057734), OrderedStatistic(items_base=frozenset({'85099B'}), items_add=frozenset({'23201'}), confidence=0.19672131147540983, lift=5.538132573057734)]),\n",
              " RelationRecord(items=frozenset({'23202', '23203'}), support=0.02, ordered_statistics=[OrderedStatistic(items_base=frozenset(), items_add=frozenset({'23202', '23203'}), confidence=0.02, lift=1.0), OrderedStatistic(items_base=frozenset({'23202'}), items_add=frozenset({'23203'}), confidence=0.5846501128668172, lift=12.123649258006859), OrderedStatistic(items_base=frozenset({'23203'}), items_add=frozenset({'23202'}), confidence=0.4147317854283427, lift=12.123649258006859)]),\n",
              " RelationRecord(items=frozenset({'23202', '85099B'}), support=0.016486486486486488, ordered_statistics=[OrderedStatistic(items_base=frozenset(), items_add=frozenset({'23202', '85099B'}), confidence=0.016486486486486488, lift=1.0), OrderedStatistic(items_base=frozenset({'23202'}), items_add=frozenset({'85099B'}), confidence=0.48194130925507905, lift=5.846501128668172), OrderedStatistic(items_base=frozenset({'85099B'}), items_add=frozenset({'23202'}), confidence=0.2, lift=5.846501128668172)]),\n",
              " RelationRecord(items=frozenset({'23209', '23203'}), support=0.0194980694980695, ordered_statistics=[OrderedStatistic(items_base=frozenset(), items_add=frozenset({'23209', '23203'}), confidence=0.0194980694980695, lift=1.0), OrderedStatistic(items_base=frozenset({'23203'}), items_add=frozenset({'23209'}), confidence=0.40432345876701364, lift=9.434214037896984), OrderedStatistic(items_base=frozenset({'23209'}), items_add=frozenset({'23203'}), confidence=0.45495495495495497, lift=9.434214037896984)]),\n",
              " RelationRecord(items=frozenset({'85099B', '23203'}), support=0.022471042471042472, ordered_statistics=[OrderedStatistic(items_base=frozenset(), items_add=frozenset({'23203', '85099B'}), confidence=0.022471042471042472, lift=1.0), OrderedStatistic(items_base=frozenset({'23203'}), items_add=frozenset({'85099B'}), confidence=0.4659727782225781, lift=5.652784522700127), OrderedStatistic(items_base=frozenset({'85099B'}), items_add=frozenset({'23203'}), confidence=0.27259953161592504, lift=5.652784522700127)]),\n",
              " RelationRecord(items=frozenset({'23209', '23206'}), support=0.017065637065637067, ordered_statistics=[OrderedStatistic(items_base=frozenset(), items_add=frozenset({'23209', '23206'}), confidence=0.017065637065637067, lift=1.0), OrderedStatistic(items_base=frozenset({'23206'}), items_add=frozenset({'23209'}), confidence=0.4213536701620591, lift=9.831585637114712), OrderedStatistic(items_base=frozenset({'23209'}), items_add=frozenset({'23206'}), confidence=0.39819819819819824, lift=9.831585637114713)]),\n",
              " RelationRecord(items=frozenset({'23298', '47566'}), support=0.018803088803088803, ordered_statistics=[OrderedStatistic(items_base=frozenset(), items_add=frozenset({'23298', '47566'}), confidence=0.018803088803088803, lift=1.0), OrderedStatistic(items_base=frozenset({'23298'}), items_add=frozenset({'47566'}), confidence=0.4201898188093183, lift=6.379200648980858), OrderedStatistic(items_base=frozenset({'47566'}), items_add=frozenset({'23298'}), confidence=0.2854630715123095, lift=6.379200648980858)]),\n",
              " RelationRecord(items=frozenset({'23301', '23300'}), support=0.021196911196911198, ordered_statistics=[OrderedStatistic(items_base=frozenset(), items_add=frozenset({'23301', '23300'}), confidence=0.021196911196911198, lift=1.0), OrderedStatistic(items_base=frozenset({'23300'}), items_add=frozenset({'23301'}), confidence=0.7176470588235294, lift=20.11586452762923), OrderedStatistic(items_base=frozenset({'23301'}), items_add=frozenset({'23300'}), confidence=0.5941558441558441, lift=20.11586452762923)]),\n",
              " RelationRecord(items=frozenset({'47566', '85123A'}), support=0.015096525096525096, ordered_statistics=[OrderedStatistic(items_base=frozenset(), items_add=frozenset({'47566', '85123A'}), confidence=0.015096525096525096, lift=1.0), OrderedStatistic(items_base=frozenset({'47566'}), items_add=frozenset({'85123A'}), confidence=0.22919109026963658, lift=2.642942670518071), OrderedStatistic(items_base=frozenset({'85123A'}), items_add=frozenset({'47566'}), confidence=0.1740872662511131, lift=2.642942670518071)]),\n",
              " RelationRecord(items=frozenset({'82494L', '82482'}), support=0.01972972972972973, ordered_statistics=[OrderedStatistic(items_base=frozenset(), items_add=frozenset({'82494L', '82482'}), confidence=0.01972972972972973, lift=1.0), OrderedStatistic(items_base=frozenset({'82482'}), items_add=frozenset({'82494L'}), confidence=0.45706618962432916, lift=12.715375200075322), OrderedStatistic(items_base=frozenset({'82494L'}), items_add=frozenset({'82482'}), confidence=0.5488721804511278, lift=12.715375200075323)]),\n",
              " RelationRecord(items=frozenset({'85099C', '85099B'}), support=0.022895752895752897, ordered_statistics=[OrderedStatistic(items_base=frozenset(), items_add=frozenset({'85099C', '85099B'}), confidence=0.022895752895752897, lift=1.0), OrderedStatistic(items_base=frozenset({'85099B'}), items_add=frozenset({'85099C'}), confidence=0.27775175644028105, lift=7.596378555230496), OrderedStatistic(items_base=frozenset({'85099C'}), items_add=frozenset({'85099B'}), confidence=0.6261879619852165, lift=7.596378555230495)]),\n",
              " RelationRecord(items=frozenset({'85099F', '85099B'}), support=0.021042471042471044, ordered_statistics=[OrderedStatistic(items_base=frozenset(), items_add=frozenset({'85099F', '85099B'}), confidence=0.021042471042471044, lift=1.0), OrderedStatistic(items_base=frozenset({'85099B'}), items_add=frozenset({'85099F'}), confidence=0.25526932084309134, lift=7.965633023898874), OrderedStatistic(items_base=frozenset({'85099F'}), items_add=frozenset({'85099B'}), confidence=0.6566265060240964, lift=7.965633023898874)]),\n",
              " RelationRecord(items=frozenset({'85123A', '85099B'}), support=0.015598455598455598, ordered_statistics=[OrderedStatistic(items_base=frozenset(), items_add=frozenset({'85123A', '85099B'}), confidence=0.015598455598455598, lift=1.0), OrderedStatistic(items_base=frozenset({'85099B'}), items_add=frozenset({'85123A'}), confidence=0.1892271662763466, lift=2.182094214851904), OrderedStatistic(items_base=frozenset({'85123A'}), items_add=frozenset({'85099B'}), confidence=0.1798753339269813, lift=2.182094214851904)]),\n",
              " RelationRecord(items=frozenset({'DOT', '85099B'}), support=0.018725868725868726, ordered_statistics=[OrderedStatistic(items_base=frozenset(), items_add=frozenset({'DOT', '85099B'}), confidence=0.018725868725868726, lift=1.0), OrderedStatistic(items_base=frozenset({'85099B'}), items_add=frozenset({'DOT'}), confidence=0.2271662763466042, lift=8.286769799122604), OrderedStatistic(items_base=frozenset({'DOT'}), items_add=frozenset({'85099B'}), confidence=0.6830985915492958, lift=8.286769799122604)])]"
            ]
          },
          "metadata": {},
          "execution_count": 44
        }
      ]
    },
    {
      "cell_type": "code",
      "source": [
        "three_itemset"
      ],
      "metadata": {
        "colab": {
          "base_uri": "https://localhost:8080/"
        },
        "id": "Q0fywfEyo7qI",
        "outputId": "ec6d6341-020a-4312-c4aa-a14e7661ef7f"
      },
      "execution_count": 45,
      "outputs": [
        {
          "output_type": "execute_result",
          "data": {
            "text/plain": [
              "[RelationRecord(items=frozenset({'22386', '21931', '85099B'}), support=0.016061776061776063, ordered_statistics=[OrderedStatistic(items_base=frozenset(), items_add=frozenset({'22386', '21931', '85099B'}), confidence=0.016061776061776063, lift=1.0), OrderedStatistic(items_base=frozenset({'21931'}), items_add=frozenset({'22386', '85099B'}), confidence=0.3463780183180683, lift=10.769736704007167), OrderedStatistic(items_base=frozenset({'22386'}), items_add=frozenset({'21931', '85099B'}), confidence=0.33793663688058495, lift=11.940735191278513), OrderedStatistic(items_base=frozenset({'85099B'}), items_add=frozenset({'22386', '21931'}), confidence=0.19484777517564403, lift=9.742388758782202), OrderedStatistic(items_base=frozenset({'22386', '21931'}), items_add=frozenset({'85099B'}), confidence=0.8030888030888031, lift=9.742388758782202), OrderedStatistic(items_base=frozenset({'21931', '85099B'}), items_add=frozenset({'22386'}), confidence=0.567530695770805, lift=11.940735191278513), OrderedStatistic(items_base=frozenset({'22386', '85099B'}), items_add=frozenset({'21931'}), confidence=0.4993997599039617, lift=10.769736704007167)]),\n",
              " RelationRecord(items=frozenset({'21931', '22411', '85099B'}), support=0.015096525096525096, ordered_statistics=[OrderedStatistic(items_base=frozenset(), items_add=frozenset({'21931', '22411', '85099B'}), confidence=0.015096525096525096, lift=1.0), OrderedStatistic(items_base=frozenset({'21931'}), items_add=frozenset({'22411', '85099B'}), confidence=0.32556203164029973, lift=12.34561730524709), OrderedStatistic(items_base=frozenset({'22411'}), items_add=frozenset({'21931', '85099B'}), confidence=0.32940185341196293, lift=11.639165079631432), OrderedStatistic(items_base=frozenset({'85099B'}), items_add=frozenset({'21931', '22411'}), confidence=0.18313817330210772, lift=9.034816549570646), OrderedStatistic(items_base=frozenset({'21931', '22411'}), items_add=frozenset({'85099B'}), confidence=0.7447619047619047, lift=9.034816549570648), OrderedStatistic(items_base=frozenset({'21931', '85099B'}), items_add=frozenset({'22411'}), confidence=0.5334242837653479, lift=11.639165079631432), OrderedStatistic(items_base=frozenset({'22411', '85099B'}), items_add=frozenset({'21931'}), confidence=0.5724743777452416, lift=12.345617305247092)]),\n",
              " RelationRecord(items=frozenset({'22699', '22697', '22423'}), support=0.015907335907335906, ordered_statistics=[OrderedStatistic(items_base=frozenset(), items_add=frozenset({'22699', '22697', '22423'}), confidence=0.015907335907335906, lift=1.0), OrderedStatistic(items_base=frozenset({'22423'}), items_add=frozenset({'22699', '22697'}), confidence=0.18968692449355432, lift=6.266443041304919), OrderedStatistic(items_base=frozenset({'22697'}), items_add=frozenset({'22699', '22423'}), confidence=0.3897824030274361, lift=18.79956096538286), OrderedStatistic(items_base=frozenset({'22699'}), items_add=frozenset({'22697', '22423'}), confidence=0.3678571428571428, lift=18.392857142857142), OrderedStatistic(items_base=frozenset({'22697', '22423'}), items_add=frozenset({'22699'}), confidence=0.7953667953667953, lift=18.392857142857142), OrderedStatistic(items_base=frozenset({'22699', '22423'}), items_add=frozenset({'22697'}), confidence=0.7672253258845437, lift=18.79956096538286), OrderedStatistic(items_base=frozenset({'22699', '22697'}), items_add=frozenset({'22423'}), confidence=0.5255102040816326, lift=6.26644304130492)]),\n",
              " RelationRecord(items=frozenset({'22699', '22697', '22698'}), support=0.021196911196911198, ordered_statistics=[OrderedStatistic(items_base=frozenset(), items_add=frozenset({'22699', '22697', '22698'}), confidence=0.021196911196911198, lift=1.0), OrderedStatistic(items_base=frozenset({'22697'}), items_add=frozenset({'22699', '22698'}), confidence=0.5193945127719962, lift=21.909312509437626), OrderedStatistic(items_base=frozenset({'22698'}), items_add=frozenset({'22699', '22697'}), confidence=0.6845386533665836, lift=22.614223370146064), OrderedStatistic(items_base=frozenset({'22699'}), items_add=frozenset({'22697', '22698'}), confidence=0.4901785714285714, lift=19.71370341614907), OrderedStatistic(items_base=frozenset({'22697', '22698'}), items_add=frozenset({'22699'}), confidence=0.8524844720496895, lift=19.71370341614907), OrderedStatistic(items_base=frozenset({'22699', '22697'}), items_add=frozenset({'22698'}), confidence=0.7002551020408164, lift=22.614223370146068), OrderedStatistic(items_base=frozenset({'22699', '22698'}), items_add=frozenset({'22697'}), confidence=0.8941368078175896, lift=21.909312509437626)])]"
            ]
          },
          "metadata": {},
          "execution_count": 45
        }
      ]
    },
    {
      "cell_type": "code",
      "source": [],
      "metadata": {
        "id": "UVAiUY5Xo9FP"
      },
      "execution_count": null,
      "outputs": []
    }
  ]
}