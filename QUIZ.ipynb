{
  "nbformat": 4,
  "nbformat_minor": 0,
  "metadata": {
    "colab": {
      "provenance": [],
      "toc_visible": true,
      "authorship_tag": "ABX9TyOR2bvXpsK8bjWkbo0j9G7I",
      "include_colab_link": true
    },
    "kernelspec": {
      "name": "python3",
      "display_name": "Python 3"
    },
    "language_info": {
      "name": "python"
    }
  },
  "cells": [
    {
      "cell_type": "markdown",
      "metadata": {
        "id": "view-in-github",
        "colab_type": "text"
      },
      "source": [
        "<a href=\"https://colab.research.google.com/github/sucheerarighthere/bsc_dpdm22/blob/main/QUIZ.ipynb\" target=\"_parent\"><img src=\"https://colab.research.google.com/assets/colab-badge.svg\" alt=\"Open In Colab\"/></a>"
      ]
    },
    {
      "cell_type": "markdown",
      "source": [
        "#QUIZ\n",
        "ทำนายปริมาณอุณหภูมิต่ำสุดของวันโดยการ\n",
        "จัดการเดต้าโดยการ"
      ],
      "metadata": {
        "id": "6Z-bd3EkoCTd"
      }
    },
    {
      "cell_type": "code",
      "source": [
        "import pandas as pd"
      ],
      "metadata": {
        "id": "WjS6x13zoDbz"
      },
      "execution_count": 3,
      "outputs": []
    },
    {
      "cell_type": "code",
      "source": [
        "from google.colab import drive\n",
        "drive.mount('/content/drive')\n",
        "     "
      ],
      "metadata": {
        "colab": {
          "base_uri": "https://localhost:8080/"
        },
        "id": "A9EXaEI_qmuB",
        "outputId": "d021ae16-4dce-4585-978d-311b5b9d602a"
      },
      "execution_count": 4,
      "outputs": [
        {
          "output_type": "stream",
          "name": "stdout",
          "text": [
            "Mounted at /content/drive\n"
          ]
        }
      ]
    },
    {
      "cell_type": "markdown",
      "source": [
        "##pressure ความกดอากาศ"
      ],
      "metadata": {
        "id": "UbtFsPb8ruYy"
      }
    },
    {
      "cell_type": "code",
      "source": [
        "#ขอนแก่นkk นครพนม np  เลยL สกลsk หนองคาย nk"
      ],
      "metadata": {
        "id": "iKRvJQzZqypU"
      },
      "execution_count": 8,
      "outputs": []
    },
    {
      "cell_type": "code",
      "source": [
        "KK_pressure = pd.read_excel('/content/drive/MyDrive/bsc_DPDM_data/อุตุ/ความกด(เปอร์เซ็นต์)/จ.ขอนแก่น.xlsx',skiprows=3).drop(0, axis=0)\n",
        "KK_pressure.head()"
      ],
      "metadata": {
        "colab": {
          "base_uri": "https://localhost:8080/",
          "height": 490
        },
        "id": "tXHbi4bNq-Pb",
        "outputId": "32f3f5b3-02e9-4dfa-b73a-3d8a9a1c6ee4"
      },
      "execution_count": 57,
      "outputs": [
        {
          "output_type": "execute_result",
          "data": {
            "text/plain": [
              "   ที่                     สถานี   เดือน/ปี   วันที่  Unnamed: 4  Unnamed: 5  \\\n",
              "1  1    352201-หนองคาย จ.หนองคาย 2011-10-01  1005.47     1006.65     1007.49   \n",
              "2  2    352201-หนองคาย จ.หนองคาย 2011-11-01  1011.79     1010.83     1010.74   \n",
              "3  3    352201-หนองคาย จ.หนองคาย 2011-12-01  1011.43     1012.57     1012.28   \n",
              "4  1    352201-หนองคาย จ.หนองคาย 2012-01-01  1015.67     1014.11     1012.91   \n",
              "5  2    352201-หนองคาย จ.หนองคาย 2012-02-01  1013.26     1012.92     1013.61   \n",
              "\n",
              "   Unnamed: 6  Unnamed: 7  Unnamed: 8  Unnamed: 9  ...  Unnamed: 25  \\\n",
              "1     1008.28     1009.88     1011.36     1011.17  ...      1010.76   \n",
              "2     1010.71     1010.09     1009.24     1008.03  ...      1014.07   \n",
              "3     1012.97     1013.09     1012.03     1012.05  ...      1012.88   \n",
              "4     1014.06     1015.51     1015.88     1017.72  ...      1010.91   \n",
              "5     1013.18     1011.26     1008.80     1008.16  ...      1005.75   \n",
              "\n",
              "   Unnamed: 26  Unnamed: 27  Unnamed: 28  Unnamed: 29  Unnamed: 30  \\\n",
              "1      1010.23      1011.34      1011.84      1011.89      1012.29   \n",
              "2      1015.40      1013.95      1012.35      1011.31      1009.59   \n",
              "3      1015.78      1018.56      1018.65      1016.88      1016.05   \n",
              "4      1011.27      1011.65      1012.56      1010.76      1010.26   \n",
              "5      1005.46      1004.80      1005.08      1006.57      1005.96   \n",
              "\n",
              "   Unnamed: 31  Unnamed: 32  Unnamed: 33       เฉลี่ย  \n",
              "1      1011.67       1011.3      1011.52  1010.350645  \n",
              "2      1010.13      1010.47            -  1011.717000  \n",
              "3      1014.98      1015.53       1016.4  1016.470000  \n",
              "4      1010.69      1012.34      1014.52  1012.484516  \n",
              "5      1006.53      1010.47            -  1009.749667  \n",
              "\n",
              "[5 rows x 35 columns]"
            ],
            "text/html": [
              "\n",
              "  <div id=\"df-8764660e-bee2-4f8d-a1aa-8e3ffa977c86\">\n",
              "    <div class=\"colab-df-container\">\n",
              "      <div>\n",
              "<style scoped>\n",
              "    .dataframe tbody tr th:only-of-type {\n",
              "        vertical-align: middle;\n",
              "    }\n",
              "\n",
              "    .dataframe tbody tr th {\n",
              "        vertical-align: top;\n",
              "    }\n",
              "\n",
              "    .dataframe thead th {\n",
              "        text-align: right;\n",
              "    }\n",
              "</style>\n",
              "<table border=\"1\" class=\"dataframe\">\n",
              "  <thead>\n",
              "    <tr style=\"text-align: right;\">\n",
              "      <th></th>\n",
              "      <th>ที่</th>\n",
              "      <th>สถานี</th>\n",
              "      <th>เดือน/ปี</th>\n",
              "      <th>วันที่</th>\n",
              "      <th>Unnamed: 4</th>\n",
              "      <th>Unnamed: 5</th>\n",
              "      <th>Unnamed: 6</th>\n",
              "      <th>Unnamed: 7</th>\n",
              "      <th>Unnamed: 8</th>\n",
              "      <th>Unnamed: 9</th>\n",
              "      <th>...</th>\n",
              "      <th>Unnamed: 25</th>\n",
              "      <th>Unnamed: 26</th>\n",
              "      <th>Unnamed: 27</th>\n",
              "      <th>Unnamed: 28</th>\n",
              "      <th>Unnamed: 29</th>\n",
              "      <th>Unnamed: 30</th>\n",
              "      <th>Unnamed: 31</th>\n",
              "      <th>Unnamed: 32</th>\n",
              "      <th>Unnamed: 33</th>\n",
              "      <th>เฉลี่ย</th>\n",
              "    </tr>\n",
              "  </thead>\n",
              "  <tbody>\n",
              "    <tr>\n",
              "      <th>1</th>\n",
              "      <td>1</td>\n",
              "      <td>352201-หนองคาย จ.หนองคาย</td>\n",
              "      <td>2011-10-01</td>\n",
              "      <td>1005.47</td>\n",
              "      <td>1006.65</td>\n",
              "      <td>1007.49</td>\n",
              "      <td>1008.28</td>\n",
              "      <td>1009.88</td>\n",
              "      <td>1011.36</td>\n",
              "      <td>1011.17</td>\n",
              "      <td>...</td>\n",
              "      <td>1010.76</td>\n",
              "      <td>1010.23</td>\n",
              "      <td>1011.34</td>\n",
              "      <td>1011.84</td>\n",
              "      <td>1011.89</td>\n",
              "      <td>1012.29</td>\n",
              "      <td>1011.67</td>\n",
              "      <td>1011.3</td>\n",
              "      <td>1011.52</td>\n",
              "      <td>1010.350645</td>\n",
              "    </tr>\n",
              "    <tr>\n",
              "      <th>2</th>\n",
              "      <td>2</td>\n",
              "      <td>352201-หนองคาย จ.หนองคาย</td>\n",
              "      <td>2011-11-01</td>\n",
              "      <td>1011.79</td>\n",
              "      <td>1010.83</td>\n",
              "      <td>1010.74</td>\n",
              "      <td>1010.71</td>\n",
              "      <td>1010.09</td>\n",
              "      <td>1009.24</td>\n",
              "      <td>1008.03</td>\n",
              "      <td>...</td>\n",
              "      <td>1014.07</td>\n",
              "      <td>1015.40</td>\n",
              "      <td>1013.95</td>\n",
              "      <td>1012.35</td>\n",
              "      <td>1011.31</td>\n",
              "      <td>1009.59</td>\n",
              "      <td>1010.13</td>\n",
              "      <td>1010.47</td>\n",
              "      <td>-</td>\n",
              "      <td>1011.717000</td>\n",
              "    </tr>\n",
              "    <tr>\n",
              "      <th>3</th>\n",
              "      <td>3</td>\n",
              "      <td>352201-หนองคาย จ.หนองคาย</td>\n",
              "      <td>2011-12-01</td>\n",
              "      <td>1011.43</td>\n",
              "      <td>1012.57</td>\n",
              "      <td>1012.28</td>\n",
              "      <td>1012.97</td>\n",
              "      <td>1013.09</td>\n",
              "      <td>1012.03</td>\n",
              "      <td>1012.05</td>\n",
              "      <td>...</td>\n",
              "      <td>1012.88</td>\n",
              "      <td>1015.78</td>\n",
              "      <td>1018.56</td>\n",
              "      <td>1018.65</td>\n",
              "      <td>1016.88</td>\n",
              "      <td>1016.05</td>\n",
              "      <td>1014.98</td>\n",
              "      <td>1015.53</td>\n",
              "      <td>1016.4</td>\n",
              "      <td>1016.470000</td>\n",
              "    </tr>\n",
              "    <tr>\n",
              "      <th>4</th>\n",
              "      <td>1</td>\n",
              "      <td>352201-หนองคาย จ.หนองคาย</td>\n",
              "      <td>2012-01-01</td>\n",
              "      <td>1015.67</td>\n",
              "      <td>1014.11</td>\n",
              "      <td>1012.91</td>\n",
              "      <td>1014.06</td>\n",
              "      <td>1015.51</td>\n",
              "      <td>1015.88</td>\n",
              "      <td>1017.72</td>\n",
              "      <td>...</td>\n",
              "      <td>1010.91</td>\n",
              "      <td>1011.27</td>\n",
              "      <td>1011.65</td>\n",
              "      <td>1012.56</td>\n",
              "      <td>1010.76</td>\n",
              "      <td>1010.26</td>\n",
              "      <td>1010.69</td>\n",
              "      <td>1012.34</td>\n",
              "      <td>1014.52</td>\n",
              "      <td>1012.484516</td>\n",
              "    </tr>\n",
              "    <tr>\n",
              "      <th>5</th>\n",
              "      <td>2</td>\n",
              "      <td>352201-หนองคาย จ.หนองคาย</td>\n",
              "      <td>2012-02-01</td>\n",
              "      <td>1013.26</td>\n",
              "      <td>1012.92</td>\n",
              "      <td>1013.61</td>\n",
              "      <td>1013.18</td>\n",
              "      <td>1011.26</td>\n",
              "      <td>1008.80</td>\n",
              "      <td>1008.16</td>\n",
              "      <td>...</td>\n",
              "      <td>1005.75</td>\n",
              "      <td>1005.46</td>\n",
              "      <td>1004.80</td>\n",
              "      <td>1005.08</td>\n",
              "      <td>1006.57</td>\n",
              "      <td>1005.96</td>\n",
              "      <td>1006.53</td>\n",
              "      <td>1010.47</td>\n",
              "      <td>-</td>\n",
              "      <td>1009.749667</td>\n",
              "    </tr>\n",
              "  </tbody>\n",
              "</table>\n",
              "<p>5 rows × 35 columns</p>\n",
              "</div>\n",
              "      <button class=\"colab-df-convert\" onclick=\"convertToInteractive('df-8764660e-bee2-4f8d-a1aa-8e3ffa977c86')\"\n",
              "              title=\"Convert this dataframe to an interactive table.\"\n",
              "              style=\"display:none;\">\n",
              "        \n",
              "  <svg xmlns=\"http://www.w3.org/2000/svg\" height=\"24px\"viewBox=\"0 0 24 24\"\n",
              "       width=\"24px\">\n",
              "    <path d=\"M0 0h24v24H0V0z\" fill=\"none\"/>\n",
              "    <path d=\"M18.56 5.44l.94 2.06.94-2.06 2.06-.94-2.06-.94-.94-2.06-.94 2.06-2.06.94zm-11 1L8.5 8.5l.94-2.06 2.06-.94-2.06-.94L8.5 2.5l-.94 2.06-2.06.94zm10 10l.94 2.06.94-2.06 2.06-.94-2.06-.94-.94-2.06-.94 2.06-2.06.94z\"/><path d=\"M17.41 7.96l-1.37-1.37c-.4-.4-.92-.59-1.43-.59-.52 0-1.04.2-1.43.59L10.3 9.45l-7.72 7.72c-.78.78-.78 2.05 0 2.83L4 21.41c.39.39.9.59 1.41.59.51 0 1.02-.2 1.41-.59l7.78-7.78 2.81-2.81c.8-.78.8-2.07 0-2.86zM5.41 20L4 18.59l7.72-7.72 1.47 1.35L5.41 20z\"/>\n",
              "  </svg>\n",
              "      </button>\n",
              "      \n",
              "  <style>\n",
              "    .colab-df-container {\n",
              "      display:flex;\n",
              "      flex-wrap:wrap;\n",
              "      gap: 12px;\n",
              "    }\n",
              "\n",
              "    .colab-df-convert {\n",
              "      background-color: #E8F0FE;\n",
              "      border: none;\n",
              "      border-radius: 50%;\n",
              "      cursor: pointer;\n",
              "      display: none;\n",
              "      fill: #1967D2;\n",
              "      height: 32px;\n",
              "      padding: 0 0 0 0;\n",
              "      width: 32px;\n",
              "    }\n",
              "\n",
              "    .colab-df-convert:hover {\n",
              "      background-color: #E2EBFA;\n",
              "      box-shadow: 0px 1px 2px rgba(60, 64, 67, 0.3), 0px 1px 3px 1px rgba(60, 64, 67, 0.15);\n",
              "      fill: #174EA6;\n",
              "    }\n",
              "\n",
              "    [theme=dark] .colab-df-convert {\n",
              "      background-color: #3B4455;\n",
              "      fill: #D2E3FC;\n",
              "    }\n",
              "\n",
              "    [theme=dark] .colab-df-convert:hover {\n",
              "      background-color: #434B5C;\n",
              "      box-shadow: 0px 1px 3px 1px rgba(0, 0, 0, 0.15);\n",
              "      filter: drop-shadow(0px 1px 2px rgba(0, 0, 0, 0.3));\n",
              "      fill: #FFFFFF;\n",
              "    }\n",
              "  </style>\n",
              "\n",
              "      <script>\n",
              "        const buttonEl =\n",
              "          document.querySelector('#df-8764660e-bee2-4f8d-a1aa-8e3ffa977c86 button.colab-df-convert');\n",
              "        buttonEl.style.display =\n",
              "          google.colab.kernel.accessAllowed ? 'block' : 'none';\n",
              "\n",
              "        async function convertToInteractive(key) {\n",
              "          const element = document.querySelector('#df-8764660e-bee2-4f8d-a1aa-8e3ffa977c86');\n",
              "          const dataTable =\n",
              "            await google.colab.kernel.invokeFunction('convertToInteractive',\n",
              "                                                     [key], {});\n",
              "          if (!dataTable) return;\n",
              "\n",
              "          const docLinkHtml = 'Like what you see? Visit the ' +\n",
              "            '<a target=\"_blank\" href=https://colab.research.google.com/notebooks/data_table.ipynb>data table notebook</a>'\n",
              "            + ' to learn more about interactive tables.';\n",
              "          element.innerHTML = '';\n",
              "          dataTable['output_type'] = 'display_data';\n",
              "          await google.colab.output.renderOutput(dataTable, element);\n",
              "          const docLink = document.createElement('div');\n",
              "          docLink.innerHTML = docLinkHtml;\n",
              "          element.appendChild(docLink);\n",
              "        }\n",
              "      </script>\n",
              "    </div>\n",
              "  </div>\n",
              "  "
            ]
          },
          "metadata": {},
          "execution_count": 57
        }
      ]
    },
    {
      "cell_type": "code",
      "source": [
        "NP_pressure = pd.read_excel('/content/drive/MyDrive/bsc_DPDM_data/อุตุ/ความกด(เปอร์เซ็นต์)/จ.นครพนม.xlsx',skiprows=3).drop(0, axis=0)"
      ],
      "metadata": {
        "id": "geG5BJyqrNFr"
      },
      "execution_count": 60,
      "outputs": []
    },
    {
      "cell_type": "code",
      "source": [
        "L_pressure = pd.read_excel('/content/drive/MyDrive/bsc_DPDM_data/อุตุ/ความกด(เปอร์เซ็นต์)/จ.เลย.xlsx',skiprows=3).drop(0, axis=0)"
      ],
      "metadata": {
        "id": "6967L2bprbx2"
      },
      "execution_count": 73,
      "outputs": []
    },
    {
      "cell_type": "code",
      "source": [
        "SK_pressure = pd.read_excel('/content/drive/MyDrive/bsc_DPDM_data/อุตุ/ความกด(เปอร์เซ็นต์)/จ.สกลนคร.xlsx',skiprows=3).drop(0, axis=0)"
      ],
      "metadata": {
        "id": "KGVyADpnreCy"
      },
      "execution_count": 74,
      "outputs": []
    },
    {
      "cell_type": "code",
      "source": [
        "NK_pressure = pd.read_excel('/content/drive/MyDrive/bsc_DPDM_data/อุตุ/ความกด(เปอร์เซ็นต์)/จ.หนองคาย.xlsx',skiprows=3).drop(0, axis=0)"
      ],
      "metadata": {
        "id": "3LGOtZwbrgQK"
      },
      "execution_count": 75,
      "outputs": []
    },
    {
      "cell_type": "markdown",
      "source": [
        "## Relative humidity ความชื้นสัมพัทธ์"
      ],
      "metadata": {
        "id": "P63-1523rxk4"
      }
    },
    {
      "cell_type": "code",
      "source": [
        "KK_rh = pd.read_excel('/content/drive/MyDrive/bsc_DPDM_data/อุตุ/ความชื้นสัมพัทธ์(เปอร์เซ็นต์)/จ.ขอนแก่น.xlsx',skiprows=3).drop(0, axis=0)"
      ],
      "metadata": {
        "id": "fNdmRD4Jr5iE"
      },
      "execution_count": 85,
      "outputs": []
    },
    {
      "cell_type": "code",
      "source": [
        "NP_rh = pd.read_excel('/content/drive/MyDrive/bsc_DPDM_data/อุตุ/ความชื้นสัมพัทธ์(เปอร์เซ็นต์)/จ.นครพนม.xlsx',skiprows=3).drop(0, axis=0)"
      ],
      "metadata": {
        "id": "pGEXnRu9sCr-"
      },
      "execution_count": 86,
      "outputs": []
    },
    {
      "cell_type": "code",
      "source": [
        "SK_rh = pd.read_excel('/content/drive/MyDrive/bsc_DPDM_data/อุตุ/ความชื้นสัมพัทธ์(เปอร์เซ็นต์)/จ.สกลนคร.xlsx',skiprows=3).drop(0, axis=0)"
      ],
      "metadata": {
        "id": "k1jwe1k1sDpM"
      },
      "execution_count": 87,
      "outputs": []
    },
    {
      "cell_type": "code",
      "source": [
        "NK_rh = pd.read_excel('/content/drive/MyDrive/bsc_DPDM_data/อุตุ/ความชื้นสัมพัทธ์(เปอร์เซ็นต์)/จ.หนองคาย.xlsx',skiprows=3).drop(0, axis=0)"
      ],
      "metadata": {
        "id": "Ek9RVH3IsEhP"
      },
      "execution_count": 88,
      "outputs": []
    },
    {
      "cell_type": "code",
      "source": [
        "L_rh = pd.read_excel('/content/drive/MyDrive/bsc_DPDM_data/อุตุ/ความชื้นสัมพัทธ์(เปอร์เซ็นต์)/จ.เลย.xlsx',skiprows=3).drop(0, axis=0)"
      ],
      "metadata": {
        "id": "MKa0zkggsFBZ"
      },
      "execution_count": 89,
      "outputs": []
    },
    {
      "cell_type": "markdown",
      "source": [
        "## Wind Speed ความเร็วลม"
      ],
      "metadata": {
        "id": "ss2k7LKbsonB"
      }
    },
    {
      "cell_type": "code",
      "source": [
        "KK_ws =pd.read_excel('/content/drive/MyDrive/bsc_DPDM_data/อุตุ/ความเร็วลม(นอต)/จ.ขอนแก่น.xlsx',skiprows=3).drop(0, axis=0)"
      ],
      "metadata": {
        "id": "fUb0FVkRstWr"
      },
      "execution_count": 99,
      "outputs": []
    },
    {
      "cell_type": "code",
      "source": [
        "NP_ws =pd.read_excel('/content/drive/MyDrive/bsc_DPDM_data/อุตุ/ความเร็วลม(นอต)/จ.นครพนม.xlsx',skiprows=3).drop(0, axis=0)"
      ],
      "metadata": {
        "id": "0e3NMY1Ks0Ri"
      },
      "execution_count": 98,
      "outputs": []
    },
    {
      "cell_type": "code",
      "source": [
        "SK_ws =pd.read_excel('/content/drive/MyDrive/bsc_DPDM_data/อุตุ/ความเร็วลม(นอต)/จ.สกลนคร.xlsx',skiprows=3).drop(0, axis=0)"
      ],
      "metadata": {
        "id": "4lmRKA63s0pS"
      },
      "execution_count": 97,
      "outputs": []
    },
    {
      "cell_type": "code",
      "source": [
        "NK_ws =pd.read_excel('/content/drive/MyDrive/bsc_DPDM_data/อุตุ/ความเร็วลม(นอต)/จ.หนองคาย.xlsx',skiprows=3).drop(0, axis=0)"
      ],
      "metadata": {
        "id": "GikeBSAUs1A6"
      },
      "execution_count": 96,
      "outputs": []
    },
    {
      "cell_type": "code",
      "source": [
        "L_ws =pd.read_excel('/content/drive/MyDrive/bsc_DPDM_data/อุตุ/ความเร็วลม(นอต)/จ.เลย.xlsx',skiprows=3).drop(0, axis=0)"
      ],
      "metadata": {
        "id": "5Cp4xTUSs1Ro"
      },
      "execution_count": 95,
      "outputs": []
    },
    {
      "cell_type": "markdown",
      "source": [
        "## CLound Amount"
      ],
      "metadata": {
        "id": "JWlLbLP9t9q6"
      }
    },
    {
      "cell_type": "code",
      "source": [
        "KK_ca = pd.read_excel('/content/drive/MyDrive/bsc_DPDM_data/อุตุ/จำนวนเมฆ(10ส่วน)/จ.ขอนแก่น.xlsx',skiprows=3).drop(0, axis=0)"
      ],
      "metadata": {
        "id": "fcAKuXLVuShP"
      },
      "execution_count": 90,
      "outputs": []
    },
    {
      "cell_type": "code",
      "source": [
        "NP_ca = pd.read_excel('/content/drive/MyDrive/bsc_DPDM_data/อุตุ/จำนวนเมฆ(10ส่วน)/จ.นครพนม.xlsx',skiprows=3).drop(0, axis=0)"
      ],
      "metadata": {
        "id": "y5Dm_CFFuhkc"
      },
      "execution_count": 91,
      "outputs": []
    },
    {
      "cell_type": "code",
      "source": [
        "SK_ca = pd.read_excel('/content/drive/MyDrive/bsc_DPDM_data/อุตุ/จำนวนเมฆ(10ส่วน)/จ.สกลนคร.xlsx',skiprows=3).drop(0, axis=0)"
      ],
      "metadata": {
        "id": "I8L4pTt-uh1z"
      },
      "execution_count": 92,
      "outputs": []
    },
    {
      "cell_type": "code",
      "source": [
        "NK = pd.read_excel('/content/drive/MyDrive/bsc_DPDM_data/อุตุ/จำนวนเมฆ(10ส่วน)/จ.หนองคาย.xlsx',skiprows=3).drop(0, axis=0)"
      ],
      "metadata": {
        "id": "pyD_a-BduiKs"
      },
      "execution_count": 93,
      "outputs": []
    },
    {
      "cell_type": "code",
      "source": [
        "L_ca = pd.read_excel('/content/drive/MyDrive/bsc_DPDM_data/อุตุ/จำนวนเมฆ(10ส่วน)/จ.เลย.xlsx',skiprows=3).drop(0, axis=0)"
      ],
      "metadata": {
        "id": "npHQsUvKuiqM"
      },
      "execution_count": 94,
      "outputs": []
    },
    {
      "cell_type": "markdown",
      "source": [
        "## amount of rain"
      ],
      "metadata": {
        "id": "LjQZkTVPubus"
      }
    },
    {
      "cell_type": "code",
      "source": [
        "KK_ar = pd.read_excel('/content/drive/MyDrive/bsc_DPDM_data/อุตุ/ปริมาณฝน(มิลลิเมตร)/จ.ขอนแก่น.xlsx',skiprows=3).drop(0, axis=0)"
      ],
      "metadata": {
        "id": "6lyeUtmMuc4T"
      },
      "execution_count": 101,
      "outputs": []
    },
    {
      "cell_type": "code",
      "source": [
        "NP_ar = pd.read_excel('/content/drive/MyDrive/bsc_DPDM_data/อุตุ/ปริมาณฝน(มิลลิเมตร)/จ.นครพนม.xlsx',skiprows=3).drop(0, axis=0)"
      ],
      "metadata": {
        "id": "_dG7m6oRvNAZ"
      },
      "execution_count": 102,
      "outputs": []
    },
    {
      "cell_type": "code",
      "source": [
        "SK_ar = pd.read_excel('/content/drive/MyDrive/bsc_DPDM_data/อุตุ/ปริมาณฝน(มิลลิเมตร)/จ.สกล.xlsx',skiprows=3).drop(0, axis=0)"
      ],
      "metadata": {
        "id": "CfET9l2LvNUL"
      },
      "execution_count": 103,
      "outputs": []
    },
    {
      "cell_type": "code",
      "source": [
        "NK_ar = pd.read_excel('/content/drive/MyDrive/bsc_DPDM_data/อุตุ/ปริมาณฝน(มิลลิเมตร)/จ.หนองคาย.xlsx',skiprows=3).drop(0, axis=0)"
      ],
      "metadata": {
        "id": "WONF5SaJvNp6"
      },
      "execution_count": 104,
      "outputs": []
    },
    {
      "cell_type": "code",
      "source": [
        "L_ar = pd.read_excel('/content/drive/MyDrive/bsc_DPDM_data/อุตุ/ปริมาณฝน(มิลลิเมตร)/จ.เลย.xlsx',skiprows=3).drop(0, axis=0)"
      ],
      "metadata": {
        "id": "PTN1ap47vN8P"
      },
      "execution_count": 100,
      "outputs": []
    },
    {
      "cell_type": "markdown",
      "source": [
        "## dew point temperature อุณหภูมิจุดน้ำค้าง"
      ],
      "metadata": {
        "id": "LtzH2yhpvmdt"
      }
    },
    {
      "cell_type": "code",
      "source": [
        "KK_dpt = pd.read_excel('/content/drive/MyDrive/bsc_DPDM_data/อุตุ/อุณหภูมิจุดน้ำค้าง(เซลเซียส)/จ.ขอนแก่น.xlsx',skiprows=3).drop(0, axis=0)"
      ],
      "metadata": {
        "id": "NIqil40pvqDk"
      },
      "execution_count": 106,
      "outputs": []
    },
    {
      "cell_type": "code",
      "source": [
        "NP_dpt = pd.read_excel('/content/drive/MyDrive/bsc_DPDM_data/อุตุ/อุณหภูมิจุดน้ำค้าง(เซลเซียส)/จ.นครพนม.xlsx',skiprows=3).drop(0, axis=0)"
      ],
      "metadata": {
        "id": "6LFsgWn1v2oD"
      },
      "execution_count": 107,
      "outputs": []
    },
    {
      "cell_type": "code",
      "source": [
        "SK_dpt = pd.read_excel('/content/drive/MyDrive/bsc_DPDM_data/อุตุ/อุณหภูมิจุดน้ำค้าง(เซลเซียส)/จ.นครพนม.xlsx',skiprows=3).drop(0, axis=0)"
      ],
      "metadata": {
        "id": "_M5V0EASv26x"
      },
      "execution_count": 108,
      "outputs": []
    },
    {
      "cell_type": "code",
      "source": [
        "NK_dpt = pd.read_excel('/content/drive/MyDrive/bsc_DPDM_data/อุตุ/อุณหภูมิจุดน้ำค้าง(เซลเซียส)/จ.หนองคาย.xlsx',skiprows=3).drop(0, axis=0)"
      ],
      "metadata": {
        "id": "QoewpICPv3J0"
      },
      "execution_count": 109,
      "outputs": []
    },
    {
      "cell_type": "code",
      "source": [
        "L_dpt = pd.read_excel('/content/drive/MyDrive/bsc_DPDM_data/อุตุ/อุณหภูมิจุดน้ำค้าง(เซลเซียส)/จ.เลย.xlsx',skiprows=3).drop(0, axis=0)"
      ],
      "metadata": {
        "id": "gLpzDlVsv3j6"
      },
      "execution_count": 105,
      "outputs": []
    },
    {
      "cell_type": "markdown",
      "source": [
        "##  dry weight temperature ตุ้มแห้ง"
      ],
      "metadata": {
        "id": "7aIy3vVrwQMj"
      }
    },
    {
      "cell_type": "code",
      "source": [
        "KK_dwt = pd.read_excel('/content/drive/MyDrive/bsc_DPDM_data/อุตุ/อุณหภูมิตุ้มแห้ง(เซลเซียส)/จ.ขอนแก่น.xlsx',skiprows=3).drop(0, axis=0)"
      ],
      "metadata": {
        "id": "CzPniaH_wS_L"
      },
      "execution_count": 115,
      "outputs": []
    },
    {
      "cell_type": "code",
      "source": [
        "NP_dwt = pd.read_excel('/content/drive/MyDrive/bsc_DPDM_data/อุตุ/อุณหภูมิตุ้มแห้ง(เซลเซียส)/จ.นครพนม.xlsx',skiprows=3).drop(0, axis=0)"
      ],
      "metadata": {
        "id": "JQ6oYc3kwZiu"
      },
      "execution_count": 116,
      "outputs": []
    },
    {
      "cell_type": "code",
      "source": [
        "SK_dwt = pd.read_excel('/content/drive/MyDrive/bsc_DPDM_data/อุตุ/อุณหภูมิตุ้มแห้ง(เซลเซียส)/จ.สกล.xlsx',skiprows=3).drop(0, axis=0)"
      ],
      "metadata": {
        "id": "iWkqgcWtwZ-K"
      },
      "execution_count": 117,
      "outputs": []
    },
    {
      "cell_type": "code",
      "source": [
        "NK_dwt = pd.read_excel('/content/drive/MyDrive/bsc_DPDM_data/อุตุ/อุณหภูมิตุ้มแห้ง(เซลเซียส)/จ.หนองคาย.xlsx',skiprows=3).drop(0, axis=0)"
      ],
      "metadata": {
        "id": "g-VAf38CwaPN"
      },
      "execution_count": 118,
      "outputs": []
    },
    {
      "cell_type": "code",
      "source": [
        "L_dwt = pd.read_excel('/content/drive/MyDrive/bsc_DPDM_data/อุตุ/อุณหภูมิตุ้มแห้ง(เซลเซียส)/จ.เลย.xlsx',skiprows=3).drop(0, axis=0)"
      ],
      "metadata": {
        "id": "4DxNxrrcwjGQ"
      },
      "execution_count": 119,
      "outputs": []
    },
    {
      "cell_type": "markdown",
      "source": [
        "## lowest temperature อุณหภูมิต่ำสุด"
      ],
      "metadata": {
        "id": "rqZPABnAwwLD"
      }
    },
    {
      "cell_type": "code",
      "source": [
        "KK_lt =pd.read_excel('/content/drive/MyDrive/bsc_DPDM_data/อุตุ/อุณหภูมิต่ำสุด(เซลเซียส)/จ.ขอนแก่น.xlsx',skiprows=3).drop(0, axis=0)"
      ],
      "metadata": {
        "id": "0Tp8o7l1wxpb"
      },
      "execution_count": 110,
      "outputs": []
    },
    {
      "cell_type": "code",
      "source": [
        "NP_lt =pd.read_excel('/content/drive/MyDrive/bsc_DPDM_data/อุตุ/อุณหภูมิต่ำสุด(เซลเซียส)/จ.นครพนม.xlsx',skiprows=3).drop(0, axis=0)"
      ],
      "metadata": {
        "id": "vA_qGr-jw-4s"
      },
      "execution_count": 111,
      "outputs": []
    },
    {
      "cell_type": "code",
      "source": [
        "SK_lt =pd.read_excel('/content/drive/MyDrive/bsc_DPDM_data/อุตุ/อุณหภูมิต่ำสุด(เซลเซียส)/จ.สกล.xlsx',skiprows=3).drop(0, axis=0)"
      ],
      "metadata": {
        "id": "prnms7R6xAav"
      },
      "execution_count": 112,
      "outputs": []
    },
    {
      "cell_type": "code",
      "source": [
        "NK_lt =pd.read_excel('/content/drive/MyDrive/bsc_DPDM_data/อุตุ/อุณหภูมิต่ำสุด(เซลเซียส)/จ.หนองคาย.xlsx',skiprows=3).drop(0, axis=0)"
      ],
      "metadata": {
        "id": "C0d4bgFyxAzQ"
      },
      "execution_count": 113,
      "outputs": []
    },
    {
      "cell_type": "code",
      "source": [
        "L_lt =pd.read_excel('/content/drive/MyDrive/bsc_DPDM_data/อุตุ/อุณหภูมิต่ำสุด(เซลเซียส)/จ.เลย.xlsx',skiprows=3).drop(0, axis=0)"
      ],
      "metadata": {
        "id": "57yNm_T2xBYJ"
      },
      "execution_count": 114,
      "outputs": []
    },
    {
      "cell_type": "code",
      "source": [],
      "metadata": {
        "id": "tI-wkVRExSVh"
      },
      "execution_count": null,
      "outputs": []
    },
    {
      "cell_type": "markdown",
      "source": [
        "#ส่วนรวมตาราง\n"
      ],
      "metadata": {
        "id": "rSeNUZrUyVD2"
      }
    },
    {
      "cell_type": "code",
      "source": [
        "pressure = pd.concat([KK_pressure,NP_pressure,SK_pressure,L_pressure,NK_pressure])"
      ],
      "metadata": {
        "id": "rQ00wkmqyY66"
      },
      "execution_count": 71,
      "outputs": []
    },
    {
      "cell_type": "code",
      "source": [
        "rh = pd.concat([KK_rh,NP_rh,SK_rh,L_rh,L_rh])"
      ],
      "metadata": {
        "id": "8fiQfMW116Pz"
      },
      "execution_count": 124,
      "outputs": []
    },
    {
      "cell_type": "code",
      "source": [
        "rh"
      ],
      "metadata": {
        "colab": {
          "base_uri": "https://localhost:8080/",
          "height": 852
        },
        "id": "dF2tQIha227A",
        "outputId": "a04b4056-e897-4892-8217-dbbffcea40e7"
      },
      "execution_count": 125,
      "outputs": [
        {
          "output_type": "execute_result",
          "data": {
            "text/plain": [
              "     ที่                     สถานี   เดือน/ปี  วันที่  Unnamed: 4  Unnamed: 5  \\\n",
              "1    1    381201-ขอนแก่น จ.ขอนแก่น 2011-10-01      83          92          86   \n",
              "2    2    381201-ขอนแก่น จ.ขอนแก่น 2011-11-01      71          65          68   \n",
              "3    3    381201-ขอนแก่น จ.ขอนแก่น 2011-12-01      66          61          61   \n",
              "4    1    381201-ขอนแก่น จ.ขอนแก่น 2012-01-01      65          66          69   \n",
              "5    2    381201-ขอนแก่น จ.ขอนแก่น 2012-02-01      71          72          71   \n",
              "..   ...                       ...        ...     ...         ...         ...   \n",
              "51  48       353301-เลย สกษ. จ.เลย 2021-10-01      91          88          87   \n",
              "52  49       353301-เลย สกษ. จ.เลย 2021-11-01      90          86          85   \n",
              "53  50       353301-เลย สกษ. จ.เลย 2021-12-01      76          73          73   \n",
              "54   1       353301-เลย สกษ. จ.เลย 2022-01-01      74          74          77   \n",
              "55   2       353301-เลย สกษ. จ.เลย 2022-02-01      75          75          82   \n",
              "\n",
              "    Unnamed: 6  Unnamed: 7  Unnamed: 8  Unnamed: 9  ...  Unnamed: 25  \\\n",
              "1           80          86          86          83  ...           73   \n",
              "2           65          65          68          69  ...           65   \n",
              "3           62          61          60          69  ...           63   \n",
              "4           63          64          68          65  ...           80   \n",
              "5           72          70          68          61  ...           58   \n",
              "..         ...         ...         ...         ...  ...          ...   \n",
              "51          86          84          88          83  ...           83   \n",
              "52          86          83          85          84  ...           77   \n",
              "53          72          70          70          69  ...           77   \n",
              "54          79          74          73          76  ...           87   \n",
              "55          82          78          81          71  ...           76   \n",
              "\n",
              "    Unnamed: 26  Unnamed: 27  Unnamed: 28  Unnamed: 29  Unnamed: 30  \\\n",
              "1            72           73           69           69           75   \n",
              "2            66           65           67           68           67   \n",
              "3            62           60           60           62           65   \n",
              "4            74           75           71           75           69   \n",
              "5            53           48           57           71           73   \n",
              "..          ...          ...          ...          ...          ...   \n",
              "51           89           86           88           89           88   \n",
              "52           77           78           77           82           80   \n",
              "53           78           82           77           75           76   \n",
              "54           75           70           68           70           72   \n",
              "55           74           74           74           74           72   \n",
              "\n",
              "    Unnamed: 31  Unnamed: 32  Unnamed: 33  เฉลี่ย  \n",
              "1            71           71           68    79.0  \n",
              "2            67           65            -    68.0  \n",
              "3            66           63           64    63.0  \n",
              "4            70           67           68    69.0  \n",
              "5            68            -            -    65.0  \n",
              "..          ...          ...          ...     ...  \n",
              "51           93           89           90    89.0  \n",
              "52           81           77            -    82.0  \n",
              "53           78           76           72    75.0  \n",
              "54           68           65           67    75.0  \n",
              "55            -            -            -    80.0  \n",
              "\n",
              "[275 rows x 35 columns]"
            ],
            "text/html": [
              "\n",
              "  <div id=\"df-ec199441-45a7-403a-9f3e-2af1244dfa30\">\n",
              "    <div class=\"colab-df-container\">\n",
              "      <div>\n",
              "<style scoped>\n",
              "    .dataframe tbody tr th:only-of-type {\n",
              "        vertical-align: middle;\n",
              "    }\n",
              "\n",
              "    .dataframe tbody tr th {\n",
              "        vertical-align: top;\n",
              "    }\n",
              "\n",
              "    .dataframe thead th {\n",
              "        text-align: right;\n",
              "    }\n",
              "</style>\n",
              "<table border=\"1\" class=\"dataframe\">\n",
              "  <thead>\n",
              "    <tr style=\"text-align: right;\">\n",
              "      <th></th>\n",
              "      <th>ที่</th>\n",
              "      <th>สถานี</th>\n",
              "      <th>เดือน/ปี</th>\n",
              "      <th>วันที่</th>\n",
              "      <th>Unnamed: 4</th>\n",
              "      <th>Unnamed: 5</th>\n",
              "      <th>Unnamed: 6</th>\n",
              "      <th>Unnamed: 7</th>\n",
              "      <th>Unnamed: 8</th>\n",
              "      <th>Unnamed: 9</th>\n",
              "      <th>...</th>\n",
              "      <th>Unnamed: 25</th>\n",
              "      <th>Unnamed: 26</th>\n",
              "      <th>Unnamed: 27</th>\n",
              "      <th>Unnamed: 28</th>\n",
              "      <th>Unnamed: 29</th>\n",
              "      <th>Unnamed: 30</th>\n",
              "      <th>Unnamed: 31</th>\n",
              "      <th>Unnamed: 32</th>\n",
              "      <th>Unnamed: 33</th>\n",
              "      <th>เฉลี่ย</th>\n",
              "    </tr>\n",
              "  </thead>\n",
              "  <tbody>\n",
              "    <tr>\n",
              "      <th>1</th>\n",
              "      <td>1</td>\n",
              "      <td>381201-ขอนแก่น จ.ขอนแก่น</td>\n",
              "      <td>2011-10-01</td>\n",
              "      <td>83</td>\n",
              "      <td>92</td>\n",
              "      <td>86</td>\n",
              "      <td>80</td>\n",
              "      <td>86</td>\n",
              "      <td>86</td>\n",
              "      <td>83</td>\n",
              "      <td>...</td>\n",
              "      <td>73</td>\n",
              "      <td>72</td>\n",
              "      <td>73</td>\n",
              "      <td>69</td>\n",
              "      <td>69</td>\n",
              "      <td>75</td>\n",
              "      <td>71</td>\n",
              "      <td>71</td>\n",
              "      <td>68</td>\n",
              "      <td>79.0</td>\n",
              "    </tr>\n",
              "    <tr>\n",
              "      <th>2</th>\n",
              "      <td>2</td>\n",
              "      <td>381201-ขอนแก่น จ.ขอนแก่น</td>\n",
              "      <td>2011-11-01</td>\n",
              "      <td>71</td>\n",
              "      <td>65</td>\n",
              "      <td>68</td>\n",
              "      <td>65</td>\n",
              "      <td>65</td>\n",
              "      <td>68</td>\n",
              "      <td>69</td>\n",
              "      <td>...</td>\n",
              "      <td>65</td>\n",
              "      <td>66</td>\n",
              "      <td>65</td>\n",
              "      <td>67</td>\n",
              "      <td>68</td>\n",
              "      <td>67</td>\n",
              "      <td>67</td>\n",
              "      <td>65</td>\n",
              "      <td>-</td>\n",
              "      <td>68.0</td>\n",
              "    </tr>\n",
              "    <tr>\n",
              "      <th>3</th>\n",
              "      <td>3</td>\n",
              "      <td>381201-ขอนแก่น จ.ขอนแก่น</td>\n",
              "      <td>2011-12-01</td>\n",
              "      <td>66</td>\n",
              "      <td>61</td>\n",
              "      <td>61</td>\n",
              "      <td>62</td>\n",
              "      <td>61</td>\n",
              "      <td>60</td>\n",
              "      <td>69</td>\n",
              "      <td>...</td>\n",
              "      <td>63</td>\n",
              "      <td>62</td>\n",
              "      <td>60</td>\n",
              "      <td>60</td>\n",
              "      <td>62</td>\n",
              "      <td>65</td>\n",
              "      <td>66</td>\n",
              "      <td>63</td>\n",
              "      <td>64</td>\n",
              "      <td>63.0</td>\n",
              "    </tr>\n",
              "    <tr>\n",
              "      <th>4</th>\n",
              "      <td>1</td>\n",
              "      <td>381201-ขอนแก่น จ.ขอนแก่น</td>\n",
              "      <td>2012-01-01</td>\n",
              "      <td>65</td>\n",
              "      <td>66</td>\n",
              "      <td>69</td>\n",
              "      <td>63</td>\n",
              "      <td>64</td>\n",
              "      <td>68</td>\n",
              "      <td>65</td>\n",
              "      <td>...</td>\n",
              "      <td>80</td>\n",
              "      <td>74</td>\n",
              "      <td>75</td>\n",
              "      <td>71</td>\n",
              "      <td>75</td>\n",
              "      <td>69</td>\n",
              "      <td>70</td>\n",
              "      <td>67</td>\n",
              "      <td>68</td>\n",
              "      <td>69.0</td>\n",
              "    </tr>\n",
              "    <tr>\n",
              "      <th>5</th>\n",
              "      <td>2</td>\n",
              "      <td>381201-ขอนแก่น จ.ขอนแก่น</td>\n",
              "      <td>2012-02-01</td>\n",
              "      <td>71</td>\n",
              "      <td>72</td>\n",
              "      <td>71</td>\n",
              "      <td>72</td>\n",
              "      <td>70</td>\n",
              "      <td>68</td>\n",
              "      <td>61</td>\n",
              "      <td>...</td>\n",
              "      <td>58</td>\n",
              "      <td>53</td>\n",
              "      <td>48</td>\n",
              "      <td>57</td>\n",
              "      <td>71</td>\n",
              "      <td>73</td>\n",
              "      <td>68</td>\n",
              "      <td>-</td>\n",
              "      <td>-</td>\n",
              "      <td>65.0</td>\n",
              "    </tr>\n",
              "    <tr>\n",
              "      <th>...</th>\n",
              "      <td>...</td>\n",
              "      <td>...</td>\n",
              "      <td>...</td>\n",
              "      <td>...</td>\n",
              "      <td>...</td>\n",
              "      <td>...</td>\n",
              "      <td>...</td>\n",
              "      <td>...</td>\n",
              "      <td>...</td>\n",
              "      <td>...</td>\n",
              "      <td>...</td>\n",
              "      <td>...</td>\n",
              "      <td>...</td>\n",
              "      <td>...</td>\n",
              "      <td>...</td>\n",
              "      <td>...</td>\n",
              "      <td>...</td>\n",
              "      <td>...</td>\n",
              "      <td>...</td>\n",
              "      <td>...</td>\n",
              "      <td>...</td>\n",
              "    </tr>\n",
              "    <tr>\n",
              "      <th>51</th>\n",
              "      <td>48</td>\n",
              "      <td>353301-เลย สกษ. จ.เลย</td>\n",
              "      <td>2021-10-01</td>\n",
              "      <td>91</td>\n",
              "      <td>88</td>\n",
              "      <td>87</td>\n",
              "      <td>86</td>\n",
              "      <td>84</td>\n",
              "      <td>88</td>\n",
              "      <td>83</td>\n",
              "      <td>...</td>\n",
              "      <td>83</td>\n",
              "      <td>89</td>\n",
              "      <td>86</td>\n",
              "      <td>88</td>\n",
              "      <td>89</td>\n",
              "      <td>88</td>\n",
              "      <td>93</td>\n",
              "      <td>89</td>\n",
              "      <td>90</td>\n",
              "      <td>89.0</td>\n",
              "    </tr>\n",
              "    <tr>\n",
              "      <th>52</th>\n",
              "      <td>49</td>\n",
              "      <td>353301-เลย สกษ. จ.เลย</td>\n",
              "      <td>2021-11-01</td>\n",
              "      <td>90</td>\n",
              "      <td>86</td>\n",
              "      <td>85</td>\n",
              "      <td>86</td>\n",
              "      <td>83</td>\n",
              "      <td>85</td>\n",
              "      <td>84</td>\n",
              "      <td>...</td>\n",
              "      <td>77</td>\n",
              "      <td>77</td>\n",
              "      <td>78</td>\n",
              "      <td>77</td>\n",
              "      <td>82</td>\n",
              "      <td>80</td>\n",
              "      <td>81</td>\n",
              "      <td>77</td>\n",
              "      <td>-</td>\n",
              "      <td>82.0</td>\n",
              "    </tr>\n",
              "    <tr>\n",
              "      <th>53</th>\n",
              "      <td>50</td>\n",
              "      <td>353301-เลย สกษ. จ.เลย</td>\n",
              "      <td>2021-12-01</td>\n",
              "      <td>76</td>\n",
              "      <td>73</td>\n",
              "      <td>73</td>\n",
              "      <td>72</td>\n",
              "      <td>70</td>\n",
              "      <td>70</td>\n",
              "      <td>69</td>\n",
              "      <td>...</td>\n",
              "      <td>77</td>\n",
              "      <td>78</td>\n",
              "      <td>82</td>\n",
              "      <td>77</td>\n",
              "      <td>75</td>\n",
              "      <td>76</td>\n",
              "      <td>78</td>\n",
              "      <td>76</td>\n",
              "      <td>72</td>\n",
              "      <td>75.0</td>\n",
              "    </tr>\n",
              "    <tr>\n",
              "      <th>54</th>\n",
              "      <td>1</td>\n",
              "      <td>353301-เลย สกษ. จ.เลย</td>\n",
              "      <td>2022-01-01</td>\n",
              "      <td>74</td>\n",
              "      <td>74</td>\n",
              "      <td>77</td>\n",
              "      <td>79</td>\n",
              "      <td>74</td>\n",
              "      <td>73</td>\n",
              "      <td>76</td>\n",
              "      <td>...</td>\n",
              "      <td>87</td>\n",
              "      <td>75</td>\n",
              "      <td>70</td>\n",
              "      <td>68</td>\n",
              "      <td>70</td>\n",
              "      <td>72</td>\n",
              "      <td>68</td>\n",
              "      <td>65</td>\n",
              "      <td>67</td>\n",
              "      <td>75.0</td>\n",
              "    </tr>\n",
              "    <tr>\n",
              "      <th>55</th>\n",
              "      <td>2</td>\n",
              "      <td>353301-เลย สกษ. จ.เลย</td>\n",
              "      <td>2022-02-01</td>\n",
              "      <td>75</td>\n",
              "      <td>75</td>\n",
              "      <td>82</td>\n",
              "      <td>82</td>\n",
              "      <td>78</td>\n",
              "      <td>81</td>\n",
              "      <td>71</td>\n",
              "      <td>...</td>\n",
              "      <td>76</td>\n",
              "      <td>74</td>\n",
              "      <td>74</td>\n",
              "      <td>74</td>\n",
              "      <td>74</td>\n",
              "      <td>72</td>\n",
              "      <td>-</td>\n",
              "      <td>-</td>\n",
              "      <td>-</td>\n",
              "      <td>80.0</td>\n",
              "    </tr>\n",
              "  </tbody>\n",
              "</table>\n",
              "<p>275 rows × 35 columns</p>\n",
              "</div>\n",
              "      <button class=\"colab-df-convert\" onclick=\"convertToInteractive('df-ec199441-45a7-403a-9f3e-2af1244dfa30')\"\n",
              "              title=\"Convert this dataframe to an interactive table.\"\n",
              "              style=\"display:none;\">\n",
              "        \n",
              "  <svg xmlns=\"http://www.w3.org/2000/svg\" height=\"24px\"viewBox=\"0 0 24 24\"\n",
              "       width=\"24px\">\n",
              "    <path d=\"M0 0h24v24H0V0z\" fill=\"none\"/>\n",
              "    <path d=\"M18.56 5.44l.94 2.06.94-2.06 2.06-.94-2.06-.94-.94-2.06-.94 2.06-2.06.94zm-11 1L8.5 8.5l.94-2.06 2.06-.94-2.06-.94L8.5 2.5l-.94 2.06-2.06.94zm10 10l.94 2.06.94-2.06 2.06-.94-2.06-.94-.94-2.06-.94 2.06-2.06.94z\"/><path d=\"M17.41 7.96l-1.37-1.37c-.4-.4-.92-.59-1.43-.59-.52 0-1.04.2-1.43.59L10.3 9.45l-7.72 7.72c-.78.78-.78 2.05 0 2.83L4 21.41c.39.39.9.59 1.41.59.51 0 1.02-.2 1.41-.59l7.78-7.78 2.81-2.81c.8-.78.8-2.07 0-2.86zM5.41 20L4 18.59l7.72-7.72 1.47 1.35L5.41 20z\"/>\n",
              "  </svg>\n",
              "      </button>\n",
              "      \n",
              "  <style>\n",
              "    .colab-df-container {\n",
              "      display:flex;\n",
              "      flex-wrap:wrap;\n",
              "      gap: 12px;\n",
              "    }\n",
              "\n",
              "    .colab-df-convert {\n",
              "      background-color: #E8F0FE;\n",
              "      border: none;\n",
              "      border-radius: 50%;\n",
              "      cursor: pointer;\n",
              "      display: none;\n",
              "      fill: #1967D2;\n",
              "      height: 32px;\n",
              "      padding: 0 0 0 0;\n",
              "      width: 32px;\n",
              "    }\n",
              "\n",
              "    .colab-df-convert:hover {\n",
              "      background-color: #E2EBFA;\n",
              "      box-shadow: 0px 1px 2px rgba(60, 64, 67, 0.3), 0px 1px 3px 1px rgba(60, 64, 67, 0.15);\n",
              "      fill: #174EA6;\n",
              "    }\n",
              "\n",
              "    [theme=dark] .colab-df-convert {\n",
              "      background-color: #3B4455;\n",
              "      fill: #D2E3FC;\n",
              "    }\n",
              "\n",
              "    [theme=dark] .colab-df-convert:hover {\n",
              "      background-color: #434B5C;\n",
              "      box-shadow: 0px 1px 3px 1px rgba(0, 0, 0, 0.15);\n",
              "      filter: drop-shadow(0px 1px 2px rgba(0, 0, 0, 0.3));\n",
              "      fill: #FFFFFF;\n",
              "    }\n",
              "  </style>\n",
              "\n",
              "      <script>\n",
              "        const buttonEl =\n",
              "          document.querySelector('#df-ec199441-45a7-403a-9f3e-2af1244dfa30 button.colab-df-convert');\n",
              "        buttonEl.style.display =\n",
              "          google.colab.kernel.accessAllowed ? 'block' : 'none';\n",
              "\n",
              "        async function convertToInteractive(key) {\n",
              "          const element = document.querySelector('#df-ec199441-45a7-403a-9f3e-2af1244dfa30');\n",
              "          const dataTable =\n",
              "            await google.colab.kernel.invokeFunction('convertToInteractive',\n",
              "                                                     [key], {});\n",
              "          if (!dataTable) return;\n",
              "\n",
              "          const docLinkHtml = 'Like what you see? Visit the ' +\n",
              "            '<a target=\"_blank\" href=https://colab.research.google.com/notebooks/data_table.ipynb>data table notebook</a>'\n",
              "            + ' to learn more about interactive tables.';\n",
              "          element.innerHTML = '';\n",
              "          dataTable['output_type'] = 'display_data';\n",
              "          await google.colab.output.renderOutput(dataTable, element);\n",
              "          const docLink = document.createElement('div');\n",
              "          docLink.innerHTML = docLinkHtml;\n",
              "          element.appendChild(docLink);\n",
              "        }\n",
              "      </script>\n",
              "    </div>\n",
              "  </div>\n",
              "  "
            ]
          },
          "metadata": {},
          "execution_count": 125
        }
      ]
    },
    {
      "cell_type": "code",
      "source": [],
      "metadata": {
        "id": "nZt6yQ272_nN"
      },
      "execution_count": null,
      "outputs": []
    }
  ]
}