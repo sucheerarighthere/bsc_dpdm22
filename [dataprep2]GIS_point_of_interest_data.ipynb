{
  "nbformat": 4,
  "nbformat_minor": 0,
  "metadata": {
    "colab": {
      "provenance": [],
      "mount_file_id": "1bMZGyWJJ59ZPn2JvSlvH2iT00EOv2Q-e",
      "authorship_tag": "ABX9TyMi042mRHdSmZY9tUxSq1qD",
      "include_colab_link": true
    },
    "kernelspec": {
      "name": "python3",
      "display_name": "Python 3"
    },
    "language_info": {
      "name": "python"
    }
  },
  "cells": [
    {
      "cell_type": "markdown",
      "metadata": {
        "id": "view-in-github",
        "colab_type": "text"
      },
      "source": [
        "<a href=\"https://colab.research.google.com/github/sucheerarighthere/bsc_dpdm22/blob/main/%5Bdataprep2%5DGIS_point_of_interest_data.ipynb\" target=\"_parent\"><img src=\"https://colab.research.google.com/assets/colab-badge.svg\" alt=\"Open In Colab\"/></a>"
      ]
    },
    {
      "cell_type": "markdown",
      "source": [
        "import+libraly"
      ],
      "metadata": {
        "id": "vGyShtaEtoKt"
      }
    },
    {
      "cell_type": "code",
      "execution_count": 1,
      "metadata": {
        "id": "yStiymOXsu4s"
      },
      "outputs": [],
      "source": [
        "import pandas as pd\n",
        "import numpy as np\n",
        "import json"
      ]
    },
    {
      "cell_type": "code",
      "source": [
        "from google.colab import drive\n",
        "drive.mount('/content/drive')"
      ],
      "metadata": {
        "colab": {
          "base_uri": "https://localhost:8080/"
        },
        "id": "gwQ4bpEhtQFT",
        "outputId": "62637d0d-b100-4002-acdf-6466e09ef56f"
      },
      "execution_count": 2,
      "outputs": [
        {
          "output_type": "stream",
          "name": "stdout",
          "text": [
            "Mounted at /content/drive\n"
          ]
        }
      ]
    },
    {
      "cell_type": "code",
      "source": [
        "with open('/content/drive/MyDrive/bsc_DPDM_data/7-eleven.json') as f:\n",
        "  tj = json.loads(f.read())"
      ],
      "metadata": {
        "id": "L5pe3K4ytqM7"
      },
      "execution_count": 3,
      "outputs": []
    },
    {
      "cell_type": "code",
      "source": [
        "len(tj)"
      ],
      "metadata": {
        "colab": {
          "base_uri": "https://localhost:8080/"
        },
        "id": "T5-ePtYtuX7F",
        "outputId": "cae109eb-db6c-4347-db78-179c31cf107d"
      },
      "execution_count": 4,
      "outputs": [
        {
          "output_type": "execute_result",
          "data": {
            "text/plain": [
              "3653"
            ]
          },
          "metadata": {},
          "execution_count": 4
        }
      ]
    },
    {
      "cell_type": "code",
      "source": [
        "tj.keys() #อ่านคีย์ทั้งหมด โดยคืนค่ากลับมาเป็นทูเพิล"
      ],
      "metadata": {
        "id": "LuIsy6pdefOZ"
      },
      "execution_count": null,
      "outputs": []
    },
    {
      "cell_type": "code",
      "source": [
        "tj['6'] #เรียกมาเฉพาะลิสต์ที่หก"
      ],
      "metadata": {
        "colab": {
          "base_uri": "https://localhost:8080/"
        },
        "id": "ezEIlpb9vluX",
        "outputId": "bdba22fb-6cd0-44df-9b14-7e45e1ef216f"
      },
      "execution_count": 9,
      "outputs": [
        {
          "output_type": "execute_result",
          "data": {
            "text/plain": [
              "[{'business_status': 'OPERATIONAL',\n",
              "  'geometry': {'location': {'lat': 16.0603149, 'lng': 102.7264856},\n",
              "   'viewport': {'northeast': {'lat': 16.06160307989272,\n",
              "     'lng': 102.7278208298927},\n",
              "    'southwest': {'lat': 16.05890342010728, 'lng': 102.7251211701073}}},\n",
              "  'icon': 'https://maps.gstatic.com/mapfiles/place_api/icons/v1/png_71/shopping-71.png',\n",
              "  'icon_background_color': '#4B96F3',\n",
              "  'icon_mask_base_uri': 'https://maps.gstatic.com/mapfiles/place_api/icons/v2/convenience_pinlet',\n",
              "  'name': '7-Eleven',\n",
              "  'opening_hours': {'open_now': True},\n",
              "  'photos': [{'height': 3072,\n",
              "    'html_attributions': ['<a href=\"https://maps.google.com/maps/contrib/100135907463246314962\">nuttapong chinnapuk</a>'],\n",
              "    'photo_reference': 'ARywPAIuwYgKEeh9_5vpztMT_JbNv0OakveKoYeKCVvX2RyHmpDJw1w05XJIVVx9w5h9Aoai9Gb67AywD7szMyKpXsSzRol2DkngoztlEQu6goN6W2TsbB45jN-38BigXeivHTE4go3fzzTT5urf1wmSYgGzWw4g2IeDHCXM1oHEXvmTRk0Y',\n",
              "    'width': 1728}],\n",
              "  'place_id': 'ChIJzbBjEk2BGDER4YEKqD5kwlI',\n",
              "  'rating': 4,\n",
              "  'reference': 'ChIJzbBjEk2BGDER4YEKqD5kwlI',\n",
              "  'scope': 'GOOGLE',\n",
              "  'types': ['convenience_store',\n",
              "   'store',\n",
              "   'food',\n",
              "   'point_of_interest',\n",
              "   'establishment'],\n",
              "  'user_ratings_total': 15,\n",
              "  'vicinity': '3P6G+4HH, Prapat Bamrung Alley, Nai Mueang, Ban Phai District'},\n",
              " {'business_status': 'OPERATIONAL',\n",
              "  'geometry': {'location': {'lat': 16.0564741, 'lng': 102.7268436},\n",
              "   'viewport': {'northeast': {'lat': 16.05782037989272,\n",
              "     'lng': 102.7281588298927},\n",
              "    'southwest': {'lat': 16.05512072010728, 'lng': 102.7254591701073}}},\n",
              "  'icon': 'https://maps.gstatic.com/mapfiles/place_api/icons/v1/png_71/shopping-71.png',\n",
              "  'icon_background_color': '#4B96F3',\n",
              "  'icon_mask_base_uri': 'https://maps.gstatic.com/mapfiles/place_api/icons/v2/convenience_pinlet',\n",
              "  'name': '7-Eleven',\n",
              "  'opening_hours': {'open_now': True},\n",
              "  'photos': [{'height': 3120,\n",
              "    'html_attributions': ['<a href=\"https://maps.google.com/maps/contrib/101928849736971282327\">รวีษุ สิงห์คนอง</a>'],\n",
              "    'photo_reference': 'ARywPALcxY-wORkkwWNDZgu7-wqwrdEKD72lHNbE1-hIlMAekKjy9WL2RP6p-1gM781PziBO4K2ZE7zJlxq7f6uItAeDE8N8nrS9mfygU73LlR922jFXUb-XtU2J4MVk_50PxVhd_TlDjDvl1qkp5FCEKYuR0X2BrWLydQUfLK_UN5t8SLY',\n",
              "    'width': 4160}],\n",
              "  'place_id': 'ChIJWwEGw7KGGDERygXhoovc3Hg',\n",
              "  'plus_code': {'compound_code': '3P4G+HP Nai Mueang, Ban Phai District, Khon Kaen',\n",
              "   'global_code': '7P843P4G+HP'},\n",
              "  'rating': 3.3,\n",
              "  'reference': 'ChIJWwEGw7KGGDERygXhoovc3Hg',\n",
              "  'scope': 'GOOGLE',\n",
              "  'types': ['convenience_store',\n",
              "   'store',\n",
              "   'food',\n",
              "   'point_of_interest',\n",
              "   'establishment'],\n",
              "  'user_ratings_total': 6,\n",
              "  'vicinity': '197 Ratchanikunl Alley, Nai Mueang, Ban Phai District'},\n",
              " {'business_status': 'OPERATIONAL',\n",
              "  'geometry': {'location': {'lat': 16.0595413, 'lng': 102.7294307},\n",
              "   'viewport': {'northeast': {'lat': 16.06086702989272,\n",
              "     'lng': 102.7308413298927},\n",
              "    'southwest': {'lat': 16.05816737010728, 'lng': 102.7281416701073}}},\n",
              "  'icon': 'https://maps.gstatic.com/mapfiles/place_api/icons/v1/png_71/shopping-71.png',\n",
              "  'icon_background_color': '#4B96F3',\n",
              "  'icon_mask_base_uri': 'https://maps.gstatic.com/mapfiles/place_api/icons/v2/convenience_pinlet',\n",
              "  'name': '7-Eleven',\n",
              "  'opening_hours': {'open_now': True},\n",
              "  'photos': [{'height': 4160,\n",
              "    'html_attributions': ['<a href=\"https://maps.google.com/maps/contrib/101928849736971282327\">รวีษุ สิงห์คนอง</a>'],\n",
              "    'photo_reference': 'ARywPALrtdBDTcnK1d78TvO9u6Q_ZB7kfCbCf-xondizDCoLH0AAbf_5W_g2k5MBMyvnSYhX0tJI39GWp1-Rwm2qY0VS7y5htwy__HhFk75ZxvMOGbV2JztgA7xMK3QFDg0QMXQMOSdo4ZjGDMI81609k6nitdYWjZVmhOZMMd0WSj8SM4A',\n",
              "    'width': 3120}],\n",
              "  'place_id': 'ChIJa8T1gu-BGDERq8cyG-vAu_o',\n",
              "  'rating': 4,\n",
              "  'reference': 'ChIJa8T1gu-BGDERq8cyG-vAu_o',\n",
              "  'scope': 'GOOGLE',\n",
              "  'types': ['convenience_store',\n",
              "   'store',\n",
              "   'food',\n",
              "   'point_of_interest',\n",
              "   'establishment'],\n",
              "  'user_ratings_total': 1,\n",
              "  'vicinity': '3P5H+RQ7, Nai Mueang, Ban Phai District'},\n",
              " {'business_status': 'OPERATIONAL',\n",
              "  'geometry': {'location': {'lat': 16.0751998, 'lng': 102.7356017},\n",
              "   'viewport': {'northeast': {'lat': 16.07649307989272,\n",
              "     'lng': 102.7369336298927},\n",
              "    'southwest': {'lat': 16.07379342010728, 'lng': 102.7342339701073}}},\n",
              "  'icon': 'https://maps.gstatic.com/mapfiles/place_api/icons/v1/png_71/shopping-71.png',\n",
              "  'icon_background_color': '#4B96F3',\n",
              "  'icon_mask_base_uri': 'https://maps.gstatic.com/mapfiles/place_api/icons/v2/convenience_pinlet',\n",
              "  'name': '7-Eleven สาขา PTTOR อำเภอบ้านไผ่ (14179)',\n",
              "  'opening_hours': {'open_now': True},\n",
              "  'photos': [{'height': 1280,\n",
              "    'html_attributions': ['<a href=\"https://maps.google.com/maps/contrib/101928849736971282327\">รวีษุ สิงห์คนอง</a>'],\n",
              "    'photo_reference': 'ARywPAIhwKpkmVWt3aJH1pMAGC2L9ead-ybeLqyRyF-PGGBP7YwfwYlbAyKaq0Y0X3LsjHqwva-l5O9nvk0xggMLBcipMCKbnfdU88tWRW0VqRAePVcELdqngDDVLH5FpLdTyHtSL8ua6bkxwTK-G0oDktk2aFTxpDDSDQWmInJWKdxW0h4',\n",
              "    'width': 720}],\n",
              "  'place_id': 'ChIJyyeKOR6BGDERawb3IXZz_5U',\n",
              "  'rating': 4,\n",
              "  'reference': 'ChIJyyeKOR6BGDERawb3IXZz_5U',\n",
              "  'scope': 'GOOGLE',\n",
              "  'types': ['convenience_store',\n",
              "   'store',\n",
              "   'food',\n",
              "   'point_of_interest',\n",
              "   'establishment'],\n",
              "  'user_ratings_total': 3,\n",
              "  'vicinity': '3PGP+36Q, Nai Mueang, Ban Phai District'},\n",
              " {'business_status': 'OPERATIONAL',\n",
              "  'geometry': {'location': {'lat': 16.070648, 'lng': 102.7344055},\n",
              "   'viewport': {'northeast': {'lat': 16.07198652989272,\n",
              "     'lng': 102.7356288798927},\n",
              "    'southwest': {'lat': 16.06928687010728, 'lng': 102.7329292201073}}},\n",
              "  'icon': 'https://maps.gstatic.com/mapfiles/place_api/icons/v1/png_71/shopping-71.png',\n",
              "  'icon_background_color': '#4B96F3',\n",
              "  'icon_mask_base_uri': 'https://maps.gstatic.com/mapfiles/place_api/icons/v2/convenience_pinlet',\n",
              "  'name': '7-Eleven สาขา ชุมชนหนองลุมพุก (06323)',\n",
              "  'opening_hours': {'open_now': True},\n",
              "  'photos': [{'height': 2352,\n",
              "    'html_attributions': ['<a href=\"https://maps.google.com/maps/contrib/101928849736971282327\">รวีษุ สิงห์คนอง</a>'],\n",
              "    'photo_reference': 'ARywPAITZLYA3bXdVGfVz9RloU663XnoQVzKjRxjabxo2JJ5xlQ0TgCXY7Q-OgmP41BRmRytpaqjengSAarjTvWyJUso3jSuBMM8FJnZNJdafrzev_EIvI3lV9olux7R8fKobw-lKXEYJIVJi_PWzUQVgWGUuF3qHCCpogEQ82oNqyFDygE',\n",
              "    'width': 4160}],\n",
              "  'place_id': 'ChIJ9zwFukeBGDERFV0i5_PJNLc',\n",
              "  'rating': 4,\n",
              "  'reference': 'ChIJ9zwFukeBGDERFV0i5_PJNLc',\n",
              "  'scope': 'GOOGLE',\n",
              "  'types': ['convenience_store',\n",
              "   'store',\n",
              "   'food',\n",
              "   'point_of_interest',\n",
              "   'establishment'],\n",
              "  'user_ratings_total': 1,\n",
              "  'vicinity': '3PCM+7Q2, Nai Mueang, Ban Phai District'},\n",
              " {'business_status': 'OPERATIONAL',\n",
              "  'geometry': {'location': {'lat': 16.0582995, 'lng': 102.7360953},\n",
              "   'viewport': {'northeast': {'lat': 16.05954287989272,\n",
              "     'lng': 102.7373791298927},\n",
              "    'southwest': {'lat': 16.05684322010728, 'lng': 102.7346794701073}}},\n",
              "  'icon': 'https://maps.gstatic.com/mapfiles/place_api/icons/v1/png_71/shopping-71.png',\n",
              "  'icon_background_color': '#4B96F3',\n",
              "  'icon_mask_base_uri': 'https://maps.gstatic.com/mapfiles/place_api/icons/v2/convenience_pinlet',\n",
              "  'name': '7-Eleven สาขา บ้านไผ่-แจ้งสนิท (08078)',\n",
              "  'opening_hours': {'open_now': True},\n",
              "  'photos': [{'height': 4160,\n",
              "    'html_attributions': ['<a href=\"https://maps.google.com/maps/contrib/101928849736971282327\">รวีษุ สิงห์คนอง</a>'],\n",
              "    'photo_reference': 'ARywPALKZ3upV9GI2p7A3AdjyoOqimpB3XxtFvXnJb_RGkn0ygjmB6LVbq9coqiOyRyYAGWVL8gycy_N8Eymy3XbrUeOfWxxbUIQcAmJePsP8hTDmyftqm2y-qbRqWWfVe6_L9hA_Rx9CA0k6PB92-dWgd6y3naFEoQDHqnh1HSEJAhj3UE',\n",
              "    'width': 3120}],\n",
              "  'place_id': 'ChIJcaVF69CBGDERtpIdbwy1ypk',\n",
              "  'rating': 4.2,\n",
              "  'reference': 'ChIJcaVF69CBGDERtpIdbwy1ypk',\n",
              "  'scope': 'GOOGLE',\n",
              "  'types': ['convenience_store',\n",
              "   'store',\n",
              "   'food',\n",
              "   'point_of_interest',\n",
              "   'establishment'],\n",
              "  'user_ratings_total': 6,\n",
              "  'vicinity': '3P5P+8CP, Nai Mueang, Ban Phai District'},\n",
              " {'business_status': 'OPERATIONAL',\n",
              "  'geometry': {'location': {'lat': 16.0573901, 'lng': 102.7192322},\n",
              "   'viewport': {'northeast': {'lat': 16.05867287989272,\n",
              "     'lng': 102.7205730798927},\n",
              "    'southwest': {'lat': 16.05597322010727, 'lng': 102.7178734201073}}},\n",
              "  'icon': 'https://maps.gstatic.com/mapfiles/place_api/icons/v1/png_71/shopping-71.png',\n",
              "  'icon_background_color': '#4B96F3',\n",
              "  'icon_mask_base_uri': 'https://maps.gstatic.com/mapfiles/place_api/icons/v2/convenience_pinlet',\n",
              "  'name': 'เซเว่น สาขาชุมชนโพธิ์ชัย(บ้านไผ่) 18097',\n",
              "  'opening_hours': {'open_now': True},\n",
              "  'photos': [{'height': 3000,\n",
              "    'html_attributions': ['<a href=\"https://maps.google.com/maps/contrib/106267669153315156455\">A Google User</a>'],\n",
              "    'photo_reference': 'ARywPAKkOq50vI1FQGGy5_gbpXGSJAZlIQNL0v5smU1jUzKflPKubGw081aNVEBZdf66mtQLm5Qaxz_-CO80-fzwTlBCHr6W_TeDrqaca1cGKpx5oh8DQwOFy3Lau9ccqfkV32FzG_f4sfpbAVzq6ab5nuO3B5iGSJAtFHhsL3RZtDrYeyNX',\n",
              "    'width': 4000}],\n",
              "  'place_id': 'ChIJw3PPNz6HGDER88KNEQYzSoE',\n",
              "  'plus_code': {'compound_code': '3P49+XM Nai Mueang, Ban Phai District, Khon Kaen',\n",
              "   'global_code': '7P843P49+XM'},\n",
              "  'rating': 0,\n",
              "  'reference': 'ChIJw3PPNz6HGDER88KNEQYzSoE',\n",
              "  'scope': 'GOOGLE',\n",
              "  'types': ['convenience_store',\n",
              "   'store',\n",
              "   'food',\n",
              "   'point_of_interest',\n",
              "   'establishment'],\n",
              "  'user_ratings_total': 0,\n",
              "  'vicinity': '189 Chaeng Sanit Rd, Ban Phai, Ban Phai District'}]"
            ]
          },
          "metadata": {},
          "execution_count": 9
        }
      ]
    },
    {
      "cell_type": "code",
      "source": [
        "#\n",
        "#for t in tj:\n",
        " #   l = list()\n",
        "  #  for x in tj[t]:\n",
        "   #     l.append(x['geometry']['location'])\n",
        "    #print(l)"
      ],
      "metadata": {
        "id": "nI0QKU2Ovm8L"
      },
      "execution_count": 13,
      "outputs": []
    },
    {
      "cell_type": "code",
      "source": [
        "c = list()\n",
        "for row in tj[\"6\"]:\n",
        "    c.append(row[\"geometry\"][\"location\"])"
      ],
      "metadata": {
        "id": "-wkpFqLOzcb8"
      },
      "execution_count": 11,
      "outputs": []
    },
    {
      "cell_type": "code",
      "source": [
        "c"
      ],
      "metadata": {
        "id": "Ug-XIN8owXl1",
        "outputId": "c7769b46-cac4-456e-f281-b11741db107f",
        "colab": {
          "base_uri": "https://localhost:8080/"
        }
      },
      "execution_count": 12,
      "outputs": [
        {
          "output_type": "execute_result",
          "data": {
            "text/plain": [
              "[{'lat': 16.0603149, 'lng': 102.7264856},\n",
              " {'lat': 16.0564741, 'lng': 102.7268436},\n",
              " {'lat': 16.0595413, 'lng': 102.7294307},\n",
              " {'lat': 16.0751998, 'lng': 102.7356017},\n",
              " {'lat': 16.070648, 'lng': 102.7344055},\n",
              " {'lat': 16.0582995, 'lng': 102.7360953},\n",
              " {'lat': 16.0573901, 'lng': 102.7192322}]"
            ]
          },
          "metadata": {},
          "execution_count": 12
        }
      ]
    },
    {
      "cell_type": "code",
      "source": [],
      "metadata": {
        "id": "ts3Y5TnXfJ2e"
      },
      "execution_count": null,
      "outputs": []
    }
  ]
}