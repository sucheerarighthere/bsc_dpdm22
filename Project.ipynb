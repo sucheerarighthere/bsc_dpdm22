{
  "nbformat": 4,
  "nbformat_minor": 0,
  "metadata": {
    "colab": {
      "provenance": [],
      "mount_file_id": "1bdolv4u0kmpC6rXlJ0OSA6g4n4yiqTzX",
      "authorship_tag": "ABX9TyMJYLsctBkQvqtZG1JRMTVn",
      "include_colab_link": true
    },
    "kernelspec": {
      "name": "python3",
      "display_name": "Python 3"
    },
    "language_info": {
      "name": "python"
    }
  },
  "cells": [
    {
      "cell_type": "markdown",
      "metadata": {
        "id": "view-in-github",
        "colab_type": "text"
      },
      "source": [
        "<a href=\"https://colab.research.google.com/github/sucheerarighthere/bsc_dpdm22/blob/main/Project.ipynb\" target=\"_parent\"><img src=\"https://colab.research.google.com/assets/colab-badge.svg\" alt=\"Open In Colab\"/></a>"
      ]
    },
    {
      "cell_type": "code",
      "source": [
        "import pandas as pd"
      ],
      "metadata": {
        "id": "BuYrAIcOZ0Ta"
      },
      "execution_count": 36,
      "outputs": []
    },
    {
      "cell_type": "code",
      "source": [
        "from google.colab import drive\n",
        "drive.mount('/content/drive')"
      ],
      "metadata": {
        "id": "By--KHZAZn2o"
      },
      "execution_count": null,
      "outputs": []
    },
    {
      "cell_type": "code",
      "source": [
        "test = pd.read_csv('/content/drive/MyDrive/bsc_DPDM_data/Project/test.csv')"
      ],
      "metadata": {
        "id": "TVQ84monZwFo"
      },
      "execution_count": null,
      "outputs": []
    },
    {
      "cell_type": "code",
      "source": [
        "train = pd.read_csv('/content/drive/MyDrive/bsc_DPDM_data/Project/train.csv')"
      ],
      "metadata": {
        "id": "UtsfRBWgapZL"
      },
      "execution_count": null,
      "outputs": []
    },
    {
      "cell_type": "code",
      "source": [
        "test"
      ],
      "metadata": {
        "id": "9aHi_Pl1auih"
      },
      "execution_count": null,
      "outputs": []
    },
    {
      "cell_type": "code",
      "source": [
        "train"
      ],
      "metadata": {
        "id": "viEyXxGBbeAP"
      },
      "execution_count": null,
      "outputs": []
    },
    {
      "cell_type": "code",
      "source": [
        "import pandas as pd\n",
        "from sklearn.ensemble import RandomForestClassifier\n",
        "from sklearn.model_selection import train_test_split\n",
        "from sklearn.metrics import accuracy_score"
      ],
      "metadata": {
        "id": "RoaAIvSOdHfM"
      },
      "execution_count": null,
      "outputs": []
    },
    {
      "cell_type": "markdown",
      "source": [
        "# ต่อตาราง\n",
        "ต่อเพื่อเอาข้อมูลของการเทส และ เทรน มาลองต่อกัน"
      ],
      "metadata": {
        "id": "cW8AbJABJ547"
      }
    },
    {
      "cell_type": "code",
      "source": [
        "train.columns #ดูว่าตารางข้อมูลชุดทดสอบมีคอลัมน์อะไรบ้าง"
      ],
      "metadata": {
        "id": "5g22GR5SdZrE"
      },
      "execution_count": null,
      "outputs": []
    },
    {
      "cell_type": "code",
      "source": [
        "test.columns #ดูว่าตารางข้อมูลชุดทดสอบมีคอลัมน์อะไรบ้าง มีทุกคอลัมน์เหมือนกับเทรน ยกเว้นเรทราคา"
      ],
      "metadata": {
        "id": "IPpyZ_omJ3mp"
      },
      "execution_count": null,
      "outputs": []
    },
    {
      "cell_type": "code",
      "source": [
        "test = test.drop('id',axis=1) #ดรอปไอดีออกเพราะไม่จำเป็นต้องใช้ในการจัดกลุ่ม แค่ใช้ในการ   identify"
      ],
      "metadata": {
        "id": "KbHco0gZJ5YR"
      },
      "execution_count": null,
      "outputs": []
    },
    {
      "cell_type": "code",
      "source": [
        "test1 = test\n",
        "test2 = test\n",
        "test_data=pd.concat([test1,test2]) #make test set have row equal trainset"
      ],
      "metadata": {
        "id": "8Hvg9BK2KHlx"
      },
      "execution_count": null,
      "outputs": []
    },
    {
      "cell_type": "code",
      "source": [
        "test_data #ตรวจดูว่า ครบสองพันแถวมั้ย"
      ],
      "metadata": {
        "id": "uOVEZfOQOo4p"
      },
      "execution_count": null,
      "outputs": []
    },
    {
      "cell_type": "code",
      "source": [
        "data_use = pd.concat([train,test_data]) #กำหนดตัวแปรนี้ ให้เป็นตัวแปรที่ใช้จริงในการคำนวณ\n",
        "data_use"
      ],
      "metadata": {
        "id": "2W-V0amQRtGG"
      },
      "execution_count": null,
      "outputs": []
    },
    {
      "cell_type": "markdown",
      "source": [
        "### with chat gpt\n",
        "i have data training set with real price range in fist half row and i want to classify another part with training set but in df is all NaN\n"
      ],
      "metadata": {
        "id": "ucPQgFwIldBD"
      }
    },
    {
      "cell_type": "code",
      "source": [
        "import pandas as pd\n",
        "from sklearn.neighbors import KNeighborsClassifier\n",
        "from sklearn.tree import DecisionTreeClassifier\n",
        "from sklearn.naive_bayes import GaussianNB\n",
        "from sklearn.metrics import accuracy_score\n",
        "\n",
        "# Load the CSV file\n",
        "df = data_use #use data ที่รวมกันเมื่อกี้ อันนี้ มี 4000 rows\n",
        "\n",
        "# Separate the target variable (price range) from the features\n",
        "X_train = df.drop(['price_range'], axis=1).iloc[:len(df)//2] \n",
        "#กำหนดให้ ตัวแปรอิสระที่สนใจมาจากไฟล์ train และ ดรอปตารางเรทราคาออก เลือกเฉพาะส่วนบนของ data_use\n",
        "y_train = df['price_range'].iloc[:len(df)//2]\n",
        "#กำหนดให้ ตัวแปรตาม ตัวแปรที่สนใจ ตัวแปรที่ต้องการทำนาย คือ คอลัมน์เรทราคา ในการเทรนข้อมูล\n",
        "X_test = df.drop(['price_range'], axis=1).iloc[len(df)//2:]\n",
        "#กำหนด test set เป็น ข้อมูลตัวแปรอิสระ 20 columns ใน use_data ครึ่งหลังที่ต่อตารางไป\n",
        "# Fit KNN model\n",
        "knn = KNeighborsClassifier()\n",
        "knn.fit(X_train, y_train)\n",
        "knn_pred = knn.predict(X_test)\n",
        "\n",
        "# Fit Decision Tree model\n",
        "dt = DecisionTreeClassifier()\n",
        "dt.fit(X_train, y_train)\n",
        "dt_pred = dt.predict(X_test)\n",
        "\n",
        "# Fit Naive Bayes model\n",
        "nb = GaussianNB()\n",
        "nb.fit(X_train, y_train)\n",
        "nb_pred = nb.predict(X_test)\n",
        "\n",
        "# Replace NaN values with predicted price range\n",
        "df.iloc[len(df)//2:, df.columns.get_loc('price_range')] = knn_pred\n",
        "df.iloc[len(df)//2:, df.columns.get_loc('price_range')] = dt_pred\n",
        "df.iloc[len(df)//2:, df.columns.get_loc('price_range')] = nb_pred\n",
        "\n",
        "# Calculate accuracy\n",
        "y_test = df['price_range'].iloc[len(df)//2:]\n",
        "knn_acc = accuracy_score(y_test, knn_pred)\n",
        "dt_acc = accuracy_score(y_test, dt_pred)\n",
        "nb_acc = accuracy_score(y_test, nb_pred)\n",
        "\n",
        "# Print the accuracy of each model\n",
        "print(f'KNN Accuracy: {knn_acc}')\n",
        "print(f'Decision Tree Accuracy: {dt_acc}')\n",
        "print(f'Naive Bayes Accuracy: {nb_acc}')"
      ],
      "metadata": {
        "id": "6rIXBf68lHzZ"
      },
      "execution_count": null,
      "outputs": []
    },
    {
      "cell_type": "markdown",
      "source": [
        "## **KNN**"
      ],
      "metadata": {
        "id": "YI_8ZHQOn7VM"
      }
    },
    {
      "cell_type": "code",
      "source": [
        "print(f'KNN Accuracy: {knn_acc}')"
      ],
      "metadata": {
        "id": "F3cXXnBBn9Dg"
      },
      "execution_count": null,
      "outputs": []
    },
    {
      "cell_type": "markdown",
      "source": [
        "## **Decision Tree**"
      ],
      "metadata": {
        "id": "yhsquAYFoBJ_"
      }
    },
    {
      "cell_type": "code",
      "source": [
        "print(f'Decision Tree Accuracy: {dt_acc}')"
      ],
      "metadata": {
        "id": "iYFkxI7OoEkM"
      },
      "execution_count": null,
      "outputs": []
    },
    {
      "cell_type": "markdown",
      "source": [
        "## **Naive Baye's**"
      ],
      "metadata": {
        "id": "Rk8LMvYtoJDT"
      }
    },
    {
      "cell_type": "code",
      "source": [
        "print(f'Naive Bayes Accuracy: {nb_acc}')"
      ],
      "metadata": {
        "id": "4VVqZfUkoMeY"
      },
      "execution_count": null,
      "outputs": []
    },
    {
      "cell_type": "markdown",
      "source": [
        "## After that Accuracy >> Naive Bayes win!!"
      ],
      "metadata": {
        "id": "HwI7tkVgo3ME"
      }
    },
    {
      "cell_type": "code",
      "source": [
        "df.iloc[len(df)//2:, df.columns.get_loc('price_range')] = nb_pred\n",
        "df\n",
        "#แทนค่าเรทราคาที่เราต้องการทำนายในtest set ด้วย ค่าที่ predicted by naive bayes"
      ],
      "metadata": {
        "id": "EELajieZltpO"
      },
      "execution_count": null,
      "outputs": []
    },
    {
      "cell_type": "code",
      "source": [
        "eiei = df[['price_range']].reset_index() #แสดงให้ดูเฉพาะคอลลัมน์ ช่วงราคา\n",
        "eiei = eiei['price_range'].value_counts()\n",
        "eiei"
      ],
      "metadata": {
        "id": "W50ffOJVpUvR"
      },
      "execution_count": null,
      "outputs": []
    },
    {
      "cell_type": "code",
      "source": [
        "import pandas as pd\n",
        "import matplotlib.pyplot as plt\n",
        "eiei.plot(kind='bar')\n",
        "plt.title('price_range Counts')"
      ],
      "metadata": {
        "id": "Kz0wGuT6rB36"
      },
      "execution_count": null,
      "outputs": []
    },
    {
      "cell_type": "markdown",
      "source": [
        "แปลผลคอลลัมน์ ราคา ที่ทำนาย\n",
        "This is the target variable with value of 0(low cost), 1(medium cost), 2(high cost) and 3(very high cost)."
      ],
      "metadata": {
        "id": "shZsn3RlpQQh"
      }
    },
    {
      "cell_type": "markdown",
      "source": [
        "# **K - means cluttering**\n",
        "Clustering การจัดกลุ่มจะแตกต่างจากการแบ่งประเภทข้อมูล\n",
        "(Classification) โดยจะแบ่งกลุ่มข้อมูลจากความคล้าย โดยไม่\n",
        "มีการก าหนดคลาสประเภทข้อมูลไว้ก่อนหรือไม่ทราบจ านวน\n",
        "กลุ่มล่วงหน้า เป็นการเรียนรู้แบบไม่มีผู้สอน (unsupervised\n",
        "classification) \n",
        "\n",
        "ต้องเป็นตัวแปรเชิงปริมาณ (Quantitative)\n",
        "  - สเกลอันตรภาค (Interval Scale)\n",
        "  - สเกลอัตราส่วน (Ratio Scale"
      ],
      "metadata": {
        "id": "ZqdsUHsQw49M"
      }
    },
    {
      "cell_type": "code",
      "source": [
        "# drop price ออก\n",
        "#kmeandata=df.drop('price_range',axis=1) ไม่ใช้\n",
        "#kmeandata =train ไม่ใช้ \n",
        "\n",
        "kmeandata=pd.concat([test,train]) #เพื่อแบ่งเท่าๆกัน ใช้train set , test set 3000 rows\n",
        "kmeandata =kmeandata.drop('price_range',axis=1) #drop price_range ที่ train,test มีไม่เหมือนกัน "
      ],
      "metadata": {
        "id": "kXR56nvyw88q"
      },
      "execution_count": null,
      "outputs": []
    },
    {
      "cell_type": "code",
      "source": [
        "kmeandata #data ที่ใช้ในการทำ k Mean clusttering"
      ],
      "metadata": {
        "id": "XrqMolT1xTqO"
      },
      "execution_count": null,
      "outputs": []
    },
    {
      "cell_type": "code",
      "source": [
        "kmeandata.columns"
      ],
      "metadata": {
        "id": "wwDYdb1SyWZK"
      },
      "execution_count": null,
      "outputs": []
    },
    {
      "cell_type": "markdown",
      "source": [
        "select columns to group >> 'battery_power', 'px_height'"
      ],
      "metadata": {
        "id": "zUOvE3y6ybZA"
      }
    },
    {
      "cell_type": "code",
      "source": [
        "import pandas as pd\n",
        "import numpy as np\n",
        "import matplotlib.pyplot as plt\n",
        "from sklearn.cluster import KMeans\n",
        "\n",
        "# Load data into a DataFrame\n",
        "df = kmeandata\n",
        "\n",
        "# Extract features to cluster on\n",
        "X = df[['battery_power', 'px_height']].values \n",
        "#เพื่อจัดกลุ่ม ว่าจะตั้งราคาโดยจัดกลุ่มตาม ความจุแบตและ พิกเซล ของควาทมสูงจอ?\n",
        "\n",
        "# Choose number of clusters\n",
        "k = 6\n",
        "\n",
        "# Run K-means clustering\n",
        "kmeans = KMeans(n_clusters=k, random_state=42).fit(X)\n",
        "\n",
        "# Get cluster assignments and centroids\n",
        "labels = kmeans.labels_\n",
        "centroids = kmeans.cluster_centers_\n",
        "\n",
        "# Visualize clusters\n",
        "colors = ['skyblue', 'pink', 'lightpink', 'wheat', 'lavender', 'hotpink'] # Add more colors if needed\n",
        "for i in range(k):\n",
        "    plt.scatter(X[labels == i, 0], X[labels == i, 1], s=70, c=colors[i], label=f'Cluster {i+1}')\n",
        "plt.scatter(centroids[:, 0], centroids[:,1], s=200, marker='o', c='black', label='Centroids')\n",
        "plt.xlabel('battery power') #Total energy a battery can store in one time measured in mAh\n",
        "plt.ylabel('Pixel Resolution Height') \n",
        "plt.show()"
      ],
      "metadata": {
        "id": "BoqEsEF4xlB5"
      },
      "execution_count": null,
      "outputs": []
    },
    {
      "cell_type": "code",
      "source": [
        "import pandas as pd\n",
        "import numpy as np\n",
        "import matplotlib.pyplot as plt\n",
        "from sklearn.cluster import KMeans\n",
        "\n",
        "# Load data into a DataFrame\n",
        "df = kmeandata\n",
        "\n",
        "# Extract features to cluster on\n",
        "X = df[['battery_power', 'pc']].values\n",
        "\n",
        "# Choose number of clusters\n",
        "k = 6\n",
        "\n",
        "# Run K-means clustering\n",
        "kmeans = KMeans(n_clusters=k, random_state=42).fit(X)\n",
        "\n",
        "# Get cluster assignments and centroids\n",
        "labels = kmeans.labels_\n",
        "centroids = kmeans.cluster_centers_\n",
        "\n",
        "# Visualize clusters\n",
        "colors = ['skyblue', 'pink', 'lightpink', 'wheat', 'lavender', 'hotpink'] # Add more colors if needed\n",
        "for i in range(k):\n",
        "    plt.scatter(X[labels == i, 0], X[labels == i, 1], s=70, c=colors[i], label=f'Cluster {i+1}')\n",
        "plt.scatter(centroids[:, 0], centroids[:,1], s=200, marker='o', c='black', label='Centroids')\n",
        "plt.xlabel('battery power') #Total energy a battery can store in one time measured in mAh\n",
        "plt.ylabel('Pixel Resolution Height') \n",
        "plt.show()"
      ],
      "metadata": {
        "id": "ykv97DxmzJ0G"
      },
      "execution_count": null,
      "outputs": []
    },
    {
      "cell_type": "markdown",
      "source": [
        "# Association rule"
      ],
      "metadata": {
        "id": "ZIAa1ns76GND"
      }
    },
    {
      "cell_type": "markdown",
      "source": [
        "###association ละเอียด"
      ],
      "metadata": {
        "id": "EoEeqLJb_fVg"
      }
    },
    {
      "cell_type": "code",
      "source": [
        "data = pd.concat([test,train])\n",
        "data=data.drop('price_range',axis=1)"
      ],
      "metadata": {
        "id": "XqqX6c-Z6IQ9"
      },
      "execution_count": null,
      "outputs": []
    },
    {
      "cell_type": "code",
      "source": [
        "data.columns"
      ],
      "metadata": {
        "id": "ZfDa6vi97RX4"
      },
      "execution_count": null,
      "outputs": []
    },
    {
      "cell_type": "code",
      "source": [
        "import pandas as pd\n",
        "\n",
        "# Load the dataset\n",
        "data = data\n",
        "\n",
        "# Convert categorical columns to dummy variables\n",
        "data_dummies = pd.get_dummies(data, columns=['battery_power', 'blue', 'clock_speed', 'dual_sim', 'fc', 'four_g',\n",
        "       'int_memory', 'm_dep', 'mobile_wt', 'n_cores', 'pc', 'px_height',\n",
        "       'px_width', 'ram', 'sc_h', 'sc_w', 'talk_time', 'three_g',\n",
        "       'touch_screen', 'wifi'])\n",
        "\n",
        "# Display the first 5 rows of the resulting data\n",
        "print(data_dummies.head())"
      ],
      "metadata": {
        "id": "Lps0I6qE922Q"
      },
      "execution_count": null,
      "outputs": []
    },
    {
      "cell_type": "code",
      "source": [
        "data_dummies"
      ],
      "metadata": {
        "id": "gVmErycU_LTd"
      },
      "execution_count": null,
      "outputs": []
    },
    {
      "cell_type": "code",
      "source": [
        "from mlxtend.frequent_patterns import apriori\n",
        "from mlxtend.frequent_patterns import association_rules\n",
        "\n",
        "# Apply the Apriori algorithm to find frequent itemsets\n",
        "frequent_itemsets = apriori(data_dummies, min_support=0.05, use_colnames=True)\n",
        "\n",
        "# Generate association rules from the frequent itemsets\n",
        "rules = association_rules(frequent_itemsets, metric=\"lift\", min_threshold=1)\n",
        "\n",
        "# Display the top 10 rules sorted by lift\n",
        "print(rules.sort_values(by=['lift'], ascending=False).head(10))"
      ],
      "metadata": {
        "id": "CYxhDeck_XQs"
      },
      "execution_count": null,
      "outputs": []
    },
    {
      "cell_type": "code",
      "source": [
        "rules"
      ],
      "metadata": {
        "id": "cDsSvrR6eeP7"
      },
      "execution_count": null,
      "outputs": []
    },
    {
      "cell_type": "markdown",
      "source": [
        "ในการสร้างกฎความสัมพันธ์จะเริ่มต้นจากกรค้นหารูปแบบของรายการซื้อที่เป็นไปได้ทั้งหมดก่อน\n",
        "จากนั้นจึงจะสร้างกฎความสัมพันธ์จากรูปแบบแต่ละแบบ โดยที่รูปแบบที่จะนำมาสร้างกฎจะต้องมีสมาชิกอย่าง\n",
        "น้อยตั้งแต่ 2 สิ่งขึ้นไป และกฎความสัมพันธ์ที่ได้จะเป็นกฎที่ผ่านเกณฑ์ขั้นต่ำ (Minimum threshold) ของ\n",
        "เครื่องมือที่ใช้ในการวิเคราะห์สร้างกฎ ได้แก่ เกณฑ์ขั้นต่ำของค่าสนับสนุน (Support และค่ความเชื่อมั่น\n",
        "(Confdence) หรือค่ลิฟท์ (if! ซึ่งขึ้นอยู่กับผู้วิเคราะห์ว่าจะกำหนดให้ค่าใดสูงหรือต่ำ หรือสูงเท่ากัน โดยแต่\n",
        "ละเกณฑ์มีความหมายและคำนวณได้ ดังนี้\n",
        "ค่าสนับสนุน (Support) คือ ค่าที่ใช้บ่งบอกถึงเหตุการณ์ A และ B มีความถี่ในการเกิดขึ้นมากน้อย\n",
        "เพียงใด คำนวณได้จากสมการ (9.1)\n"
      ],
      "metadata": {
        "id": "uj8VmItggOi9"
      }
    },
    {
      "cell_type": "code",
      "source": [
        "data"
      ],
      "metadata": {
        "id": "5WQrwZeOhQNq"
      },
      "execution_count": null,
      "outputs": []
    },
    {
      "cell_type": "markdown",
      "source": [
        "## assosiation rule by change non zero value to 1"
      ],
      "metadata": {
        "id": "7e7Liq2qiKMI"
      }
    },
    {
      "cell_type": "code",
      "source": [
        "import pandas as pd\n",
        "\n",
        "# Create a sample DataFrame\n",
        "df = data\n",
        "# Replace all non-zero values with 1 using applymap with a lambda function\n",
        "df = df.applymap(lambda x: 1 if x != 0 else 0)\n",
        "\n",
        "# Display the updated DataFrame\n",
        "print(df)"
      ],
      "metadata": {
        "id": "GfyBe6bxidHa"
      },
      "execution_count": null,
      "outputs": []
    },
    {
      "cell_type": "code",
      "source": [
        "import pandas as pd\n",
        "\n",
        "# Load the dataset\n",
        "data = df\n",
        "\n",
        "# Convert categorical columns to dummy variables\n",
        "data_dummies = pd.get_dummies(data, columns=['battery_power', 'blue', 'clock_speed', 'dual_sim', 'fc', 'four_g',\n",
        "       'int_memory', 'm_dep', 'mobile_wt', 'n_cores', 'pc', 'px_height',\n",
        "       'px_width', 'ram', 'sc_h', 'sc_w', 'talk_time', 'three_g',\n",
        "       'touch_screen', 'wifi'])\n",
        "\n",
        "# Display the first 5 rows of the resulting data\n",
        "print(data_dummies.head())"
      ],
      "metadata": {
        "id": "4IE6PGagi3H_"
      },
      "execution_count": null,
      "outputs": []
    },
    {
      "cell_type": "markdown",
      "source": [
        "assosiation with choose some column "
      ],
      "metadata": {
        "id": "yWZW2JbzzJyq"
      }
    },
    {
      "cell_type": "code",
      "source": [
        "import pandas as pd\n",
        "from mlxtend.frequent_patterns import apriori\n",
        "from mlxtend.frequent_patterns import association_rules\n",
        "\n",
        "# Load the data\n",
        "train_data = pd.read_csv(os.path.join(path,'train.csv'))\n",
        "\n",
        "# Preprocess the data\n",
        "X = train_data.drop('price_range', axis=1)\n",
        "X = pd.get_dummies(X, columns=['battery_power', 'blue', 'clock_speed', 'dual_sim', 'fc', 'four_g', 'int_memory', 'm_dep', 'mobile_wt', 'n_cores', 'pc', 'px_height', 'px_width', 'ram', 'sc_h', 'sc_w', 'talk_time', 'three_g', 'touch_screen', 'wifi'], drop_first=True)\n",
        "\n",
        "# Convert the data to a binary matrix\n",
        "X = (X > 0).astype(int)\n",
        "\n",
        "# Use Apriori to find frequent itemsets\n",
        "frequent_itemsets = apriori(X, min_support=0.1, use_colnames=True)\n",
        "\n",
        "# Use Association Rules to find interesting associations\n",
        "rules = association_rules(frequent_itemsets, metric=\"lift\", min_threshold=1)\n",
        "\n",
        "# Print the top 10 rules sorted by lift\n",
        "print(rules.sort_values('lift', ascending=False).head(10))\n"
      ],
      "metadata": {
        "id": "1nq_DVlpzAf2"
      },
      "execution_count": null,
      "outputs": []
    },
    {
      "cell_type": "code",
      "source": [
        "rules"
      ],
      "metadata": {
        "id": "EDI9S3WkzEWN"
      },
      "execution_count": null,
      "outputs": []
    },
    {
      "cell_type": "markdown",
      "source": [
        "# **MMNO1**"
      ],
      "metadata": {
        "id": "XzY2RKE8k-NQ"
      }
    },
    {
      "cell_type": "markdown",
      "metadata": {
        "id": "xWBgHx-C4kvm"
      },
      "source": [
        "## นำเข้าข้อมูล"
      ]
    },
    {
      "cell_type": "code",
      "source": [
        "import pandas as pd\n",
        "import os\n",
        "\n",
        "from sklearn.tree import DecisionTreeClassifier\n",
        "from sklearn.neighbors import KNeighborsClassifier\n",
        "from sklearn.naive_bayes import GaussianNB\n",
        "from sklearn.model_selection import train_test_split\n",
        "from sklearn.metrics import accuracy_score"
      ],
      "metadata": {
        "id": "oCimiAaZBh5M"
      },
      "execution_count": null,
      "outputs": []
    },
    {
      "cell_type": "code",
      "execution_count": null,
      "metadata": {
        "id": "hdcBEqdd6IWA"
      },
      "outputs": [],
      "source": [
        "from google.colab import drive \n",
        "drive.mount('/content/drive')\n",
        "path ='/content/drive/MyDrive/bsc_DPDM_data/Project'"
      ]
    },
    {
      "cell_type": "code",
      "execution_count": null,
      "metadata": {
        "id": "CtlKZIWB2taF"
      },
      "outputs": [],
      "source": [
        "train = pd.read_csv(os.path.join(path,'train.csv'))"
      ]
    },
    {
      "cell_type": "code",
      "source": [
        "X_test = pd.read_csv(os.path.join(path,'test.csv'))"
      ],
      "metadata": {
        "id": "qE1C38SdDOJ1"
      },
      "execution_count": null,
      "outputs": []
    },
    {
      "cell_type": "code",
      "source": [
        "train.head(5)"
      ],
      "metadata": {
        "id": "Wle1oF62FIPz"
      },
      "execution_count": null,
      "outputs": []
    },
    {
      "cell_type": "code",
      "source": [
        "test.head(5)"
      ],
      "metadata": {
        "id": "L_uHI1PSKfHe"
      },
      "execution_count": null,
      "outputs": []
    },
    {
      "cell_type": "code",
      "source": [
        "test = test.iloc[:,1:] #เอาทุกคอลัมน์ยกเว้นคอลัมน์ไอดี"
      ],
      "metadata": {
        "id": "ulEFICdOJRmx"
      },
      "execution_count": null,
      "outputs": []
    },
    {
      "cell_type": "code",
      "source": [
        "#data = pd.concat([train,test])"
      ],
      "metadata": {
        "id": "w1P2YdJMGpqp"
      },
      "execution_count": null,
      "outputs": []
    },
    {
      "cell_type": "code",
      "source": [
        "#data.insert(loc=0, column='id', value=range(1, len(data)+1))\n",
        "#data"
      ],
      "metadata": {
        "id": "97d2iT8iI2Oy"
      },
      "execution_count": null,
      "outputs": []
    },
    {
      "cell_type": "markdown",
      "source": [
        "##Data preparation"
      ],
      "metadata": {
        "id": "mBgBRRtFO8df"
      }
    },
    {
      "cell_type": "code",
      "source": [
        "train.describe()"
      ],
      "metadata": {
        "id": "uYTtSvopOD0j"
      },
      "execution_count": null,
      "outputs": []
    },
    {
      "cell_type": "markdown",
      "source": [
        "ไฟล์ train มี features m_dep, px height และ sc_w ที่มีค่า min ไม่สมเหตุสมผล \n",
        "\n",
        "min -> m_dep = 0.10,px height = 0 และ sc_w = 0"
      ],
      "metadata": {
        "id": "MFgki9QWPnQv"
      }
    },
    {
      "cell_type": "code",
      "source": [
        "test.describe()"
      ],
      "metadata": {
        "id": "oNTFVwzdROPr"
      },
      "execution_count": null,
      "outputs": []
    },
    {
      "cell_type": "markdown",
      "source": [
        "ไฟล์ test มี features m_dep, px height และ sc_w ที่มีค่า min ไม่สมเหตุสมผล \n",
        "\n",
        "min -> m_dep = 0.10,px height = 0 และ sc_w = 0"
      ],
      "metadata": {
        "id": "YT_2luodRtdH"
      }
    },
    {
      "cell_type": "markdown",
      "source": [
        "## Data Cleaning\n",
        "\n",
        "\n",
        "*   ปรับค่า min ใหม่\n",
        "*   Check Missing Values\n",
        "\n"
      ],
      "metadata": {
        "id": "tRcNUy3NN-gl"
      }
    },
    {
      "cell_type": "markdown",
      "source": [
        "### ปรับค่า min ใหม่"
      ],
      "metadata": {
        "id": "LdV3GkzCarAs"
      }
    },
    {
      "cell_type": "markdown",
      "source": [
        "กำหนดขั้นต่ำของความลึก (m_dep) คือ 0.5 เซนติเมตร"
      ],
      "metadata": {
        "id": "7pKL4orNT5-P"
      }
    },
    {
      "cell_type": "code",
      "source": [
        "#train\n",
        "below_threshold = train['m_dep'][train['m_dep'] < 0.5]\n",
        "len(below_threshold)"
      ],
      "metadata": {
        "id": "WTANvYMnSRFR"
      },
      "execution_count": null,
      "outputs": []
    },
    {
      "cell_type": "code",
      "source": [
        "#Replace values below 0.5 cm with 0.5 cm\n",
        "train['m_dep'][train['m_dep'] < 0.5] = 0.5"
      ],
      "metadata": {
        "id": "qr8cmK4ZSkT9"
      },
      "execution_count": null,
      "outputs": []
    },
    {
      "cell_type": "code",
      "source": [
        "#test\n",
        "below_threshold1 = test['m_dep'][test['m_dep'] < 0.5]\n",
        "len(below_threshold1)"
      ],
      "metadata": {
        "id": "PoGh6pzCTNKr"
      },
      "execution_count": null,
      "outputs": []
    },
    {
      "cell_type": "code",
      "source": [
        "# Replace values below 0.5 cm with 0.5 cm\n",
        "test['m_dep'][test['m_dep'] < 0.5] = 0.5"
      ],
      "metadata": {
        "id": "_T4DcFI_TzRT"
      },
      "execution_count": null,
      "outputs": []
    },
    {
      "cell_type": "markdown",
      "source": [
        "กำหนดขั้นต่ำความละเอียดพิกเซล (px_height) คือ 65 พิกเซล\n",
        "\n"
      ],
      "metadata": {
        "id": "_u5BqfqcVEYB"
      }
    },
    {
      "cell_type": "code",
      "source": [
        "#train\n",
        "below_threshold2 = train['px_height'][train['px_height'] < 65]\n",
        "len(below_threshold2)"
      ],
      "metadata": {
        "id": "W66TOlrvVDn1"
      },
      "execution_count": null,
      "outputs": []
    },
    {
      "cell_type": "code",
      "source": [
        "train['px_height'][train['px_height'] < 65] = 65"
      ],
      "metadata": {
        "id": "2SCnbywSWFb5"
      },
      "execution_count": null,
      "outputs": []
    },
    {
      "cell_type": "code",
      "source": [
        "#test\n",
        "below_threshold3 = test['px_height'][test['px_height'] < 65]\n",
        "len(below_threshold3)"
      ],
      "metadata": {
        "id": "rteZ7keAWhDA"
      },
      "execution_count": null,
      "outputs": []
    },
    {
      "cell_type": "code",
      "source": [
        "test['px_height'][test['px_height'] < 65] = 65"
      ],
      "metadata": {
        "id": "WYEkbVzfWxlk"
      },
      "execution_count": null,
      "outputs": []
    },
    {
      "cell_type": "markdown",
      "source": [
        "กำหนดขั้นต่ำของความกว้างหน้าจอ (sc_w) คือ 1 นิ้ว = 2.54 เซนติเมตร"
      ],
      "metadata": {
        "id": "oJltMy8QW8j_"
      }
    },
    {
      "cell_type": "code",
      "source": [
        "#train\n",
        "below_threshold4 = train['sc_w'][train['sc_w'] < 2.54]\n",
        "len(below_threshold4)"
      ],
      "metadata": {
        "id": "9pz1na-tXOLN"
      },
      "execution_count": null,
      "outputs": []
    },
    {
      "cell_type": "code",
      "source": [
        "train['sc_w'][train['sc_w'] < 2.54] = 2.54"
      ],
      "metadata": {
        "id": "i3VzxbXwXOLO"
      },
      "execution_count": null,
      "outputs": []
    },
    {
      "cell_type": "code",
      "source": [
        "#test\n",
        "below_threshold5 = test['sc_w'][test['sc_w'] < 2.54]\n",
        "len(below_threshold5)"
      ],
      "metadata": {
        "id": "Mlz0IK4YXOLO"
      },
      "execution_count": null,
      "outputs": []
    },
    {
      "cell_type": "code",
      "source": [
        "test['sc_w'][test['sc_w'] < 2.54] = 2.54"
      ],
      "metadata": {
        "id": "1MRBib6WXOLO"
      },
      "execution_count": null,
      "outputs": []
    },
    {
      "cell_type": "markdown",
      "source": [
        "### check missing"
      ],
      "metadata": {
        "id": "F2e4g6laLygi"
      }
    },
    {
      "cell_type": "code",
      "source": [
        "train.isnull().sum()"
      ],
      "metadata": {
        "id": "UJh2neD7L1sk"
      },
      "execution_count": null,
      "outputs": []
    },
    {
      "cell_type": "code",
      "source": [
        "test.isnull().sum()"
      ],
      "metadata": {
        "id": "fW_g3YITMAx3"
      },
      "execution_count": null,
      "outputs": []
    },
    {
      "cell_type": "markdown",
      "source": [
        "ไม่พบ missing"
      ],
      "metadata": {
        "id": "zdLzrgQZbpF2"
      }
    },
    {
      "cell_type": "markdown",
      "source": [
        "### ดูความสัมพันธ์"
      ],
      "metadata": {
        "id": "bCrdTHa-cUHq"
      }
    },
    {
      "cell_type": "code",
      "source": [
        "import pandas as pd\n",
        "import numpy as np\n",
        "from sklearn.cluster import KMeans\n",
        "from sklearn.preprocessing import StandardScaler\n",
        "from sklearn.manifold import TSNE\n",
        "import matplotlib.pyplot as plt\n",
        "import seaborn as sns"
      ],
      "metadata": {
        "id": "1n7pgXlblZ_W"
      },
      "execution_count": null,
      "outputs": []
    },
    {
      "cell_type": "code",
      "source": [
        "plt.figure(figsize=(20,15))\n",
        "sns.heatmap(train.corr(), annot=True, cmap='Blues')\n",
        "plt.show()"
      ],
      "metadata": {
        "id": "EsqudkrYcYsc"
      },
      "execution_count": null,
      "outputs": []
    },
    {
      "cell_type": "markdown",
      "source": [
        "จาก heatmap จะพบว่า ram battery_power px_width และ px_height ส่งผลต่อราคาตามลำดับ"
      ],
      "metadata": {
        "id": "Pn3H9pdEcmJ4"
      }
    },
    {
      "cell_type": "code",
      "source": [
        "X = train.iloc[:,:-1] # Feature\n",
        "y = train.iloc[:,20:].values.reshape(-1, 1) #Target : price_range"
      ],
      "metadata": {
        "id": "YYLzV6EXgTsJ"
      },
      "execution_count": null,
      "outputs": []
    },
    {
      "cell_type": "code",
      "source": [
        "X_train, X_test, y_train, y_test = train_test_split(X[['battery_power', 'px_height', 'px_width', 'ram']],y,test_size=0.2,random_state=42)\n",
        "#DecisionTree\n",
        "# Instantiate the model\n",
        "DT = DecisionTreeClassifier(max_depth=3)\n",
        "\n",
        "# Fit the model to the training set\n",
        "DT.fit(X_train, y_train)\n",
        "\n",
        "#predict\n",
        "y_pred = DT.predict(X_test)\n",
        "\n",
        "# Calculate the accuracy of the model\n",
        "acc_dt = accuracy_score(y_test, y_pred)\n",
        "print(f'Decision Tree accuracy score: {acc_dt:.4f}');\n",
        "\n",
        "# KNN\n",
        "knn = KNeighborsClassifier(n_neighbors=5)\n",
        "\n",
        "# Fit the model to the training set\n",
        "knn.fit(X_train,y_train)\n",
        "\n",
        "#predict\n",
        "y_pred = knn.predict(X_test)\n",
        "\n",
        "# Calculate the accuracy of the model\n",
        "acc_knn = accuracy_score(y_test, y_pred)\n",
        "print(f'KNN accuracy score: {acc_knn:.4f}');\n",
        "\n",
        "# Naive Bayes \n",
        "# Instantiate the model\n",
        "nb = GaussianNB()\n",
        "\n",
        "# Fit the model to the training set\n",
        "nb.fit(X_train, y_train)\n",
        "\n",
        "# Make predictions on the validation set\n",
        "y_pred = nb.predict(X_test)\n",
        "\n",
        "# Evaluate the performance of the model\n",
        "acc_nb = accuracy_score(y_test, y_pred)\n",
        "print(f'Naive Bayes accuracy score: {acc_nb:.4f}');"
      ],
      "metadata": {
        "id": "h3pB3NgHd7cf"
      },
      "execution_count": null,
      "outputs": []
    },
    {
      "cell_type": "markdown",
      "source": [
        "##Classification"
      ],
      "metadata": {
        "id": "CDUg_IxlKsgF"
      }
    },
    {
      "cell_type": "code",
      "source": [
        "from sklearn.tree import DecisionTreeClassifier\n",
        "from sklearn.model_selection import train_test_split\n",
        "from sklearn.metrics import accuracy_score"
      ],
      "metadata": {
        "id": "CTVrcuwMjKG3"
      },
      "execution_count": null,
      "outputs": []
    },
    {
      "cell_type": "code",
      "source": [
        "#Decision Tree\n",
        "# Split X and y into training and testing sets\n",
        "X_train1, X_test1, y_train1, y_test1 = train_test_split(X[['battery_power', 'px_height', 'px_width', 'ram']], y, stratify=y, test_size = 0.25, random_state = 0)\n",
        "# Instantiate the model\n",
        "DT = DecisionTreeClassifier(max_depth=3)\n",
        "\n",
        "# Fit the model to the training set\n",
        "DT.fit(X_train1, y_train1)\n",
        "\n",
        "#predict\n",
        "y_pred = DT.predict(X_test1)\n",
        "\n",
        "# Calculate the accuracy of the model\n",
        "accuracy = accuracy_score(y_test1, y_pred)\n",
        "print(f'Decision Tree accuracy score: {accuracy:.4f}')"
      ],
      "metadata": {
        "id": "dkhGcnLWiYJE"
      },
      "execution_count": null,
      "outputs": []
    },
    {
      "cell_type": "code",
      "source": [
        "from sklearn.tree import plot_tree \n",
        "import matplotlib.pyplot as plt"
      ],
      "metadata": {
        "id": "ODGn0SPRneTV"
      },
      "execution_count": null,
      "outputs": []
    },
    {
      "cell_type": "code",
      "source": [
        "feature_names = X.columns\n",
        "target_names = [\"0\", \"1\", \"2\", \"3\"]\n",
        "\n",
        "fig = plt.figure(figsize = (30, 15))\n",
        "Plot = plot_tree(DT, feature_names = feature_names, class_names = target_names, filled = True)"
      ],
      "metadata": {
        "id": "dlIY3Fvan-V6"
      },
      "execution_count": null,
      "outputs": []
    },
    {
      "cell_type": "code",
      "source": [
        "from sklearn.metrics import classification_report"
      ],
      "metadata": {
        "id": "OUksXD_VsWmi"
      },
      "execution_count": null,
      "outputs": []
    },
    {
      "cell_type": "code",
      "source": [
        "print(classification_report(y_test1, y_pred))"
      ],
      "metadata": {
        "id": "NGPYM1WMsJRW"
      },
      "execution_count": null,
      "outputs": []
    }
  ]
}